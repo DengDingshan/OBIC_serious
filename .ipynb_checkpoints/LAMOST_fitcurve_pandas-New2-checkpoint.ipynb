{
 "cells": [
  {
   "cell_type": "markdown",
   "metadata": {
    "toc": true
   },
   "source": [
    "<h1>Table of Contents<span class=\"tocSkip\"></span></h1>\n",
    "<div class=\"toc\"><ul class=\"toc-item\"><li><span><a href=\"#综述\" data-toc-modified-id=\"综述-1\"><span class=\"toc-item-num\">1&nbsp;&nbsp;</span>综述</a></span></li><li><span><a href=\"#数据的引入和format-(Alternative)\" data-toc-modified-id=\"数据的引入和format-(Alternative)-2\"><span class=\"toc-item-num\">2&nbsp;&nbsp;</span>数据的引入和format (Alternative)</a></span><ul class=\"toc-item\"><li><span><a href=\"#参数的选取（Input）\" data-toc-modified-id=\"参数的选取（Input）-2.1\"><span class=\"toc-item-num\">2.1&nbsp;&nbsp;</span>参数的选取（Input）</a></span></li><li><span><a href=\"#Logg，误差的选取(Input:)\" data-toc-modified-id=\"Logg，误差的选取(Input:)-2.2\"><span class=\"toc-item-num\">2.2&nbsp;&nbsp;</span>Logg，误差的选取(Input:)</a></span></li><li><span><a href=\"#赫罗图的限制——Only-for-SDSS\" data-toc-modified-id=\"赫罗图的限制——Only-for-SDSS-2.3\"><span class=\"toc-item-num\">2.3&nbsp;&nbsp;</span>赫罗图的限制——Only for SDSS</a></span></li><li><span><a href=\"#金属丰度的限制-(Input:)\" data-toc-modified-id=\"金属丰度的限制-(Input:)-2.4\"><span class=\"toc-item-num\">2.4&nbsp;&nbsp;</span>金属丰度的限制 (Input:)</a></span></li><li><span><a href=\"#有效温度-Teff-的限制（Input:）\" data-toc-modified-id=\"有效温度-Teff-的限制（Input:）-2.5\"><span class=\"toc-item-num\">2.5&nbsp;&nbsp;</span>有效温度 Teff 的限制（Input:）</a></span></li><li><span><a href=\"#蓝色边缘的比例，bin最小值的选取（Input：）\" data-toc-modified-id=\"蓝色边缘的比例，bin最小值的选取（Input：）-2.6\"><span class=\"toc-item-num\">2.6&nbsp;&nbsp;</span>蓝色边缘的比例，bin最小值的选取（Input：）</a></span></li><li><span><a href=\"#比较星表的数据选取（Input:）\" data-toc-modified-id=\"比较星表的数据选取（Input:）-2.7\"><span class=\"toc-item-num\">2.7&nbsp;&nbsp;</span>比较星表的数据选取（Input:）</a></span></li></ul></li><li><span><a href=\"#内禀色指数的计算（蓝色边缘方法），同时取出某一部分用于SFD判断\" data-toc-modified-id=\"内禀色指数的计算（蓝色边缘方法），同时取出某一部分用于SFD判断-3\"><span class=\"toc-item-num\">3&nbsp;&nbsp;</span>内禀色指数的计算（蓝色边缘方法），同时取出某一部分用于SFD判断</a></span><ul class=\"toc-item\"><li><span><a href=\"#DEF\" data-toc-modified-id=\"DEF-3.1\"><span class=\"toc-item-num\">3.1&nbsp;&nbsp;</span>DEF</a></span></li><li><span><a href=\"#运算，拟合，SFD的准备（Input:)\" data-toc-modified-id=\"运算，拟合，SFD的准备（Input:)-3.2\"><span class=\"toc-item-num\">3.2&nbsp;&nbsp;</span>运算，拟合，SFD的准备（Input:)</a></span></li></ul></li><li><span><a href=\"#SFD的使用：——-将使用到新的包\" data-toc-modified-id=\"SFD的使用：——-将使用到新的包-4\"><span class=\"toc-item-num\">4&nbsp;&nbsp;</span>SFD的使用：—— 将使用到新的包</a></span></li><li><span><a href=\"#图片输出\" data-toc-modified-id=\"图片输出-5\"><span class=\"toc-item-num\">5&nbsp;&nbsp;</span>图片输出</a></span><ul class=\"toc-item\"><li><span><a href=\"#图片保存格式（Input:)\" data-toc-modified-id=\"图片保存格式（Input:)-5.1\"><span class=\"toc-item-num\">5.1&nbsp;&nbsp;</span>图片保存格式（Input:)</a></span></li><li><span><a href=\"#绘图所需的具体量（Alternative)\" data-toc-modified-id=\"绘图所需的具体量（Alternative)-5.2\"><span class=\"toc-item-num\">5.2&nbsp;&nbsp;</span>绘图所需的具体量（Alternative)</a></span></li></ul></li><li><span><a href=\"#some-other-features\" data-toc-modified-id=\"some-other-features-6\"><span class=\"toc-item-num\">6&nbsp;&nbsp;</span>some other features</a></span><ul class=\"toc-item\"><li><span><a href=\"#赫罗图----Only-for-SDSS\" data-toc-modified-id=\"赫罗图----Only-for-SDSS-6.1\"><span class=\"toc-item-num\">6.1&nbsp;&nbsp;</span>赫罗图 -- Only for SDSS</a></span></li><li><span><a href=\"#参数统计图\" data-toc-modified-id=\"参数统计图-6.2\"><span class=\"toc-item-num\">6.2&nbsp;&nbsp;</span>参数统计图</a></span></li></ul></li><li><span><a href=\"#Remember-List-for-Lamost\" data-toc-modified-id=\"Remember-List-for-Lamost-7\"><span class=\"toc-item-num\">7&nbsp;&nbsp;</span>Remember List for Lamost</a></span><ul class=\"toc-item\"><li><span><a href=\"#4月19日讨论：\" data-toc-modified-id=\"4月19日讨论：-7.1\"><span class=\"toc-item-num\">7.1&nbsp;&nbsp;</span>4月19日讨论：</a></span></li><li><span><a href=\"#5月2日组会：\" data-toc-modified-id=\"5月2日组会：-7.2\"><span class=\"toc-item-num\">7.2&nbsp;&nbsp;</span>5月2日组会：</a></span></li></ul></li></ul></div>"
   ]
  },
  {
   "cell_type": "markdown",
   "metadata": {},
   "source": [
    "# 综述\n",
    "** 蓝色边缘程序使用pandas的改写 **\n",
    "\n",
    "_由于有一些星表中包含缺省项，我们需要使用pandas中使用dataframe读取csv中自动将缺省项补上的优势，来优化我们的自动化程式_\n",
    "\n",
    "_(fits的文件我们可以使用topcat改变格式并且给星表瘦身，以加快程序读取速度）_\n",
    "\n",
    "我们需要实现的功能包含以下几点：\n",
    "\n",
    "输入：\n",
    "* csv星表**_的名字_**\n",
    "* 需要画的色指数的两个测光点（比如 $ J - H $ 我们需要输入$J$ 和 $H$）\n",
    "\n",
    "程序中自带（我们所需要限定的条件）\n",
    "_写在其中的某一个cell中作为 filt 条件_\n",
    "* 限定的误差范围（测光数据一般选择 0.3，光谱数据可以具体再定，基本上认为不太离谱的都可以用）\n",
    "* 去掉错误的点（见之前的程序)\n",
    "\n",
    "输出：\n",
    "* 颜色-teff 图\n",
    "\n",
    "Now,trying:\n",
    "* SFD: 一个新的ratio,比如说0.05，把这个ratio底下的部分输入进SFD,判断：E(B-V) <0.3 的值就是我们零消光的值。这个值去拟合一个新的curve。"
   ]
  },
  {
   "cell_type": "markdown",
   "metadata": {},
   "source": [
    "# 数据的引入和format (Alternative)"
   ]
  },
  {
   "cell_type": "code",
   "execution_count": 59,
   "metadata": {
    "collapsed": true
   },
   "outputs": [],
   "source": [
    "import pandas as pd\n",
    "import numpy as np\n",
    "import math\n",
    "import matplotlib.pyplot as plt\n",
    "import time\n",
    "import datetime\n",
    "from scipy.optimize import curve_fit\n",
    "%matplotlib inline\n",
    "\n",
    "data_dir = '/Users/SY/Desktop/obic/data/'\n",
    "#data_dir = '/Users/dengdingshan/Documents/data/obic/'"
   ]
  },
  {
   "cell_type": "code",
   "execution_count": 185,
   "metadata": {
    "collapsed": true
   },
   "outputs": [],
   "source": [
    "#read as pandas\n",
    "starcatalog_fram = pd.read_csv(data_dir + 'lamost_2mass_wise_new2.csv')\n",
    "\n",
    "###########\n",
    "\n",
    "#starcatlog_fram = starcatlog_fram.ix[:,:517]\n",
    "#print(starcatalog_fram)"
   ]
  },
  {
   "cell_type": "code",
   "execution_count": 186,
   "metadata": {
    "collapsed": true
   },
   "outputs": [],
   "source": [
    "#read parsec\n",
    "parsec_fram = pd.read_csv(data_dir + 'parsec_jhkw0.5_0.csv')\n",
    "\n",
    "############\n",
    "\n",
    "# print(parsec_fram.values)"
   ]
  },
  {
   "cell_type": "code",
   "execution_count": 187,
   "metadata": {
    "collapsed": true
   },
   "outputs": [],
   "source": [
    "### Elective CHOICE\n",
    "\n",
    "########### I.\n",
    "#change logTeff into Teff.\n",
    "\n",
    "# def tenn(x):\n",
    "#     y=10 ** x\n",
    "#     return y\n",
    "\n",
    "# Teff_tbl = starcatalog['logTeff'].apply(tenn)\n",
    "###########\n",
    "\n",
    "########### II.\n",
    "#add [Teff] into DATAFRAME\n",
    "\n",
    "#data_fram = starcatalog_fram[['TEFF_1','ERR_TEFF_1','Jmag_1','e_Jmag_1','Hmag_1','e_Hmag_1']]\n",
    "#print(data_fram)\n",
    "###########\n",
    "\n",
    "########### III.\n",
    "# fill the NaN blocks with 0\n",
    "\n",
    "starcatalog_fram_fil0 = starcatalog_fram.fillna(0)\n",
    "\n",
    "#print(starcatalog_fram_fil['LOGG'])\n",
    "############\n"
   ]
  },
  {
   "cell_type": "code",
   "execution_count": 188,
   "metadata": {},
   "outputs": [
    {
     "data": {
      "text/plain": [
       "Index(['col1', 'TEFF', 'ERR_TEFF', 'RA', 'DEC', 'LOGG', 'ERR_LOGG', 'FEH',\n",
       "       'ERR_FEH', '2MASS', 'RAJ2000', 'DEJ2000', 'errHalfMaj', 'errHalfMin',\n",
       "       'errPosAng', 'Jmag', 'Hmag', 'Kmag', 'e_Jmag', 'e_Hmag', 'e_Kmag',\n",
       "       'Qfl', 'Rfl', 'X', 'MeasureJD', 'angDist', 'JNAME', 'ra_x', 'dec_x',\n",
       "       'errHalfMaj_x', 'errHalfMin_x', 'errPosAng_x', 'W1mag', 'W2mag',\n",
       "       'W3mag', 'W4mag', 'Jmag_x', 'Hmag_x', 'Kmag_x', 'e_W1mag', 'e_W2mag',\n",
       "       'e_W3mag', 'e_W4mag', 'e_Jmag_x', 'e_Hmag_x', 'e_Kmag_x', 'cntr',\n",
       "       'cc_flags', 'ext_flg', 'var_flg', 'ph_qual', 'r_2mass', 'angDist_x'],\n",
       "      dtype='object')"
      ]
     },
     "execution_count": 188,
     "metadata": {},
     "output_type": "execute_result"
    }
   ],
   "source": [
    "starcatalog_fram.columns"
   ]
  },
  {
   "cell_type": "markdown",
   "metadata": {},
   "source": [
    "## 参数的选取（Input）"
   ]
  },
  {
   "cell_type": "code",
   "execution_count": 277,
   "metadata": {
    "collapsed": true
   },
   "outputs": [],
   "source": [
    "### variables\n",
    "\n",
    "teff = 'TEFF'\n",
    "\n",
    "color1 = 'Hmag'\n",
    "color2 = 'W3mag'\n",
    "err_teff = 'ERR_TEFF'\n",
    "\n",
    "err_c1 = 'e_' + color1\n",
    "#'e_' + color1\n",
    "#color1 + 'err' \n",
    "#color1 + 'err'\n",
    "#ERR_' + color1\n",
    "#'e_' + color1\n",
    "\n",
    "err_c2 = 'e_' + color2\n",
    "#'ERR_' + color2\n",
    "#'e_' + color2"
   ]
  },
  {
   "cell_type": "markdown",
   "metadata": {},
   "source": [
    "## Logg，误差的选取(Input:)"
   ]
  },
  {
   "cell_type": "code",
   "execution_count": 278,
   "metadata": {
    "collapsed": true
   },
   "outputs": [],
   "source": [
    "### we just need the mainsquence (dwarf stars)\n",
    "\n",
    "# #judge logg >3.0\n",
    "\n",
    "Judge_logg = 3.5\n",
    "\n",
    "starcatalog_fram_fil = starcatalog_fram_fil0[(starcatalog_fram_fil0['LOGG']> Judge_logg)]\n",
    "parsec_fram = parsec_fram[(parsec_fram['logg']>Judge_logg)]                                            "
   ]
  },
  {
   "cell_type": "code",
   "execution_count": 279,
   "metadata": {},
   "outputs": [],
   "source": [
    "### get the good stars\n",
    "\n",
    "# judge  data\n",
    "starcatalog_fram_fil=starcatalog_fram_fil[((starcatalog_fram_fil[err_c1] != 0) \\\n",
    "                                          & (starcatalog_fram_fil[err_c2] != 0)\\\n",
    "                                          & (starcatalog_fram_fil[err_c1] != -99) \\\n",
    "                                          & (starcatalog_fram_fil[err_c2] != -99))\\\n",
    "                                         & ((starcatalog_fram_fil[color1] != 0)\\\n",
    "                                           & (starcatalog_fram_fil[color2] != 0)\\\n",
    "                                           & (starcatalog_fram_fil[color1] != -99) \\\n",
    "                                           & (starcatalog_fram_fil[color2] != -99))\\\n",
    "                                         &((starcatalog_fram_fil[err_c1] <=0.03)\\\n",
    "                                          & (starcatalog_fram_fil[err_c2] <=0.05))]\n",
    "\n",
    "starcatalog_fram_fil=starcatalog_fram_fil[((starcatalog_fram_fil['Jmag'] >= 5.5) \\\n",
    "                                           &(starcatalog_fram_fil['Hmag'] >= 5)\\\n",
    "                                           &(starcatalog_fram_fil['Kmag'] >= 4.5)\n",
    "                                           &(starcatalog_fram_fil['W1mag'] >= 8.1) \\\n",
    "                                           &(starcatalog_fram_fil['W2mag'] >= 6.7)\\\n",
    "                                           &(starcatalog_fram_fil['W3mag'] >= 3.8))]\n",
    "# ### additional judgement\n",
    "\n",
    "# starcatalog_fram_fil=starcatalog_fram_fil[(starcatalog_fram_fil[err_c1] <=0.2)\\\n",
    "#                                            &(starcatalog_fram_fil[err_c2] <=0.05)]\n",
    "\n",
    "# print(starcatalog_fram_fil.iloc[:,0].size)"
   ]
  },
  {
   "cell_type": "markdown",
   "metadata": {},
   "source": [
    "## 赫罗图的限制——Only for SDSS"
   ]
  },
  {
   "cell_type": "code",
   "execution_count": 280,
   "metadata": {
    "collapsed": true
   },
   "outputs": [],
   "source": [
    "# Only for SDSS\n",
    "# for H-R gragh\n",
    "\n",
    "origin = starcatalog_fram_fil\n",
    "# starcatalog_fram_fil=starcatalog_fram_fil[(starcatalog_fram_fil[color1]-starcatalog_fram_fil[color2]>= -0.440)\\\n",
    "#                                          & (starcatalog_fram_fil[color1]>=12)]\n",
    "\n",
    "\n",
    "# data_final = starcatalog_fram_fil[(\\\n",
    "#                                    (starcatalog_fram_fil[color1] > 12)\\\n",
    "#                                    & (starcatalog_fram_fil[color2] > 12))]\n",
    "\n",
    "# data_final = data_final[( (data_final[color1] - data_final[color2]) > -0.5)]\n",
    "\n",
    "# starcatalog_fram_fil = data_final"
   ]
  },
  {
   "cell_type": "markdown",
   "metadata": {},
   "source": [
    "## 金属丰度的限制 (Input:)\n",
    "$$ <0 $$\n",
    "and \n",
    "$$ >0 $$"
   ]
  },
  {
   "cell_type": "code",
   "execution_count": 281,
   "metadata": {
    "collapsed": true
   },
   "outputs": [],
   "source": [
    "starcatalog_fram_fil=starcatalog_fram_fil[starcatalog_fram_fil['FEH'] < 0]"
   ]
  },
  {
   "cell_type": "markdown",
   "metadata": {},
   "source": [
    "## 有效温度 Teff 的限制（Input:）"
   ]
  },
  {
   "cell_type": "code",
   "execution_count": 282,
   "metadata": {
    "scrolled": true
   },
   "outputs": [
    {
     "name": "stdout",
     "output_type": "stream",
     "text": [
      "24986.7\n",
      "1152\n"
     ]
    }
   ],
   "source": [
    "#filt the good one\n",
    "#apogee_tbl_fil = apogee_tbl[np.argwhere(np.logical_and(apogee_tbl['teff'] > 0, apogee_tbl['logg'] > -3))]\n",
    "#apogee_tbl_fil = apogee_tbl_fil[np.argwhere(np.logical_and(apogee_tbl_fil['j'].flatten() > -1, \\\n",
    "#                                                           apogee_tbl_fil['h'].flatten() > -1))]\n",
    "#USE goodOB \n",
    "\n",
    "\n",
    "starcatalog_fram_fil=starcatalog_fram_fil[(((starcatalog_fram_fil[err_teff] != 0 )\\\n",
    "                                          & (starcatalog_fram_fil[teff]>= 10000))\\\n",
    "                                          #& (starcatalog_fram_fil[teff]<= 16000))\n",
    "                                          & (((starcatalog_fram_fil[err_teff]< 630)\\\n",
    "                                          &(starcatalog_fram_fil[teff]> 9000))\\\n",
    "                                          |((starcatalog_fram_fil[err_teff]< 500)\\\n",
    "                                          & (starcatalog_fram_fil[teff]<= 9000))))]\n",
    "print(np.max(starcatalog_fram_fil[teff]))\n",
    "print(starcatalog_fram_fil.iloc[:,0].size)"
   ]
  },
  {
   "cell_type": "markdown",
   "metadata": {},
   "source": [
    "## 蓝色边缘的比例，bin最小值的选取（Input：）"
   ]
  },
  {
   "cell_type": "code",
   "execution_count": 283,
   "metadata": {
    "collapsed": true
   },
   "outputs": [],
   "source": [
    "# Determine the input numbers.\n",
    "\n",
    "# Bin width, usually 50 (for more scatter, try 1000 or other figures)\n",
    "#bin_width = 1000\n",
    "\n",
    "# Ratio of the bluest edge, usually 5%\n",
    "rat = 5\n",
    "\n",
    "# Low end criteria. If the number in a bin is lower than this number then neglect.  \n",
    "low_crit = 50"
   ]
  },
  {
   "cell_type": "code",
   "execution_count": 284,
   "metadata": {
    "collapsed": true
   },
   "outputs": [],
   "source": [
    "# input the data of Bessell. M.S. & Brett. J.M. 1988\n",
    "# BBFrame is the dataframe of the ic data \n",
    "\n",
    "BBFrame=pd.DataFrame({'J-H':[-0.09,-0.08,-0.07,-0.06,-0.05,-0.03,-0.03,-0.01,0.0,0.02,0.06],\\\n",
    "                      'Teff':[22300,19000,17200,15400,14100,13000,11800,10700,9480,8810,8160]})\n"
   ]
  },
  {
   "cell_type": "markdown",
   "metadata": {},
   "source": [
    "## 比较星表的数据选取（Input:）"
   ]
  },
  {
   "cell_type": "code",
   "execution_count": 285,
   "metadata": {
    "collapsed": true
   },
   "outputs": [],
   "source": [
    "# parsec point\n",
    "parsecframe = parsec_fram[((parsec_fram['logTe'] <= 4.361)\\\n",
    "                           &(parsec_fram['logTe'] >= 4.000))]\n",
    "parsec_teff =10**parsecframe['logTe'] \n",
    "parsec_color = parsecframe[color1] - parsecframe[color2]  #'Ksmag'\n",
    "# print(parsecframe.values)\n",
    "                                         "
   ]
  },
  {
   "cell_type": "code",
   "execution_count": 286,
   "metadata": {
    "collapsed": true
   },
   "outputs": [],
   "source": [
    "# Find the start point and bin number of Teff. \n",
    "# Start point: the first number divisible by bin_width smaller than min(teff)\n",
    "# Bin number: Start from start point and cover all the teff range.\n",
    "\n",
    "\n",
    "#teff_start = min(apogee_tbl_fil['teff']) - min(apogee_tbl_fil['teff']) % (bin_width/2)\n",
    "#bin_number = math.ceil((max(apogee_tbl_fil['teff']) - teff_start) / bin_width)\n",
    "\n",
    "#teff_start = min(starcatalog_fram_fil[teff])-min(starcatalog_fram_fil[teff])%(bin_width / 2)\n",
    "\n",
    "teff_start= 10000\n",
    "slide_index = 400 #the pace of slide\n",
    "#bin_number = math.ceil((max(starcatalog_fram_fil[teff])-teff_start) / bin_width)\n"
   ]
  },
  {
   "cell_type": "code",
   "execution_count": 287,
   "metadata": {
    "collapsed": true
   },
   "outputs": [],
   "source": [
    "#filt BBFrame\n",
    "BBFrame_fil=BBFrame[BBFrame['Teff'] >= teff_start]"
   ]
  },
  {
   "cell_type": "markdown",
   "metadata": {},
   "source": [
    "# 内禀色指数的计算（蓝色边缘方法），同时取出某一部分用于SFD判断"
   ]
  },
  {
   "cell_type": "markdown",
   "metadata": {},
   "source": [
    "## DEF"
   ]
  },
  {
   "cell_type": "code",
   "execution_count": 288,
   "metadata": {
    "collapsed": true
   },
   "outputs": [],
   "source": [
    "def data(teff_start,ratio,low_crit,ratio_SFD,slide_index):\n",
    "    \n",
    "    start_time = time.time()\n",
    "    int_teff = []\n",
    "    int_color = []\n",
    "    bin_int_color = []\n",
    "    \n",
    "    SFD_RA = []; SFD_DEC = []; SFD_TEFF = []; SFD_color1 = []; SFD_color2 = [];\n",
    "    \n",
    "    data_final = pd.DataFrame(columns=[teff,color1,color2])\n",
    "    teff_judge = teff_start\n",
    "    while teff_judge < np.max(starcatalog_fram_fil[teff]) - 2000:\n",
    "        #print(teff_judge)\n",
    "        if teff_judge <12000:\n",
    "            bin_width = 500\n",
    "        else:\n",
    "            bin_width = 2000\n",
    "\n",
    "        bin_tbl =starcatalog_fram_fil[np.logical_and(starcatalog_fram_fil[teff] > teff_judge, \\\n",
    "                                                starcatalog_fram_fil[teff] < teff_judge+bin_width)]\n",
    "\n",
    "        #print(teff_judge)\n",
    "       \n",
    "        \n",
    "        if len(bin_tbl) < low_crit:\n",
    "            teff_judge = teff_judge+slide_index\n",
    "            #print('1')\n",
    "            continue\n",
    "            \n",
    "        source_num = 0\n",
    "        #print(len(bin_tbl))\n",
    "\n",
    "        while source_num != len(bin_tbl):\n",
    "            source_num = len(bin_tbl)\n",
    "\n",
    "        data_final = data_final.append(bin_tbl[[teff,color1,color2]])\n",
    "        #print(len(bin_tbl))\n",
    "\n",
    "        int_teff.append(float(teff_judge+bin_width/2))\n",
    "        bin_tbl['color'] = bin_tbl[color1]-bin_tbl[color2]\n",
    "        bin_sort = bin_tbl.sort_index(axis = 0,ascending = True,by = 'color')\n",
    "        \n",
    "        # 每个bin中前ratio_SFD的部分用于取得ebv\n",
    "        color_SFD = bin_sort['color'].values[:math.ceil(len(bin_tbl)*ratio_SFD/100)]\n",
    "        bin_tbl_SFD = bin_sort[(bin_sort['color']<=np.max(color_SFD))]\n",
    "        \n",
    "        for ppp in range(len(bin_tbl_SFD)):\n",
    "            SFD_RA.append(bin_tbl_SFD['RA'].values[ppp])\n",
    "            SFD_DEC.append(bin_tbl_SFD['DEC'].values[ppp])\n",
    "            SFD_TEFF.append(bin_tbl_SFD['TEFF'].values[ppp])\n",
    "            SFD_color1.append(bin_tbl_SFD[color1].values[ppp])\n",
    "            SFD_color2.append(bin_tbl_SFD[color2].values[ppp])\n",
    "        \n",
    "        # 每个bin中前ratio(usually 5%)的部分 用于取得内禀色指数int_color\n",
    "        color5 = bin_sort['color'].values[:math.ceil(len(bin_tbl)*ratio/100)]\n",
    "        bin_tbl_5 = bin_sort[(bin_sort['color']<=np.max(color5))]\n",
    "        \n",
    "        if len(color5) != 0:\n",
    "            bin_mean = np.median(color5)\n",
    "            bin_sigma = np.std(color5)\n",
    "            bin_int_color = color5\\\n",
    "            [((color5<= bin_mean+3*bin_sigma)\\\n",
    "            & (color5>= bin_mean-3*bin_sigma))]\n",
    "\n",
    "            int_color.append(np.median(bin_int_color))\n",
    "            \n",
    "        teff_judge = teff_judge+slide_index\n",
    "        \n",
    "    SFD_tbl_final = pd.DataFrame({'TEFF':np.array(SFD_TEFF),'RA':np.array(SFD_RA),\\\n",
    "                                  'DEC':np.array(SFD_DEC),color1:np.array(SFD_color1),\\\n",
    "                                 color2:np.array(SFD_color2)})\n",
    "    \n",
    "    #print(time.time() - start_time)\n",
    "    print(int_teff,int_color)\n",
    "#     print(bin_mean)\n",
    "#     print(data_final.iloc[:,0].size)\n",
    "    return int_teff,int_color,data_final,SFD_tbl_final"
   ]
  },
  {
   "cell_type": "markdown",
   "metadata": {},
   "source": [
    "## 运算，拟合，SFD的准备（Input:)"
   ]
  },
  {
   "cell_type": "code",
   "execution_count": 289,
   "metadata": {
    "scrolled": true
   },
   "outputs": [
    {
     "name": "stderr",
     "output_type": "stream",
     "text": [
      "/Users/SY/anaconda/lib/python3.6/site-packages/ipykernel_launcher.py:39: SettingWithCopyWarning: \n",
      "A value is trying to be set on a copy of a slice from a DataFrame.\n",
      "Try using .loc[row_indexer,col_indexer] = value instead\n",
      "\n",
      "See the caveats in the documentation: http://pandas.pydata.org/pandas-docs/stable/indexing.html#indexing-view-versus-copy\n",
      "/Users/SY/anaconda/lib/python3.6/site-packages/ipykernel_launcher.py:40: FutureWarning: by argument to sort_index is deprecated, pls use .sort_values(by=...)\n"
     ]
    },
    {
     "name": "stdout",
     "output_type": "stream",
     "text": [
      "[10250.0, 10650.0, 11050.0, 11450.0, 11850.0, 13000.0, 13400.0, 13800.0, 14200.0, 14600.0, 15000.0, 15400.0, 17800.0, 18200.0, 18600.0, 19000.0, 19400.0, 19800.0, 20200.0, 20600.0, 21000.0, 21400.0, 21800.0, 22200.0, 22600.0] [-0.090000000000001634, -0.083500000000000796, -0.092999999999998195, -0.050000000000000711, -0.11050000000000004, -0.13649999999999984, -0.14499999999999957, -0.20300000000000118, -0.039999999999999147, -0.039999999999999147, -0.0079999999999991189, -0.041999999999999815, -0.079000000000000625, -0.079000000000000625, -0.079000000000000625, -0.079000000000000625, -0.13700000000000045, -0.1485000000000003, -0.13700000000000045, -0.13700000000000045, -0.12899999999999956, -0.12099999999999866, -0.086000000000000298, -0.075999999999999623, -0.027000000000000135]\n",
      " \n",
      "-7.795e-07 x - 0.08123\n"
     ]
    }
   ],
   "source": [
    "# SFD ratio\n",
    "\n",
    "ratio_SFD = 5\n",
    "\n",
    "# fitting curve\n",
    "int_teff,int_color,data_final,SFD_tbl_ratio = data(teff_start,rat,low_crit,ratio_SFD,slide_index)\n",
    "\n",
    "\n",
    "def func(x, a, b, c):\n",
    "    return a * np.exp(-b * x) + c\n",
    " \n",
    "\n",
    "# popt, pcov = curve_fit(func, int_teff, int_color)\n",
    "# #popt数组中，三个值分别是待求参数a,b,c\n",
    "# colorvals = [func(i, popt[0],popt[1],popt[2]) for i in int_teff]\n",
    "\n",
    "# print(colorvals)\n",
    "# print(str(popt[0])+'* np.exp('+str(-popt[1])+'+x)'+str(popt[2])) #在屏幕上打印拟合多项式 \n",
    "fc = np.polyfit(int_teff, int_color, 1)#用3次多项式拟合\n",
    "fitcurve = np.poly1d(fc)\n",
    "print(fitcurve) #在屏幕上打印拟合多项式\n",
    "\n",
    "colorvals=fitcurve(int_teff)\n",
    "\n",
    "# print(len(colorvals),len(int_teff))\n",
    "#print(len(bin_tbl_final[teff].values))\n",
    "\n",
    "# SFD_tbl_ratio[teff]\n"
   ]
  },
  {
   "cell_type": "markdown",
   "metadata": {},
   "source": [
    "# SFD的使用：—— 将使用到新的包\n",
    "\n",
    "1. 选取SFD中Ebv小于某一个值的认为是零消光源（Lamost)——Thins page\n",
    "2. 用目前的色指数减去 Ebv 给出的消光值，然后去归算内禀色指数 - GOSSS"
   ]
  },
  {
   "cell_type": "code",
   "execution_count": 290,
   "metadata": {
    "scrolled": true
   },
   "outputs": [
    {
     "name": "stdout",
     "output_type": "stream",
     "text": [
      "171\n",
      "12\n",
      "14\n",
      "15\n",
      "83\n",
      "89\n",
      "93\n",
      "20.05109477043152\n"
     ]
    }
   ],
   "source": [
    "## use SFD dustmap\n",
    "from __future__ import print_function\n",
    "from astropy.coordinates import SkyCoord\n",
    "from astropy import units as u\n",
    "from dustmaps.sfd import SFDQuery\n",
    "\n",
    "sfd = SFDQuery()\n",
    "\n",
    "## ebv前的系数需要去文献中拿到。目前使用的是r和i的\n",
    "# Const1 = 0.709 #J #3.303 #g #2.285 #r \n",
    "# Const2 = 0.449 #H #2.285 #r #1.698 #i\n",
    "\n",
    "time_start = time.time()\n",
    "SFD_catalog_color = []\n",
    "SFD_catalog_teff = []\n",
    "lens = len(SFD_tbl_ratio)\n",
    "\n",
    "ebv_final = []\n",
    "\n",
    "# 判断ebv < 0.05，就拿入下一个数组，最后一起画在图上\n",
    "print(lens)\n",
    "for i in range(lens):\n",
    "    coords = SkyCoord(SFD_tbl_ratio['RA'].values[i],SFD_tbl_ratio['DEC'].values[i],\\\n",
    "                      frame = 'icrs',unit = 'deg')\n",
    "    ebv = sfd(coords)\n",
    "    ebv_final.append(ebv)\n",
    "    \n",
    "#     A_c1 = Const1*ebv;\n",
    "#     A_c2 = Const2*ebv;\n",
    "\n",
    "    if ebv < 0.05:\n",
    "        SFD_colorindex = SFD_tbl_ratio[color1].values[i]\\\n",
    "        - (SFD_tbl_ratio[color2].values[i])\n",
    "        SFD_catalog_color.append(SFD_colorindex)\n",
    "    \n",
    "        SFD_catalog_teff.append(SFD_tbl_ratio[teff].values[i])\n",
    "        print(i)\n",
    "#     print(i)\n",
    "\n",
    "print(time.time() - time_start)"
   ]
  },
  {
   "cell_type": "markdown",
   "metadata": {},
   "source": [
    "# 图片输出"
   ]
  },
  {
   "cell_type": "markdown",
   "metadata": {},
   "source": [
    "## 图片保存格式（Input:)"
   ]
  },
  {
   "cell_type": "code",
   "execution_count": 291,
   "metadata": {
    "collapsed": true
   },
   "outputs": [],
   "source": [
    "### figures & Savename\n",
    "cc1 = 'H'\n",
    "cc2 = 'W3'\n",
    "\n",
    "save = data_dir + 'pictures/'\n",
    "# save = '/Users/SY/Desktop/obic/picture/'\n",
    "\n",
    "i = datetime.datetime.now()\n",
    "date_now = \"%s_%s_%s_\" % (i.year, i.month, i.day) \n",
    "ylabel = '$%s - %s$'%(cc1,cc2) \n",
    "savename1 = save + date_now + cc1 + cc2 + 'logg3'+'.png'\n",
    "savename2 = save + date_now + cc1 + '_HR_' + cc2 +'.png'\n",
    "savename3 = save + date_now + 'errteff.png'\n",
    "\n",
    "savename5 = save + date_now + cc1 + cc2 + 'FEH'+'Minus'+'.png'\n"
   ]
  },
  {
   "cell_type": "code",
   "execution_count": 292,
   "metadata": {},
   "outputs": [
    {
     "name": "stdout",
     "output_type": "stream",
     "text": [
      " \n",
      "2.233e-05 x - 0.3382\n"
     ]
    }
   ],
   "source": [
    "# plt hist of ebv\n",
    "\n",
    "# plt.hist(ebv_final,1000)\n",
    "# plt.savefig(save+'ebv.png',dpi = 200)\n",
    "# plt.xlim(0,2)\n",
    "# plt.show()\n",
    "\n",
    "# 拟合SFD\n",
    " \n",
    "\n",
    "# popt_sfd, pcov_sfd = curve_fit(func, SFD_catalog_teff, SFD_catalog_color)\n",
    "# #popt数组中，三个值分别是待求参数a,b,c\n",
    "# SFD_vals = [func(i, popt_sfd[0],popt_sfd[1],popt_sfd[2]) for i in SFD_catalog_teff]\n",
    "\n",
    "\n",
    "# print(SFD_catalog_teff)\n",
    "# print(str(popt_sfd[0])+'* np.exp('+str(-popt_sfd[1])+'+x)'+str(popt_sfd[2])) #在屏幕上打印拟合多项式\n",
    "\n",
    "fc = np.polyfit(SFD_catalog_teff, SFD_catalog_color, 1)#用3次多项式拟合\n",
    "fitcurve = np.poly1d(fc)\n",
    "print(fitcurve) #在屏幕上打印拟合多项式\n",
    "SFD_vals=fitcurve(SFD_catalog_teff)\n"
   ]
  },
  {
   "cell_type": "markdown",
   "metadata": {},
   "source": [
    "## 绘图所需的具体量（Alternative)"
   ]
  },
  {
   "cell_type": "code",
   "execution_count": 293,
   "metadata": {
    "scrolled": false
   },
   "outputs": [
    {
     "data": {
      "image/png": "[encoded data removed]",
      "text/plain": [
       "<matplotlib.figure.Figure at 0x133412b00>"
      ]
     },
     "metadata": {},
     "output_type": "display_data"
    }
   ],
   "source": [
    "#PLT\n",
    "plt.figure(1,figsize=(7, 5))  \n",
    "plt.xlabel('$T_\\mathrm{eff}(K)$',fontsize=14)\n",
    "plt.ylabel(ylabel,fontsize=14)\n",
    "#plt.ylim(-4,9)\n",
    "\n",
    "# the data we use\n",
    "plt.scatter(starcatalog_fram_fil[teff], starcatalog_fram_fil[color1]-starcatalog_fram_fil[color2],\\\n",
    "            c='darkgray',s=4, edgecolors='None',label='LAMOST')\n",
    "\n",
    "# data we use in the SFD dustmap\n",
    "plt.scatter(SFD_catalog_teff,SFD_catalog_color,alpha=1,edgecolors='None',c='violet',s=4,label='SFD dustmap',zorder=2)\n",
    "\n",
    "# SFD fitcurve\n",
    "plt.plot(SFD_catalog_teff, SFD_vals, c='black',linewidth = 3.5,label='fitting curve of \\nthe E(B-V)<0.05',zorder=1)\n",
    "\n",
    "# ic plot from blue edge\n",
    "plt.plot(int_teff, colorvals, c='r',linewidth = 3.5,label='fitting curve of \\nthe bluest 5%',zorder=1)\n",
    "\n",
    "# ic from blue edge\n",
    "plt.scatter(int_teff, int_color, edgecolors='None',c='b', marker = '+',s=11,label='Median of\\nthe bluest 5%',zorder=2)\n",
    "\n",
    "# ic from Allen's work \n",
    "# plt.scatter(BBFrame_fil['Teff'],BBFrame_fil['J-H'],c='lime',s=11,label='Allen',zorder=2)\n",
    "\n",
    "# ic from parsec\n",
    "plt.scatter(parsec_teff,parsec_color,c='gold',s=5,label='PARSEC',zorder=2)\n",
    "\n",
    "### Draw the plot\n",
    "\n",
    "# plt.xlabel('$T_\\mathrm{eff}$'); plt.ylabel(ylabel)\n",
    "#plt.scatter(BBFrame_fil['Teff'],BBFrame_fil['J-H'],c='lightgreen',s=15,label='Allen')\n",
    "\n",
    "plt.legend(loc='upper right')\n",
    "#new_ticks = np.linspace(-1,2,7)\n",
    "#plt.yticks(new_ticks)\n",
    "\n",
    "# plt.ylim(np.min(starcatalog_fram_fil[color1] - starcatalog_fram_fil[color2]) - 0.5,\\\n",
    "#         np.max(starcatalog_fram_fil[color1] - starcatalog_fram_fil[color2]))\n",
    "#plt.ylim(np.min(starcatalog_fram_fil[color1] - starcatalog_fram_fil[color2]) - 0.5,\\\n",
    "#       4)\n",
    "\n",
    "plt.xticks(fontsize=12)\n",
    "plt.yticks(fontsize=12)\n",
    "# plt.savefig(savename1,dpi=200)\n",
    "plt.savefig(savename5,dpi=200)\n",
    "plt.show()"
   ]
  },
  {
   "cell_type": "code",
   "execution_count": null,
   "metadata": {},
   "outputs": [],
   "source": [
    "parsec_teff"
   ]
  },
  {
   "cell_type": "markdown",
   "metadata": {},
   "source": [
    "# some other features"
   ]
  },
  {
   "cell_type": "code",
   "execution_count": 30,
   "metadata": {
    "collapsed": true
   },
   "outputs": [],
   "source": [
    "save = data_dir + 'pictures/'"
   ]
  },
  {
   "cell_type": "markdown",
   "metadata": {},
   "source": [
    "## 赫罗图 -- Only for SDSS"
   ]
  },
  {
   "cell_type": "code",
   "execution_count": 300,
   "metadata": {
    "collapsed": true
   },
   "outputs": [],
   "source": [
    "origin = starcatalog_fram_fil\n",
    "data_final = starcatalog_fram_fil[(\\\n",
    "                                   (starcatalog_fram_fil[color1] > 12)\\\n",
    "                                   & (starcatalog_fram_fil[color2] > 12))]\n",
    "\n",
    "# data_final = data_final[( (data_final[color1] - data_final[color2]) > -0.5)]"
   ]
  },
  {
   "cell_type": "code",
   "execution_count": 301,
   "metadata": {
    "collapsed": true
   },
   "outputs": [],
   "source": [
    "save = data_dir + 'pictures/'\n",
    "\n",
    "cc1 = 'g'\n",
    "cc2 = 'r'\n",
    "color = cc1 + '-' + cc2\n",
    "\n",
    "savename10 = save + 'HR'+cc1+cc2+'Nonefitsleft'"
   ]
  },
  {
   "cell_type": "code",
   "execution_count": 302,
   "metadata": {},
   "outputs": [
    {
     "data": {
      "image/png": "[encoded data removed]",
      "text/plain": [
       "<matplotlib.figure.Figure at 0x10f6ab3c8>"
      ]
     },
     "metadata": {},
     "output_type": "display_data"
    }
   ],
   "source": [
    "# H-R 1\n",
    "\n",
    "xlabel = cc1 + ' - ' + cc2\n",
    "\n",
    "plt.figure(2)\n",
    "plt.xlabel(xlabel,fontsize=14); plt.ylabel(cc1,fontsize=14)\n",
    "plt.xlim(-6,6)\n",
    "plt.ylim(5,25)\n",
    "\n",
    "# int_teff,int_color,data_final = data(teff_start,rat,low_crit)\n",
    "\n",
    "cm = plt.cm.get_cmap('RdYlBu')\n",
    "sc = plt.scatter(origin[color1]-origin[color2], origin[color1],\\\n",
    "            c= 'darkgray',s=5,edgecolors = 'None',alpha = 1,cmap=cm,label='all sources')\n",
    "\n",
    "plt.scatter(data_final[color1]-data_final[color2], data_final[color1],\\\n",
    "             c='g',s=5, edgecolors='None', alpha=1,label='selected sources')\n",
    "#plt.colorbar(sc)\n",
    "plt.legend(loc='upper right')\n",
    "# new_ticks = np.linspace(-2,3,18)\n",
    "# plt.xticks(new_ticks)\n",
    "plt.xticks(fontsize=12)\n",
    "plt.yticks(fontsize=12)\n",
    "plt.savefig(savename10,dpi=200)    \n",
    "plt.show()"
   ]
  },
  {
   "cell_type": "code",
   "execution_count": 43,
   "metadata": {},
   "outputs": [
    {
     "data": {
      "image/png": "[encoded data removed]",
      "text/plain": [
       "<matplotlib.figure.Figure at 0x107a69fd0>"
      ]
     },
     "metadata": {},
     "output_type": "display_data"
    }
   ],
   "source": [
    "# 赫罗图 2\n",
    "plt.xlabel('r')\n",
    "plt.ylabel(ylabel)\n",
    "\n",
    "cm = plt.cm.get_cmap('RdYlBu')\n",
    "\n",
    "sc = plt.scatter(starcatalog_fram_fil[color1]-starcatalog_fram_fil[color2],starcatalog_fram_fil[color1],\\\n",
    "            c = starcatalog_fram_fil[err_c1],s=2,edgecolors = 'None',alpha = 0.7,cmap=cm)\n",
    "\n",
    "plt.colorbar(sc)\n",
    "\n",
    "plt.xlim(-5,5)\n",
    "plt.ylim(9,22)\n",
    "plt.savefig(save+'HR.png',dpi=200)\n",
    "plt.show()"
   ]
  },
  {
   "cell_type": "markdown",
   "metadata": {},
   "source": [
    "## 参数统计图"
   ]
  },
  {
   "cell_type": "code",
   "execution_count": 35,
   "metadata": {
    "collapsed": true
   },
   "outputs": [],
   "source": [
    "starcatalog_fram_fil1 = starcatalog_fram[(starcatalog_fram['FEH']) > -8]"
   ]
  },
  {
   "cell_type": "code",
   "execution_count": 43,
   "metadata": {},
   "outputs": [
    {
     "data": {
      "image/png": "[encoded data removed]",
      "text/plain": [
       "<matplotlib.figure.Figure at 0x1154b8048>"
      ]
     },
     "metadata": {},
     "output_type": "display_data"
    }
   ],
   "source": [
    "plt.figure(3)\n",
    "plt.xlabel('$T_\\mathrm{eff}(K)$')\n",
    "plt.ylabel('[Fe/H]')\n",
    "\n",
    "cm = plt.cm.get_cmap('RdYlBu')\n",
    "\n",
    "sc = plt.scatter(starcatalog_fram_fil1['TEFF'],starcatalog_fram_fil1['FEH'],\\\n",
    "            c = starcatalog_fram_fil1['ERR_FEH'],s=2,edgecolors = 'None',alpha = 0.7,cmap=cm)\n",
    "\n",
    "clb = plt.colorbar(sc)\n",
    "clb.ax.set_title('err[Fe/H]')\n",
    "\n",
    "# plt.scatter(starcatalog_fram[teff],starcatalog_fram[err_teff],\\\n",
    "#             c='red',s=5, edgecolors='None', alpha=0.5)\n",
    "plt.savefig('Teff_FEH.png',dpi = 200)\n",
    "plt.show()"
   ]
  },
  {
   "cell_type": "code",
   "execution_count": 37,
   "metadata": {
    "collapsed": true
   },
   "outputs": [],
   "source": [
    "?plt.scatter"
   ]
  },
  {
   "cell_type": "code",
   "execution_count": 23,
   "metadata": {
    "collapsed": true
   },
   "outputs": [],
   "source": [
    "### draw the png of errTeff \n",
    "\n",
    "# plt.figure(3)\n",
    "# plt.xlabel('$T_\\mathrm{eff}(K)$',fontsize=14)\n",
    "# plt.ylabel('$σ_\\mathrm{Teff}$',fontsize=14)\n",
    "# plt.scatter(starcatalog_fram_fil[teff],starcatalog_fram_fil[err_teff],\\\n",
    "#             c='steelblue',s=8, edgecolors='None',alpha=0.2,label='$σ_\\mathrm{Teff}$(LAMOST)')\n",
    "# plt.legend(loc='lower right')\n",
    "# plt.xticks(fontsize=12)\n",
    "# plt.yticks(fontsize=12)\n",
    "# plt.savefig(savename3,dpi=200)  \n",
    "# plt.show()\n",
    "\n",
    "### "
   ]
  },
  {
   "cell_type": "markdown",
   "metadata": {},
   "source": [
    "# Remember List for Lamost"
   ]
  },
  {
   "cell_type": "markdown",
   "metadata": {},
   "source": [
    "## 4月19日讨论：\n",
    "\n",
    "1. log g > 4.0 比较可靠\n",
    "2. 16000-18000之间的这个区域很特别，似乎色指数就是偏红了\n",
    "3. Lamost最早也只到B2\n",
    "4. O-type 使用SFD的老方法——减去 SFD 的 E(B-V)，获得所有源的内禀色指数\n",
    "5. 向紫外波段扩充"
   ]
  },
  {
   "cell_type": "markdown",
   "metadata": {},
   "source": [
    "## 5月2日组会：\n",
    "\n",
    "** 苑老师 **： Lamost DR5 和 Mr.Yuan 给的星表由参数上的差别（跑的不同的pipline)"
   ]
  },
  {
   "cell_type": "markdown",
   "metadata": {
    "collapsed": true
   },
   "source": []
  },
  {
   "cell_type": "code",
   "execution_count": null,
   "metadata": {
    "collapsed": true
   },
   "outputs": [],
   "source": []
  }
 ],
 "metadata": {
  "kernelspec": {
   "display_name": "Python 3",
   "language": "python",
   "name": "python3"
  },
  "language_info": {
   "codemirror_mode": {
    "name": "ipython",
    "version": 3
   },
   "file_extension": ".py",
   "mimetype": "text/x-python",
   "name": "python",
   "nbconvert_exporter": "python",
   "pygments_lexer": "ipython3",
   "version": "3.6.1"
  },
  "toc": {
   "base_numbering": 1,
   "nav_menu": {},
   "number_sections": true,
   "sideBar": true,
   "skip_h1_title": false,
   "title_cell": "Table of Contents",
   "title_sidebar": "Contents",
   "toc_cell": true,
   "toc_position": {
    "height": "calc(100% - 180px)",
    "left": "10px",
    "top": "150px",
    "width": "244px"
   },
   "toc_section_display": true,
   "toc_window_display": true
  }
 },
 "nbformat": 4,
 "nbformat_minor": 2
}
