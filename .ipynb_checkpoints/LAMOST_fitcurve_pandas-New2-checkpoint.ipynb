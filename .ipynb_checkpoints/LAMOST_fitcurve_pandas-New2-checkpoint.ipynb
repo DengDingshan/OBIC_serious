{
 "cells": [
  {
   "cell_type": "markdown",
   "metadata": {
    "toc": true
   },
   "source": [
    "<h1>Table of Contents<span class=\"tocSkip\"></span></h1>\n",
    "<div class=\"toc\"><ul class=\"toc-item\"><li><span><a href=\"#综述\" data-toc-modified-id=\"综述-1\"><span class=\"toc-item-num\">1&nbsp;&nbsp;</span>综述</a></span></li><li><span><a href=\"#数据的引入和format-(Alternative)\" data-toc-modified-id=\"数据的引入和format-(Alternative)-2\"><span class=\"toc-item-num\">2&nbsp;&nbsp;</span>数据的引入和format (Alternative)</a></span><ul class=\"toc-item\"><li><span><a href=\"#参数的选取（Input）\" data-toc-modified-id=\"参数的选取（Input）-2.1\"><span class=\"toc-item-num\">2.1&nbsp;&nbsp;</span>参数的选取（Input）</a></span></li><li><span><a href=\"#Logg，误差的选取(Input:)\" data-toc-modified-id=\"Logg，误差的选取(Input:)-2.2\"><span class=\"toc-item-num\">2.2&nbsp;&nbsp;</span>Logg，误差的选取(Input:)</a></span></li><li><span><a href=\"#赫罗图的限制——Only-for-SDSS\" data-toc-modified-id=\"赫罗图的限制——Only-for-SDSS-2.3\"><span class=\"toc-item-num\">2.3&nbsp;&nbsp;</span>赫罗图的限制——Only for SDSS</a></span></li><li><span><a href=\"#金属丰度的限制-(Input:)\" data-toc-modified-id=\"金属丰度的限制-(Input:)-2.4\"><span class=\"toc-item-num\">2.4&nbsp;&nbsp;</span>金属丰度的限制 (Input:)</a></span></li><li><span><a href=\"#有效温度-Teff-的限制（Input:）\" data-toc-modified-id=\"有效温度-Teff-的限制（Input:）-2.5\"><span class=\"toc-item-num\">2.5&nbsp;&nbsp;</span>有效温度 Teff 的限制（Input:）</a></span></li><li><span><a href=\"#蓝色边缘的比例，bin最小值的选取（Input：）\" data-toc-modified-id=\"蓝色边缘的比例，bin最小值的选取（Input：）-2.6\"><span class=\"toc-item-num\">2.6&nbsp;&nbsp;</span>蓝色边缘的比例，bin最小值的选取（Input：）</a></span></li><li><span><a href=\"#比较星表的数据选取（Input:）\" data-toc-modified-id=\"比较星表的数据选取（Input:）-2.7\"><span class=\"toc-item-num\">2.7&nbsp;&nbsp;</span>比较星表的数据选取（Input:）</a></span></li></ul></li><li><span><a href=\"#内禀色指数的计算（蓝色边缘方法），同时取出某一部分用于SFD判断\" data-toc-modified-id=\"内禀色指数的计算（蓝色边缘方法），同时取出某一部分用于SFD判断-3\"><span class=\"toc-item-num\">3&nbsp;&nbsp;</span>内禀色指数的计算（蓝色边缘方法），同时取出某一部分用于SFD判断</a></span><ul class=\"toc-item\"><li><span><a href=\"#DEF\" data-toc-modified-id=\"DEF-3.1\"><span class=\"toc-item-num\">3.1&nbsp;&nbsp;</span>DEF</a></span></li><li><span><a href=\"#运算，拟合，SFD的准备（Input:)\" data-toc-modified-id=\"运算，拟合，SFD的准备（Input:)-3.2\"><span class=\"toc-item-num\">3.2&nbsp;&nbsp;</span>运算，拟合，SFD的准备（Input:)</a></span></li></ul></li><li><span><a href=\"#SFD的使用：——-将使用到新的包\" data-toc-modified-id=\"SFD的使用：——-将使用到新的包-4\"><span class=\"toc-item-num\">4&nbsp;&nbsp;</span>SFD的使用：—— 将使用到新的包</a></span></li><li><span><a href=\"#图片输出\" data-toc-modified-id=\"图片输出-5\"><span class=\"toc-item-num\">5&nbsp;&nbsp;</span>图片输出</a></span><ul class=\"toc-item\"><li><span><a href=\"#图片保存格式（Input:)\" data-toc-modified-id=\"图片保存格式（Input:)-5.1\"><span class=\"toc-item-num\">5.1&nbsp;&nbsp;</span>图片保存格式（Input:)</a></span></li><li><span><a href=\"#绘图所需的具体量（Alternative)\" data-toc-modified-id=\"绘图所需的具体量（Alternative)-5.2\"><span class=\"toc-item-num\">5.2&nbsp;&nbsp;</span>绘图所需的具体量（Alternative)</a></span></li></ul></li><li><span><a href=\"#some-other-features\" data-toc-modified-id=\"some-other-features-6\"><span class=\"toc-item-num\">6&nbsp;&nbsp;</span>some other features</a></span><ul class=\"toc-item\"><li><span><a href=\"#赫罗图----Only-for-SDSS\" data-toc-modified-id=\"赫罗图----Only-for-SDSS-6.1\"><span class=\"toc-item-num\">6.1&nbsp;&nbsp;</span>赫罗图 -- Only for SDSS</a></span></li><li><span><a href=\"#参数统计图\" data-toc-modified-id=\"参数统计图-6.2\"><span class=\"toc-item-num\">6.2&nbsp;&nbsp;</span>参数统计图</a></span></li></ul></li><li><span><a href=\"#Remember-List-for-Lamost\" data-toc-modified-id=\"Remember-List-for-Lamost-7\"><span class=\"toc-item-num\">7&nbsp;&nbsp;</span>Remember List for Lamost</a></span><ul class=\"toc-item\"><li><span><a href=\"#4月19日讨论：\" data-toc-modified-id=\"4月19日讨论：-7.1\"><span class=\"toc-item-num\">7.1&nbsp;&nbsp;</span>4月19日讨论：</a></span></li><li><span><a href=\"#5月2日组会：\" data-toc-modified-id=\"5月2日组会：-7.2\"><span class=\"toc-item-num\">7.2&nbsp;&nbsp;</span>5月2日组会：</a></span></li></ul></li></ul></div>"
   ]
  },
  {
   "cell_type": "markdown",
   "metadata": {},
   "source": [
    "# 综述\n",
    "** 蓝色边缘程序使用pandas的改写 **\n",
    "\n",
    "_由于有一些星表中包含缺省项，我们需要使用pandas中使用dataframe读取csv中自动将缺省项补上的优势，来优化我们的自动化程式_\n",
    "\n",
    "_(fits的文件我们可以使用topcat改变格式并且给星表瘦身，以加快程序读取速度）_\n",
    "\n",
    "我们需要实现的功能包含以下几点：\n",
    "\n",
    "输入：\n",
    "* csv星表**_的名字_**\n",
    "* 需要画的色指数的两个测光点（比如 $ J - H $ 我们需要输入$J$ 和 $H$）\n",
    "\n",
    "程序中自带（我们所需要限定的条件）\n",
    "_写在其中的某一个cell中作为 filt 条件_\n",
    "* 限定的误差范围（测光数据一般选择 0.3，光谱数据可以具体再定，基本上认为不太离谱的都可以用）\n",
    "* 去掉错误的点（见之前的程序)\n",
    "\n",
    "输出：\n",
    "* 颜色-teff 图\n",
    "\n",
    "Now,trying:\n",
    "* SFD: 一个新的ratio,比如说0.05，把这个ratio底下的部分输入进SFD,判断：E(B-V) <0.3 的值就是我们零消光的值。这个值去拟合一个新的curve。"
   ]
  },
  {
   "cell_type": "markdown",
   "metadata": {},
   "source": [
    "# 数据的引入和format (Alternative)"
   ]
  },
  {
   "cell_type": "code",
   "execution_count": 27,
   "metadata": {
    "collapsed": true
   },
   "outputs": [],
   "source": [
    "import pandas as pd\n",
    "import numpy as np\n",
    "import math\n",
    "import matplotlib.pyplot as plt\n",
    "import time\n",
    "import datetime\n",
    "from scipy.optimize import curve_fit\n",
    "%matplotlib inline\n",
    "\n",
    "data_dir = '/Users/SY/Desktop/obic/data/'\n",
    "#data_dir = '/Users/dengdingshan/Documents/data/obic/'"
   ]
  },
  {
   "cell_type": "code",
   "execution_count": 28,
   "metadata": {
    "collapsed": true
   },
   "outputs": [],
   "source": [
    "#read as pandas\n",
    "starcatalog_fram = pd.read_csv(data_dir + 'lamost_sfd_2mass.csv') \n",
    "\n",
    "###########\n",
    "\n",
    "#starcatlog_fram = starcatlog_fram.ix[:,:517]\n",
    "#print(starcatalog_fram)"
   ]
  },
  {
   "cell_type": "code",
   "execution_count": 29,
   "metadata": {},
   "outputs": [
    {
     "name": "stdout",
     "output_type": "stream",
     "text": [
      "Index(['Unnamed: 0', 'Zini', 'Age', 'Mini', 'Mass', 'logL', 'logTe', 'logg',\n",
      "       'label', 'McoreTP', 'C_O', 'period0', 'period1', 'pmode', 'Mloss',\n",
      "       'tau1m', 'X', 'Y', 'Xc', 'Xn', 'Xo', 'Cexcess', 'Z', 'mbolmag', 'Jmag',\n",
      "       'Hmag', 'Ksmag', 'IRAC_3.6mag', 'IRAC_4.5mag', 'IRAC_5.8mag',\n",
      "       'IRAC_8.0mag', 'MIPS_24mag', 'MIPS_70mag', 'MIPS_160mag', 'W1mag',\n",
      "       'W2mag', 'W3mag', 'W4mag'],\n",
      "      dtype='object')\n"
     ]
    }
   ],
   "source": [
    "#read parsec\n",
    "parsec_fram = pd.read_csv(data_dir + 'PARSEC2MASSandWISEPlus.csv') #PARSEC2MASSandWISEMinus\n",
    "\n",
    "############\n",
    "\n",
    "print(parsec_fram.columns)"
   ]
  },
  {
   "cell_type": "code",
   "execution_count": 30,
   "metadata": {
    "collapsed": true
   },
   "outputs": [],
   "source": [
    "### Elective CHOICE\n",
    "\n",
    "########### I.\n",
    "#change logTeff into Teff.\n",
    "\n",
    "# def tenn(x):\n",
    "#     y=10 ** x\n",
    "#     return y\n",
    "\n",
    "# Teff_tbl = starcatalog['logTeff'].apply(tenn)\n",
    "###########\n",
    "\n",
    "########### II.\n",
    "#add [Teff] into DATAFRAME\n",
    "\n",
    "#data_fram = starcatalog_fram[['TEFF_1','ERR_TEFF_1','Jmag_1','e_Jmag_1','Hmag_1','e_Hmag_1']]\n",
    "#print(data_fram)\n",
    "###########\n",
    "\n",
    "########### III.\n",
    "# fill the NaN blocks with 0\n",
    "\n",
    "starcatalog_fram_fil0 = starcatalog_fram.fillna(0)\n",
    "\n",
    "#print(starcatalog_fram_fil['LOGG'])\n",
    "############\n"
   ]
  },
  {
   "cell_type": "code",
   "execution_count": 31,
   "metadata": {},
   "outputs": [
    {
     "data": {
      "text/plain": [
       "Index(['col1', 'Unnamed: 0', 'TEFF', 'ERR_TEFF', 'RA', 'DEC', 'LOGG',\n",
       "       'ERR_LOGG', 'FEH', 'ERR_FEH', 'SFD_ebv', '2MASS', 'RAJ2000', 'DEJ2000',\n",
       "       'errHalfMaj', 'errHalfMin', 'errPosAng', 'Jmag', 'Hmag', 'Kmag',\n",
       "       'e_Jmag', 'e_Hmag', 'e_Kmag', 'Qfl', 'Rfl', 'X', 'MeasureJD',\n",
       "       'angDist'],\n",
       "      dtype='object')"
      ]
     },
     "execution_count": 31,
     "metadata": {},
     "output_type": "execute_result"
    }
   ],
   "source": [
    "starcatalog_fram.columns"
   ]
  },
  {
   "cell_type": "markdown",
   "metadata": {},
   "source": [
    "## 参数的选取（Input）"
   ]
  },
  {
   "cell_type": "code",
   "execution_count": 32,
   "metadata": {
    "collapsed": true
   },
   "outputs": [],
   "source": [
    "### variables\n",
    "\n",
    "teff = 'TEFF'\n",
    "\n",
    "color1 = 'Hmag'\n",
    "color2 = 'Kmag'\n",
    "err_teff = 'ERR_TEFF'\n",
    "\n",
    "err_c1 = 'e_' + color1\n",
    "#'e_' + color1\n",
    "#color1 + 'err' \n",
    "#color1 + 'err'\n",
    "#ERR_' + color1\n",
    "#'e_' + color1\n",
    "\n",
    "err_c2 = 'e_' + color2 \n",
    "#'ERR_' + color2\n",
    "#'e_' + color2"
   ]
  },
  {
   "cell_type": "markdown",
   "metadata": {},
   "source": [
    "## Logg，误差的选取(Input:)"
   ]
  },
  {
   "cell_type": "code",
   "execution_count": 33,
   "metadata": {
    "collapsed": true
   },
   "outputs": [],
   "source": [
    "### we just need the mainsquence (dwarf stars)\n",
    "\n",
    "# #judge logg >3.0\n",
    "\n",
    "Judge_logg = 3.5\n",
    "\n",
    "starcatalog_fram_fil = starcatalog_fram_fil0[(starcatalog_fram_fil0['LOGG']> Judge_logg)]\n",
    "parsec_fram = parsec_fram[(parsec_fram['logg']>Judge_logg)]                                            "
   ]
  },
  {
   "cell_type": "code",
   "execution_count": 34,
   "metadata": {
    "collapsed": true
   },
   "outputs": [],
   "source": [
    "### get the good stars\n",
    "\n",
    "# judge  data\n",
    "starcatalog_fram_fil=starcatalog_fram_fil[((starcatalog_fram_fil[err_c1] != 0) \\\n",
    "                                          & (starcatalog_fram_fil[err_c2] != 0)\\\n",
    "                                          & (starcatalog_fram_fil[err_c1] != -99) \\\n",
    "                                          & (starcatalog_fram_fil[err_c2] != -99))\\\n",
    "                                         & ((starcatalog_fram_fil[color1] != 0)\\\n",
    "                                           & (starcatalog_fram_fil[color2] != 0)\\\n",
    "                                           & (starcatalog_fram_fil[color1] != -99) \\\n",
    "                                           & (starcatalog_fram_fil[color2] != -99))\\\n",
    "                                         &((starcatalog_fram_fil[err_c1] <=0.03))\n",
    "                                          & ((starcatalog_fram_fil[err_c2] <=0.03))]\n",
    "if (color1=='Jmag' or color2=='Jmag'):\n",
    "     starcatalog_fram_fil=starcatalog_fram_fil[(starcatalog_fram_fil['Jmag'] >= 5.5)]\n",
    "if (color1=='Hmag' or color2=='Hmag'):\n",
    "     starcatalog_fram_fil=starcatalog_fram_fil[(starcatalog_fram_fil['Hmag'] >= 5)]  \n",
    "if (color1=='Kmag' or color2=='Kmag'):\n",
    "     starcatalog_fram_fil=starcatalog_fram_fil[(starcatalog_fram_fil['Kmag'] >= 4.5)]\n",
    "if (color1=='W1mag' or color2=='W1mag'):\n",
    "     starcatalog_fram_fil=starcatalog_fram_fil[(starcatalog_fram_fil['W1mag'] >= 8.1)]\n",
    "if (color1=='W2mag' or color2=='W2mag'):\n",
    "     starcatalog_fram_fil=starcatalog_fram_fil[(starcatalog_fram_fil['W2mag'] >= 6.7)]  \n",
    "if (color1=='W3mag' or color2=='W3mag'):\n",
    "     starcatalog_fram_fil=starcatalog_fram_fil[(starcatalog_fram_fil['W3mag'] >= 3.8)]\n",
    "# starcatalog_fram_fil=starcatalog_fram_fil[((starcatalog_fram_fil['Jmag'] >= 5.5) \\\n",
    "#                                            &(starcatalog_fram_fil['Hmag'] >= 5)\\\n",
    "#                                            &(starcatalog_fram_fil['Kmag'] >= 4.5))\\\n",
    "#                                            &(starcatalog_fram_fil['W1mag'] >= 8.1) \\\n",
    "#                                            &(starcatalog_fram_fil['W2mag'] >= 6.7)\\\n",
    "#                                            &(starcatalog_fram_fil['W3mag'] >= 3.8))]\n",
    "# # ### additional judgement\n",
    "\n",
    "# starcatalog_fram_fil=starcatalog_fram_fil[(starcatalog_fram_fil[err_c1] <=0.2)\\\n",
    "#                                            &(starcatalog_fram_fil[err_c2] <=0.05)]\n",
    "\n",
    "# print(starcatalog_fram_fil.iloc[:,0].size)"
   ]
  },
  {
   "cell_type": "markdown",
   "metadata": {},
   "source": [
    "## 赫罗图的限制——Only for SDSS"
   ]
  },
  {
   "cell_type": "code",
   "execution_count": 9,
   "metadata": {
    "collapsed": true
   },
   "outputs": [],
   "source": [
    "# Only for SDSS\n",
    "# for H-R gragh\n",
    "\n",
    "# if want to use this section, \n",
    "# just choose the part between 2 ### and use [command+/]\n",
    "################\n",
    "\n",
    "origin = starcatalog_fram_fil\n",
    "# # starcatalog_fram_fil=starcatalog_fram_fil[(starcatalog_fram_fil[color1]-starcatalog_fram_fil[color2]>= -0.50)\\\n",
    "# #                                          & (starcatalog_fram_fil[color1]>=14)]\n",
    "\n",
    "\n",
    "data_final_sdss = starcatalog_fram_fil[(\\\n",
    "                                    (starcatalog_fram_fil[color1] > 14)\\\n",
    "                                    &(starcatalog_fram_fil[color2] > 14))]\n",
    "\n",
    "#data_final_sdss = data_final_sdss[( (data_final_sdss[color1] - data_final_sdss[color2]) > -0.5)]\n",
    "\n",
    "starcatalog_fram_fil = data_final_sdss\n",
    "\n",
    "#################"
   ]
  },
  {
   "cell_type": "markdown",
   "metadata": {},
   "source": [
    "## 金属丰度的限制 (Input:)\n",
    "$$ <0 $$\n",
    "and \n",
    "$$ >0 $$"
   ]
  },
  {
   "cell_type": "code",
   "execution_count": 35,
   "metadata": {
    "collapsed": true
   },
   "outputs": [],
   "source": [
    "starcatalog_fram_fil=starcatalog_fram_fil[starcatalog_fram_fil['FEH'] > 0]"
   ]
  },
  {
   "cell_type": "markdown",
   "metadata": {},
   "source": [
    "## 有效温度 Teff 的限制（Input:）"
   ]
  },
  {
   "cell_type": "code",
   "execution_count": 36,
   "metadata": {
    "scrolled": false
   },
   "outputs": [
    {
     "name": "stdout",
     "output_type": "stream",
     "text": [
      "15996.951\n",
      "18065\n"
     ]
    }
   ],
   "source": [
    "#filt the good one\n",
    "#apogee_tbl_fil = apogee_tbl[np.argwhere(np.logical_and(apogee_tbl['teff'] > 0, apogee_tbl['logg'] > -3))]\n",
    "#apogee_tbl_fil = apogee_tbl_fil[np.argwhere(np.logical_and(apogee_tbl_fil['j'].flatten() > -1, \\\n",
    "#                                                           apogee_tbl_fil['h'].flatten() > -1))]\n",
    "#USE goodOB \n",
    "\n",
    "\n",
    "starcatalog_fram_fil=starcatalog_fram_fil[(((starcatalog_fram_fil[err_teff] != 0 )\\\n",
    "                                          & (starcatalog_fram_fil[teff]>= 10000)\\\n",
    "                                          & (starcatalog_fram_fil[teff]<= 16000))\\\n",
    "                                          & (((starcatalog_fram_fil[err_teff]< 630)\\\n",
    "                                          &(starcatalog_fram_fil[teff]> 9000))\\\n",
    "                                          |((starcatalog_fram_fil[err_teff]< 500)\\\n",
    "                                          & (starcatalog_fram_fil[teff]<= 9000))))]\n",
    "print(np.max(starcatalog_fram_fil[teff]))\n",
    "print(starcatalog_fram_fil.iloc[:,0].size)"
   ]
  },
  {
   "cell_type": "markdown",
   "metadata": {},
   "source": [
    "## 蓝色边缘的比例，bin最小值的选取（Input：）"
   ]
  },
  {
   "cell_type": "code",
   "execution_count": 37,
   "metadata": {
    "collapsed": true
   },
   "outputs": [],
   "source": [
    "# Determine the input numbers.\n",
    "\n",
    "# Bin width, usually 50 (for more scatter, try 1000 or other figures)\n",
    "#bin_width = 1000\n",
    "\n",
    "# Ratio of the bluest edge, usually 5%\n",
    "rat = 5\n",
    "\n",
    "# Low end criteria. If the number in a bin is lower than this number then neglect.  \n",
    "low_crit = 50"
   ]
  },
  {
   "cell_type": "code",
   "execution_count": 38,
   "metadata": {
    "collapsed": true
   },
   "outputs": [],
   "source": [
    "# input the data of Bessell. M.S. & Brett. J.M. 1988\n",
    "# BBFrame is the dataframe of the ic data \n",
    "\n",
    "BBFrame=pd.DataFrame({'J-H':[-0.09,-0.08,-0.07,-0.06,-0.05,-0.03,-0.03,-0.01,0.0,0.02,0.06],\\\n",
    "                      'Teff':[22300,19000,17200,15400,14100,13000,11800,10700,9480,8810,8160]})\n"
   ]
  },
  {
   "cell_type": "markdown",
   "metadata": {},
   "source": [
    "## 比较星表的数据选取（Input:）"
   ]
  },
  {
   "cell_type": "code",
   "execution_count": 39,
   "metadata": {
    "collapsed": true
   },
   "outputs": [],
   "source": [
    "# parsec point  #16000\n",
    "parsecframe = parsec_fram[((parsec_fram['logTe'] <= 4.204)\\\n",
    "                           &(parsec_fram['logTe'] >= 4))]\n",
    "\n",
    "# print(parsecframe.values)\n",
    "                                         "
   ]
  },
  {
   "cell_type": "code",
   "execution_count": 40,
   "metadata": {
    "collapsed": true
   },
   "outputs": [],
   "source": [
    "bin_width_par = 500\n",
    "teff_start_par = 10000\n",
    "teff_end_par = 16000\n",
    "\n",
    "color_total = []\n",
    "teff_total = []\n",
    "for i in range(int((teff_end_par-teff_start_par)/bin_width_par)):\n",
    "    parsecframe_bin = parsecframe[( (teff_start_par+i*bin_width_par) <=10**parsecframe['logTe']) & \\\n",
    "                (10**parsecframe['logTe']< (teff_start_par+ (i+1)*bin_width_par) )]\n",
    "    color_total.append(np.median(np.array(parsecframe_bin[color1]-parsecframe_bin['Ksmag'])))#'Ksmag''NUVmag'\n",
    "    teff_total.append(teff_start_par+(i+0.5)*bin_width_par)\n",
    "    \n",
    "parsec_color = np.array(color_total)\n",
    "parsec_teff = np.array(teff_total)"
   ]
  },
  {
   "cell_type": "code",
   "execution_count": 41,
   "metadata": {
    "collapsed": true
   },
   "outputs": [],
   "source": [
    "# Find the start point and bin number of Teff. \n",
    "# Start point: the first number divisible by bin_width smaller than min(teff)\n",
    "# Bin number: Start from start point and cover all the teff range.\n",
    "\n",
    "\n",
    "#teff_start = min(apogee_tbl_fil['teff']) - min(apogee_tbl_fil['teff']) % (bin_width/2)\n",
    "#bin_number = math.ceil((max(apogee_tbl_fil['teff']) - teff_start) / bin_width)\n",
    "\n",
    "#teff_start = min(starcatalog_fram_fil[teff])-min(starcatalog_fram_fil[teff])%(bin_width / 2)\n",
    "\n",
    "teff_start= 10000\n",
    "slide_index = 400 #the pace of slide\n",
    "#bin_number = math.ceil((max(starcatalog_fram_fil[teff])-teff_start) / bin_width)\n"
   ]
  },
  {
   "cell_type": "code",
   "execution_count": 42,
   "metadata": {
    "collapsed": true
   },
   "outputs": [],
   "source": [
    "#filt BBFrame\n",
    "BBFrame_fil=BBFrame[BBFrame['Teff'] >= teff_start]"
   ]
  },
  {
   "cell_type": "markdown",
   "metadata": {},
   "source": [
    "# 内禀色指数的计算（蓝色边缘方法），同时取出某一部分用于SFD判断"
   ]
  },
  {
   "cell_type": "markdown",
   "metadata": {},
   "source": [
    "## DEF"
   ]
  },
  {
   "cell_type": "code",
   "execution_count": 43,
   "metadata": {
    "collapsed": true
   },
   "outputs": [],
   "source": [
    "def data(teff_start,ratio,low_crit,ratio_SFD,slide_index):\n",
    "    \n",
    "    start_time = time.time()\n",
    "    int_teff = []\n",
    "    int_color = []\n",
    "    bin_int_color = []\n",
    "    \n",
    "    SFD_RA = []; SFD_DEC = []; SFD_TEFF = []; SFD_color1 = []; SFD_color2 = [];SFD_ebv = []\n",
    "    \n",
    "    data_final = pd.DataFrame(columns=[teff,color1,color2])\n",
    "    teff_judge = teff_start\n",
    "    while teff_judge < np.max(starcatalog_fram_fil[teff]) - 500:\n",
    "        #print(teff_judge)\n",
    "        if teff_judge <15000:\n",
    "            bin_width = 500\n",
    "        else:\n",
    "            bin_width = 1000\n",
    "\n",
    "        bin_tbl =starcatalog_fram_fil[np.logical_and(starcatalog_fram_fil[teff] > teff_judge, \\\n",
    "                                                starcatalog_fram_fil[teff] < teff_judge+bin_width)]\n",
    "\n",
    "        #print(teff_judge)\n",
    "       \n",
    "        \n",
    "        if len(bin_tbl) < low_crit:\n",
    "            teff_judge = teff_judge+slide_index\n",
    "            #print('1')\n",
    "            continue\n",
    "            \n",
    "        source_num = 0\n",
    "        #print(len(bin_tbl))\n",
    "\n",
    "        while source_num != len(bin_tbl):\n",
    "            source_num = len(bin_tbl)\n",
    "\n",
    "        data_final = data_final.append(bin_tbl[[teff,color1,color2]])\n",
    "        #print(len(bin_tbl))\n",
    "\n",
    "        int_teff.append(float(teff_judge+bin_width/2))\n",
    "        bin_tbl['color'] = bin_tbl[color1]-bin_tbl[color2]\n",
    "        bin_sort = bin_tbl.sort_index(axis = 0,ascending = True,by = 'color')\n",
    "        \n",
    "        # 每个bin中前ratio_SFD的部分用于取得ebv\n",
    "        color_SFD = bin_sort['color'].values[:math.ceil(len(bin_tbl)*ratio_SFD/100)]\n",
    "        bin_tbl_SFD = bin_sort[(bin_sort['color']<=np.max(color_SFD))]\n",
    "        \n",
    "        for ppp in range(len(bin_tbl_SFD)):\n",
    "            SFD_RA.append(bin_tbl_SFD['RA'].values[ppp])\n",
    "            SFD_DEC.append(bin_tbl_SFD['DEC'].values[ppp])\n",
    "            SFD_TEFF.append(bin_tbl_SFD['TEFF'].values[ppp])\n",
    "            SFD_color1.append(bin_tbl_SFD[color1].values[ppp])\n",
    "            SFD_color2.append(bin_tbl_SFD[color2].values[ppp])\n",
    "            SFD_ebv.append(bin_tbl_SFD['SFD_ebv'].values[ppp])\n",
    "        \n",
    "        # 每个bin中前ratio(usually 5%)的部分 用于取得内禀色指数int_color\n",
    "        color5 = bin_sort['color'].values[:math.ceil(len(bin_tbl)*ratio/100)]\n",
    "        bin_tbl_5 = bin_sort[(bin_sort['color']<=np.max(color5))]\n",
    "        \n",
    "        \n",
    "        if len(color5) != 0:\n",
    "            for i in range(10):\n",
    "                bin_mean = np.median(color5)\n",
    "                bin_sigma = np.std(color5)\n",
    "                bin_int_color = color5\\\n",
    "                [((color5<= bin_mean+3*bin_sigma)\\\n",
    "                & (color5>= bin_mean-3*bin_sigma))]\n",
    "                color5 = np.array(bin_int_color)\n",
    "\n",
    "            int_color.append(np.median(bin_int_color))\n",
    "            \n",
    "        teff_judge = teff_judge+slide_index\n",
    "        \n",
    "    SFD_tbl_final = pd.DataFrame({'TEFF':np.array(SFD_TEFF),'RA':np.array(SFD_RA),\\\n",
    "                                  'DEC':np.array(SFD_DEC),color1:np.array(SFD_color1),\\\n",
    "                                 color2:np.array(SFD_color2),'SFD_ebv':np.array(SFD_ebv)})\n",
    "    \n",
    "    #print(time.time() - start_time)\n",
    "    print(int_teff,int_color)\n",
    "#     print(bin_mean)\n",
    "#     print(data_final.iloc[:,0].size)\n",
    "    return int_teff,int_color,data_final,SFD_tbl_final"
   ]
  },
  {
   "cell_type": "markdown",
   "metadata": {},
   "source": [
    "## 运算，拟合，SFD的准备（Input:)"
   ]
  },
  {
   "cell_type": "code",
   "execution_count": 44,
   "metadata": {
    "scrolled": true
   },
   "outputs": [
    {
     "name": "stderr",
     "output_type": "stream",
     "text": [
      "/Users/SY/anaconda/lib/python3.6/site-packages/ipykernel_launcher.py:39: SettingWithCopyWarning: \n",
      "A value is trying to be set on a copy of a slice from a DataFrame.\n",
      "Try using .loc[row_indexer,col_indexer] = value instead\n",
      "\n",
      "See the caveats in the documentation: http://pandas.pydata.org/pandas-docs/stable/indexing.html#indexing-view-versus-copy\n",
      "/Users/SY/anaconda/lib/python3.6/site-packages/ipykernel_launcher.py:40: FutureWarning: by argument to sort_index is deprecated, pls use .sort_values(by=...)\n"
     ]
    },
    {
     "name": "stdout",
     "output_type": "stream",
     "text": [
      "[10250.0, 10650.0, 11050.0, 11450.0, 11850.0, 12250.0, 12650.0, 13050.0, 13450.0, 13850.0, 14250.0, 14650.0, 15050.0, 15700.0] [-0.014999999999998792, -0.014500000000000846, -0.011999999999998678, -0.018000000000000682, -0.017000000000001236, -0.022999999999999687, -0.020000000000000462, -0.015000000000000568, -0.019000000000000128, -0.038000000000002032, -0.028999999999998138, -0.038000000000002032, -0.032999999999999474, -0.031000000000000583]\n",
      "<class 'list'>\n",
      "[-0.023035714282036678, -0.023035714282036678, -0.023035714282036678, -0.023035714282036678, -0.023035714282036678, -0.023035714282036678, -0.023035714282036678, -0.023035714282036678, -0.023035714282036678, -0.023035714282036678, -0.023035714282036678, -0.023035714282036678, -0.023035714282036678, -0.023035714282036678]\n",
      "[[  0.00000000e+00   0.00000000e+00  -0.00000000e+00]\n",
      " [  0.00000000e+00   0.00000000e+00  -0.00000000e+00]\n",
      " [ -0.00000000e+00  -0.00000000e+00   6.86514378e-06]]\n",
      "500.0* np.exp(-500.0*x)-0.023035714282\n",
      "<class 'list'>\n"
     ]
    }
   ],
   "source": [
    "# SFD ratio\n",
    "\n",
    "ratio_SFD = 30\n",
    "\n",
    "# fitting curve\n",
    "int_teff,int_color,data_final,SFD_tbl_ratio = data(teff_start,rat,low_crit,ratio_SFD,slide_index)\n",
    "\n",
    "print(type(int_teff))\n",
    "int_teff_fit = list(np.array(int_teff)/10000)\n",
    "\n",
    "def func(x, a, b, c):\n",
    "    return a * np.exp(-b * x) + c\n",
    " \n",
    "\n",
    "popt, pcov = curve_fit(func, int_teff_fit, int_color,bounds=([0,0,-100000], [1000,1000 , 100000]))\n",
    "#popt数组中，三个值分别是待求参数a,b,c\n",
    "colorvals = [func(i, popt[0],popt[1],popt[2]) for i in int_teff_fit]\n",
    "\n",
    "print(colorvals)\n",
    "print(pcov)\n",
    "print(str(popt[0])+'* np.exp('+str(-popt[1])+'*x)'+str(popt[2])) #在屏幕上打印拟合多项式 \n",
    "# fc = np.polyfit(int_teff, int_color, 1)#用3次多项式拟合\n",
    "# fitcurve = np.poly1d(fc)\n",
    "# print(fitcurve) #在屏幕上打印拟合多项式\n",
    "\n",
    "# colorvals=fitcurve(int_teff)\n",
    "\n",
    "# print(len(colorvals),len(int_teff))\n",
    "print(type(int_teff))\n",
    "\n",
    "#SFD_tbl_ratio['SFD_ebv']\n"
   ]
  },
  {
   "cell_type": "markdown",
   "metadata": {},
   "source": [
    "# SFD的使用：—— 将使用到新的包\n",
    "\n",
    "1. 选取SFD中Ebv小于某一个值的认为是零消光源（Lamost)——Thins page\n",
    "2. 用目前的色指数减去 Ebv 给出的消光值，然后去归算内禀色指数 - GOSSS"
   ]
  },
  {
   "cell_type": "code",
   "execution_count": 45,
   "metadata": {},
   "outputs": [
    {
     "name": "stdout",
     "output_type": "stream",
     "text": [
      "1\n",
      "5\n",
      "6\n",
      "44\n",
      "56\n",
      "64\n",
      "72\n",
      "80\n",
      "82\n",
      "85\n",
      "86\n",
      "107\n",
      "148\n",
      "164\n",
      "173\n",
      "177\n",
      "178\n",
      "222\n",
      "223\n",
      "229\n",
      "250\n",
      "257\n",
      "272\n",
      "284\n",
      "286\n",
      "297\n",
      "298\n",
      "381\n",
      "473\n",
      "474\n",
      "475\n",
      "479\n",
      "485\n",
      "490\n",
      "491\n",
      "517\n",
      "518\n",
      "560\n",
      "580\n",
      "626\n",
      "667\n",
      "668\n",
      "670\n",
      "671\n",
      "718\n",
      "719\n",
      "721\n",
      "723\n",
      "724\n",
      "741\n",
      "751\n",
      "758\n",
      "772\n",
      "777\n",
      "779\n",
      "786\n",
      "849\n",
      "901\n",
      "945\n",
      "947\n",
      "948\n",
      "955\n",
      "960\n",
      "972\n",
      "973\n",
      "978\n",
      "991\n",
      "1001\n",
      "1016\n",
      "1033\n",
      "1051\n",
      "1078\n",
      "1112\n",
      "1130\n",
      "1197\n",
      "1200\n",
      "1260\n",
      "1261\n",
      "1264\n",
      "1305\n",
      "1315\n",
      "1329\n",
      "1363\n",
      "1368\n",
      "1372\n",
      "1373\n",
      "1409\n",
      "1414\n",
      "1415\n",
      "1427\n",
      "1428\n",
      "1495\n",
      "1557\n",
      "1566\n",
      "1597\n",
      "1605\n",
      "1627\n",
      "1662\n",
      "1731\n",
      "1740\n",
      "1746\n",
      "1747\n",
      "1749\n",
      "1753\n",
      "1815\n",
      "1821\n",
      "1833\n",
      "1834\n",
      "1835\n",
      "1836\n",
      "1839\n",
      "1841\n",
      "1842\n",
      "1862\n",
      "1863\n",
      "1864\n",
      "1865\n",
      "1909\n",
      "1942\n",
      "1949\n",
      "2083\n",
      "2103\n",
      "2130\n",
      "2150\n",
      "2162\n",
      "2211\n",
      "2461\n",
      "2465\n",
      "2477\n",
      "2480\n",
      "2481\n",
      "2484\n",
      "2488\n",
      "2496\n",
      "2497\n",
      "2498\n",
      "2501\n",
      "2502\n",
      "2506\n",
      "2512\n",
      "2531\n",
      "2535\n",
      "2563\n",
      "2572\n",
      "2599\n",
      "2607\n",
      "2634\n",
      "2635\n",
      "2639\n",
      "2642\n",
      "2673\n",
      "2687\n",
      "2728\n",
      "2788\n",
      "2827\n",
      "2877\n",
      "2879\n",
      "2898\n",
      "2958\n",
      "2969\n",
      "2986\n",
      "3347\n",
      "3348\n",
      "3350\n",
      "3355\n",
      "3370\n",
      "3371\n",
      "3372\n",
      "3378\n",
      "3418\n",
      "3422\n",
      "3425\n",
      "3433\n",
      "3445\n",
      "3447\n",
      "3499\n",
      "3506\n",
      "3535\n",
      "3536\n",
      "3537\n",
      "3609\n",
      "3626\n",
      "3781\n",
      "3782\n",
      "3807\n",
      "4146\n",
      "4236\n",
      "4317\n",
      "4318\n",
      "4319\n",
      "4320\n",
      "4329\n",
      "4336\n",
      "4354\n",
      "4429\n",
      "4445\n",
      "4446\n",
      "4475\n",
      "4505\n",
      "4791\n",
      "4840\n",
      "4846\n",
      "4877\n",
      "4946\n",
      "4960\n",
      "5024\n",
      "5042\n",
      "5044\n",
      "5048\n",
      "5051\n",
      "5052\n",
      "5053\n",
      "5054\n",
      "5058\n",
      "5063\n",
      "5068\n",
      "5079\n",
      "5083\n",
      "5084\n",
      "5148\n",
      "5149\n",
      "5195\n",
      "5259\n",
      "5334\n",
      "5419\n",
      "5452\n",
      "5525\n",
      "5542\n",
      "5545\n",
      "5548\n",
      "5549\n",
      "5551\n",
      "5552\n",
      "5555\n",
      "5566\n",
      "5572\n",
      "5576\n",
      "5733\n",
      "5777\n",
      "5780\n",
      "5781\n",
      "5784\n",
      "5946\n",
      "6008\n",
      "6016\n",
      "6017\n",
      "6026\n",
      "6034\n",
      "6035\n",
      "6047\n",
      "6049\n",
      "6051\n",
      "6057\n",
      "6267\n",
      "6275\n",
      "6281\n",
      "6287\n",
      "6302\n",
      "6311\n",
      "6315\n",
      "6318\n",
      "6337\n",
      "6445\n",
      "6586\n",
      "6597\n",
      "6600\n",
      "6677\n",
      "6678\n"
     ]
    }
   ],
   "source": [
    "SFD_catalog_color = []\n",
    "SFD_catalog_teff = []\n",
    "lens = len(SFD_tbl_ratio)\n",
    "\n",
    "for i in range(lens):\n",
    "    if SFD_tbl_ratio['SFD_ebv'].values[i] < 0.05:\n",
    "        SFD_colorindex = SFD_tbl_ratio[color1].values[i]\\\n",
    "        - (SFD_tbl_ratio[color2].values[i])\n",
    "        SFD_catalog_color.append(SFD_colorindex)\n",
    "    \n",
    "        SFD_catalog_teff.append(SFD_tbl_ratio[teff].values[i])\n",
    "        print(i)\n",
    "#     print(i)\n",
    "SFD_catalog_teff_fit = list(np.array(SFD_catalog_teff)/10000)\n",
    "# print(time.time() - time_start)"
   ]
  },
  {
   "cell_type": "code",
   "execution_count": 46,
   "metadata": {
    "collapsed": true,
    "scrolled": true
   },
   "outputs": [],
   "source": [
    "# ## use SFD dustmap\n",
    "# from __future__ import print_function\n",
    "# from astropy.coordinates import SkyCoord\n",
    "# from astropy import units as u\n",
    "# from dustmaps.sfd import SFDQuery\n",
    "\n",
    "# sfd = SFDQuery()\n",
    "\n",
    "# ## ebv前的系数需要去文献中拿到。目前使用的是r和i的\n",
    "# # Const1 = 0.709 #J #3.303 #g #2.285 #r \n",
    "# # Const2 = 0.449 #H #2.285 #r #1.698 #i\n",
    "\n",
    "# time_start = time.time()\n",
    "# SFD_catalog_color = []\n",
    "# SFD_catalog_teff = []\n",
    "# lens = len(SFD_tbl_ratio)\n",
    "\n",
    "# ebv_final = []\n",
    "\n",
    "# # 判断ebv < 0.05，就拿入下一个数组，最后一起画在图上\n",
    "# print(lens)\n",
    "# for i in range(lens):\n",
    "#     coords = SkyCoord(SFD_tbl_ratio['RA'].values[i],SFD_tbl_ratio['DEC'].values[i],\\\n",
    "#                       frame = 'icrs',unit = 'deg')\n",
    "#     ebv = sfd(coords)\n",
    "#     ebv_final.append(ebv)\n",
    "    \n",
    "# #     A_c1 = Const1*ebv;\n",
    "# #     A_c2 = Const2*ebv;\n",
    "\n",
    "#     if ebv < 0.05:\n",
    "#         SFD_colorindex = SFD_tbl_ratio[color1].values[i]\\\n",
    "#         - (SFD_tbl_ratio[color2].values[i])\n",
    "#         SFD_catalog_color.append(SFD_colorindex)\n",
    "    \n",
    "#         SFD_catalog_teff.append(SFD_tbl_ratio[teff].values[i])\n",
    "#         print(i)\n",
    "# #     print(i)\n",
    "\n",
    "# print(time.time() - time_start)"
   ]
  },
  {
   "cell_type": "markdown",
   "metadata": {},
   "source": [
    "# 图片输出"
   ]
  },
  {
   "cell_type": "markdown",
   "metadata": {},
   "source": [
    "## 图片保存格式（Input:)"
   ]
  },
  {
   "cell_type": "code",
   "execution_count": 48,
   "metadata": {
    "collapsed": true
   },
   "outputs": [],
   "source": [
    "### figures & Savename\n",
    "cc1 = 'H'\n",
    "cc2 = 'Ks'\n",
    "\n",
    "save = data_dir + 'pictures/'\n",
    "# save = '/Users/SY/Desktop/obic/picture/'\n",
    "\n",
    "i = datetime.datetime.now()\n",
    "date_now = \"%s_%s_%s_\" % (i.year, i.month, i.day) \n",
    "ylabel = '$%s - %s$'%(cc1,cc2) \n",
    "savename1 = save + date_now + cc1 + cc2 + 'logg3'+'.png'\n",
    "savename2 = save + date_now + cc1 + '_HR_' + cc2 +'.png'\n",
    "savename3 = save + date_now + 'errteff.png'\n",
    "\n",
    "savename5 = save + date_now + cc1 + cc2 + 'FEH'+'Plus'+'8582new'+'.png'\n",
    "savename6 = save + date_now + cc1 + cc2 + 'FEH'+'Plus'+'_sdssno'+'.png'\n",
    "savename7 = save + date_now + cc1 + cc2 + 'FEH'+'Plus'+'galexyes'+'.png'\n",
    "savename8 = save + date_now + cc1 + cc2 + 'FEH'+'Plus'+'8582new'+'pure'+'.png'\n",
    "savename9 = save + date_now + cc1 + cc2 + 'FEH'+'Plus'+'8582new'+'<16000_all'+'.png'\n",
    "savename10 = save + date_now + cc1 + cc2 + 'FEH'+'Plus'+'8582new'+'part'+'<20000'+'.png'\n",
    "savename11 = save + date_now + cc1 + cc2 + 'FEH'+'Plus'+'8582new'+'<16000'+'.png'"
   ]
  },
  {
   "cell_type": "code",
   "execution_count": 49,
   "metadata": {},
   "outputs": [
    {
     "name": "stdout",
     "output_type": "stream",
     "text": [
      "[-0.012011194025200308, -0.012011194025200308, -0.012011194025200308, -0.012011194025200308, -0.012011194025200308, -0.012011194025200308, -0.012011194025200308, -0.012011194025200308, -0.012011194025200308, -0.012011194025200308, -0.012011194025200308, -0.012011194025200308, -0.012011194025200308, -0.012011194025200308, -0.012011194025200308, -0.012011194025200308, -0.012011194025200308, -0.012011194025200308, -0.012011194025200308, -0.012011194025200308, -0.012011194025200308, -0.012011194025200308, -0.012011194025200308, -0.012011194025200308, -0.012011194025200308, -0.012011194025200308, -0.012011194025200308, -0.012011194025200308, -0.012011194025200308, -0.012011194025200308, -0.012011194025200308, -0.012011194025200308, -0.012011194025200308, -0.012011194025200308, -0.012011194025200308, -0.012011194025200308, -0.012011194025200308, -0.012011194025200308, -0.012011194025200308, -0.012011194025200308, -0.012011194025200308, -0.012011194025200308, -0.012011194025200308, -0.012011194025200308, -0.012011194025200308, -0.012011194025200308, -0.012011194025200308, -0.012011194025200308, -0.012011194025200308, -0.012011194025200308, -0.012011194025200308, -0.012011194025200308, -0.012011194025200308, -0.012011194025200308, -0.012011194025200308, -0.012011194025200308, -0.012011194025200308, -0.012011194025200308, -0.012011194025200308, -0.012011194025200308, -0.012011194025200308, -0.012011194025200308, -0.012011194025200308, -0.012011194025200308, -0.012011194025200308, -0.012011194025200308, -0.012011194025200308, -0.012011194025200308, -0.012011194025200308, -0.012011194025200308, -0.012011194025200308, -0.012011194025200308, -0.012011194025200308, -0.012011194025200308, -0.012011194025200308, -0.012011194025200308, -0.012011194025200308, -0.012011194025200308, -0.012011194025200308, -0.012011194025200308, -0.012011194025200308, -0.012011194025200308, -0.012011194025200308, -0.012011194025200308, -0.012011194025200308, -0.012011194025200308, -0.012011194025200308, -0.012011194025200308, -0.012011194025200308, -0.012011194025200308, -0.012011194025200308, -0.012011194025200308, -0.012011194025200308, -0.012011194025200308, -0.012011194025200308, -0.012011194025200308, -0.012011194025200308, -0.012011194025200308, -0.012011194025200308, -0.012011194025200308, -0.012011194025200308, -0.012011194025200308, -0.012011194025200308, -0.012011194025200308, -0.012011194025200308, -0.012011194025200308, -0.012011194025200308, -0.012011194025200308, -0.012011194025200308, -0.012011194025200308, -0.012011194025200308, -0.012011194025200308, -0.012011194025200308, -0.012011194025200308, -0.012011194025200308, -0.012011194025200308, -0.012011194025200308, -0.012011194025200308, -0.012011194025200308, -0.012011194025200308, -0.012011194025200308, -0.012011194025200308, -0.012011194025200308, -0.012011194025200308, -0.012011194025200308, -0.012011194025200308, -0.012011194025200308, -0.012011194025200308, -0.012011194025200308, -0.012011194025200308, -0.012011194025200308, -0.012011194025200308, -0.012011194025200308, -0.012011194025200308, -0.012011194025200308, -0.012011194025200308, -0.012011194025200308, -0.012011194025200308, -0.012011194025200308, -0.012011194025200308, -0.012011194025200308, -0.012011194025200308, -0.012011194025200308, -0.012011194025200308, -0.012011194025200308, -0.012011194025200308, -0.012011194025200308, -0.012011194025200308, -0.012011194025200308, -0.012011194025200308, -0.012011194025200308, -0.012011194025200308, -0.012011194025200308, -0.012011194025200308, -0.012011194025200308, -0.012011194025200308, -0.012011194025200308, -0.012011194025200308, -0.012011194025200308, -0.012011194025200308, -0.012011194025200308, -0.012011194025200308, -0.012011194025200308, -0.012011194025200308, -0.012011194025200308, -0.012011194025200308, -0.012011194025200308, -0.012011194025200308, -0.012011194025200308, -0.012011194025200308, -0.012011194025200308, -0.012011194025200308, -0.012011194025200308, -0.012011194025200308, -0.012011194025200308, -0.012011194025200308, -0.012011194025200308, -0.012011194025200308, -0.012011194025200308, -0.012011194025200308, -0.012011194025200308, -0.012011194025200308, -0.012011194025200308, -0.012011194025200308, -0.012011194025200308, -0.012011194025200308, -0.012011194025200308, -0.012011194025200308, -0.012011194025200308, -0.012011194025200308, -0.012011194025200308, -0.012011194025200308, -0.012011194025200308, -0.012011194025200308, -0.012011194025200308, -0.012011194025200308, -0.012011194025200308, -0.012011194025200308, -0.012011194025200308, -0.012011194025200308, -0.012011194025200308, -0.012011194025200308, -0.012011194025200308, -0.012011194025200308, -0.012011194025200308, -0.012011194025200308, -0.012011194025200308, -0.012011194025200308, -0.012011194025200308, -0.012011194025200308, -0.012011194025200308, -0.012011194025200308, -0.012011194025200308, -0.012011194025200308, -0.012011194025200308, -0.012011194025200308, -0.012011194025200308, -0.012011194025200308, -0.012011194025200308, -0.012011194025200308, -0.012011194025200308, -0.012011194025200308, -0.012011194025200308, -0.012011194025200308, -0.012011194025200308, -0.012011194025200308, -0.012011194025200308, -0.012011194025200308, -0.012011194025200308, -0.012011194025200308, -0.012011194025200308, -0.012011194025200308, -0.012011194025200308, -0.012011194025200308, -0.012011194025200308, -0.012011194025200308, -0.012011194025200308, -0.012011194025200308, -0.012011194025200308, -0.012011194025200308, -0.012011194025200308, -0.012011194025200308, -0.012011194025200308, -0.012011194025200308, -0.012011194025200308, -0.012011194025200308, -0.012011194025200308, -0.012011194025200308, -0.012011194025200308, -0.012011194025200308, -0.012011194025200308, -0.012011194025200308, -0.012011194025200308, -0.012011194025200308, -0.012011194025200308, -0.012011194025200308, -0.012011194025200308, -0.012011194025200308, -0.012011194025200308, -0.012011194025200308, -0.012011194025200308, -0.012011194025200308, -0.012011194025200308, -0.012011194025200308, -0.012011194025200308, -0.012011194025200308, -0.012011194025200308, -0.012011194025200308]\n",
      "500.0* np.exp(-500.0*x)-0.0120111940252\n"
     ]
    }
   ],
   "source": [
    "# plt hist of ebv\n",
    "\n",
    "# plt.hist(ebv_final,1000)\n",
    "# plt.savefig(save+'ebv.png',dpi = 200)\n",
    "# plt.xlim(0,2)\n",
    "# plt.show()\n",
    "\n",
    "# 拟合SFD\n",
    " \n",
    "\n",
    "popt_sfd, pcov_sfd = curve_fit(func, SFD_catalog_teff_fit, SFD_catalog_color,bounds=([0,0,-100000], [1000,1000 , 100000]))\n",
    "#popt数组中，三个值分别是待求参数a,b,c\n",
    "SFD_vals = [func(i, popt_sfd[0],popt_sfd[1],popt_sfd[2]) for i in SFD_catalog_teff_fit]\n",
    "\n",
    "\n",
    "print(SFD_vals)\n",
    "print(str(popt_sfd[0])+'* np.exp('+str(-popt_sfd[1])+'*x)'+str(popt_sfd[2])) #在屏幕上打印拟合多项式\n",
    "\n",
    "# fc = np.polyfit(SFD_catalog_teff, SFD_catalog_color, 1)#用3次多项式拟合\n",
    "# fitcurve = np.poly1d(fc)\n",
    "# print(fitcurve) #在屏幕上打印拟合多项式\n",
    "# SFD_vals=fitcurve(SFD_catalog_teff)\n"
   ]
  },
  {
   "cell_type": "markdown",
   "metadata": {},
   "source": [
    "## 绘图所需的具体量（Alternative)"
   ]
  },
  {
   "cell_type": "code",
   "execution_count": 51,
   "metadata": {
    "scrolled": false
   },
   "outputs": [
    {
     "data": {
      "image/png": "[encoded data removed]",
      "text/plain": [
       "<matplotlib.figure.Figure at 0x11c43e0f0>"
      ]
     },
     "metadata": {},
     "output_type": "display_data"
    }
   ],
   "source": [
    "#PLT\n",
    "ax = plt.figure(1,figsize=(7, 5))  \n",
    "plt.xlabel('$T_\\mathrm{eff}(K)$',fontsize=14)\n",
    "plt.ylabel(ylabel,fontsize=14)\n",
    "\n",
    "# the data we use\n",
    "plt.scatter(starcatalog_fram_fil[teff], starcatalog_fram_fil[color1]-starcatalog_fram_fil[color2],\\\n",
    "            c='grey',s=5, edgecolors='None',label='LAMOST')\n",
    "\n",
    "# data we use in the SFD dustmap\n",
    "plt.scatter(SFD_catalog_teff,SFD_catalog_color,alpha=1,edgecolors='None',c='violet',s=5,label='SFD dustmap',zorder=2)\n",
    "\n",
    "# SFD fitcurve\n",
    "plt.plot(SFD_catalog_teff, SFD_vals, c='black',linewidth = 3.5,label='fitting curve of \\nthe E(B-V)<0.05',zorder=1)\n",
    "\n",
    "# ic plot from blue edge\n",
    "plt.plot(int_teff, colorvals, c='r',linewidth = 3.5,label='fitting curve of \\nthe bluest 5%',zorder=1,alpha=1)\n",
    "\n",
    "# ic from blue edge\n",
    "\n",
    "plt.scatter(int_teff, int_color, edgecolors='None',c='b', marker = '+',s=50,label='Median of\\nthe bluest 5%',zorder=2)\n",
    "\n",
    "# ic from Allen's work \n",
    "# plt.scatter(BBFrame_fil['Teff'],BBFrame_fil['J-H'],c='lime',s=11,label='Allen',zorder=2)\n",
    "\n",
    "#ic from parsec\n",
    "#plt.scatter(parsec_teff,parsec_color,c='gold',s=5,label='PARSEC',zorder=2)\n",
    "plt.plot(parsec_teff, parsec_color, c='gold',linewidth = 3.5,label='PARSEC',zorder=1,alpha=1)\n",
    "### Draw the plot\n",
    "\n",
    "# plt.xlabel('$T_\\mathrm{eff}$'); plt.ylabel(ylabel)\n",
    "#plt.scatter(BBFrame_fil['Teff'],BBFrame_fil['J-H'],c='lightgreen',s=15,label='Allen')\n",
    "\n",
    "plt.legend(loc='upper right')\n",
    "#new_ticks = np.linspace(-1,2,7)\n",
    "#plt.yticks(new_ticks)\n",
    "\n",
    "# plt.ylim(np.min(starcatalog_fram_fil[color1] - starcatalog_fram_fil[color2]) - 0.5,\\\n",
    "#         np.max(starcatalog_fram_fil[color1] - starcatalog_fram_fil[color2]))\n",
    "#plt.ylim(np.min(starcatalog_fram_fil[color1] - starcatalog_fram_fil[color2]) - 0.5,\\\n",
    "#       4)\n",
    "\n",
    "plt.xticks(fontsize=12)\n",
    "plt.yticks(fontsize=12)\n",
    "# plt.savefig(savename1,dpi=200)\n",
    "plt.minorticks_on()\n",
    "plt.ylim(-0.2,1)\n",
    "plt.yticks([-0.2,0,0.2,0.4,0.6,0.8,1])\n",
    "#plt.xlim(9000,25000)\n",
    "plt.savefig(savename9,dpi=200)\n",
    "\n",
    "plt.show()"
   ]
  },
  {
   "cell_type": "code",
   "execution_count": 426,
   "metadata": {},
   "outputs": [
    {
     "data": {
      "text/plain": [
       "array([ 10250.,  10750.,  11250.,  11750.,  12250.,  12750.,  13250.,\n",
       "        13750.,  14250.,  14750.,  15250.,  15750.,  16250.,  16750.,\n",
       "        17250.,  17750.,  18250.,  18750.,  19250.,  19750.,  20250.,\n",
       "        20750.,  21250.,  21750.,  22250.,  22750.,  23250.,  23750.,\n",
       "        24250.,  24750.,  25250.,  25750.,  26250.,  26750.,  27250.,\n",
       "        27750.,  28250.,  28750.,  29250.,  29750.])"
      ]
     },
     "execution_count": 426,
     "metadata": {},
     "output_type": "execute_result"
    }
   ],
   "source": [
    "parsec_teff"
   ]
  },
  {
   "cell_type": "markdown",
   "metadata": {},
   "source": [
    "# some other features"
   ]
  },
  {
   "cell_type": "code",
   "execution_count": 576,
   "metadata": {
    "collapsed": true
   },
   "outputs": [],
   "source": [
    "save = data_dir + 'pictures/'"
   ]
  },
  {
   "cell_type": "markdown",
   "metadata": {},
   "source": [
    "## 赫罗图 -- Only for SDSS"
   ]
  },
  {
   "cell_type": "code",
   "execution_count": 577,
   "metadata": {
    "collapsed": true
   },
   "outputs": [],
   "source": [
    "#origin = starcatalog_fram_fil\n",
    "# data_final = starcatalog_fram_fil[(\\\n",
    "#                                    (starcatalog_fram_fil[color1] > 14)\\\n",
    "#                                    & (starcatalog_fram_fil[color2] > 14))]\n",
    "\n",
    "# data_final = data_final[( (data_final[color1] - data_final[color2]) > -0.5)]"
   ]
  },
  {
   "cell_type": "code",
   "execution_count": 578,
   "metadata": {
    "collapsed": true
   },
   "outputs": [],
   "source": [
    "save = data_dir + 'pictures/'\n",
    "\n",
    "cc1 = 'r'\n",
    "cc2 = 'i'\n",
    "color = cc1 + '-' + cc2\n",
    "\n",
    "savename10 = save +date_now+ 'HR'+cc1+cc2+'Nonefitsleft'"
   ]
  },
  {
   "cell_type": "code",
   "execution_count": 579,
   "metadata": {},
   "outputs": [
    {
     "data": {
      "image/png": "[encoded data removed]",
      "text/plain": [
       "<matplotlib.figure.Figure at 0x11a0da898>"
      ]
     },
     "metadata": {},
     "output_type": "display_data"
    }
   ],
   "source": [
    "# H-R 1\n",
    "\n",
    "xlabel = cc1 + ' - ' + cc2\n",
    "\n",
    "plt.figure(2)\n",
    "plt.xlabel(xlabel,fontsize=14); plt.ylabel(cc1,fontsize=14)\n",
    "plt.xlim(-6,6)\n",
    "plt.ylim(5,25)\n",
    "\n",
    "# int_teff,int_color,data_final = data(teff_start,rat,low_crit)\n",
    "\n",
    "cm = plt.cm.get_cmap('RdYlBu')\n",
    "sc = plt.scatter(origin[color1]-origin[color2], origin[color1],\\\n",
    "            c= 'darkgray',s=5,edgecolors = 'None',alpha = 1,cmap=cm,label='all sources')\n",
    "\n",
    "plt.scatter(data_final_sdss[color1]-data_final_sdss[color2], data_final_sdss[color1],\\\n",
    "             c='g',s=5, edgecolors='None', alpha=1,label='selected sources')\n",
    "#plt.colorbar(sc)\n",
    "plt.legend(loc='upper right')\n",
    "# new_ticks = np.linspace(-2,3,18)\n",
    "# plt.xticks(new_ticks)\n",
    "plt.xticks(fontsize=12)\n",
    "plt.yticks(fontsize=12)\n",
    "plt.savefig(savename10,dpi=200)    \n",
    "plt.show()"
   ]
  },
  {
   "cell_type": "code",
   "execution_count": 43,
   "metadata": {},
   "outputs": [
    {
     "data": {
      "image/png": "[encoded data removed]",
      "text/plain": [
       "<matplotlib.figure.Figure at 0x107a69fd0>"
      ]
     },
     "metadata": {},
     "output_type": "display_data"
    }
   ],
   "source": [
    "# 赫罗图 2\n",
    "plt.xlabel('r')\n",
    "plt.ylabel(ylabel)\n",
    "\n",
    "cm = plt.cm.get_cmap('RdYlBu')\n",
    "\n",
    "sc = plt.scatter(starcatalog_fram_fil[color1]-starcatalog_fram_fil[color2],starcatalog_fram_fil[color1],\\\n",
    "            c = starcatalog_fram_fil[err_c1],s=2,edgecolors = 'None',alpha = 0.7,cmap=cm)\n",
    "\n",
    "plt.colorbar(sc)\n",
    "\n",
    "plt.xlim(-5,5)\n",
    "plt.ylim(9,22)\n",
    "plt.savefig(save+'HR.png',dpi=200)\n",
    "plt.show()"
   ]
  },
  {
   "cell_type": "markdown",
   "metadata": {},
   "source": [
    "## 参数统计图"
   ]
  },
  {
   "cell_type": "code",
   "execution_count": 35,
   "metadata": {
    "collapsed": true
   },
   "outputs": [],
   "source": [
    "starcatalog_fram_fil1 = starcatalog_fram[(starcatalog_fram['FEH']) > -8]"
   ]
  },
  {
   "cell_type": "code",
   "execution_count": 43,
   "metadata": {},
   "outputs": [
    {
     "data": {
      "image/png": "[encoded data removed]",
      "text/plain": [
       "<matplotlib.figure.Figure at 0x1154b8048>"
      ]
     },
     "metadata": {},
     "output_type": "display_data"
    }
   ],
   "source": [
    "plt.figure(3)\n",
    "plt.xlabel('$T_\\mathrm{eff}(K)$')\n",
    "plt.ylabel('[Fe/H]')\n",
    "\n",
    "cm = plt.cm.get_cmap('RdYlBu')\n",
    "\n",
    "sc = plt.scatter(starcatalog_fram_fil1['TEFF'],starcatalog_fram_fil1['FEH'],\\\n",
    "            c = starcatalog_fram_fil1['ERR_FEH'],s=2,edgecolors = 'None',alpha = 0.7,cmap=cm)\n",
    "\n",
    "clb = plt.colorbar(sc)\n",
    "clb.ax.set_title('err[Fe/H]')\n",
    "\n",
    "# plt.scatter(starcatalog_fram[teff],starcatalog_fram[err_teff],\\\n",
    "#             c='red',s=5, edgecolors='None', alpha=0.5)\n",
    "plt.savefig('Teff_FEH.png',dpi = 200)\n",
    "plt.show()"
   ]
  },
  {
   "cell_type": "code",
   "execution_count": 37,
   "metadata": {
    "collapsed": true
   },
   "outputs": [],
   "source": [
    "?plt.scatter"
   ]
  },
  {
   "cell_type": "code",
   "execution_count": 23,
   "metadata": {
    "collapsed": true
   },
   "outputs": [],
   "source": [
    "### draw the png of errTeff \n",
    "\n",
    "# plt.figure(3)\n",
    "# plt.xlabel('$T_\\mathrm{eff}(K)$',fontsize=14)\n",
    "# plt.ylabel('$σ_\\mathrm{Teff}$',fontsize=14)\n",
    "# plt.scatter(starcatalog_fram_fil[teff],starcatalog_fram_fil[err_teff],\\\n",
    "#             c='steelblue',s=8, edgecolors='None',alpha=0.2,label='$σ_\\mathrm{Teff}$(LAMOST)')\n",
    "# plt.legend(loc='lower right')\n",
    "# plt.xticks(fontsize=12)\n",
    "# plt.yticks(fontsize=12)\n",
    "# plt.savefig(savename3,dpi=200)  \n",
    "# plt.show()\n",
    "\n",
    "### "
   ]
  },
  {
   "cell_type": "markdown",
   "metadata": {},
   "source": [
    "# Remember List for Lamost"
   ]
  },
  {
   "cell_type": "markdown",
   "metadata": {},
   "source": [
    "## 4月19日讨论：\n",
    "\n",
    "1. log g > 4.0 比较可靠\n",
    "2. 16000-18000之间的这个区域很特别，似乎色指数就是偏红了\n",
    "3. Lamost最早也只到B2\n",
    "4. O-type 使用SFD的老方法——减去 SFD 的 E(B-V)，获得所有源的内禀色指数\n",
    "5. 向紫外波段扩充"
   ]
  },
  {
   "cell_type": "markdown",
   "metadata": {},
   "source": [
    "## 5月2日组会：\n",
    "\n",
    "** 苑老师 **： Lamost DR5 和 Mr.Yuan 给的星表由参数上的差别（跑的不同的pipline)"
   ]
  },
  {
   "cell_type": "markdown",
   "metadata": {
    "collapsed": true
   },
   "source": []
  },
  {
   "cell_type": "code",
   "execution_count": 52,
   "metadata": {},
   "outputs": [
    {
     "name": "stdout",
     "output_type": "stream",
     "text": [
      "(3,)\n"
     ]
    }
   ],
   "source": [
    "a=np.array([1,2,3])\n",
    "print(a.shape)\n"
   ]
  },
  {
   "cell_type": "code",
   "execution_count": 322,
   "metadata": {},
   "outputs": [
    {
     "data": {
      "text/plain": [
       "[<matplotlib.lines.Line2D at 0x117cd5b70>]"
      ]
     },
     "execution_count": 322,
     "metadata": {},
     "output_type": "execute_result"
    },
    {
     "data": {
      "image/png": "[encoded data removed]",
      "text/plain": [
       "<matplotlib.figure.Figure at 0x1230f4cc0>"
      ]
     },
     "metadata": {},
     "output_type": "display_data"
    }
   ],
   "source": [
    "x=np.array(range(10000))\n",
    "y=np.exp(-x)\n",
    "plt.plot(x,y)"
   ]
  },
  {
   "cell_type": "code",
   "execution_count": null,
   "metadata": {
    "collapsed": true
   },
   "outputs": [],
   "source": []
  }
 ],
 "metadata": {
  "kernelspec": {
   "display_name": "Python 3",
   "language": "python",
   "name": "python3"
  },
  "language_info": {
   "codemirror_mode": {
    "name": "ipython",
    "version": 3
   },
   "file_extension": ".py",
   "mimetype": "text/x-python",
   "name": "python",
   "nbconvert_exporter": "python",
   "pygments_lexer": "ipython3",
   "version": "3.6.1"
  },
  "toc": {
   "base_numbering": 1,
   "nav_menu": {},
   "number_sections": true,
   "sideBar": true,
   "skip_h1_title": false,
   "title_cell": "Table of Contents",
   "title_sidebar": "Contents",
   "toc_cell": true,
   "toc_position": {
    "height": "calc(100% - 180px)",
    "left": "10px",
    "top": "150px",
    "width": "165px"
   },
   "toc_section_display": true,
   "toc_window_display": true
  }
 },
 "nbformat": 4,
 "nbformat_minor": 2
}
