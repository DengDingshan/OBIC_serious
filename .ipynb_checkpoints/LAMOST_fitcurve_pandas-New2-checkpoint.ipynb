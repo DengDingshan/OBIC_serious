{
 "cells": [
  {
   "cell_type": "markdown",
   "metadata": {
    "toc": true
   },
   "source": [
    "<h1>Table of Contents<span class=\"tocSkip\"></span></h1>\n",
    "<div class=\"toc\"><ul class=\"toc-item\"><li><span><a href=\"#综述\" data-toc-modified-id=\"综述-1\"><span class=\"toc-item-num\">1&nbsp;&nbsp;</span>综述</a></span></li><li><span><a href=\"#数据的引入和format-(Alternative)\" data-toc-modified-id=\"数据的引入和format-(Alternative)-2\"><span class=\"toc-item-num\">2&nbsp;&nbsp;</span>数据的引入和format (Alternative)</a></span><ul class=\"toc-item\"><li><span><a href=\"#参数的选取（Input）\" data-toc-modified-id=\"参数的选取（Input）-2.1\"><span class=\"toc-item-num\">2.1&nbsp;&nbsp;</span>参数的选取（Input）</a></span></li><li><span><a href=\"#Logg，误差的选取(Input:)\" data-toc-modified-id=\"Logg，误差的选取(Input:)-2.2\"><span class=\"toc-item-num\">2.2&nbsp;&nbsp;</span>Logg，误差的选取(Input:)</a></span></li><li><span><a href=\"#赫罗图的限制——Only-for-SDSS\" data-toc-modified-id=\"赫罗图的限制——Only-for-SDSS-2.3\"><span class=\"toc-item-num\">2.3&nbsp;&nbsp;</span>赫罗图的限制——Only for SDSS</a></span></li><li><span><a href=\"#金属丰度的限制-(Input:)\" data-toc-modified-id=\"金属丰度的限制-(Input:)-2.4\"><span class=\"toc-item-num\">2.4&nbsp;&nbsp;</span>金属丰度的限制 (Input:)</a></span></li><li><span><a href=\"#有效温度-Teff-的限制（Input:）\" data-toc-modified-id=\"有效温度-Teff-的限制（Input:）-2.5\"><span class=\"toc-item-num\">2.5&nbsp;&nbsp;</span>有效温度 Teff 的限制（Input:）</a></span></li><li><span><a href=\"#蓝色边缘的比例，bin最小值的选取（Input：）\" data-toc-modified-id=\"蓝色边缘的比例，bin最小值的选取（Input：）-2.6\"><span class=\"toc-item-num\">2.6&nbsp;&nbsp;</span>蓝色边缘的比例，bin最小值的选取（Input：）</a></span></li><li><span><a href=\"#比较星表的数据选取（Input:）\" data-toc-modified-id=\"比较星表的数据选取（Input:）-2.7\"><span class=\"toc-item-num\">2.7&nbsp;&nbsp;</span>比较星表的数据选取（Input:）</a></span></li></ul></li><li><span><a href=\"#内禀色指数的计算（蓝色边缘方法），同时取出某一部分用于SFD判断\" data-toc-modified-id=\"内禀色指数的计算（蓝色边缘方法），同时取出某一部分用于SFD判断-3\"><span class=\"toc-item-num\">3&nbsp;&nbsp;</span>内禀色指数的计算（蓝色边缘方法），同时取出某一部分用于SFD判断</a></span><ul class=\"toc-item\"><li><span><a href=\"#DEF\" data-toc-modified-id=\"DEF-3.1\"><span class=\"toc-item-num\">3.1&nbsp;&nbsp;</span>DEF</a></span></li><li><span><a href=\"#运算，拟合，SFD的准备（Input:)\" data-toc-modified-id=\"运算，拟合，SFD的准备（Input:)-3.2\"><span class=\"toc-item-num\">3.2&nbsp;&nbsp;</span>运算，拟合，SFD的准备（Input:)</a></span></li></ul></li><li><span><a href=\"#SFD的使用：——-将使用到新的包\" data-toc-modified-id=\"SFD的使用：——-将使用到新的包-4\"><span class=\"toc-item-num\">4&nbsp;&nbsp;</span>SFD的使用：—— 将使用到新的包</a></span></li><li><span><a href=\"#图片输出\" data-toc-modified-id=\"图片输出-5\"><span class=\"toc-item-num\">5&nbsp;&nbsp;</span>图片输出</a></span><ul class=\"toc-item\"><li><span><a href=\"#图片保存格式（Input:)\" data-toc-modified-id=\"图片保存格式（Input:)-5.1\"><span class=\"toc-item-num\">5.1&nbsp;&nbsp;</span>图片保存格式（Input:)</a></span></li><li><span><a href=\"#绘图所需的具体量（Alternative)\" data-toc-modified-id=\"绘图所需的具体量（Alternative)-5.2\"><span class=\"toc-item-num\">5.2&nbsp;&nbsp;</span>绘图所需的具体量（Alternative)</a></span></li></ul></li><li><span><a href=\"#some-other-features\" data-toc-modified-id=\"some-other-features-6\"><span class=\"toc-item-num\">6&nbsp;&nbsp;</span>some other features</a></span><ul class=\"toc-item\"><li><span><a href=\"#赫罗图----Only-for-SDSS\" data-toc-modified-id=\"赫罗图----Only-for-SDSS-6.1\"><span class=\"toc-item-num\">6.1&nbsp;&nbsp;</span>赫罗图 -- Only for SDSS</a></span></li><li><span><a href=\"#参数统计图\" data-toc-modified-id=\"参数统计图-6.2\"><span class=\"toc-item-num\">6.2&nbsp;&nbsp;</span>参数统计图</a></span></li></ul></li><li><span><a href=\"#Remember-List-for-Lamost\" data-toc-modified-id=\"Remember-List-for-Lamost-7\"><span class=\"toc-item-num\">7&nbsp;&nbsp;</span>Remember List for Lamost</a></span><ul class=\"toc-item\"><li><span><a href=\"#4月19日讨论：\" data-toc-modified-id=\"4月19日讨论：-7.1\"><span class=\"toc-item-num\">7.1&nbsp;&nbsp;</span>4月19日讨论：</a></span></li><li><span><a href=\"#5月2日组会：\" data-toc-modified-id=\"5月2日组会：-7.2\"><span class=\"toc-item-num\">7.2&nbsp;&nbsp;</span>5月2日组会：</a></span></li></ul></li></ul></div>"
   ]
  },
  {
   "cell_type": "markdown",
   "metadata": {},
   "source": [
    "# 综述\n",
    "** 蓝色边缘程序使用pandas的改写 **\n",
    "\n",
    "_由于有一些星表中包含缺省项，我们需要使用pandas中使用dataframe读取csv中自动将缺省项补上的优势，来优化我们的自动化程式_\n",
    "\n",
    "_(fits的文件我们可以使用topcat改变格式并且给星表瘦身，以加快程序读取速度）_\n",
    "\n",
    "我们需要实现的功能包含以下几点：\n",
    "\n",
    "输入：\n",
    "* csv星表**_的名字_**\n",
    "* 需要画的色指数的两个测光点（比如 $ J - H $ 我们需要输入$J$ 和 $H$）\n",
    "\n",
    "程序中自带（我们所需要限定的条件）\n",
    "_写在其中的某一个cell中作为 filt 条件_\n",
    "* 限定的误差范围（测光数据一般选择 0.3，光谱数据可以具体再定，基本上认为不太离谱的都可以用）\n",
    "* 去掉错误的点（见之前的程序)\n",
    "\n",
    "输出：\n",
    "* 颜色-teff 图\n",
    "\n",
    "Now,trying:\n",
    "* SFD: 一个新的ratio,比如说0.05，把这个ratio底下的部分输入进SFD,判断：E(B-V) <0.3 的值就是我们零消光的值。这个值去拟合一个新的curve。"
   ]
  },
  {
   "cell_type": "markdown",
   "metadata": {},
   "source": [
    "# 数据的引入和format (Alternative)"
   ]
  },
  {
   "cell_type": "code",
   "execution_count": 242,
   "metadata": {
    "collapsed": true
   },
   "outputs": [],
   "source": [
    "import pandas as pd\n",
    "import numpy as np\n",
    "import math\n",
    "import matplotlib.pyplot as plt\n",
    "import time\n",
    "import datetime\n",
    "%matplotlib inline\n",
    "\n",
    "data_dir = '/Users/SY/Desktop/obic/data/'\n",
    "#data_dir = '/Users/dengdingshan/Documents/data/obic/'"
   ]
  },
  {
   "cell_type": "code",
   "execution_count": 243,
   "metadata": {
    "collapsed": true
   },
   "outputs": [],
   "source": [
    "#read as pandas\n",
    "starcatalog_fram = pd.read_csv(data_dir + 'lamost_2mass_wise_new2.csv')\n",
    "\n",
    "###########\n",
    "\n",
    "#starcatlog_fram = starcatlog_fram.ix[:,:517]\n",
    "#print(starcatalog_fram)"
   ]
  },
  {
   "cell_type": "code",
   "execution_count": 244,
   "metadata": {
    "collapsed": true
   },
   "outputs": [],
   "source": [
    "#read parsec\n",
    "parsec_fram = pd.read_csv(data_dir + 'parsec_jhkw0_0.5.csv')\n",
    "\n",
    "############\n",
    "\n",
    "# print(parsec_fram.values)"
   ]
  },
  {
   "cell_type": "code",
   "execution_count": 245,
   "metadata": {
    "collapsed": true
   },
   "outputs": [],
   "source": [
    "### Elective CHOICE\n",
    "\n",
    "########### I.\n",
    "#change logTeff into Teff.\n",
    "\n",
    "# def tenn(x):\n",
    "#     y=10 ** x\n",
    "#     return y\n",
    "\n",
    "# Teff_tbl = starcatalog['logTeff'].apply(tenn)\n",
    "###########\n",
    "\n",
    "########### II.\n",
    "#add [Teff] into DATAFRAME\n",
    "\n",
    "#data_fram = starcatalog_fram[['TEFF_1','ERR_TEFF_1','Jmag_1','e_Jmag_1','Hmag_1','e_Hmag_1']]\n",
    "#print(data_fram)\n",
    "###########\n",
    "\n",
    "########### III.\n",
    "# fill the NaN blocks with 0\n",
    "\n",
    "starcatalog_fram_fil0 = starcatalog_fram.fillna(0)\n",
    "\n",
    "#print(starcatalog_fram_fil['LOGG'])\n",
    "############\n"
   ]
  },
  {
   "cell_type": "code",
   "execution_count": 246,
   "metadata": {},
   "outputs": [
    {
     "data": {
      "text/plain": [
       "Index(['col1', 'TEFF', 'ERR_TEFF', 'RA', 'DEC', 'LOGG', 'ERR_LOGG', 'FEH',\n",
       "       'ERR_FEH', '2MASS', 'RAJ2000', 'DEJ2000', 'errHalfMaj', 'errHalfMin',\n",
       "       'errPosAng', 'Jmag', 'Hmag', 'Kmag', 'e_Jmag', 'e_Hmag', 'e_Kmag',\n",
       "       'Qfl', 'Rfl', 'X', 'MeasureJD', 'angDist', 'JNAME', 'ra_x', 'dec_x',\n",
       "       'errHalfMaj_x', 'errHalfMin_x', 'errPosAng_x', 'W1mag', 'W2mag',\n",
       "       'W3mag', 'W4mag', 'Jmag_x', 'Hmag_x', 'Kmag_x', 'e_W1mag', 'e_W2mag',\n",
       "       'e_W3mag', 'e_W4mag', 'e_Jmag_x', 'e_Hmag_x', 'e_Kmag_x', 'cntr',\n",
       "       'cc_flags', 'ext_flg', 'var_flg', 'ph_qual', 'r_2mass', 'angDist_x'],\n",
       "      dtype='object')"
      ]
     },
     "execution_count": 246,
     "metadata": {},
     "output_type": "execute_result"
    }
   ],
   "source": [
    "starcatalog_fram.columns"
   ]
  },
  {
   "cell_type": "markdown",
   "metadata": {},
   "source": [
    "## 参数的选取（Input）"
   ]
  },
  {
   "cell_type": "code",
   "execution_count": 282,
   "metadata": {
    "collapsed": true
   },
   "outputs": [],
   "source": [
    "### variables\n",
    "\n",
    "teff = 'TEFF'\n",
    "\n",
    "color1 = 'Jmag'\n",
    "color2 = 'W1mag'\n",
    "err_teff = 'ERR_TEFF'\n",
    "\n",
    "err_c1 = 'e_' + color1\n",
    "#'e_' + color1\n",
    "#color1 + 'err' \n",
    "#color1 + 'err'\n",
    "#ERR_' + color1\n",
    "#'e_' + color1\n",
    "\n",
    "err_c2 = 'e_' + color2\n",
    "#'ERR_' + color2\n",
    "#'e_' + color2"
   ]
  },
  {
   "cell_type": "markdown",
   "metadata": {},
   "source": [
    "## Logg，误差的选取(Input:)"
   ]
  },
  {
   "cell_type": "code",
   "execution_count": 283,
   "metadata": {
    "collapsed": true
   },
   "outputs": [],
   "source": [
    "### we just need the mainsquence (dwarf stars)\n",
    "\n",
    "# #judge logg >3.0\n",
    "\n",
    "Judge_logg = 3.5\n",
    "\n",
    "starcatalog_fram_fil = starcatalog_fram_fil0[(starcatalog_fram_fil0['LOGG']> Judge_logg)]\n",
    "parsec_fram = parsec_fram[(parsec_fram['logg']>Judge_logg)]                                            "
   ]
  },
  {
   "cell_type": "code",
   "execution_count": 284,
   "metadata": {},
   "outputs": [],
   "source": [
    "### get the good stars\n",
    "\n",
    "# judge  data\n",
    "starcatalog_fram_fil=starcatalog_fram_fil[((starcatalog_fram_fil[err_c1] != 0) \\\n",
    "                                          & (starcatalog_fram_fil[err_c2] != 0)\\\n",
    "                                          & (starcatalog_fram_fil[err_c1] != -99) \\\n",
    "                                          & (starcatalog_fram_fil[err_c2] != -99))\\\n",
    "                                         & ((starcatalog_fram_fil[color1] != 0)\\\n",
    "                                           & (starcatalog_fram_fil[color2] != 0)\\\n",
    "                                           & (starcatalog_fram_fil[color1] != -99) \\\n",
    "                                           & (starcatalog_fram_fil[color2] != -99))\\\n",
    "                                         &((starcatalog_fram_fil[err_c1] <=0.03)\\\n",
    "                                          & (starcatalog_fram_fil[err_c2] <=0.03))]\n",
    "\n",
    "starcatalog_fram_fil=starcatalog_fram_fil[((starcatalog_fram_fil['Jmag'] >= 5.5) \\\n",
    "                                           &(starcatalog_fram_fil['Hmag'] >= 5)\\\n",
    "                                           &(starcatalog_fram_fil['Kmag'] >= 4.5)\n",
    "                                           &(starcatalog_fram_fil['W1mag'] >= 8.1) \\\n",
    "                                           &(starcatalog_fram_fil['W2mag'] >= 6.7)\\\n",
    "                                           &(starcatalog_fram_fil['W3mag'] >= 3.8))]\n",
    "### additional judgement\n",
    "\n",
    "# starcatalog_fram_fil=starcatalog_fram_fil[(starcatalog_fram_fil[err_c1] <=0.2)\\\n",
    "#                                            &(starcatalog_fram_fil[err_c2] <=0.05)]\n",
    "\n",
    "# print(starcatalog_fram_fil.iloc[:,0].size)"
   ]
  },
  {
   "cell_type": "markdown",
   "metadata": {},
   "source": [
    "## 赫罗图的限制——Only for SDSS"
   ]
  },
  {
   "cell_type": "code",
   "execution_count": 285,
   "metadata": {
    "collapsed": true
   },
   "outputs": [],
   "source": [
    "# Only for SDSS\n",
    "# for H-R gragh\n",
    "\n",
    "origin = starcatalog_fram_fil\n",
    "# starcatalog_fram_fil=starcatalog_fram_fil[(starcatalog_fram_fil[color1]-starcatalog_fram_fil[color2]>= -0.440)\\\n",
    "#                                          & (starcatalog_fram_fil[color1]>=12)]\n",
    "\n",
    "\n",
    "# data_final = starcatalog_fram_fil[(\\\n",
    "#                                    (starcatalog_fram_fil[color1] > 12)\\\n",
    "#                                    & (starcatalog_fram_fil[color2] > 12))]\n",
    "\n",
    "# data_final = data_final[( (data_final[color1] - data_final[color2]) > -0.5)]\n",
    "\n",
    "#starcatalog_fram_fil = data_final"
   ]
  },
  {
   "cell_type": "markdown",
   "metadata": {},
   "source": [
    "## 金属丰度的限制 (Input:)\n",
    "$$ <0 $$\n",
    "and \n",
    "$$ >0 $$"
   ]
  },
  {
   "cell_type": "code",
   "execution_count": 286,
   "metadata": {},
   "outputs": [],
   "source": [
    "starcatalog_fram_fil=starcatalog_fram_fil[starcatalog_fram_fil['FEH'] > 0]"
   ]
  },
  {
   "cell_type": "markdown",
   "metadata": {},
   "source": [
    "## 有效温度 Teff 的限制（Input:）"
   ]
  },
  {
   "cell_type": "code",
   "execution_count": 287,
   "metadata": {
    "scrolled": true
   },
   "outputs": [
    {
     "name": "stdout",
     "output_type": "stream",
     "text": [
      "24683.125\n",
      "26834\n"
     ]
    }
   ],
   "source": [
    "#filt the good one\n",
    "#apogee_tbl_fil = apogee_tbl[np.argwhere(np.logical_and(apogee_tbl['teff'] > 0, apogee_tbl['logg'] > -3))]\n",
    "#apogee_tbl_fil = apogee_tbl_fil[np.argwhere(np.logical_and(apogee_tbl_fil['j'].flatten() > -1, \\\n",
    "#                                                           apogee_tbl_fil['h'].flatten() > -1))]\n",
    "#USE goodOB \n",
    "\n",
    "\n",
    "starcatalog_fram_fil=starcatalog_fram_fil[(((starcatalog_fram_fil[err_teff] != 0 )\\\n",
    "                                          & (starcatalog_fram_fil[teff]>= 10000))\\\n",
    "                                          #& (starcatalog_fram_fil[teff]<= 16000))\n",
    "                                          & (((starcatalog_fram_fil[err_teff]< 630)\\\n",
    "                                          &(starcatalog_fram_fil[teff]> 9000))\\\n",
    "                                          |((starcatalog_fram_fil[err_teff]< 500)\\\n",
    "                                          & (starcatalog_fram_fil[teff]<= 9000))))]\n",
    "print(np.max(starcatalog_fram_fil[teff]))\n",
    "print(starcatalog_fram_fil.iloc[:,0].size)"
   ]
  },
  {
   "cell_type": "markdown",
   "metadata": {},
   "source": [
    "## 蓝色边缘的比例，bin最小值的选取（Input：）"
   ]
  },
  {
   "cell_type": "code",
   "execution_count": 288,
   "metadata": {
    "collapsed": true
   },
   "outputs": [],
   "source": [
    "# Determine the input numbers.\n",
    "\n",
    "# Bin width, usually 50 (for more scatter, try 1000 or other figures)\n",
    "#bin_width = 1000\n",
    "\n",
    "# Ratio of the bluest edge, usually 5%\n",
    "rat = 5\n",
    "\n",
    "# Low end criteria. If the number in a bin is lower than this number then neglect.  \n",
    "low_crit = 50"
   ]
  },
  {
   "cell_type": "code",
   "execution_count": 289,
   "metadata": {
    "collapsed": true
   },
   "outputs": [],
   "source": [
    "# input the data of Bessell. M.S. & Brett. J.M. 1988\n",
    "# BBFrame is the dataframe of the ic data \n",
    "\n",
    "BBFrame=pd.DataFrame({'J-H':[-0.09,-0.08,-0.07,-0.06,-0.05,-0.03,-0.03,-0.01,0.0,0.02,0.06],\\\n",
    "                      'Teff':[22300,19000,17200,15400,14100,13000,11800,10700,9480,8810,8160]})\n"
   ]
  },
  {
   "cell_type": "markdown",
   "metadata": {},
   "source": [
    "## 比较星表的数据选取（Input:）"
   ]
  },
  {
   "cell_type": "code",
   "execution_count": 290,
   "metadata": {},
   "outputs": [],
   "source": [
    "# parsec point\n",
    "parsecframe = parsec_fram[((parsec_fram['logTe'] <= 4.361)\\\n",
    "                           &(parsec_fram['logTe'] >= 4.000))]\n",
    "parsec_teff =10**parsecframe['logTe'] \n",
    "parsec_color = parsecframe[color1] - parsecframe[color2]\n",
    "# print(parsecframe.values)\n",
    "                                         "
   ]
  },
  {
   "cell_type": "code",
   "execution_count": 291,
   "metadata": {
    "collapsed": true
   },
   "outputs": [],
   "source": [
    "# Find the start point and bin number of Teff. \n",
    "# Start point: the first number divisible by bin_width smaller than min(teff)\n",
    "# Bin number: Start from start point and cover all the teff range.\n",
    "\n",
    "\n",
    "#teff_start = min(apogee_tbl_fil['teff']) - min(apogee_tbl_fil['teff']) % (bin_width/2)\n",
    "#bin_number = math.ceil((max(apogee_tbl_fil['teff']) - teff_start) / bin_width)\n",
    "\n",
    "#teff_start = min(starcatalog_fram_fil[teff])-min(starcatalog_fram_fil[teff])%(bin_width / 2)\n",
    "\n",
    "teff_start= 10000\n",
    "\n",
    "#bin_number = math.ceil((max(starcatalog_fram_fil[teff])-teff_start) / bin_width)\n"
   ]
  },
  {
   "cell_type": "code",
   "execution_count": 292,
   "metadata": {
    "collapsed": true
   },
   "outputs": [],
   "source": [
    "#filt BBFrame\n",
    "BBFrame_fil=BBFrame[BBFrame['Teff'] >= teff_start]"
   ]
  },
  {
   "cell_type": "markdown",
   "metadata": {},
   "source": [
    "# 内禀色指数的计算（蓝色边缘方法），同时取出某一部分用于SFD判断"
   ]
  },
  {
   "cell_type": "markdown",
   "metadata": {},
   "source": [
    "## DEF"
   ]
  },
  {
   "cell_type": "code",
   "execution_count": 293,
   "metadata": {
    "collapsed": true
   },
   "outputs": [],
   "source": [
    "def data(teff_start,ratio,low_crit,ratio_SFD):\n",
    "    \n",
    "    start_time = time.time()\n",
    "    int_teff = []\n",
    "    int_color = []\n",
    "    bin_int_color = []\n",
    "    \n",
    "    SFD_RA = []; SFD_DEC = []; SFD_TEFF = []; SFD_color1 = []; SFD_color2 = [];\n",
    "    \n",
    "    data_final = pd.DataFrame(columns=[teff,color1,color2])\n",
    "    teff_judge = teff_start\n",
    "    while teff_judge < np.max(starcatalog_fram_fil[teff]) - 1000:\n",
    "       \n",
    "        if teff_judge <9000:\n",
    "            bin_width = 100\n",
    "        else:\n",
    "            bin_width = 630\n",
    "\n",
    "        bin_tbl =starcatalog_fram_fil[np.logical_and(starcatalog_fram_fil[teff] > teff_judge, \\\n",
    "                                                starcatalog_fram_fil[teff] < teff_judge+bin_width)]\n",
    "\n",
    "        #print(teff_judge)\n",
    "       \n",
    "        \n",
    "        if len(bin_tbl) < low_crit:\n",
    "            teff_judge = teff_judge+bin_width\n",
    "            continue\n",
    "            \n",
    "        source_num = 0\n",
    "        #print(len(bin_tbl))\n",
    "\n",
    "        while source_num != len(bin_tbl):\n",
    "            source_num = len(bin_tbl)\n",
    "\n",
    "        data_final = data_final.append(bin_tbl[[teff,color1,color2]])\n",
    "        #print(len(bin_tbl))\n",
    "\n",
    "        int_teff.append(float(teff_judge+bin_width/2))\n",
    "        bin_tbl['color'] = bin_tbl[color1]-bin_tbl[color2]\n",
    "        bin_sort = bin_tbl.sort_index(axis = 0,ascending = True,by = 'color')\n",
    "        \n",
    "        # 每个bin中前ratio_SFD的部分用于取得ebv\n",
    "        color_SFD = bin_sort['color'].values[:math.ceil(len(bin_tbl)*ratio_SFD/100)]\n",
    "        bin_tbl_SFD = bin_sort[(bin_sort['color']<=np.max(color_SFD))]\n",
    "        \n",
    "        for ppp in range(len(bin_tbl_SFD)):\n",
    "            SFD_RA.append(bin_tbl_SFD['RA'].values[ppp])\n",
    "            SFD_DEC.append(bin_tbl_SFD['DEC'].values[ppp])\n",
    "            SFD_TEFF.append(bin_tbl_SFD['TEFF'].values[ppp])\n",
    "            SFD_color1.append(bin_tbl_SFD[color1].values[ppp])\n",
    "            SFD_color2.append(bin_tbl_SFD[color2].values[ppp])\n",
    "        \n",
    "        # 每个bin中前ratio(usually 5%)的部分 用于取得内禀色指数int_color\n",
    "        color5 = bin_sort['color'].values[:math.ceil(len(bin_tbl)*ratio/100)]\n",
    "        bin_tbl_5 = bin_sort[(bin_sort['color']<=np.max(color5))]\n",
    "        \n",
    "        if len(color5) != 0:\n",
    "            bin_mean = np.median(color5)\n",
    "            bin_sigma = np.std(color5)\n",
    "            bin_int_color = color5\\\n",
    "            [((color5<= bin_mean+3*bin_sigma)\\\n",
    "            & (color5>= bin_mean-3*bin_sigma))]\n",
    "\n",
    "            int_color.append(np.median(bin_int_color))\n",
    "            \n",
    "        teff_judge = teff_judge+bin_width\n",
    "        \n",
    "    SFD_tbl_final = pd.DataFrame({'TEFF':np.array(SFD_TEFF),'RA':np.array(SFD_RA),\\\n",
    "                                  'DEC':np.array(SFD_DEC),color1:np.array(SFD_color1),\\\n",
    "                                 color2:np.array(SFD_color2)})\n",
    "    \n",
    "    print(time.time() - start_time)\n",
    "    print(int_teff,int_color)\n",
    "#     print(bin_mean)\n",
    "#     print(data_final.iloc[:,0].size)\n",
    "    return int_teff,int_color,data_final,SFD_tbl_final"
   ]
  },
  {
   "cell_type": "markdown",
   "metadata": {},
   "source": [
    "## 运算，拟合，SFD的准备（Input:)"
   ]
  },
  {
   "cell_type": "code",
   "execution_count": 294,
   "metadata": {
    "scrolled": true
   },
   "outputs": [
    {
     "name": "stderr",
     "output_type": "stream",
     "text": [
      "/Users/SY/anaconda/lib/python3.6/site-packages/ipykernel_launcher.py:38: SettingWithCopyWarning: \n",
      "A value is trying to be set on a copy of a slice from a DataFrame.\n",
      "Try using .loc[row_indexer,col_indexer] = value instead\n",
      "\n",
      "See the caveats in the documentation: http://pandas.pydata.org/pandas-docs/stable/indexing.html#indexing-view-versus-copy\n",
      "/Users/SY/anaconda/lib/python3.6/site-packages/ipykernel_launcher.py:39: FutureWarning: by argument to sort_index is deprecated, pls use .sort_values(by=...)\n"
     ]
    },
    {
     "name": "stdout",
     "output_type": "stream",
     "text": [
      "0.9752538204193115\n",
      "[10315.0, 10945.0, 11575.0, 12205.0, 12835.0, 13465.0, 14095.0, 14725.0, 15355.0, 15985.0, 17245.0, 17875.0, 18505.0, 19135.0, 22285.0, 22915.0] [-0.025000000000000355, -0.028000000000000469, -0.051999999999999602, -0.060000000000000497, -0.052999999999999048, -0.073499999999999233, -0.077000000000001734, -0.097000000000001307, -0.12149999999999928, -0.085000000000000853, -0.15499999999999936, 0.15999999999999925, -0.16600000000000037, -0.099000000000001975, 0.077000000000001734, -0.15599999999999881]\n"
     ]
    }
   ],
   "source": [
    "# SFD ratio\n",
    "\n",
    "ratio_SFD = 5\n",
    "\n",
    "# fitting curve\n",
    "int_teff,int_color,data_final,SFD_tbl_ratio = data(teff_start,rat,low_crit,ratio_SFD)\n",
    "\n",
    "fc = np.polyfit(int_teff, int_color, 3)#用3次多项式拟合\n",
    "fitcurve = np.poly1d(fc)\n",
    "# print(fitcurve) #在屏幕上打印拟合多项式\n",
    "\n",
    "colorvals=fitcurve(int_teff)\n",
    "\n",
    "# print(len(colorvals),len(int_teff))\n",
    "#print(len(bin_tbl_final[teff].values))\n",
    "\n",
    "# SFD_tbl_ratio[teff]\n"
   ]
  },
  {
   "cell_type": "markdown",
   "metadata": {},
   "source": [
    "# SFD的使用：—— 将使用到新的包\n",
    "\n",
    "1. 选取SFD中Ebv小于某一个值的认为是零消光源（Lamost)——Thins page\n",
    "2. 用目前的色指数减去 Ebv 给出的消光值，然后去归算内禀色指数 - GOSSS"
   ]
  },
  {
   "cell_type": "code",
   "execution_count": 295,
   "metadata": {
    "scrolled": true
   },
   "outputs": [
    {
     "name": "stdout",
     "output_type": "stream",
     "text": [
      "1360\n",
      "0\n",
      "1\n",
      "2\n",
      "6\n",
      "7\n",
      "8\n",
      "9\n",
      "10\n",
      "11\n",
      "12\n",
      "13\n",
      "14\n",
      "17\n",
      "19\n",
      "20\n",
      "27\n",
      "28\n",
      "31\n",
      "32\n",
      "33\n",
      "34\n",
      "35\n",
      "37\n",
      "39\n",
      "40\n",
      "41\n",
      "42\n",
      "44\n",
      "50\n",
      "52\n",
      "53\n",
      "55\n",
      "56\n",
      "58\n",
      "66\n",
      "68\n",
      "70\n",
      "71\n",
      "72\n",
      "73\n",
      "74\n",
      "76\n",
      "77\n",
      "85\n",
      "86\n",
      "89\n",
      "92\n",
      "93\n",
      "94\n",
      "95\n",
      "99\n",
      "100\n",
      "102\n",
      "111\n",
      "112\n",
      "114\n",
      "115\n",
      "116\n",
      "119\n",
      "120\n",
      "122\n",
      "127\n",
      "134\n",
      "137\n",
      "152\n",
      "155\n",
      "156\n",
      "158\n",
      "159\n",
      "160\n",
      "167\n",
      "169\n",
      "170\n",
      "171\n",
      "172\n",
      "173\n",
      "175\n",
      "182\n",
      "184\n",
      "187\n",
      "188\n",
      "193\n",
      "199\n",
      "200\n",
      "202\n",
      "203\n",
      "211\n",
      "213\n",
      "216\n",
      "219\n",
      "223\n",
      "239\n",
      "241\n",
      "249\n",
      "267\n",
      "277\n",
      "283\n",
      "284\n",
      "285\n",
      "288\n",
      "289\n",
      "290\n",
      "296\n",
      "298\n",
      "302\n",
      "303\n",
      "305\n",
      "318\n",
      "319\n",
      "320\n",
      "321\n",
      "322\n",
      "323\n",
      "324\n",
      "325\n",
      "333\n",
      "334\n",
      "339\n",
      "340\n",
      "342\n",
      "343\n",
      "344\n",
      "348\n",
      "349\n",
      "351\n",
      "352\n",
      "357\n",
      "358\n",
      "360\n",
      "361\n",
      "362\n",
      "372\n",
      "373\n",
      "374\n",
      "375\n",
      "380\n",
      "392\n",
      "396\n",
      "406\n",
      "407\n",
      "415\n",
      "432\n",
      "442\n",
      "443\n",
      "445\n",
      "449\n",
      "452\n",
      "453\n",
      "455\n",
      "458\n",
      "462\n",
      "463\n",
      "469\n",
      "470\n",
      "471\n",
      "472\n",
      "473\n",
      "474\n",
      "475\n",
      "480\n",
      "481\n",
      "482\n",
      "485\n",
      "486\n",
      "495\n",
      "497\n",
      "498\n",
      "508\n",
      "511\n",
      "512\n",
      "515\n",
      "518\n",
      "519\n",
      "520\n",
      "532\n",
      "543\n",
      "544\n",
      "545\n",
      "546\n",
      "547\n",
      "560\n",
      "563\n",
      "566\n",
      "581\n",
      "595\n",
      "616\n",
      "634\n",
      "635\n",
      "647\n",
      "654\n",
      "655\n",
      "656\n",
      "657\n",
      "668\n",
      "669\n",
      "671\n",
      "672\n",
      "673\n",
      "674\n",
      "675\n",
      "676\n",
      "677\n",
      "678\n",
      "679\n",
      "680\n",
      "681\n",
      "682\n",
      "683\n",
      "684\n",
      "685\n",
      "688\n",
      "694\n",
      "701\n",
      "705\n",
      "706\n",
      "708\n",
      "709\n",
      "710\n",
      "713\n",
      "714\n",
      "716\n",
      "717\n",
      "718\n",
      "719\n",
      "720\n",
      "725\n",
      "727\n",
      "730\n",
      "731\n",
      "737\n",
      "738\n",
      "739\n",
      "756\n",
      "801\n",
      "824\n",
      "834\n",
      "842\n",
      "843\n",
      "844\n",
      "856\n",
      "920\n",
      "933\n",
      "936\n",
      "937\n",
      "938\n",
      "939\n",
      "940\n",
      "941\n",
      "942\n",
      "944\n",
      "945\n",
      "946\n",
      "947\n",
      "948\n",
      "949\n",
      "950\n",
      "951\n",
      "954\n",
      "955\n",
      "956\n",
      "957\n",
      "962\n",
      "963\n",
      "966\n",
      "967\n",
      "968\n",
      "969\n",
      "971\n",
      "972\n",
      "976\n",
      "977\n",
      "983\n",
      "984\n",
      "991\n",
      "993\n",
      "997\n",
      "1004\n",
      "1050\n",
      "1063\n",
      "1065\n",
      "1066\n",
      "1067\n",
      "1070\n",
      "1072\n",
      "1073\n",
      "1074\n",
      "1076\n",
      "1077\n",
      "1093\n",
      "1094\n",
      "1100\n",
      "1126\n",
      "1128\n",
      "1129\n",
      "1130\n",
      "1131\n",
      "1132\n",
      "1133\n",
      "1134\n",
      "1135\n",
      "1136\n",
      "1139\n",
      "1142\n",
      "1143\n",
      "1144\n",
      "1148\n",
      "1150\n",
      "1151\n",
      "1152\n",
      "1154\n",
      "1160\n",
      "1185\n",
      "1197\n",
      "1198\n",
      "1201\n",
      "1202\n",
      "1204\n",
      "1205\n",
      "1207\n",
      "1213\n",
      "1219\n",
      "1229\n",
      "1230\n",
      "1233\n",
      "1234\n",
      "1236\n",
      "1245\n",
      "1255\n",
      "1257\n",
      "1258\n",
      "1261\n",
      "1271\n",
      "1272\n",
      "1277\n",
      "1279\n",
      "1291\n",
      "1295\n",
      "1330\n",
      "1357\n",
      "1358\n",
      "144.03261733055115\n"
     ]
    }
   ],
   "source": [
    "## use SFD dustmap\n",
    "from __future__ import print_function\n",
    "from astropy.coordinates import SkyCoord\n",
    "from astropy import units as u\n",
    "from dustmaps.sfd import SFDQuery\n",
    "\n",
    "sfd = SFDQuery()\n",
    "\n",
    "## ebv前的系数需要去文献中拿到。目前使用的是r和i的\n",
    "# Const1 = 0.709 #J #3.303 #g #2.285 #r \n",
    "# Const2 = 0.449 #H #2.285 #r #1.698 #i\n",
    "\n",
    "time_start = time.time()\n",
    "SFD_catalog_color = []\n",
    "SFD_catalog_teff = []\n",
    "lens = len(SFD_tbl_ratio)\n",
    "\n",
    "ebv_final = []\n",
    "\n",
    "# 判断ebv < 0.05，就拿入下一个数组，最后一起画在图上\n",
    "print(lens)\n",
    "for i in range(lens):\n",
    "    coords = SkyCoord(SFD_tbl_ratio['RA'].values[i],SFD_tbl_ratio['DEC'].values[i],\\\n",
    "                      frame = 'icrs',unit = 'deg')\n",
    "    ebv = sfd(coords)\n",
    "    ebv_final.append(ebv)\n",
    "    \n",
    "#     A_c1 = Const1*ebv;\n",
    "#     A_c2 = Const2*ebv;\n",
    "\n",
    "    if ebv < 0.05:\n",
    "        SFD_colorindex = SFD_tbl_ratio[color1].values[i]\\\n",
    "        - (SFD_tbl_ratio[color2].values[i])\n",
    "        SFD_catalog_color.append(SFD_colorindex)\n",
    "    \n",
    "        SFD_catalog_teff.append(SFD_tbl_ratio[teff].values[i])\n",
    "        print(i)\n",
    "#     print(i)\n",
    "\n",
    "print(time.time() - time_start)"
   ]
  },
  {
   "cell_type": "markdown",
   "metadata": {},
   "source": [
    "# 图片输出"
   ]
  },
  {
   "cell_type": "markdown",
   "metadata": {},
   "source": [
    "## 图片保存格式（Input:)"
   ]
  },
  {
   "cell_type": "code",
   "execution_count": 296,
   "metadata": {
    "collapsed": true
   },
   "outputs": [],
   "source": [
    "### figures & Savename\n",
    "cc1 = 'J'\n",
    "cc2 = 'W1'\n",
    "\n",
    "save = data_dir + 'pictures/'\n",
    "# save = '/Users/SY/Desktop/obic/picture/'\n",
    "\n",
    "i = datetime.datetime.now()\n",
    "date_now = \"%s_%s_%s_\" % (i.year, i.month, i.day) \n",
    "ylabel = '$%s - %s$'%(cc1,cc2) \n",
    "savename1 = save + date_now + cc1 + cc2 + 'logg3'+'.png'\n",
    "savename2 = save + date_now + cc1 + '_HR_' + cc2 +'.png'\n",
    "savename3 = save + date_now + 'errteff.png'\n",
    "\n",
    "savename5 = save + date_now + cc1 + cc2 + 'FEH'+'Maxus'+'.png'\n"
   ]
  },
  {
   "cell_type": "code",
   "execution_count": 297,
   "metadata": {},
   "outputs": [
    {
     "name": "stdout",
     "output_type": "stream",
     "text": [
      "           3             2\n",
      "-5.06e-13 x + 2.522e-08 x - 0.0004157 x + 2.136\n"
     ]
    }
   ],
   "source": [
    "# plt hist of ebv\n",
    "\n",
    "# plt.hist(ebv_final,1000)\n",
    "# plt.savefig(save+'ebv.png',dpi = 200)\n",
    "# plt.xlim(0,2)\n",
    "# plt.show()\n",
    "\n",
    "# 拟合SFD\n",
    "\n",
    "fcc = np.polyfit(SFD_catalog_teff, SFD_catalog_color, 3)#用3次多项式拟合 SFD\n",
    "fitcurve = np.poly1d(fcc)\n",
    "print(fitcurve) #在屏幕上打印拟合多项式\n",
    "\n",
    "SFD_vals = fitcurve(SFD_catalog_teff)\n",
    "\n"
   ]
  },
  {
   "cell_type": "markdown",
   "metadata": {},
   "source": [
    "## 绘图所需的具体量（Alternative)"
   ]
  },
  {
   "cell_type": "code",
   "execution_count": 298,
   "metadata": {
    "scrolled": false
   },
   "outputs": [
    {
     "data": {
      "image/png": "[encoded data removed]",
      "text/plain": [
       "<matplotlib.figure.Figure at 0x121983d30>"
      ]
     },
     "metadata": {},
     "output_type": "display_data"
    }
   ],
   "source": [
    "#PLT\n",
    "plt.figure(1,figsize=(7, 5))  \n",
    "plt.xlabel('$T_\\mathrm{eff}(K)$',fontsize=14)\n",
    "plt.ylabel(ylabel,fontsize=14)\n",
    "#plt.ylim(-4,9)\n",
    "\n",
    "# the data we use\n",
    "plt.scatter(starcatalog_fram_fil[teff], starcatalog_fram_fil[color1]-starcatalog_fram_fil[color2],\\\n",
    "            c='darkgray',s=4, edgecolors='None',label='LAMOST')\n",
    "\n",
    "# data we use in the SFD dustmap\n",
    "plt.scatter(SFD_catalog_teff,SFD_catalog_color,alpha=1,edgecolors='None',c='violet',s=4,label='SFD dustmap',zorder=2)\n",
    "\n",
    "# SFD fitcurve\n",
    "plt.plot(SFD_catalog_teff, SFD_vals, c='black',linewidth = 3.5,label='fitting curve of \\nthe E(B-V)<0.05',zorder=1)\n",
    "\n",
    "# ic plot from blue edge\n",
    "plt.plot(int_teff, colorvals, c='r',linewidth = 3.5,label='fitting curve of \\nthe bluest 5%',zorder=1)\n",
    "\n",
    "# ic from blue edge\n",
    "plt.scatter(int_teff, int_color, edgecolors='None',c='b', marker = '+',s=11,label='Median of\\nthe bluest 5%',zorder=2)\n",
    "\n",
    "# ic from Allen's work \n",
    "# plt.scatter(BBFrame_fil['Teff'],BBFrame_fil['J-H'],c='lime',s=11,label='Allen',zorder=2)\n",
    "\n",
    "# ic from parsec\n",
    "plt.scatter(parsec_teff,parsec_color,c='gold',s=5,label='PARSEC',zorder=2)\n",
    "\n",
    "### Draw the plot\n",
    "\n",
    "# plt.xlabel('$T_\\mathrm{eff}$'); plt.ylabel(ylabel)\n",
    "#plt.scatter(BBFrame_fil['Teff'],BBFrame_fil['J-H'],c='#FF6666',s=11,label='Allen')\n",
    "\n",
    "plt.legend(loc='upper right')\n",
    "#new_ticks = np.linspace(-1,2,7)\n",
    "#plt.yticks(new_ticks)\n",
    "\n",
    "# plt.ylim(np.min(starcatalog_fram_fil[color1] - starcatalog_fram_fil[color2]) - 0.5,\\\n",
    "#         np.max(starcatalog_fram_fil[color1] - starcatalog_fram_fil[color2]))\n",
    "#plt.ylim(np.min(starcatalog_fram_fil[color1] - starcatalog_fram_fil[color2]) - 0.5,\\\n",
    "#       4)\n",
    "\n",
    "plt.xticks(fontsize=12)\n",
    "plt.yticks(fontsize=12)\n",
    "# plt.savefig(savename1,dpi=200)\n",
    "plt.savefig(savename5,dpi=200)\n",
    "plt.show()"
   ]
  },
  {
   "cell_type": "code",
   "execution_count": 207,
   "metadata": {},
   "outputs": [
    {
     "data": {
      "text/plain": [
       "46       10073.954848\n",
       "47       10092.528861\n",
       "48       10221.155606\n",
       "49       10399.201658\n",
       "50       10697.936113\n",
       "51       10990.058394\n",
       "52       11277.166693\n",
       "53       11555.799554\n",
       "54       11827.691817\n",
       "55       12092.051829\n",
       "56       12348.096079\n",
       "57       12597.953471\n",
       "58       12841.034122\n",
       "59       13076.755389\n",
       "60       13237.317938\n",
       "61       13310.672560\n",
       "62       13536.300907\n",
       "63       13759.415961\n",
       "64       13976.550563\n",
       "65       14105.873993\n",
       "66       14190.575217\n",
       "67       14381.361396\n",
       "68       14404.560102\n",
       "69       14604.947494\n",
       "70       15048.735188\n",
       "71       15360.310684\n",
       "72       15431.210657\n",
       "73       15878.153642\n",
       "74       16047.227145\n",
       "75       16095.334248\n",
       "             ...     \n",
       "15296    12784.978440\n",
       "15297    12938.978762\n",
       "15298    13188.639580\n",
       "15299    13430.741798\n",
       "15300    13551.894124\n",
       "15301    13667.843582\n",
       "15302    13854.791676\n",
       "15303    13861.173512\n",
       "15304    13902.727165\n",
       "15305    14037.830687\n",
       "15306    14102.626369\n",
       "15307    14141.647251\n",
       "15308    14200.381105\n",
       "15309    14233.116365\n",
       "15310    14242.951650\n",
       "15311    14236.394038\n",
       "15312    14210.193770\n",
       "15313    14157.937800\n",
       "15314    14054.001644\n",
       "15315    13902.727165\n",
       "15316    13893.126817\n",
       "15317    13686.739456\n",
       "15318    13464.802884\n",
       "15319    13225.131530\n",
       "15327    14315.285042\n",
       "15328    14621.771745\n",
       "15329    14777.467062\n",
       "15330    14588.142603\n",
       "15331    14295.521400\n",
       "15332    13902.727165\n",
       "Name: logTe, Length: 1056, dtype: float64"
      ]
     },
     "execution_count": 207,
     "metadata": {},
     "output_type": "execute_result"
    }
   ],
   "source": [
    "parsec_teff"
   ]
  },
  {
   "cell_type": "markdown",
   "metadata": {},
   "source": [
    "# some other features"
   ]
  },
  {
   "cell_type": "code",
   "execution_count": 30,
   "metadata": {
    "collapsed": true
   },
   "outputs": [],
   "source": [
    "save = data_dir + 'pictures/'"
   ]
  },
  {
   "cell_type": "markdown",
   "metadata": {},
   "source": [
    "## 赫罗图 -- Only for SDSS"
   ]
  },
  {
   "cell_type": "code",
   "execution_count": 300,
   "metadata": {
    "collapsed": true
   },
   "outputs": [],
   "source": [
    "origin = starcatalog_fram_fil\n",
    "data_final = starcatalog_fram_fil[(\\\n",
    "                                   (starcatalog_fram_fil[color1] > 12)\\\n",
    "                                   & (starcatalog_fram_fil[color2] > 12))]\n",
    "\n",
    "# data_final = data_final[( (data_final[color1] - data_final[color2]) > -0.5)]"
   ]
  },
  {
   "cell_type": "code",
   "execution_count": 301,
   "metadata": {
    "collapsed": true
   },
   "outputs": [],
   "source": [
    "save = data_dir + 'pictures/'\n",
    "\n",
    "cc1 = 'g'\n",
    "cc2 = 'r'\n",
    "color = cc1 + '-' + cc2\n",
    "\n",
    "savename10 = save + 'HR'+cc1+cc2+'Nonefitsleft'"
   ]
  },
  {
   "cell_type": "code",
   "execution_count": 302,
   "metadata": {},
   "outputs": [
    {
     "data": {
      "image/png": "[encoded data removed]",
      "text/plain": [
       "<matplotlib.figure.Figure at 0x10f6ab3c8>"
      ]
     },
     "metadata": {},
     "output_type": "display_data"
    }
   ],
   "source": [
    "# H-R 1\n",
    "\n",
    "xlabel = cc1 + ' - ' + cc2\n",
    "\n",
    "plt.figure(2)\n",
    "plt.xlabel(xlabel,fontsize=14); plt.ylabel(cc1,fontsize=14)\n",
    "plt.xlim(-6,6)\n",
    "plt.ylim(5,25)\n",
    "\n",
    "# int_teff,int_color,data_final = data(teff_start,rat,low_crit)\n",
    "\n",
    "cm = plt.cm.get_cmap('RdYlBu')\n",
    "sc = plt.scatter(origin[color1]-origin[color2], origin[color1],\\\n",
    "            c= 'darkgray',s=5,edgecolors = 'None',alpha = 1,cmap=cm,label='all sources')\n",
    "\n",
    "plt.scatter(data_final[color1]-data_final[color2], data_final[color1],\\\n",
    "             c='g',s=5, edgecolors='None', alpha=1,label='selected sources')\n",
    "#plt.colorbar(sc)\n",
    "plt.legend(loc='upper right')\n",
    "# new_ticks = np.linspace(-2,3,18)\n",
    "# plt.xticks(new_ticks)\n",
    "plt.xticks(fontsize=12)\n",
    "plt.yticks(fontsize=12)\n",
    "plt.savefig(savename10,dpi=200)    \n",
    "plt.show()"
   ]
  },
  {
   "cell_type": "code",
   "execution_count": 43,
   "metadata": {},
   "outputs": [
    {
     "data": {
      "image/png": "[encoded data removed]",
      "text/plain": [
       "<matplotlib.figure.Figure at 0x107a69fd0>"
      ]
     },
     "metadata": {},
     "output_type": "display_data"
    }
   ],
   "source": [
    "# 赫罗图 2\n",
    "plt.xlabel('r')\n",
    "plt.ylabel(ylabel)\n",
    "\n",
    "cm = plt.cm.get_cmap('RdYlBu')\n",
    "\n",
    "sc = plt.scatter(starcatalog_fram_fil[color1]-starcatalog_fram_fil[color2],starcatalog_fram_fil[color1],\\\n",
    "            c = starcatalog_fram_fil[err_c1],s=2,edgecolors = 'None',alpha = 0.7,cmap=cm)\n",
    "\n",
    "plt.colorbar(sc)\n",
    "\n",
    "plt.xlim(-5,5)\n",
    "plt.ylim(9,22)\n",
    "plt.savefig(save+'HR.png',dpi=200)\n",
    "plt.show()"
   ]
  },
  {
   "cell_type": "markdown",
   "metadata": {},
   "source": [
    "## 参数统计图"
   ]
  },
  {
   "cell_type": "code",
   "execution_count": 35,
   "metadata": {
    "collapsed": true
   },
   "outputs": [],
   "source": [
    "starcatalog_fram_fil1 = starcatalog_fram[(starcatalog_fram['FEH']) > -8]"
   ]
  },
  {
   "cell_type": "code",
   "execution_count": 43,
   "metadata": {},
   "outputs": [
    {
     "data": {
      "image/png": "[encoded data removed]",
      "text/plain": [
       "<matplotlib.figure.Figure at 0x1154b8048>"
      ]
     },
     "metadata": {},
     "output_type": "display_data"
    }
   ],
   "source": [
    "plt.figure(3)\n",
    "plt.xlabel('$T_\\mathrm{eff}(K)$')\n",
    "plt.ylabel('[Fe/H]')\n",
    "\n",
    "cm = plt.cm.get_cmap('RdYlBu')\n",
    "\n",
    "sc = plt.scatter(starcatalog_fram_fil1['TEFF'],starcatalog_fram_fil1['FEH'],\\\n",
    "            c = starcatalog_fram_fil1['ERR_FEH'],s=2,edgecolors = 'None',alpha = 0.7,cmap=cm)\n",
    "\n",
    "clb = plt.colorbar(sc)\n",
    "clb.ax.set_title('err[Fe/H]')\n",
    "\n",
    "# plt.scatter(starcatalog_fram[teff],starcatalog_fram[err_teff],\\\n",
    "#             c='red',s=5, edgecolors='None', alpha=0.5)\n",
    "plt.savefig('Teff_FEH.png',dpi = 200)\n",
    "plt.show()"
   ]
  },
  {
   "cell_type": "code",
   "execution_count": 37,
   "metadata": {
    "collapsed": true
   },
   "outputs": [],
   "source": [
    "?plt.scatter"
   ]
  },
  {
   "cell_type": "code",
   "execution_count": 23,
   "metadata": {
    "collapsed": true
   },
   "outputs": [],
   "source": [
    "### draw the png of errTeff \n",
    "\n",
    "# plt.figure(3)\n",
    "# plt.xlabel('$T_\\mathrm{eff}(K)$',fontsize=14)\n",
    "# plt.ylabel('$σ_\\mathrm{Teff}$',fontsize=14)\n",
    "# plt.scatter(starcatalog_fram_fil[teff],starcatalog_fram_fil[err_teff],\\\n",
    "#             c='steelblue',s=8, edgecolors='None',alpha=0.2,label='$σ_\\mathrm{Teff}$(LAMOST)')\n",
    "# plt.legend(loc='lower right')\n",
    "# plt.xticks(fontsize=12)\n",
    "# plt.yticks(fontsize=12)\n",
    "# plt.savefig(savename3,dpi=200)  \n",
    "# plt.show()\n",
    "\n",
    "### "
   ]
  },
  {
   "cell_type": "markdown",
   "metadata": {},
   "source": [
    "# Remember List for Lamost"
   ]
  },
  {
   "cell_type": "markdown",
   "metadata": {},
   "source": [
    "## 4月19日讨论：\n",
    "\n",
    "1. log g > 4.0 比较可靠\n",
    "2. 16000-18000之间的这个区域很特别，似乎色指数就是偏红了\n",
    "3. Lamost最早也只到B2\n",
    "4. O-type 使用SFD的老方法——减去 SFD 的 E(B-V)，获得所有源的内禀色指数\n",
    "5. 向紫外波段扩充"
   ]
  },
  {
   "cell_type": "markdown",
   "metadata": {},
   "source": [
    "## 5月2日组会：\n",
    "\n",
    "** 苑老师 **： Lamost DR5 和 Mr.Yuan 给的星表由参数上的差别（跑的不同的pipline)"
   ]
  },
  {
   "cell_type": "markdown",
   "metadata": {
    "collapsed": true
   },
   "source": []
  },
  {
   "cell_type": "code",
   "execution_count": null,
   "metadata": {
    "collapsed": true
   },
   "outputs": [],
   "source": []
  }
 ],
 "metadata": {
  "kernelspec": {
   "display_name": "Python 3",
   "language": "python",
   "name": "python3"
  },
  "language_info": {
   "codemirror_mode": {
    "name": "ipython",
    "version": 3
   },
   "file_extension": ".py",
   "mimetype": "text/x-python",
   "name": "python",
   "nbconvert_exporter": "python",
   "pygments_lexer": "ipython3",
   "version": "3.6.1"
  },
  "toc": {
   "base_numbering": 1,
   "nav_menu": {},
   "number_sections": true,
   "sideBar": true,
   "skip_h1_title": false,
   "title_cell": "Table of Contents",
   "title_sidebar": "Contents",
   "toc_cell": true,
   "toc_position": {
    "height": "calc(100% - 180px)",
    "left": "10px",
    "top": "150px",
    "width": "244px"
   },
   "toc_section_display": true,
   "toc_window_display": true
  }
 },
 "nbformat": 4,
 "nbformat_minor": 2
}
