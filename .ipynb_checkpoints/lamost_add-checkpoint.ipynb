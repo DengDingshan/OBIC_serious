{
 "cells": [
  {
   "cell_type": "code",
   "execution_count": 1,
   "metadata": {
    "collapsed": true
   },
   "outputs": [],
   "source": [
    "import pandas as pd\n",
    "import numpy as np\n",
    "import math\n",
    "import matplotlib.pyplot as plt\n",
    "import time\n",
    "%matplotlib inline\n",
    "\n",
    "data_dir = '/Users/SY/Desktop/obic/data/'"
   ]
  },
  {
   "cell_type": "code",
   "execution_count": 8,
   "metadata": {},
   "outputs": [],
   "source": [
    "#read as pandas\n",
    "\n",
    "starcatalog_fram_1 = pd.read_csv(data_dir + 'lamost_OBA_withSFDandGP.csv')\n",
    "#starcatalog_fram_2 = pd.read_csv(data_dir + '8582rest.csv')\n"
   ]
  },
  {
   "cell_type": "code",
   "execution_count": 9,
   "metadata": {},
   "outputs": [
    {
     "data": {
      "text/plain": [
       "0          8814.6310\n",
       "1         15336.4550\n",
       "2          8894.6210\n",
       "3         18247.3420\n",
       "4          8584.3270\n",
       "5          8447.2780\n",
       "6          9097.6800\n",
       "7          8705.8710\n",
       "8         14219.9090\n",
       "9         18064.8380\n",
       "10        11160.0190\n",
       "11         8816.0280\n",
       "12        10310.1940\n",
       "13         8514.8490\n",
       "14         8109.9434\n",
       "15         8973.1980\n",
       "16        10267.9260\n",
       "17         8684.7440\n",
       "18        19586.1760\n",
       "19         8914.3125\n",
       "20         8525.2630\n",
       "21         8425.8180\n",
       "22        10404.8640\n",
       "23         8951.3360\n",
       "24        11706.7020\n",
       "25        14252.0960\n",
       "26        18009.5960\n",
       "27        11348.1920\n",
       "28        11533.6230\n",
       "29         8854.5090\n",
       "             ...    \n",
       "306585    20247.0200\n",
       "306586    20353.6460\n",
       "306587    22167.1000\n",
       "306588    22131.0400\n",
       "306589    20269.1860\n",
       "306590    22117.9220\n",
       "306591    20981.4670\n",
       "306592    20997.4430\n",
       "306593    20570.5590\n",
       "306594    20729.1640\n",
       "306595    23344.7970\n",
       "306596    20824.8890\n",
       "306597    25092.8260\n",
       "306598    22793.8000\n",
       "306599    22189.6350\n",
       "306600    23056.7130\n",
       "306601    21571.4140\n",
       "306602    23371.6020\n",
       "306603    22604.4510\n",
       "306604    22856.5700\n",
       "306605    21455.0310\n",
       "306606    23368.5980\n",
       "306607    20090.2070\n",
       "306608    20092.2520\n",
       "306609    21580.7560\n",
       "306610    21476.4400\n",
       "306611    22375.9550\n",
       "306612    23791.6000\n",
       "306613    22861.2540\n",
       "306614    21233.8420\n",
       "Name: TEFF, Length: 306615, dtype: float64"
      ]
     },
     "execution_count": 9,
     "metadata": {},
     "output_type": "execute_result"
    }
   ],
   "source": [
    "starcatalog_fram_1['TEFF']"
   ]
  },
  {
   "cell_type": "code",
   "execution_count": 10,
   "metadata": {
    "collapsed": true
   },
   "outputs": [],
   "source": [
    "starcatalog_fram_1=starcatalog_fram_1[(starcatalog_fram_1['TEFF'] <10000)]\n",
    "# starcatalog_fram_1= starcatalog_fram_1[['TEFF','ERR_TEFF','RA','DEC','LOGG','ERR_LOGG','FEH','ERR_FEH',\\\n",
    "#                                         'SFD_ebv','l','b','J', 'ERR_J', 'H', 'ERR_H', 'KS', 'ERR_KS', 'W1', 'ERR_W1', \\\n",
    "#                                         'W2','ERR_W2','GMAG','GBP','GRP']] \n",
    "# starcatalog_fram_1.columns = ['TEFF','ERR_TEFF','RA','DEC','LOGG','ERR_LOGG','FEH','ERR_FEH',\\\n",
    "#                                         'SFD_ebv','l','b','J', 'ERR_J', 'H', 'ERR_H', 'KS', 'ERR_KS', 'W1', 'ERR_W1', \\\n",
    "#                                         'W2','ERR_W2']"
   ]
  },
  {
   "cell_type": "code",
   "execution_count": 11,
   "metadata": {},
   "outputs": [
    {
     "data": {
      "text/plain": [
       "0         8814.6310\n",
       "2         8894.6210\n",
       "4         8584.3270\n",
       "5         8447.2780\n",
       "6         9097.6800\n",
       "7         8705.8710\n",
       "11        8816.0280\n",
       "13        8514.8490\n",
       "14        8109.9434\n",
       "15        8973.1980\n",
       "17        8684.7440\n",
       "19        8914.3125\n",
       "20        8525.2630\n",
       "21        8425.8180\n",
       "23        8951.3360\n",
       "29        8854.5090\n",
       "30        9585.3700\n",
       "31        8734.3000\n",
       "32        8042.5195\n",
       "33        8764.4720\n",
       "36        8132.7876\n",
       "38        8084.6500\n",
       "40        8101.5170\n",
       "42        8353.1310\n",
       "43        8537.0930\n",
       "44        8214.5830\n",
       "45        8506.7910\n",
       "50        9022.5370\n",
       "51        8112.3423\n",
       "52        9470.4870\n",
       "            ...    \n",
       "301546    8797.1270\n",
       "301547    8849.5580\n",
       "301548    8342.8460\n",
       "301549    8538.9770\n",
       "301550    8691.5810\n",
       "301551    9505.2010\n",
       "301582    9288.8270\n",
       "301584    8069.9077\n",
       "301586    8340.7080\n",
       "301592    9249.0420\n",
       "301596    9860.8840\n",
       "301606    8843.1680\n",
       "301622    8346.4550\n",
       "301623    8459.2390\n",
       "301624    8361.5840\n",
       "301625    8731.7840\n",
       "301626    8486.6760\n",
       "301627    9105.5000\n",
       "301629    8651.1300\n",
       "301630    8372.2810\n",
       "301632    8487.9750\n",
       "301633    8347.1970\n",
       "301635    8777.8900\n",
       "301638    8529.6050\n",
       "301642    8721.2110\n",
       "301644    8169.3630\n",
       "301645    8436.2705\n",
       "301647    9549.5600\n",
       "301651    9071.2520\n",
       "301664    9055.5770\n",
       "Name: TEFF, Length: 205068, dtype: float64"
      ]
     },
     "execution_count": 11,
     "metadata": {},
     "output_type": "execute_result"
    }
   ],
   "source": [
    "#starcatalog_fram = starcatalog_fram_1 .append(starcatalog_fram_2)\n",
    "starcatalog_fram_1['TEFF']"
   ]
  },
  {
   "cell_type": "code",
   "execution_count": 12,
   "metadata": {
    "collapsed": true
   },
   "outputs": [],
   "source": [
    "starcatalog_fram_1.to_csv(data_dir + 'lamost_obastars_8000.csv')\n",
    "\n",
    "\n",
    "\n",
    "\n"
   ]
  },
  {
   "cell_type": "code",
   "execution_count": null,
   "metadata": {
    "collapsed": true
   },
   "outputs": [],
   "source": []
  }
 ],
 "metadata": {
  "kernelspec": {
   "display_name": "Python 3",
   "language": "python",
   "name": "python3"
  },
  "language_info": {
   "codemirror_mode": {
    "name": "ipython",
    "version": 3
   },
   "file_extension": ".py",
   "mimetype": "text/x-python",
   "name": "python",
   "nbconvert_exporter": "python",
   "pygments_lexer": "ipython3",
   "version": "3.6.1"
  },
  "toc": {
   "base_numbering": 1,
   "nav_menu": {},
   "number_sections": true,
   "sideBar": true,
   "skip_h1_title": false,
   "title_cell": "Table of Contents",
   "title_sidebar": "Contents",
   "toc_cell": false,
   "toc_position": {},
   "toc_section_display": true,
   "toc_window_display": false
  }
 },
 "nbformat": 4,
 "nbformat_minor": 2
}
