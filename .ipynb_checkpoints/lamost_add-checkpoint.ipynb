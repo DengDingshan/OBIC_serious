{
 "cells": [
  {
   "cell_type": "code",
   "execution_count": 1,
   "metadata": {
    "collapsed": true
   },
   "outputs": [],
   "source": [
    "import pandas as pd\n",
    "import numpy as np\n",
    "import math\n",
    "import matplotlib.pyplot as plt\n",
    "import time\n",
    "%matplotlib inline\n",
    "\n",
    "data_dir = '/Users/SY/Desktop/obic/data/'"
   ]
  },
  {
   "cell_type": "code",
   "execution_count": 17,
   "metadata": {},
   "outputs": [],
   "source": [
    "#read as pandas\n",
    "\n",
    "starcatalog_fram_1 = pd.read_csv(data_dir + 'LMOB-V4-SFD-GP.csv')\n",
    "#starcatalog_fram_2 = pd.read_csv(data_dir + '8582rest.csv')\n"
   ]
  },
  {
   "cell_type": "code",
   "execution_count": 18,
   "metadata": {},
   "outputs": [
    {
     "data": {
      "text/plain": [
       "Index(['SID', 'SLM', 'RA_1', 'DEC_1', 'GL', 'GB', 'PMRA', 'ERR_PMRA', 'PMDEC',\n",
       "       'ERR_PMDEC', 'SNR', 'RV', 'ERR_RV', 'FEH_1', 'ERR_FEH_1', 'LOGG_1',\n",
       "       'ERR_LOGG_1', 'TEFF_1', 'ERR_TEFF_1', 'SPTYPE', 'GMAG', 'GBP', 'GRP',\n",
       "       'J', 'ERR_J', 'H', 'ERR_H', 'KS', 'ERR_KS', 'W1', 'ERR_W1', 'W2',\n",
       "       'ERR_W2', 'PH_QUAL_2MASS', 'PH_QUAL_WISE', 'EBV_SFD', 'EBV_RJCE',\n",
       "       'PARA', 'ERR_PARA', 'DIST_PARA', 'DIST_PARA_LOW', 'DIST_PARA_HIGH',\n",
       "       'ERR_DIST_PARA', 'R_LEN', 'RES_FLG', 'MOD_FLG', 'X', 'ERR_X', 'Y',\n",
       "       'ERR_Y', 'Z', 'ERR_Z', 'R', 'ERR_R', 'PHI', 'ERR_PHI', 'RGC', 'ERR_RGC',\n",
       "       'U', 'ERR_U', 'V', 'ERR_V', 'W', 'ERR_W', 'VRAD', 'ERR_VRAD', 'VPHI',\n",
       "       'ERR_VPHI', 'VZ', 'ERR_VZ', 'RAPO', 'RPERI', 'JZ', 'ERR_JZ', 'JP',\n",
       "       'ERR_JP', 'FROM', 'EW', 'ERR_EW', 'FSL', 'col1', 'Unnamed: 0',\n",
       "       'Unnamed: 0.1', 'TEFF_2', 'ERR_TEFF_2', 'RA_2', 'DEC_2', 'LOGG_2',\n",
       "       'ERR_LOGG_2', 'FEH_2', 'ERR_FEH_2', 'SFD_ebv', 'l', 'b', 'Separation'],\n",
       "      dtype='object')"
      ]
     },
     "execution_count": 18,
     "metadata": {},
     "output_type": "execute_result"
    }
   ],
   "source": [
    "starcatalog_fram_1.columns"
   ]
  },
  {
   "cell_type": "code",
   "execution_count": 19,
   "metadata": {},
   "outputs": [],
   "source": [
    "#starcatalog_fram_1=starcatalog_fram_1[(starcatalog_fram_1['TEFF'] <20000)]\n",
    "starcatalog_fram_1= starcatalog_fram_1[['TEFF_1','ERR_TEFF_1','RA_1','DEC_1','LOGG_1','ERR_LOGG_1','FEH_1','ERR_FEH_1',\\\n",
    "                                        'SFD_ebv','l','b','J', 'ERR_J', 'H', 'ERR_H', 'KS', 'ERR_KS', 'W1', 'ERR_W1', \\\n",
    "                                        'W2','ERR_W2']] \n",
    "starcatalog_fram_1.columns = ['TEFF','ERR_TEFF','RA','DEC','LOGG','ERR_LOGG','FEH','ERR_FEH',\\\n",
    "                                        'SFD_ebv','l','b','J', 'ERR_J', 'H', 'ERR_H', 'KS', 'ERR_KS', 'W1', 'ERR_W1', \\\n",
    "                                        'W2','ERR_W2']"
   ]
  },
  {
   "cell_type": "code",
   "execution_count": 20,
   "metadata": {
    "collapsed": true
   },
   "outputs": [],
   "source": [
    "#starcatalog_fram = starcatalog_fram_1 .append(starcatalog_fram_2)"
   ]
  },
  {
   "cell_type": "code",
   "execution_count": 21,
   "metadata": {
    "collapsed": true
   },
   "outputs": [],
   "source": [
    "starcatalog_fram_1.to_csv(data_dir + 'LMOB-V4-SFDGP-final.csv',columns = ['TEFF','ERR_TEFF','RA','DEC','LOGG','ERR_LOGG','FEH','ERR_FEH',\\\n",
    "                                        'SFD_ebv','l','b','J', 'ERR_J', 'H', 'ERR_H', 'KS', 'ERR_KS', 'W1', 'ERR_W1', \\\n",
    "                                        'W2','ERR_W2'])\n",
    "\n",
    "\n",
    "\n",
    "\n"
   ]
  },
  {
   "cell_type": "code",
   "execution_count": null,
   "metadata": {
    "collapsed": true
   },
   "outputs": [],
   "source": []
  }
 ],
 "metadata": {
  "kernelspec": {
   "display_name": "Python 3",
   "language": "python",
   "name": "python3"
  },
  "language_info": {
   "codemirror_mode": {
    "name": "ipython",
    "version": 3
   },
   "file_extension": ".py",
   "mimetype": "text/x-python",
   "name": "python",
   "nbconvert_exporter": "python",
   "pygments_lexer": "ipython3",
   "version": "3.6.1"
  },
  "toc": {
   "base_numbering": 1,
   "nav_menu": {},
   "number_sections": true,
   "sideBar": true,
   "skip_h1_title": false,
   "title_cell": "Table of Contents",
   "title_sidebar": "Contents",
   "toc_cell": false,
   "toc_position": {},
   "toc_section_display": true,
   "toc_window_display": false
  }
 },
 "nbformat": 4,
 "nbformat_minor": 2
}
