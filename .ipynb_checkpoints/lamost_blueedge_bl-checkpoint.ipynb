{
 "cells": [
  {
   "cell_type": "markdown",
   "metadata": {},
   "source": [
    "# 综述\n",
    "** 蓝色边缘程序使用高银纬SFD进行消光改正 **\n",
    "\n",
    "我们需要实现的功能包含以下几点：\n",
    "\n",
    "输入：\n",
    "* csv星表**_的名字_**\n",
    "* 需要画的色指数的两个测光点（比如 $ J - H $ 我们需要输入$J$ 和 $H$）\n",
    "\n",
    "\n",
    "输出：\n",
    "* 颜色-teff 图\n",
    "\n",
    "Now,trying:\n",
    "* 先判断银纬>30,点在颜色-teff图上看看分布，再去考虑怎么修正"
   ]
  },
  {
   "cell_type": "markdown",
   "metadata": {},
   "source": [
    "# 数据的引入和format (Alternative)"
   ]
  },
  {
   "cell_type": "code",
   "execution_count": 1,
   "metadata": {
    "collapsed": true
   },
   "outputs": [],
   "source": [
    "import pandas as pd\n",
    "import numpy as np\n",
    "import math\n",
    "import matplotlib.pyplot as plt\n",
    "import time\n",
    "import datetime\n",
    "from scipy.optimize import curve_fit\n",
    "%matplotlib inline\n",
    "\n",
    "data_dir = '/Users/SY/Desktop/obic/data/'\n",
    "#data_dir = '/Users/dengdingshan/Documents/data/obic/'"
   ]
  },
  {
   "cell_type": "code",
   "execution_count": 32,
   "metadata": {
    "collapsed": true
   },
   "outputs": [],
   "source": [
    "#read as pandas\n",
    "starcatalog_fram = pd.read_csv(data_dir + 'lamost_bl_2mass.csv') \n",
    "\n",
    "###########\n",
    "\n",
    "#starcatlog_fram = starcatlog_fram.ix[:,:517]\n",
    "#print(starcatalog_fram)"
   ]
  },
  {
   "cell_type": "code",
   "execution_count": 33,
   "metadata": {
    "collapsed": true
   },
   "outputs": [],
   "source": [
    "### Elective CHOICE\n",
    "\n",
    "########### I.\n",
    "#change logTeff into Teff.\n",
    "\n",
    "# def tenn(x):\n",
    "#     y=10 ** x\n",
    "#     return y\n",
    "\n",
    "# Teff_tbl = starcatalog['logTeff'].apply(tenn)\n",
    "###########\n",
    "\n",
    "########### II.\n",
    "#add [Teff] into DATAFRAME\n",
    "\n",
    "#data_fram = starcatalog_fram[['TEFF_1','ERR_TEFF_1','Jmag_1','e_Jmag_1','Hmag_1','e_Hmag_1']]\n",
    "#print(data_fram)\n",
    "###########\n",
    "\n",
    "########### III.\n",
    "# fill the NaN blocks with 0\n",
    "\n",
    "starcatalog_fram_fil0 = starcatalog_fram.fillna(0)\n",
    "\n",
    "#print(starcatalog_fram_fil['LOGG'])\n",
    "############\n"
   ]
  },
  {
   "cell_type": "code",
   "execution_count": 34,
   "metadata": {},
   "outputs": [
    {
     "data": {
      "text/plain": [
       "Index(['col1', 'Unnamed: 0', 'Unnamed: 0.1', 'TEFF', 'ERR_TEFF', 'RA', 'DEC',\n",
       "       'LOGG', 'ERR_LOGG', 'FEH', 'ERR_FEH', 'SFD_ebv', 'l', 'b', '2MASS',\n",
       "       'RAJ2000', 'DEJ2000', 'errHalfMaj', 'errHalfMin', 'errPosAng', 'Jmag',\n",
       "       'Hmag', 'Kmag', 'e_Jmag', 'e_Hmag', 'e_Kmag', 'Qfl', 'Rfl', 'X',\n",
       "       'MeasureJD', 'angDist'],\n",
       "      dtype='object')"
      ]
     },
     "execution_count": 34,
     "metadata": {},
     "output_type": "execute_result"
    }
   ],
   "source": [
    "starcatalog_fram.columns"
   ]
  },
  {
   "cell_type": "markdown",
   "metadata": {},
   "source": [
    "## 参数的选取（Input）"
   ]
  },
  {
   "cell_type": "code",
   "execution_count": 35,
   "metadata": {
    "collapsed": true
   },
   "outputs": [],
   "source": [
    "### variables\n",
    "\n",
    "teff = 'TEFF'\n",
    "\n",
    "color1 = 'Hmag'\n",
    "color2 = 'Kmag'\n",
    "err_teff = 'ERR_TEFF'\n",
    "\n",
    "err_c1 = 'e_' + color1\n",
    "#'e_' + color1\n",
    "#color1 + 'err' \n",
    "#color1 + 'err'\n",
    "#ERR_' + color1\n",
    "#'e_' + color1\n",
    "\n",
    "err_c2 = 'e_' + color2 \n",
    "#'ERR_' + color2\n",
    "#'e_' + color2"
   ]
  },
  {
   "cell_type": "markdown",
   "metadata": {},
   "source": [
    "## Logg，误差的选取(Input:)"
   ]
  },
  {
   "cell_type": "code",
   "execution_count": 36,
   "metadata": {
    "collapsed": true
   },
   "outputs": [],
   "source": [
    "### we just need the mainsquence (dwarf stars)\n",
    "\n",
    "# #judge logg >3.0\n",
    "\n",
    "Judge_logg = 3.3\n",
    "\n",
    "starcatalog_fram_fil = starcatalog_fram_fil0[(starcatalog_fram_fil0['LOGG']> Judge_logg)]\n",
    "#parsec_fram = parsec_fram[(parsec_fram['logg']>Judge_logg)]                                            "
   ]
  },
  {
   "cell_type": "code",
   "execution_count": 37,
   "metadata": {
    "collapsed": true
   },
   "outputs": [],
   "source": [
    "### get the good stars\n",
    "\n",
    "# judge  data\n",
    "starcatalog_fram_fil=starcatalog_fram_fil[((starcatalog_fram_fil[err_c1] != 0) \\\n",
    "                                          & (starcatalog_fram_fil[err_c2] != 0)\\\n",
    "                                          & (starcatalog_fram_fil[err_c1] != -99) \\\n",
    "                                          & (starcatalog_fram_fil[err_c2] != -99))\\\n",
    "                                         & ((starcatalog_fram_fil[color1] != 0)\\\n",
    "                                           & (starcatalog_fram_fil[color2] != 0)\\\n",
    "                                           & (starcatalog_fram_fil[color1] != -99) \\\n",
    "                                           & (starcatalog_fram_fil[color2] != -99))\\\n",
    "                                         &((starcatalog_fram_fil[err_c1] <=0.03))\n",
    "                                          & ((starcatalog_fram_fil[err_c2] <=0.03))]\n",
    "if (color1=='Jmag' or color2=='Jmag'):\n",
    "     starcatalog_fram_fil=starcatalog_fram_fil[(starcatalog_fram_fil['Jmag'] >= 5.5)]\n",
    "if (color1=='Hmag' or color2=='Hmag'):\n",
    "     starcatalog_fram_fil=starcatalog_fram_fil[(starcatalog_fram_fil['Hmag'] >= 5)]  \n",
    "if (color1=='Kmag' or color2=='Kmag'):\n",
    "     starcatalog_fram_fil=starcatalog_fram_fil[(starcatalog_fram_fil['Kmag'] >= 4.5)]\n",
    "if (color1=='W1mag' or color2=='W1mag'):\n",
    "     starcatalog_fram_fil=starcatalog_fram_fil[(starcatalog_fram_fil['W1mag'] >= 8.1)]\n",
    "if (color1=='W2mag' or color2=='W2mag'):\n",
    "     starcatalog_fram_fil=starcatalog_fram_fil[(starcatalog_fram_fil['W2mag'] >= 6.7)]  \n",
    "if (color1=='W3mag' or color2=='W3mag'):\n",
    "     starcatalog_fram_fil=starcatalog_fram_fil[(starcatalog_fram_fil['W3mag'] >= 3.8)]\n",
    "# starcatalog_fram_fil=starcatalog_fram_fil[((starcatalog_fram_fil['Jmag'] >= 5.5) \\\n",
    "#                                            &(starcatalog_fram_fil['Hmag'] >= 5)\\\n",
    "#                                            &(starcatalog_fram_fil['Kmag'] >= 4.5))\\\n",
    "#                                            &(starcatalog_fram_fil['W1mag'] >= 8.1) \\\n",
    "#                                            &(starcatalog_fram_fil['W2mag'] >= 6.7)\\\n",
    "#                                            &(starcatalog_fram_fil['W3mag'] >= 3.8))]\n",
    "# # ### additional judgement\n",
    "\n",
    "# starcatalog_fram_fil=starcatalog_fram_fil[(starcatalog_fram_fil[err_c1] <=0.2)\\\n",
    "#                                            &(starcatalog_fram_fil[err_c2] <=0.05)]\n",
    "\n",
    "# print(starcatalog_fram_fil.iloc[:,0].size)"
   ]
  },
  {
   "cell_type": "code",
   "execution_count": null,
   "metadata": {
    "collapsed": true
   },
   "outputs": [],
   "source": []
  },
  {
   "cell_type": "markdown",
   "metadata": {},
   "source": [
    "## 金属丰度的限制 (Input:)\n",
    "$$ <0 $$\n",
    "and \n",
    "$$ >0 $$"
   ]
  },
  {
   "cell_type": "code",
   "execution_count": 38,
   "metadata": {
    "collapsed": true
   },
   "outputs": [],
   "source": [
    "starcatalog_fram_fil=starcatalog_fram_fil[starcatalog_fram_fil['FEH'] > 0]"
   ]
  },
  {
   "cell_type": "markdown",
   "metadata": {},
   "source": [
    "## 银纬的限制(Input:)\n",
    "b>30"
   ]
  },
  {
   "cell_type": "code",
   "execution_count": 39,
   "metadata": {
    "collapsed": true
   },
   "outputs": [],
   "source": [
    "starcatalog_fram_fil_b=starcatalog_fram_fil[starcatalog_fram_fil['b'] > 30]"
   ]
  },
  {
   "cell_type": "markdown",
   "metadata": {},
   "source": [
    "## 进行SFD修正"
   ]
  },
  {
   "cell_type": "code",
   "execution_count": 45,
   "metadata": {},
   "outputs": [
    {
     "name": "stdout",
     "output_type": "stream",
     "text": [
      "1\n",
      "5\n",
      "6\n",
      "44\n",
      "56\n",
      "64\n",
      "72\n",
      "80\n",
      "82\n",
      "85\n",
      "86\n",
      "107\n",
      "148\n",
      "164\n",
      "173\n",
      "177\n",
      "178\n",
      "222\n",
      "223\n",
      "229\n",
      "250\n",
      "257\n",
      "272\n",
      "284\n",
      "286\n",
      "297\n",
      "298\n",
      "381\n",
      "473\n",
      "474\n",
      "475\n",
      "479\n",
      "485\n",
      "490\n",
      "491\n",
      "517\n",
      "518\n",
      "560\n",
      "580\n",
      "626\n",
      "667\n",
      "668\n",
      "670\n",
      "671\n",
      "718\n",
      "719\n",
      "721\n",
      "723\n",
      "724\n",
      "741\n",
      "751\n",
      "758\n",
      "772\n",
      "777\n",
      "779\n",
      "786\n",
      "849\n",
      "901\n",
      "945\n",
      "947\n",
      "948\n",
      "955\n",
      "960\n",
      "972\n",
      "973\n",
      "978\n",
      "991\n",
      "1001\n",
      "1016\n",
      "1033\n",
      "1051\n",
      "1078\n",
      "1112\n",
      "1130\n",
      "1197\n",
      "1200\n",
      "1260\n",
      "1261\n",
      "1264\n",
      "1305\n",
      "1315\n",
      "1329\n",
      "1363\n",
      "1368\n",
      "1372\n",
      "1373\n",
      "1409\n",
      "1414\n",
      "1415\n",
      "1427\n",
      "1428\n",
      "1495\n",
      "1557\n",
      "1566\n",
      "1597\n",
      "1605\n",
      "1627\n",
      "1662\n",
      "1731\n",
      "1740\n",
      "1746\n",
      "1747\n",
      "1749\n",
      "1753\n",
      "1815\n",
      "1821\n",
      "1833\n",
      "1834\n",
      "1835\n",
      "1836\n",
      "1839\n",
      "1841\n",
      "1842\n",
      "1862\n",
      "1863\n",
      "1864\n",
      "1865\n",
      "1909\n",
      "1942\n",
      "1949\n",
      "2083\n",
      "2103\n",
      "2130\n",
      "2150\n",
      "2162\n",
      "2211\n",
      "2461\n",
      "2465\n",
      "2477\n",
      "2480\n",
      "2481\n",
      "2484\n",
      "2488\n",
      "2496\n",
      "2497\n",
      "2498\n",
      "2501\n",
      "2502\n",
      "2506\n",
      "2512\n",
      "2531\n",
      "2535\n",
      "2563\n",
      "2572\n",
      "2599\n",
      "2607\n",
      "2634\n",
      "2635\n",
      "2639\n",
      "2642\n",
      "2673\n",
      "2687\n",
      "2728\n",
      "2788\n",
      "2827\n",
      "2877\n",
      "2879\n",
      "2898\n",
      "2958\n",
      "2969\n",
      "2986\n",
      "3347\n",
      "3348\n",
      "3350\n",
      "3355\n",
      "3370\n",
      "3371\n",
      "3372\n",
      "3378\n",
      "3418\n",
      "3422\n",
      "3425\n",
      "3433\n",
      "3445\n",
      "3447\n",
      "3499\n",
      "3506\n",
      "3535\n",
      "3536\n",
      "3537\n",
      "3609\n",
      "3626\n",
      "3781\n",
      "3782\n",
      "3807\n",
      "4146\n",
      "4236\n",
      "4317\n",
      "4318\n",
      "4319\n",
      "4320\n",
      "4329\n",
      "4336\n",
      "4354\n",
      "4429\n",
      "4445\n",
      "4446\n",
      "4475\n",
      "4505\n",
      "4791\n",
      "4840\n",
      "4846\n",
      "4877\n",
      "4946\n",
      "4960\n",
      "5024\n",
      "5042\n",
      "5044\n",
      "5048\n",
      "5051\n",
      "5052\n",
      "5053\n",
      "5054\n",
      "5058\n",
      "5063\n",
      "5068\n",
      "5079\n",
      "5083\n",
      "5084\n",
      "5148\n",
      "5149\n",
      "5195\n",
      "5259\n",
      "5334\n",
      "5419\n",
      "5452\n",
      "5525\n",
      "5542\n",
      "5545\n",
      "5548\n",
      "5549\n",
      "5551\n",
      "5552\n",
      "5555\n",
      "5566\n",
      "5572\n",
      "5576\n",
      "5733\n",
      "5777\n",
      "5780\n",
      "5781\n",
      "5784\n",
      "5946\n",
      "6008\n",
      "6016\n",
      "6017\n",
      "6026\n",
      "6034\n",
      "6035\n",
      "6047\n",
      "6049\n",
      "6051\n",
      "6057\n",
      "6267\n",
      "6275\n",
      "6281\n",
      "6287\n",
      "6302\n",
      "6311\n",
      "6315\n",
      "6318\n",
      "6337\n",
      "6445\n",
      "6586\n",
      "6597\n",
      "6600\n",
      "6677\n",
      "6678\n"
     ]
    }
   ],
   "source": [
    "# # Const1 = 0.709 #J #3.303 #g #2.285 #r \n",
    "# # Const2 = 0.449 #H #2.285 #r #1.698 #i\n",
    "\n",
    "SFD_catalog_color = []\n",
    "SFD_catalog_teff = []\n",
    "lens = len(starcatalog_fram_fil_b)\n",
    "\n",
    "for i in range(lens):    \n",
    "    SFD_colorindex = SFD_tbl_ratio[color1].values[i]\\\n",
    "    - (SFD_tbl_ratio[color2].values[i])\n",
    "    SFD_catalog_color.append(SFD_colorindex)\n",
    "\n",
    "    SFD_catalog_teff.append(SFD_tbl_ratio[teff].values[i])\n",
    "    print(i)\n",
    "#     print(i)\n",
    "SFD_catalog_teff_fit = list(np.array(SFD_catalog_teff)/10000)\n",
    "# print(time.time() - time_start)"
   ]
  },
  {
   "cell_type": "markdown",
   "metadata": {},
   "source": [
    "## 画图看分布"
   ]
  },
  {
   "cell_type": "code",
   "execution_count": 40,
   "metadata": {
    "collapsed": true
   },
   "outputs": [],
   "source": [
    "### figures & Savename\n",
    "cc1 = 'H'\n",
    "cc2 = 'Ks'\n",
    "\n",
    "save = data_dir + 'pictures/'\n",
    "# save = '/Users/SY/Desktop/obic/picture/'\n",
    "\n",
    "i = datetime.datetime.now()\n",
    "date_now = \"%s_%s_%s_\" % (i.year, i.month, i.day) \n",
    "ylabel = '$%s - %s$'%(cc1,cc2) \n",
    "savename1 = save + date_now + cc1 + cc2 + 'bl'+'.png'\n",
    "savename2 = save + date_now + cc1 + '_HR_' + cc2 +'.png'\n",
    "savename3 = save + date_now + 'errteff.png'\n"
   ]
  },
  {
   "cell_type": "code",
   "execution_count": 43,
   "metadata": {
    "scrolled": false
   },
   "outputs": [
    {
     "data": {
      "image/png": "[encoded data removed]",
      "text/plain": [
       "<matplotlib.figure.Figure at 0x11ac8eef0>"
      ]
     },
     "metadata": {},
     "output_type": "display_data"
    }
   ],
   "source": [
    "#PLT\n",
    "ax = plt.figure(1,figsize=(7, 5))  \n",
    "plt.xlabel('$T_\\mathrm{eff}(K)$',fontsize=14)\n",
    "plt.ylabel(ylabel,fontsize=14)\n",
    "\n",
    "# the data we use\n",
    "plt.scatter(starcatalog_fram_fil[teff], starcatalog_fram_fil[color1]-starcatalog_fram_fil[color2],\\\n",
    "            c='grey',s=5, edgecolors='None',label='LAMOST')\n",
    "\n",
    "# data we use in the SFD dustmap\n",
    "plt.scatter(starcatalog_fram_fil_b[teff],starcatalog_fram_fil_b[color1]-starcatalog_fram_fil_b[color2]\\\n",
    "            ,alpha=1,edgecolors='None',c='violet',s=5,label='b>30',zorder=2)\n",
    "\n",
    "\n",
    "\n",
    "plt.legend(loc='upper right')\n",
    "#new_ticks = np.linspace(-1,2,7)\n",
    "#plt.yticks(new_ticks)\n",
    "\n",
    "plt.xticks(fontsize=12)\n",
    "plt.yticks(fontsize=12)\n",
    "# plt.savefig(savename1,dpi=200)\n",
    "plt.minorticks_on()\n",
    "plt.ylim(-0.5,1.5)\n",
    "#plt.yticks([-0.2,0,0.2,0.4,0.6,0.8,1])\n",
    "#plt.xlim(9000,25000)\n",
    "plt.savefig(savename1,dpi=200)\n",
    "\n",
    "plt.show()"
   ]
  },
  {
   "cell_type": "code",
   "execution_count": null,
   "metadata": {
    "collapsed": true
   },
   "outputs": [],
   "source": []
  }
 ],
 "metadata": {
  "kernelspec": {
   "display_name": "Python 3",
   "language": "python",
   "name": "python3"
  },
  "language_info": {
   "codemirror_mode": {
    "name": "ipython",
    "version": 3
   },
   "file_extension": ".py",
   "mimetype": "text/x-python",
   "name": "python",
   "nbconvert_exporter": "python",
   "pygments_lexer": "ipython3",
   "version": "3.6.1"
  },
  "toc": {
   "base_numbering": 1,
   "nav_menu": {},
   "number_sections": true,
   "sideBar": true,
   "skip_h1_title": false,
   "title_cell": "Table of Contents",
   "title_sidebar": "Contents",
   "toc_cell": false,
   "toc_position": {},
   "toc_section_display": true,
   "toc_window_display": false
  }
 },
 "nbformat": 4,
 "nbformat_minor": 2
}
