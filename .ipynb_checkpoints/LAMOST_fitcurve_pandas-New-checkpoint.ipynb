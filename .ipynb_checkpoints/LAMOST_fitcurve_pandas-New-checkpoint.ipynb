{
 "cells": [
  {
   "cell_type": "markdown",
   "metadata": {
    "toc": true
   },
   "source": [
    "<h1>Table of Contents<span class=\"tocSkip\"></span></h1>\n",
    "<div class=\"toc\"><ul class=\"toc-item\"><li><span><a href=\"#综述\" data-toc-modified-id=\"综述-1\"><span class=\"toc-item-num\">1&nbsp;&nbsp;</span>综述</a></span></li><li><span><a href=\"#数据的引入和format-(Alternative)\" data-toc-modified-id=\"数据的引入和format-(Alternative)-2\"><span class=\"toc-item-num\">2&nbsp;&nbsp;</span>数据的引入和format (Alternative)</a></span><ul class=\"toc-item\"><li><span><a href=\"#参数的选取（Input）\" data-toc-modified-id=\"参数的选取（Input）-2.1\"><span class=\"toc-item-num\">2.1&nbsp;&nbsp;</span>参数的选取（Input）</a></span></li><li><span><a href=\"#Logg，误差的选取(Input:)\" data-toc-modified-id=\"Logg，误差的选取(Input:)-2.2\"><span class=\"toc-item-num\">2.2&nbsp;&nbsp;</span>Logg，误差的选取(Input:)</a></span></li><li><span><a href=\"#有效温度-Teff-的限制（Input:）\" data-toc-modified-id=\"有效温度-Teff-的限制（Input:）-2.3\"><span class=\"toc-item-num\">2.3&nbsp;&nbsp;</span>有效温度 Teff 的限制（Input:）</a></span></li><li><span><a href=\"#蓝色边缘的比例，bin最小值的选取（Input：）\" data-toc-modified-id=\"蓝色边缘的比例，bin最小值的选取（Input：）-2.4\"><span class=\"toc-item-num\">2.4&nbsp;&nbsp;</span>蓝色边缘的比例，bin最小值的选取（Input：）</a></span></li><li><span><a href=\"#比较星表的数据选取（Input:）\" data-toc-modified-id=\"比较星表的数据选取（Input:）-2.5\"><span class=\"toc-item-num\">2.5&nbsp;&nbsp;</span>比较星表的数据选取（Input:）</a></span></li></ul></li><li><span><a href=\"#内禀色指数的计算（蓝色边缘方法），同时取出某一部分用于SFD判断\" data-toc-modified-id=\"内禀色指数的计算（蓝色边缘方法），同时取出某一部分用于SFD判断-3\"><span class=\"toc-item-num\">3&nbsp;&nbsp;</span>内禀色指数的计算（蓝色边缘方法），同时取出某一部分用于SFD判断</a></span><ul class=\"toc-item\"><li><span><a href=\"#DEF\" data-toc-modified-id=\"DEF-3.1\"><span class=\"toc-item-num\">3.1&nbsp;&nbsp;</span>DEF</a></span></li><li><span><a href=\"#运算，拟合，SFD的准备（Input:)\" data-toc-modified-id=\"运算，拟合，SFD的准备（Input:)-3.2\"><span class=\"toc-item-num\">3.2&nbsp;&nbsp;</span>运算，拟合，SFD的准备（Input:)</a></span></li></ul></li><li><span><a href=\"#SFD的使用：——-将使用到新的包\" data-toc-modified-id=\"SFD的使用：——-将使用到新的包-4\"><span class=\"toc-item-num\">4&nbsp;&nbsp;</span>SFD的使用：—— 将使用到新的包</a></span></li><li><span><a href=\"#图片输出\" data-toc-modified-id=\"图片输出-5\"><span class=\"toc-item-num\">5&nbsp;&nbsp;</span>图片输出</a></span><ul class=\"toc-item\"><li><span><a href=\"#图片保存格式（Input:)\" data-toc-modified-id=\"图片保存格式（Input:)-5.1\"><span class=\"toc-item-num\">5.1&nbsp;&nbsp;</span>图片保存格式（Input:)</a></span></li><li><span><a href=\"#绘图所需的具体量（Alternative)\" data-toc-modified-id=\"绘图所需的具体量（Alternative)-5.2\"><span class=\"toc-item-num\">5.2&nbsp;&nbsp;</span>绘图所需的具体量（Alternative)</a></span></li></ul></li><li><span><a href=\"#some-other-features\" data-toc-modified-id=\"some-other-features-6\"><span class=\"toc-item-num\">6&nbsp;&nbsp;</span>some other features</a></span><ul class=\"toc-item\"><li><span><a href=\"#赫罗图\" data-toc-modified-id=\"赫罗图-6.1\"><span class=\"toc-item-num\">6.1&nbsp;&nbsp;</span>赫罗图</a></span></li><li><span><a href=\"#参数统计图\" data-toc-modified-id=\"参数统计图-6.2\"><span class=\"toc-item-num\">6.2&nbsp;&nbsp;</span>参数统计图</a></span></li></ul></li><li><span><a href=\"#Remember-List-for-Lamost\" data-toc-modified-id=\"Remember-List-for-Lamost-7\"><span class=\"toc-item-num\">7&nbsp;&nbsp;</span>Remember List for Lamost</a></span><ul class=\"toc-item\"><li><span><a href=\"#4月19日讨论：\" data-toc-modified-id=\"4月19日讨论：-7.1\"><span class=\"toc-item-num\">7.1&nbsp;&nbsp;</span>4月19日讨论：</a></span></li><li><span><a href=\"#5月2日组会：\" data-toc-modified-id=\"5月2日组会：-7.2\"><span class=\"toc-item-num\">7.2&nbsp;&nbsp;</span>5月2日组会：</a></span></li></ul></li></ul></div>"
   ]
  },
  {
   "cell_type": "markdown",
   "metadata": {},
   "source": [
    "# 综述\n",
    "** 蓝色边缘程序使用pandas的改写 **\n",
    "\n",
    "_由于有一些星表中包含缺省项，我们需要使用pandas中使用dataframe读取csv中自动将缺省项补上的优势，来优化我们的自动化程式_\n",
    "\n",
    "_(fits的文件我们可以使用topcat改变格式并且给星表瘦身，以加快程序读取速度）_\n",
    "\n",
    "我们需要实现的功能包含以下几点：\n",
    "\n",
    "输入：\n",
    "* csv星表**_的名字_**\n",
    "* 需要画的色指数的两个测光点（比如 $ J - H $ 我们需要输入$J$ 和 $H$）\n",
    "\n",
    "程序中自带（我们所需要限定的条件）\n",
    "_写在其中的某一个cell中作为 filt 条件_\n",
    "* 限定的误差范围（测光数据一般选择 0.3，光谱数据可以具体再定，基本上认为不太离谱的都可以用）\n",
    "* 去掉错误的点（见之前的程序)\n",
    "\n",
    "输出：\n",
    "* 颜色-teff 图\n",
    "\n",
    "Now,trying:\n",
    "* SFD: 一个新的ratio,比如说0.05，把这个ratio底下的部分输入进SFD,判断：E(B-V) <0.3 的值就是我们零消光的值。这个值去拟合一个新的curve。"
   ]
  },
  {
   "cell_type": "markdown",
   "metadata": {},
   "source": [
    "# 数据的引入和format (Alternative)"
   ]
  },
  {
   "cell_type": "code",
   "execution_count": 94,
   "metadata": {
    "collapsed": true
   },
   "outputs": [],
   "source": [
    "import pandas as pd\n",
    "import numpy as np\n",
    "import math\n",
    "import matplotlib.pyplot as plt\n",
    "import time\n",
    "import datetime\n",
    "%matplotlib inline\n",
    "\n",
    "data_dir = '/Users/SY/Desktop/obic/data/'\n",
    "#data_dir = '/Users/dengdingshan/Documents/data/obic/'"
   ]
  },
  {
   "cell_type": "code",
   "execution_count": 95,
   "metadata": {
    "collapsed": true
   },
   "outputs": [],
   "source": [
    "#read as pandas\n",
    "starcatalog_fram = pd.read_csv(data_dir + 'lamost_2mass_new2.csv')\n",
    "\n",
    "###########\n",
    "\n",
    "#starcatlog_fram = starcatlog_fram.ix[:,:517]\n",
    "#print(starcatalog_fram)"
   ]
  },
  {
   "cell_type": "code",
   "execution_count": 96,
   "metadata": {
    "collapsed": true
   },
   "outputs": [],
   "source": [
    "#read parsec\n",
    "parsec_fram = pd.read_csv(data_dir + 'parsec_jhkw.csv')\n",
    "\n",
    "############\n",
    "\n",
    "#print(parsec_fram.values)"
   ]
  },
  {
   "cell_type": "code",
   "execution_count": 97,
   "metadata": {
    "collapsed": true
   },
   "outputs": [],
   "source": [
    "### Elective CHOICE\n",
    "\n",
    "########### I.\n",
    "#change logTeff into Teff.\n",
    "\n",
    "# def tenn(x):\n",
    "#     y=10 ** x\n",
    "#     return y\n",
    "\n",
    "# Teff_tbl = starcatalog['logTeff'].apply(tenn)\n",
    "###########\n",
    "\n",
    "########### II.\n",
    "#add [Teff] into DATAFRAME\n",
    "\n",
    "#data_fram = starcatalog_fram[['TEFF_1','ERR_TEFF_1','Jmag_1','e_Jmag_1','Hmag_1','e_Hmag_1']]\n",
    "#print(data_fram)\n",
    "###########\n",
    "\n",
    "########### III.\n",
    "# fill the NaN blocks with 0\n",
    "\n",
    "starcatalog_fram_fil_1 = starcatalog_fram.fillna(0)\n",
    "\n",
    "#print(starcatalog_fram_fil['LOGG'])\n",
    "############\n"
   ]
  },
  {
   "cell_type": "code",
   "execution_count": 98,
   "metadata": {},
   "outputs": [
    {
     "data": {
      "text/plain": [
       "Index(['col1', 'TEFF', 'ERR_TEFF', 'RA', 'DEC', 'LOGG', 'ERR_LOGG', '2MASS',\n",
       "       'RAJ2000', 'DEJ2000', 'errHalfMaj', 'errHalfMin', 'errPosAng', 'Jmag',\n",
       "       'Hmag', 'Kmag', 'e_Jmag', 'e_Hmag', 'e_Kmag', 'Qfl', 'Rfl', 'X',\n",
       "       'MeasureJD', 'angDist'],\n",
       "      dtype='object')"
      ]
     },
     "execution_count": 98,
     "metadata": {},
     "output_type": "execute_result"
    }
   ],
   "source": [
    "starcatalog_fram_fil_1.columns"
   ]
  },
  {
   "cell_type": "markdown",
   "metadata": {},
   "source": [
    "## 参数的选取（Input）"
   ]
  },
  {
   "cell_type": "code",
   "execution_count": 99,
   "metadata": {
    "collapsed": true
   },
   "outputs": [],
   "source": [
    "### variables\n",
    "\n",
    "teff = 'TEFF'\n",
    "\n",
    "color1 = 'Jmag'\n",
    "color2 = 'Hmag'\n",
    "err_teff = 'ERR_TEFF'\n",
    "\n",
    "err_c1 = 'e_' + color1\n",
    "#'e_' + color1\n",
    "#color1 + 'err' \n",
    "#color1 + 'err'\n",
    "#ERR_' + color1\n",
    "#'e_' + color1\n",
    "\n",
    "err_c2 = 'e_' + color2\n",
    "#'ERR_' + color2\n",
    "#'e_' + color2"
   ]
  },
  {
   "cell_type": "markdown",
   "metadata": {},
   "source": [
    "## Logg，误差的选取(Input:)"
   ]
  },
  {
   "cell_type": "code",
   "execution_count": 101,
   "metadata": {
    "collapsed": true
   },
   "outputs": [],
   "source": [
    "### we just need the mainsquence (dwarf stars)\n",
    "\n",
    "# #judge logg >3.7\n",
    "\n",
    "starcatalog_fram_fil = starcatalog_fram_fil_1[(starcatalog_fram_fil_1['LOGG']>4.0)]\n",
    "parsec_fram = parsec_fram[(parsec_fram['logg']>4.0)]                                            "
   ]
  },
  {
   "cell_type": "code",
   "execution_count": 102,
   "metadata": {},
   "outputs": [
    {
     "name": "stdout",
     "output_type": "stream",
     "text": [
      "45834\n"
     ]
    }
   ],
   "source": [
    "### get the good stars\n",
    "\n",
    "# judge  data\n",
    "starcatalog_fram_fil=starcatalog_fram_fil[((starcatalog_fram_fil[err_c1] != 0) \\\n",
    "                                          & (starcatalog_fram_fil[err_c2] != 0)\\\n",
    "                                          & (starcatalog_fram_fil[err_c1] != -99) \\\n",
    "                                          & (starcatalog_fram_fil[err_c2] != -99))\\\n",
    "                                         & ((starcatalog_fram_fil[color1] != 0)\\\n",
    "                                           & (starcatalog_fram_fil[color2] != 0)\\\n",
    "                                           & (starcatalog_fram_fil[color1] != -99) \\\n",
    "                                           & (starcatalog_fram_fil[color2] != -99))\\\n",
    "                                         &((starcatalog_fram_fil[err_c1] <=0.03)\\\n",
    "                                          & (starcatalog_fram_fil[err_c2] <=0.03))]\n",
    "### additional judgement\n",
    "\n",
    "# starcatalog_fram_fil=starcatalog_fram_fil[(starcatalog_fram_fil[err_c1] <=0.2)\\\n",
    "#                                            &(starcatalog_fram_fil[err_c2] <=0.05)]\n",
    "\n",
    "print(starcatalog_fram_fil.iloc[:,0].size)"
   ]
  },
  {
   "cell_type": "code",
   "execution_count": 103,
   "metadata": {
    "collapsed": true
   },
   "outputs": [],
   "source": [
    "### draw the png of errTeff \n",
    "\n",
    "# plt.figure(3)\n",
    "# plt.xlabel('$T_\\mathrm{eff}(K)$',fontsize=14)\n",
    "# plt.ylabel('$σ_\\mathrm{Teff}$',fontsize=14)\n",
    "# plt.scatter(starcatalog_fram_fil[teff],starcatalog_fram_fil[err_teff],\\\n",
    "#             c='steelblue',s=8, edgecolors='None',alpha=0.2,label='$σ_\\mathrm{Teff}$(LAMOST)')\n",
    "# plt.legend(loc='lower right')\n",
    "# plt.xticks(fontsize=12)\n",
    "# plt.yticks(fontsize=12)\n",
    "# plt.savefig(savename3,dpi=200)  \n",
    "# plt.show()\n",
    "\n",
    "### "
   ]
  },
  {
   "cell_type": "code",
   "execution_count": 105,
   "metadata": {},
   "outputs": [
    {
     "name": "stdout",
     "output_type": "stream",
     "text": [
      "          col1        TEFF   ERR_TEFF          RA        DEC      LOGG  \\\n",
      "22          28  11348.1920  651.76044   11.040600  36.995529  4.080263   \n",
      "220        325   8128.0137  432.37335   55.271124  54.802589  4.096234   \n",
      "222        327   8303.3430  440.43668   51.778596  55.397030  4.147080   \n",
      "223        328   8884.8980  478.67400   51.989001  55.361656  4.064834   \n",
      "224        329   8940.2940  471.37488   53.486737  55.177288  4.306056   \n",
      "227        333   8071.4450  463.75770   57.176869  55.694656  4.066268   \n",
      "268        381   8372.4610  445.71274   55.245676  55.172211  4.632455   \n",
      "270        383   8792.9490  492.00820   54.450383  54.493004  4.015175   \n",
      "273        386   8243.5625  463.42917   53.274714  55.010292  4.451610   \n",
      "278        391   8103.3120  426.54715   53.788785  55.410477  4.384722   \n",
      "279        392   8020.1743  493.86874   53.278239  55.323185  4.616098   \n",
      "280        393   8143.1100  430.61450   53.102745  54.758255  4.358770   \n",
      "285        398   8355.9480  437.51300   51.592802  55.783611  4.617745   \n",
      "290        403   8963.0410  469.49698   54.474740  55.986290  4.128318   \n",
      "293        406   8417.4620  475.91037   53.291573  55.620457  4.205091   \n",
      "318        431   8466.6090  415.29720   56.403580  55.093975  4.216459   \n",
      "319        432   8046.5270  471.94580   55.573073  55.296124  4.199904   \n",
      "320        433   8256.3030  444.37860   57.399261  55.281769  4.248123   \n",
      "322        435   8509.8360  421.13986   57.695832  55.499378  4.400804   \n",
      "325        438   8421.8440  433.50620   56.374945  54.853973  4.149243   \n",
      "327        440   8751.3630  489.35630   55.801030  56.140873  4.516632   \n",
      "332        445   8238.5140  455.59690   56.854340  56.659027  4.300330   \n",
      "336        449   8475.6310  380.01187   56.472463  56.039261  4.092704   \n",
      "337        450   8713.7310  461.34833   56.337434  56.159290  4.234771   \n",
      "340        453   8179.2140  434.00787   55.149269  56.124092  4.275230   \n",
      "348        461   8722.0170  457.36813   51.285263  56.460224  4.399870   \n",
      "349        462   8203.8810  451.04300   51.283049  56.340096  4.298126   \n",
      "357        470   9242.1280  561.31195   56.307027  58.864834  4.372839   \n",
      "358        471   8139.9883  431.36970   55.829308  58.844341  4.400216   \n",
      "361        474   8519.0480  422.86417   57.569553  58.517639  4.246710   \n",
      "...        ...         ...        ...         ...        ...       ...   \n",
      "258124  306320   8966.4760  464.57930  303.679983  26.056098  4.433249   \n",
      "258129  306325   8518.8120  379.41202  302.868677  26.764057  4.096331   \n",
      "258135  306332   8841.2160  426.31577  302.815227  26.656166  4.029750   \n",
      "258147  306348   8237.8200  431.28534  298.350838  25.802397  4.036948   \n",
      "258160  306361   8900.0350  452.65393  299.413722  26.393851  4.107593   \n",
      "258166  306370   8105.6895  384.92860  300.914242  26.977730  4.404270   \n",
      "258169  306374   8070.8710  428.45660  300.081623  26.578535  4.265136   \n",
      "258171  306376  15003.0260  564.77860  299.895080  26.556282  4.020292   \n",
      "258180  306394   8852.9250  441.21564  300.652802  27.214235  4.292068   \n",
      "258182  306400   8122.7573  409.80430  299.577701  27.630380  4.325364   \n",
      "258189  306407   8586.9960  391.27304  300.334954  27.551475  4.077123   \n",
      "258190  306408   8234.6480  421.35214  300.179071  27.597085  4.588732   \n",
      "258191  306409   8359.8580  425.90897  300.232558  27.610981  4.411010   \n",
      "258196  306414   8169.3160  409.06293  299.226701  27.235483  4.378901   \n",
      "258319      32  24224.1580  623.88995   56.924052  55.973507  4.395270   \n",
      "258482     240  24674.5780  508.92830  104.370430   7.988917  4.203011   \n",
      "258486     244  25125.2520  519.31726  103.028180   7.392798  4.261025   \n",
      "258494     254  24949.9980  520.42926  104.370430   7.988917  4.166132   \n",
      "258583     420  24683.1250  576.99490   31.562220  27.011621  4.480255   \n",
      "258849    1044  24241.9590  594.16815  201.324307  55.329426  4.395270   \n",
      "258869    1088  25061.4500  514.04346   60.242139  57.379929  4.123352   \n",
      "259030    1556  23862.1660  596.10455   24.237676  58.032265  4.136670   \n",
      "259155    1932  24949.8790  520.42926   94.326470  12.122888  4.166132   \n",
      "259169    1998  24986.7000  514.04346   41.391004  53.136307  4.123352   \n",
      "259205    2110  24356.7810  605.12994   93.648806  -5.605460  4.573525   \n",
      "259212    2121  24950.8440  522.34735   91.485432  28.023577  4.166132   \n",
      "259484    2616  24026.3360  580.87340   20.585866  58.711769  4.395270   \n",
      "259822    3099  24153.8090  524.54205   24.237676  58.032265  4.395270   \n",
      "260557    4662  20673.1230  615.39720  104.090124  11.363957  4.123562   \n",
      "260609    4791  25258.8380  576.16490  138.780625  -1.595295  4.261025   \n",
      "\n",
      "        ERR_LOGG             2MASS     RAJ2000    DEJ2000    ...       Hmag  \\\n",
      "22      0.223760  00440961+3659433   11.040059  36.995380    ...     12.197   \n",
      "220     0.272587  03410506+5448092   55.271122  54.802582    ...     12.073   \n",
      "222     0.211764  03270686+5523493   51.778603  55.397045    ...     11.613   \n",
      "223     0.303962  03275735+5521420   51.988996  55.361679    ...     12.785   \n",
      "224     0.188043  03335682+5510383   53.486773  55.177322    ...     12.308   \n",
      "227     0.217482  03484244+5541408   57.176871  55.694672    ...     12.247   \n",
      "268     0.194310  03405895+5510200   55.245649  55.172234    ...     11.493   \n",
      "270     0.222395  03374808+5429347   54.450350  54.492989    ...     11.182   \n",
      "273     0.269400  03330593+5500371   53.274720  55.010323    ...     12.292   \n",
      "278     0.261157  03350930+5524377   53.788755  55.410480    ...     11.801   \n",
      "279     0.301413  03330677+5519235   53.278231  55.323219    ...     13.094   \n",
      "280     0.271672  03322466+5445298   53.102763  54.758282    ...     12.067   \n",
      "285     0.306504  03262227+5547011   51.592826  55.783649    ...     12.486   \n",
      "290     0.225194  03375393+5559106   54.474725  55.986294    ...     12.293   \n",
      "293     0.312361  03330999+5537136   53.291638  55.620472    ...     13.067   \n",
      "318     0.273231  03453685+5505383   56.403582  55.093979    ...     12.388   \n",
      "319     0.235317  03421753+5517460   55.573060  55.296112    ...     12.359   \n",
      "320     0.271754  03493582+5516543   57.399263  55.281776    ...     11.750   \n",
      "322     0.260031  03504699+5529578   57.695831  55.499409    ...     12.372   \n",
      "325     0.271678  03452998+5451144   56.374936  54.854000    ...     11.650   \n",
      "327     0.245147  03431225+5608272   55.801042  56.140911    ...     12.083   \n",
      "332     0.322242  03472504+5639325   56.854362  56.659039    ...     12.134   \n",
      "336     0.194392  03455339+5602213   56.472467  56.039265    ...     11.908   \n",
      "337     0.213468  03452098+5609335   56.337429  56.159313    ...     11.895   \n",
      "340     0.222778  03403582+5607267   55.149279  56.124111    ...     12.063   \n",
      "348     0.181928  03250846+5627368   51.285283  56.460224    ...     11.685   \n",
      "349     0.239480  03250793+5620244   51.283053  56.340122    ...     11.638   \n",
      "357     0.320881  03451369+5851533   56.307067  58.864826    ...     12.277   \n",
      "358     0.258214  03431903+5850396   55.829301  58.844334    ...     12.086   \n",
      "361     0.291673  03501670+5831035   57.569609  58.517647    ...     12.074   \n",
      "...          ...               ...         ...        ...    ...        ...   \n",
      "258124  0.181452  20144327+2603220  303.680299  26.056135    ...     10.638   \n",
      "258129  0.140663  20112857+2645525  302.869043  26.764603    ...     10.020   \n",
      "258135  0.168662  20111574+2639203  302.815599  26.655653    ...     10.045   \n",
      "258147  0.272155  19532420+2548085  298.350851  25.802382    ...     11.508   \n",
      "258160  0.224380  19573929+2623379  299.413719  26.393885    ...     11.366   \n",
      "258166  0.168074  20033942+2658397  300.914261  26.977722    ...     11.281   \n",
      "258169  0.165024  20001958+2634427  300.081607  26.578541    ...     11.559   \n",
      "258171  0.224349  19593481+2633225  299.895079  26.556271    ...     11.216   \n",
      "258180  0.138106  20023667+2712512  300.652829  27.214228    ...     11.604   \n",
      "258182  0.210331  19581865+2737494  299.577723  27.630392    ...     11.986   \n",
      "258189  0.195717  20012039+2733053  300.334963  27.551481    ...     10.715   \n",
      "258190  0.139812  20004297+2735494  300.179079  27.597057    ...     11.117   \n",
      "258191  0.256591  20005582+2736395  300.232587  27.610973    ...     11.062   \n",
      "258196  0.152649  19565439+2714077  299.226663  27.235497    ...     11.335   \n",
      "258319  0.229171  03474177+5558246   56.924066  55.973515    ...     10.056   \n",
      "258482  0.217379  06572890+0759201  104.370428   7.988917    ...     11.211   \n",
      "258486  0.215896  06520676+0723340  103.028176   7.392798    ...     12.129   \n",
      "258494  0.215668  06572890+0759201  104.370428   7.988917    ...     11.211   \n",
      "258583  0.222524  02061493+2700418   31.562233  27.011629    ...     12.446   \n",
      "258849  0.224048  13251782+5519460  201.324286  55.329460    ...     12.385   \n",
      "258869  0.216822  04005811+5722477   60.242129  57.379921    ...     12.143   \n",
      "259030  0.212166  01365703+5801561   24.237660  58.032265    ...     11.533   \n",
      "259155  0.215668  06171835+1207223   94.326470  12.122888    ...     10.878   \n",
      "259169  0.216822  02453383+5308107   41.390977  53.136307    ...     11.388   \n",
      "259205  0.225628  06143570-0536196   93.648787  -5.605445    ...     12.159   \n",
      "259212  0.215881  06055650+2801248   91.485437  28.023573    ...     12.189   \n",
      "259484  0.221989  01222061+5842423   20.585880  58.711773    ...     11.041   \n",
      "259822  0.214755  01365703+5801561   24.237660  58.032265    ...     11.533   \n",
      "260557  0.228142  06562162+1121501  104.090108  11.363935    ...     12.537   \n",
      "260609  0.224379  09150734-0135431  138.780621  -1.595306    ...     10.510   \n",
      "\n",
      "          Kmag  e_Jmag  e_Hmag  e_Kmag  Qfl  Rfl  X     MeasureJD   angDist  \n",
      "22      11.922   0.023   0.023   0.020  AAA  222  0  2.451152e+06  1.645609  \n",
      "220     11.878   0.023   0.029   0.024  AAA  222  0  2.451469e+06  0.027020  \n",
      "222     11.436   0.021   0.017   0.019  AAA  222  0  2.451173e+06  0.056293  \n",
      "223     12.636   0.022   0.024   0.027  AAA  222  0  2.451173e+06  0.082755  \n",
      "224     12.206   0.022   0.021   0.022  AAA  222  0  2.451173e+06  0.142863  \n",
      "227     12.100   0.023   0.021   0.019  AAA  222  0  2.451198e+06  0.056407  \n",
      "268     11.365   0.021   0.025   0.022  AAA  222  0  2.451469e+06  0.100605  \n",
      "270     11.020   0.023   0.030   0.020  AAA  222  0  2.451803e+06  0.087276  \n",
      "273     12.146   0.022   0.023   0.026  AAA  222  0  2.451173e+06  0.112095  \n",
      "278     11.679   0.020   0.024   0.023  AAA  222  0  2.451173e+06  0.062462  \n",
      "279     12.988   0.028   0.027   0.034  AAA  222  0  2.451173e+06  0.123610  \n",
      "280     11.940   0.022   0.015   0.022  AAA  222  0  2.451173e+06  0.104128  \n",
      "285     12.357   0.019   0.021   0.021  AAA  222  0  2.451173e+06  0.144162  \n",
      "290     12.139   0.025   0.028   0.026  AAA  222  0  2.451546e+06  0.033498  \n",
      "293     12.947   0.022   0.022   0.028  AAA  222  0  2.451173e+06  0.143160  \n",
      "318     12.248   0.021   0.019   0.022  AAA  222  0  2.451173e+06  0.014746  \n",
      "319     12.248   0.019   0.021   0.024  AAA  222  0  2.451173e+06  0.049247  \n",
      "320     11.593   0.023   0.027   0.023  AAA  222  0  2.451198e+06  0.026247  \n",
      "322     12.245   0.023   0.023   0.021  AAA  222  0  2.451198e+06  0.110883  \n",
      "325     11.458   0.019   0.017   0.022  AAA  222  0  2.451173e+06  0.097600  \n",
      "327     11.966   0.021   0.021   0.019  AAA  222  0  2.451173e+06  0.139060  \n",
      "332     12.003   0.021   0.021   0.021  AAA  222  0  2.451173e+06  0.061076  \n",
      "336     11.819   0.020   0.021   0.021  AAA  222  0  2.451173e+06  0.016923  \n",
      "337     11.771   0.021   0.023   0.022  AAA  222  0  2.451173e+06  0.082283  \n",
      "340     11.956   0.022   0.028   0.027  AAA  222  0  2.451469e+06  0.070930  \n",
      "348     11.539   0.020   0.017   0.019  AAA  222  0  2.451173e+06  0.039785  \n",
      "349     11.505   0.020   0.019   0.017  AAA  222  0  2.451173e+06  0.095661  \n",
      "357     12.172   0.019   0.025   0.023  AAA  222  0  2.451173e+06  0.079616  \n",
      "358     11.952   0.022   0.021   0.020  AAA  222  0  2.451173e+06  0.029266  \n",
      "361     11.961   0.023   0.023   0.021  AAA  222  0  2.451198e+06  0.109000  \n",
      "...        ...     ...     ...     ...  ...  ... ..           ...       ...  \n",
      "258124  10.622   0.023   0.029   0.019  AAA  222  0  2.451493e+06  1.031037  \n",
      "258129   9.998   0.021   0.021   0.017  AAA  222  0  2.450731e+06  2.289837  \n",
      "258135  10.020   0.021   0.019   0.019  AAA  222  0  2.450731e+06  2.201402  \n",
      "258147  11.450   0.022   0.019   0.018  AAA  222  0  2.450918e+06  0.067613  \n",
      "258160  11.328   0.026   0.030   0.021  AAA  222  0  2.451675e+06  0.123068  \n",
      "258166  11.200   0.022   0.023   0.018  AAA  222  0  2.450731e+06  0.068175  \n",
      "258169  11.445   0.021   0.024   0.021  AAA  222  0  2.451090e+06  0.055858  \n",
      "258171  11.097   0.022   0.026   0.023  AAA  222  0  2.451090e+06  0.039731  \n",
      "258180  11.500   0.022   0.021   0.018  AAA  222  0  2.451090e+06  0.090039  \n",
      "258182  11.878   0.029   0.029   0.019  AAA  222  0  2.451675e+06  0.082400  \n",
      "258189  10.674   0.023   0.024   0.028  AEE  222  0  2.451090e+06  0.036146  \n",
      "258190  11.028   0.022   0.023   0.020  AAA  222  0  2.451090e+06  0.104917  \n",
      "258191  10.997   0.022   0.024   0.020  AAA  222  0  2.451090e+06  0.096064  \n",
      "258196  11.277   0.024   0.030   0.025  AAA  222  0  2.451675e+06  0.131662  \n",
      "258319   9.693   0.021   0.019   0.019  AAA  222  0  2.451173e+06  0.040496  \n",
      "258482  11.133   0.024   0.026   0.019  AAA  222  0  2.451501e+06  0.007145  \n",
      "258486  12.010   0.023   0.022   0.024  AAA  222  0  2.451501e+06  0.014282  \n",
      "258494  11.133   0.024   0.026   0.019  AAA  222  0  2.451501e+06  0.007145  \n",
      "258583  12.339   0.026   0.028   0.024  AAA  222  0  2.451507e+06  0.049722  \n",
      "258849  12.221   0.024   0.015   0.025  AAA  222  0  2.451272e+06  0.130375  \n",
      "258869  12.026   0.019   0.021   0.022  AAA  222  0  2.451192e+06  0.033511  \n",
      "259030  11.453   0.024   0.026   0.023  AAA  222  0  2.451493e+06  0.029752  \n",
      "259155  10.704   0.021   0.022   0.018  AAA  222  0  2.450740e+06  0.001399  \n",
      "259169  11.171   0.022   0.030   0.025  AAA  222  0  2.451473e+06  0.058318  \n",
      "259205  12.121   0.023   0.025   0.028  AAA  222  0  2.451080e+06  0.087265  \n",
      "259212  12.040   0.021   0.020   0.020  AAA  222  0  2.450822e+06  0.020819  \n",
      "259484  11.053   0.022   0.029   0.021  AAA  222  0  2.451512e+06  0.030357  \n",
      "259822  11.453   0.024   0.026   0.023  AAA  222  0  2.451493e+06  0.029752  \n",
      "260557  12.456   0.029   0.030   0.029  AAA  222  0  2.451501e+06  0.097807  \n",
      "260609  10.380   0.024   0.022   0.021  AAA  222  0  2.451153e+06  0.041779  \n",
      "\n",
      "[45834 rows x 24 columns]\n"
     ]
    }
   ],
   "source": [
    "# cut source g-r:0.440\n",
    "origin = starcatalog_fram_fil\n",
    "print(origin)\n",
    "# starcatalog_fram_fil=starcatalog_fram_fil[(starcatalog_fram_fil[color1]-starcatalog_fram_fil[color2]>= -0.440)\\\n",
    "#                                          & (starcatalog_fram_fil[color1]>=12)]"
   ]
  },
  {
   "cell_type": "markdown",
   "metadata": {},
   "source": [
    "## 有效温度 Teff 的限制（Input:）"
   ]
  },
  {
   "cell_type": "code",
   "execution_count": 81,
   "metadata": {},
   "outputs": [
    {
     "name": "stdout",
     "output_type": "stream",
     "text": [
      "25258.838\n"
     ]
    }
   ],
   "source": [
    "#filt the good one\n",
    "#apogee_tbl_fil = apogee_tbl[np.argwhere(np.logical_and(apogee_tbl['teff'] > 0, apogee_tbl['logg'] > -3))]\n",
    "#apogee_tbl_fil = apogee_tbl_fil[np.argwhere(np.logical_and(apogee_tbl_fil['j'].flatten() > -1, \\\n",
    "#                                                           apogee_tbl_fil['h'].flatten() > -1))]\n",
    "#USE goodOB \n",
    "\n",
    "\n",
    "starcatalog_fram_fil=starcatalog_fram_fil[(((starcatalog_fram_fil[err_teff] != 0 )\\\n",
    "                                          & (starcatalog_fram_fil[teff]>= 10000))\\\n",
    "                                          #& (starcatalog_fram_fil[teff]<= 16000))\n",
    "                                          & (((starcatalog_fram_fil[err_teff]< 630)\\\n",
    "                                          &(starcatalog_fram_fil[teff]> 9000))\\\n",
    "                                          |((starcatalog_fram_fil[err_teff]< 500)\\\n",
    "                                          & (starcatalog_fram_fil[teff]<= 9000))))]\n",
    "print(np.max(starcatalog_fram_fil[teff]))"
   ]
  },
  {
   "cell_type": "markdown",
   "metadata": {},
   "source": [
    "## 蓝色边缘的比例，bin最小值的选取（Input：）"
   ]
  },
  {
   "cell_type": "code",
   "execution_count": 82,
   "metadata": {
    "collapsed": true
   },
   "outputs": [],
   "source": [
    "# Determine the input numbers.\n",
    "\n",
    "# Bin width, usually 50 (for more scatter, try 1000 or other figures)\n",
    "#bin_width = 1000\n",
    "\n",
    "# Ratio of the bluest edge, usually 5%\n",
    "rat = 5\n",
    "\n",
    "# Low end criteria. If the number in a bin is lower than this number then neglect.  \n",
    "low_crit = 50"
   ]
  },
  {
   "cell_type": "code",
   "execution_count": 83,
   "metadata": {
    "collapsed": true
   },
   "outputs": [],
   "source": [
    "# input the data of Bessell. M.S. & Brett. J.M. 1988\n",
    "# BBFrame is the dataframe of the ic data \n",
    "\n",
    "BBFrame=pd.DataFrame({'J-H':[-0.09,-0.08,-0.07,-0.06,-0.05,-0.03,-0.03,-0.01,0.0,0.02,0.06],\\\n",
    "                      'Teff':[22300,19000,17200,15400,14100,13000,11800,10700,9480,8810,8160]})\n"
   ]
  },
  {
   "cell_type": "markdown",
   "metadata": {},
   "source": [
    "## 比较星表的数据选取（Input:）"
   ]
  },
  {
   "cell_type": "code",
   "execution_count": 84,
   "metadata": {
    "collapsed": true
   },
   "outputs": [],
   "source": [
    "# parsec point\n",
    "parsecframe = parsec_fram[((parsec_fram['Age'] == 3980000)\\\n",
    "                           &(parsec_fram['logTe'] <= 4.361)\\\n",
    "                           &(parsec_fram['logTe'] >= 4.000))]\n",
    "parsec_teff =10**parsecframe['logTe'] \n",
    "parsec_color = parsecframe[color1] - parsecframe[color2]\n",
    "#print(parsecframe.values)\n",
    "                                         "
   ]
  },
  {
   "cell_type": "code",
   "execution_count": 85,
   "metadata": {
    "collapsed": true
   },
   "outputs": [],
   "source": [
    "# Find the start point and bin number of Teff. \n",
    "# Start point: the first number divisible by bin_width smaller than min(teff)\n",
    "# Bin number: Start from start point and cover all the teff range.\n",
    "\n",
    "\n",
    "#teff_start = min(apogee_tbl_fil['teff']) - min(apogee_tbl_fil['teff']) % (bin_width/2)\n",
    "#bin_number = math.ceil((max(apogee_tbl_fil['teff']) - teff_start) / bin_width)\n",
    "\n",
    "#teff_start = min(starcatalog_fram_fil[teff])-min(starcatalog_fram_fil[teff])%(bin_width / 2)\n",
    "\n",
    "teff_start= 10000\n",
    "\n",
    "#bin_number = math.ceil((max(starcatalog_fram_fil[teff])-teff_start) / bin_width)\n"
   ]
  },
  {
   "cell_type": "code",
   "execution_count": 86,
   "metadata": {
    "collapsed": true
   },
   "outputs": [],
   "source": [
    "#filt BBFrame\n",
    "BBFrame_fil=BBFrame[BBFrame['Teff'] >= teff_start]"
   ]
  },
  {
   "cell_type": "markdown",
   "metadata": {},
   "source": [
    "# 内禀色指数的计算（蓝色边缘方法），同时取出某一部分用于SFD判断"
   ]
  },
  {
   "cell_type": "markdown",
   "metadata": {},
   "source": [
    "## DEF"
   ]
  },
  {
   "cell_type": "code",
   "execution_count": 87,
   "metadata": {
    "collapsed": true
   },
   "outputs": [],
   "source": [
    "def data(teff_start,ratio,low_crit,ratio_SFD):\n",
    "    \n",
    "    start_time = time.time()\n",
    "    int_teff = []\n",
    "    int_color = []\n",
    "    bin_int_color = []\n",
    "    \n",
    "    SFD_RA = []; SFD_DEC = []; SFD_TEFF = []; SFD_color1 = []; SFD_color2 = [];\n",
    "    \n",
    "    data_final = pd.DataFrame(columns=[teff,color1,color2])\n",
    "    teff_judge = teff_start\n",
    "    while teff_judge < np.max(starcatalog_fram_fil[teff]) - 1000:\n",
    "       \n",
    "        if teff_judge <9000:\n",
    "            bin_width = 100\n",
    "        else:\n",
    "            bin_width = 630\n",
    "\n",
    "        bin_tbl =starcatalog_fram_fil[np.logical_and(starcatalog_fram_fil[teff] > teff_judge, \\\n",
    "                                                starcatalog_fram_fil[teff] < teff_judge+bin_width)]\n",
    "\n",
    "        #print(teff_judge)\n",
    "       \n",
    "        \n",
    "        if len(bin_tbl) < low_crit:\n",
    "            teff_judge = teff_judge+bin_width\n",
    "            continue\n",
    "            \n",
    "        source_num = 0\n",
    "        #print(len(bin_tbl))\n",
    "\n",
    "        while source_num != len(bin_tbl):\n",
    "            source_num = len(bin_tbl)\n",
    "\n",
    "        data_final = data_final.append(bin_tbl[[teff,color1,color2]])\n",
    "        #print(len(bin_tbl))\n",
    "\n",
    "        int_teff.append(float(teff_judge+bin_width/2))\n",
    "        bin_tbl['color'] = bin_tbl[color1]-bin_tbl[color2]\n",
    "        bin_sort = bin_tbl.sort_index(axis = 0,ascending = True,by = 'color')\n",
    "        \n",
    "        # 每个bin中前ratio_SFD的部分用于取得ebv\n",
    "        color_SFD = bin_sort['color'].values[:math.ceil(len(bin_tbl)*ratio_SFD/100)]\n",
    "        bin_tbl_SFD = bin_sort[(bin_sort['color']<=np.max(color_SFD))]\n",
    "        \n",
    "        for ppp in range(len(bin_tbl_SFD)):\n",
    "            SFD_RA.append(bin_tbl_SFD['RA'].values[ppp])\n",
    "            SFD_DEC.append(bin_tbl_SFD['DEC'].values[ppp])\n",
    "            SFD_TEFF.append(bin_tbl_SFD['TEFF'].values[ppp])\n",
    "            SFD_color1.append(bin_tbl_SFD[color1].values[ppp])\n",
    "            SFD_color2.append(bin_tbl_SFD[color2].values[ppp])\n",
    "        \n",
    "        # 每个bin中前ratio(usually 5%)的部分 用于取得内禀色指数int_color\n",
    "        color5 = bin_sort['color'].values[:math.ceil(len(bin_tbl)*ratio/100)]\n",
    "        bin_tbl_5 = bin_sort[(bin_sort['color']<=np.max(color5))]\n",
    "        \n",
    "        if len(color5) != 0:\n",
    "            bin_mean = np.median(color5)\n",
    "            bin_sigma = np.std(color5)\n",
    "            bin_int_color = color5\\\n",
    "            [((color5<= bin_mean+3*bin_sigma)\\\n",
    "            & (color5>= bin_mean-3*bin_sigma))]\n",
    "\n",
    "            int_color.append(np.median(bin_int_color))\n",
    "            \n",
    "        teff_judge = teff_judge+bin_width\n",
    "        \n",
    "    SFD_tbl_final = pd.DataFrame({'TEFF':np.array(SFD_TEFF),'RA':np.array(SFD_RA),\\\n",
    "                                  'DEC':np.array(SFD_DEC),color1:np.array(SFD_color1),\\\n",
    "                                 color2:np.array(SFD_color2)})\n",
    "    \n",
    "    print(time.time() - start_time)\n",
    "    print(int_teff,int_color)\n",
    "#     print(bin_mean)\n",
    "#     print(data_final.iloc[:,0].size)\n",
    "    return int_teff,int_color,data_final,SFD_tbl_final"
   ]
  },
  {
   "cell_type": "markdown",
   "metadata": {},
   "source": [
    "## 运算，拟合，SFD的准备（Input:)"
   ]
  },
  {
   "cell_type": "code",
   "execution_count": 88,
   "metadata": {
    "scrolled": true
   },
   "outputs": [
    {
     "name": "stdout",
     "output_type": "stream",
     "text": [
      "0.17858386039733887\n",
      "[11575.0, 14725.0] [0.39400000000000013, -0.0135000000000014]\n"
     ]
    },
    {
     "name": "stderr",
     "output_type": "stream",
     "text": [
      "/Users/SY/anaconda/lib/python3.6/site-packages/ipykernel_launcher.py:38: SettingWithCopyWarning: \n",
      "A value is trying to be set on a copy of a slice from a DataFrame.\n",
      "Try using .loc[row_indexer,col_indexer] = value instead\n",
      "\n",
      "See the caveats in the documentation: http://pandas.pydata.org/pandas-docs/stable/indexing.html#indexing-view-versus-copy\n",
      "/Users/SY/anaconda/lib/python3.6/site-packages/ipykernel_launcher.py:39: FutureWarning: by argument to sort_index is deprecated, pls use .sort_values(by=...)\n",
      "/Users/SY/anaconda/lib/python3.6/site-packages/ipykernel_launcher.py:8: RankWarning: Polyfit may be poorly conditioned\n",
      "  \n"
     ]
    }
   ],
   "source": [
    "# SFD ratio\n",
    "\n",
    "ratio_SFD = 5\n",
    "\n",
    "# fitting curve\n",
    "int_teff,int_color,data_final,SFD_tbl_ratio = data(teff_start,rat,low_crit,ratio_SFD)\n",
    "\n",
    "fc = np.polyfit(int_teff, int_color, 3)#用3次多项式拟合\n",
    "fitcurve = np.poly1d(fc)\n",
    "# print(fitcurve) #在屏幕上打印拟合多项式\n",
    "\n",
    "colorvals=fitcurve(int_teff)\n",
    "\n",
    "# print(len(colorvals),len(int_teff))\n",
    "#print(len(bin_tbl_final[teff].values))\n",
    "\n",
    "# SFD_tbl_ratio[teff]\n"
   ]
  },
  {
   "cell_type": "markdown",
   "metadata": {},
   "source": [
    "# SFD的使用：—— 将使用到新的包\n",
    "\n",
    "1. 选取SFD中Ebv小于某一个值的认为是零消光源（Lamost)——Thins page\n",
    "2. 用目前的色指数减去 Ebv 给出的消光值，然后去归算内禀色指数 - GOSSS"
   ]
  },
  {
   "cell_type": "code",
   "execution_count": 89,
   "metadata": {
    "scrolled": true
   },
   "outputs": [
    {
     "name": "stdout",
     "output_type": "stream",
     "text": [
      "9\n",
      "2\n",
      "5\n",
      "1.3100569248199463\n"
     ]
    }
   ],
   "source": [
    "## use SFD dustmap\n",
    "from __future__ import print_function\n",
    "from astropy.coordinates import SkyCoord\n",
    "from astropy import units as u\n",
    "from dustmaps.sfd import SFDQuery\n",
    "\n",
    "sfd = SFDQuery()\n",
    "\n",
    "## ebv前的系数需要去文献中拿到。目前使用的是r和i的\n",
    "# Const1 = 0.709 #J #3.303 #g #2.285 #r \n",
    "# Const2 = 0.449 #H #2.285 #r #1.698 #i\n",
    "\n",
    "time_start = time.time()\n",
    "SFD_catalog_color = []\n",
    "SFD_catalog_teff = []\n",
    "lens = len(SFD_tbl_ratio)\n",
    "\n",
    "ebv_final = []\n",
    "\n",
    "# 判断ebv < 0.05，就拿入下一个数组，最后一起画在图上\n",
    "print(lens)\n",
    "for i in range(lens):\n",
    "    coords = SkyCoord(SFD_tbl_ratio['RA'].values[i],SFD_tbl_ratio['DEC'].values[i],\\\n",
    "                      frame = 'icrs',unit = 'deg')\n",
    "    ebv = sfd(coords)\n",
    "    ebv_final.append(ebv)\n",
    "    \n",
    "#     A_c1 = Const1*ebv;\n",
    "#     A_c2 = Const2*ebv;\n",
    "\n",
    "    if ebv < 0.05:\n",
    "        SFD_colorindex = SFD_tbl_ratio[color1].values[i]\\\n",
    "        - (SFD_tbl_ratio[color2].values[i])\n",
    "        SFD_catalog_color.append(SFD_colorindex)\n",
    "    \n",
    "        SFD_catalog_teff.append(SFD_tbl_ratio[teff].values[i])\n",
    "        print(i)\n",
    "#     print(i)\n",
    "\n",
    "print(time.time() - time_start)"
   ]
  },
  {
   "cell_type": "markdown",
   "metadata": {},
   "source": [
    "# 图片输出"
   ]
  },
  {
   "cell_type": "markdown",
   "metadata": {},
   "source": [
    "## 图片保存格式（Input:)"
   ]
  },
  {
   "cell_type": "code",
   "execution_count": 90,
   "metadata": {
    "collapsed": true
   },
   "outputs": [],
   "source": [
    "### figures & Savename\n",
    "cc1 = 'J'\n",
    "cc2 = 'H'\n",
    "\n",
    "save = data_dir + 'pictures/'\n",
    "# save = '/Users/SY/Desktop/obic/picture/'\n",
    "\n",
    "i = datetime.datetime.now()\n",
    "date_now = \"%s_%s_%s_\" % (i.year, i.month, i.day) \n",
    "ylabel = '$%s - %s$'%(cc1,cc2) \n",
    "savename1 = save + date_now + cc1 + cc2 + 'logg3'+'.png'\n",
    "savename2 = save + date_now + cc1 + '_HR_' + cc2 +'.png'\n",
    "savename3 = save + date_now + 'errteff.png'\n",
    "\n",
    "savename5 = save + date_now + cc1 + cc2 + '_logg3_SFD'+'50%'+'.png'\n"
   ]
  },
  {
   "cell_type": "code",
   "execution_count": 91,
   "metadata": {},
   "outputs": [
    {
     "name": "stdout",
     "output_type": "stream",
     "text": [
      "            3             2\n",
      "-2.617e-13 x - 1.265e-09 x + 1.858e-05 x + 0.7354\n"
     ]
    },
    {
     "name": "stderr",
     "output_type": "stream",
     "text": [
      "/Users/SY/anaconda/lib/python3.6/site-packages/ipykernel_launcher.py:10: RankWarning: Polyfit may be poorly conditioned\n",
      "  # Remove the CWD from sys.path while we load stuff.\n"
     ]
    }
   ],
   "source": [
    "# plt hist of ebv\n",
    "\n",
    "# plt.hist(ebv_final,1000)\n",
    "# plt.savefig(save+'ebv.png',dpi = 200)\n",
    "# plt.xlim(0,2)\n",
    "# plt.show()\n",
    "\n",
    "# 拟合SFD\n",
    "\n",
    "fcc = np.polyfit(SFD_catalog_teff, SFD_catalog_color, 3)#用3次多项式拟合 SFD\n",
    "fitcurve = np.poly1d(fcc)\n",
    "print(fitcurve) #在屏幕上打印拟合多项式\n",
    "\n",
    "SFD_vals = fitcurve(SFD_catalog_teff)\n",
    "\n"
   ]
  },
  {
   "cell_type": "markdown",
   "metadata": {},
   "source": [
    "## 绘图所需的具体量（Alternative)"
   ]
  },
  {
   "cell_type": "code",
   "execution_count": 107,
   "metadata": {
    "scrolled": false
   },
   "outputs": [
    {
     "data": {
      "image/png": "[encoded data removed]",
      "text/plain": [
       "<matplotlib.figure.Figure at 0x11bc99f60>"
      ]
     },
     "metadata": {},
     "output_type": "display_data"
    }
   ],
   "source": [
    "#PLT\n",
    "plt.figure(1,figsize=(7, 5))  \n",
    "plt.xlabel('$T_\\mathrm{eff}(K)$',fontsize=14)\n",
    "plt.ylabel(ylabel,fontsize=14)\n",
    "#plt.ylim(-4,9)\n",
    "\n",
    "# the data we use\n",
    "plt.scatter(starcatalog_fram_fil[teff], starcatalog_fram_fil[color1]-starcatalog_fram_fil[color2],\\\n",
    "            c='darkgray',s=15, edgecolors='None',label='LAMOST')\n",
    "\n",
    "# data we use in the SFD dustmap\n",
    "plt.scatter(SFD_catalog_teff,SFD_catalog_color,alpha=1,edgecolors='None',c='violet',s=4,label='SFD dustmap',zorder=2)\n",
    "\n",
    "# SFD fitcurve\n",
    "plt.plot(SFD_catalog_teff, SFD_vals, c='violet',linewidth = 3.5,label='fitting curve of \\nthe E(B-V)<0.05',zorder=1)\n",
    "\n",
    "# ic plot from blue edge\n",
    "plt.plot(int_teff, colorvals, c='r',linewidth = 3.5,label='fitting curve of \\nthe bluest 5%',zorder=1)\n",
    "\n",
    "# ic from blue edge\n",
    "plt.scatter(int_teff, int_color, edgecolors='None',c='b', marker = '+',s=11,label='Median of\\nthe bluest 5%',zorder=2)\n",
    "\n",
    "# ic from Allen's work \n",
    "# plt.scatter(BBFrame_fil['Teff'],BBFrame_fil['J-H'],c='lime',s=11,label='Allen',zorder=2)\n",
    "\n",
    "# ic from parsec\n",
    "plt.scatter(parsec_teff,parsec_color,c='gold',s=11,label='PARSEC',zorder=2)\n",
    "\n",
    "### Draw the plot\n",
    "\n",
    "# plt.xlabel('$T_\\mathrm{eff}$'); plt.ylabel(ylabel)\n",
    "#plt.scatter(BBFrame_fil['Teff'],BBFrame_fil['J-H'],c='#FF6666',s=11,label='Allen')\n",
    "\n",
    "plt.legend(loc='upper right')\n",
    "#new_ticks = np.linspace(-1,2,7)\n",
    "#plt.yticks(new_ticks)\n",
    "# plt.ylim(np.min(starcatalog_fram_fil[color1] - starcatalog_fram_fil[color2]) - 0.5,\\\n",
    "#         np.max(starcatalog_fram_fil[color1] - starcatalog_fram_fil[color2]))\n",
    "plt.xticks(fontsize=12)\n",
    "plt.yticks(fontsize=12)\n",
    "# plt.savefig(savename1,dpi=200)\n",
    "plt.savefig(savename5,dpi=200)\n",
    "plt.show()"
   ]
  },
  {
   "cell_type": "markdown",
   "metadata": {},
   "source": [
    "# some other features"
   ]
  },
  {
   "cell_type": "code",
   "execution_count": 106,
   "metadata": {},
   "outputs": [
    {
     "name": "stdout",
     "output_type": "stream",
     "text": [
      "45834\n"
     ]
    }
   ],
   "source": [
    "print(len(starcatalog_fram_fil))"
   ]
  },
  {
   "cell_type": "markdown",
   "metadata": {},
   "source": [
    "## 赫罗图"
   ]
  },
  {
   "cell_type": "code",
   "execution_count": 84,
   "metadata": {},
   "outputs": [
    {
     "name": "stdout",
     "output_type": "stream",
     "text": [
      "5\n"
     ]
    },
    {
     "ename": "TypeError",
     "evalue": "data() missing 1 required positional argument: 'ratio_SFD'",
     "output_type": "error",
     "traceback": [
      "\u001b[0;31m---------------------------------------------------------------------------\u001b[0m",
      "\u001b[0;31mTypeError\u001b[0m                                 Traceback (most recent call last)",
      "\u001b[0;32m<ipython-input-84-d8fb8ce6a16a>\u001b[0m in \u001b[0;36m<module>\u001b[0;34m()\u001b[0m\n\u001b[1;32m      6\u001b[0m \u001b[0;31m# for rat in ratio:\u001b[0m\u001b[0;34m\u001b[0m\u001b[0;34m\u001b[0m\u001b[0m\n\u001b[1;32m      7\u001b[0m \u001b[0mprint\u001b[0m\u001b[0;34m(\u001b[0m\u001b[0mrat\u001b[0m\u001b[0;34m)\u001b[0m\u001b[0;34m\u001b[0m\u001b[0m\n\u001b[0;32m----> 8\u001b[0;31m \u001b[0mint_teff\u001b[0m\u001b[0;34m,\u001b[0m\u001b[0mint_color\u001b[0m\u001b[0;34m,\u001b[0m\u001b[0mdata_final\u001b[0m \u001b[0;34m=\u001b[0m \u001b[0mdata\u001b[0m\u001b[0;34m(\u001b[0m\u001b[0mteff_start\u001b[0m\u001b[0;34m,\u001b[0m\u001b[0mrat\u001b[0m\u001b[0;34m,\u001b[0m\u001b[0mlow_crit\u001b[0m\u001b[0;34m)\u001b[0m\u001b[0;34m\u001b[0m\u001b[0m\n\u001b[0m\u001b[1;32m      9\u001b[0m \u001b[0;34m\u001b[0m\u001b[0m\n\u001b[1;32m     10\u001b[0m \u001b[0mcm\u001b[0m \u001b[0;34m=\u001b[0m \u001b[0mplt\u001b[0m\u001b[0;34m.\u001b[0m\u001b[0mcm\u001b[0m\u001b[0;34m.\u001b[0m\u001b[0mget_cmap\u001b[0m\u001b[0;34m(\u001b[0m\u001b[0;34m'RdYlBu'\u001b[0m\u001b[0;34m)\u001b[0m\u001b[0;34m\u001b[0m\u001b[0m\n",
      "\u001b[0;31mTypeError\u001b[0m: data() missing 1 required positional argument: 'ratio_SFD'"
     ]
    },
    {
     "data": {
      "image/png": "[encoded data removed]",
      "text/plain": [
       "<matplotlib.figure.Figure at 0x1186a6828>"
      ]
     },
     "metadata": {},
     "output_type": "display_data"
    }
   ],
   "source": [
    "# H-R 1\n",
    "plt.figure(2)\n",
    "plt.xlabel(ylabel,fontsize=14); plt.ylabel(cc1,fontsize=14)\n",
    "plt.xlim(-6,6)\n",
    "plt.ylim(5,25)\n",
    "# for rat in ratio:\n",
    "print(rat)\n",
    "int_teff,int_color,data_final = data(teff_start,rat,low_crit)\n",
    "\n",
    "cm = plt.cm.get_cmap('RdYlBu')\n",
    "sc = plt.scatter(origin[color1]-origin[color2], origin[color1],\\\n",
    "            c= 'darkgray',s=5,edgecolors = 'None',alpha = 1,cmap=cm,label='all sources')\n",
    "plt.scatter(data_final[color1]-data_final[color2], data_final[color1],\\\n",
    "             c='g',s=5, edgecolors='None', alpha=1,label='selected sources')\n",
    "#plt.colorbar(sc)\n",
    "plt.legend(loc='upper right')\n",
    "# new_ticks = np.linspace(-2,3,18)\n",
    "# plt.xticks(new_ticks)\n",
    "plt.xticks(fontsize=12)\n",
    "plt.yticks(fontsize=12)\n",
    "plt.savefig(savename2,dpi=200)    \n",
    "plt.show()"
   ]
  },
  {
   "cell_type": "code",
   "execution_count": 43,
   "metadata": {},
   "outputs": [
    {
     "data": {
      "image/png": "[encoded data removed]",
      "text/plain": [
       "<matplotlib.figure.Figure at 0x107a69fd0>"
      ]
     },
     "metadata": {},
     "output_type": "display_data"
    }
   ],
   "source": [
    "# 赫罗图 2\n",
    "plt.xlabel('r')\n",
    "plt.ylabel(ylabel)\n",
    "\n",
    "cm = plt.cm.get_cmap('RdYlBu')\n",
    "\n",
    "sc = plt.scatter(starcatalog_fram_fil[color1]-starcatalog_fram_fil[color2],starcatalog_fram_fil[color1],\\\n",
    "            c = starcatalog_fram_fil[err_c1],s=2,edgecolors = 'None',alpha = 0.7,cmap=cm)\n",
    "\n",
    "plt.colorbar(sc)\n",
    "\n",
    "plt.xlim(-5,5)\n",
    "plt.ylim(9,22)\n",
    "plt.savefig(save+'HR.png',dpi=200)\n",
    "plt.show()"
   ]
  },
  {
   "cell_type": "markdown",
   "metadata": {},
   "source": [
    "## 参数统计图"
   ]
  },
  {
   "cell_type": "code",
   "execution_count": 93,
   "metadata": {},
   "outputs": [
    {
     "data": {
      "image/png": "[encoded data removed]",
      "text/plain": [
       "<matplotlib.figure.Figure at 0x1188647f0>"
      ]
     },
     "metadata": {},
     "output_type": "display_data"
    }
   ],
   "source": [
    "plt.figure(3)\n",
    "plt.xlabel('$T_\\mathrm{eff}(K)$')\n",
    "plt.ylabel('errTeff')\n",
    "plt.scatter(starcatalog_fram_fil[teff],starcatalog_fram_fil[err_teff],\\\n",
    "            c='darkgray',s=5, edgecolors='None', alpha=0.5)\n",
    "plt.show()"
   ]
  },
  {
   "cell_type": "markdown",
   "metadata": {},
   "source": [
    "# Remember List for Lamost"
   ]
  },
  {
   "cell_type": "markdown",
   "metadata": {},
   "source": [
    "## 4月19日讨论：\n",
    "\n",
    "1. log g > 4.0 比较可靠\n",
    "2. 16000-18000之间的这个区域很特别，似乎色指数就是偏红了\n",
    "3. Lamost最早也只到B2\n",
    "4. O-type 使用SFD的老方法——减去 SFD 的 E(B-V)，获得所有源的内禀色指数\n",
    "5. 向紫外波段扩充"
   ]
  },
  {
   "cell_type": "markdown",
   "metadata": {},
   "source": [
    "## 5月2日组会：\n",
    "\n",
    "** 苑老师 **： Lamost DR5 和 Mr.Yuan 给的星表由参数上的差别（跑的不同的pipline)"
   ]
  },
  {
   "cell_type": "markdown",
   "metadata": {
    "collapsed": true
   },
   "source": []
  },
  {
   "cell_type": "code",
   "execution_count": null,
   "metadata": {
    "collapsed": true
   },
   "outputs": [],
   "source": []
  }
 ],
 "metadata": {
  "kernelspec": {
   "display_name": "Python 3",
   "language": "python",
   "name": "python3"
  },
  "language_info": {
   "codemirror_mode": {
    "name": "ipython",
    "version": 3
   },
   "file_extension": ".py",
   "mimetype": "text/x-python",
   "name": "python",
   "nbconvert_exporter": "python",
   "pygments_lexer": "ipython3",
   "version": "3.6.1"
  },
  "toc": {
   "base_numbering": 1,
   "nav_menu": {},
   "number_sections": true,
   "sideBar": true,
   "skip_h1_title": false,
   "title_cell": "Table of Contents",
   "title_sidebar": "Contents",
   "toc_cell": true,
   "toc_position": {
    "height": "calc(100% - 180px)",
    "left": "10px",
    "top": "150px",
    "width": "244px"
   },
   "toc_section_display": true,
   "toc_window_display": false
  }
 },
 "nbformat": 4,
 "nbformat_minor": 2
}
