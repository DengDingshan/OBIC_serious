{
 "cells": [
  {
   "cell_type": "markdown",
   "metadata": {
    "toc": true
   },
   "source": [
    "<h1>Table of Contents<span class=\"tocSkip\"></span></h1>\n",
    "<div class=\"toc\"><ul class=\"toc-item\"><li><span><a href=\"#综述\" data-toc-modified-id=\"综述-1\"><span class=\"toc-item-num\">1&nbsp;&nbsp;</span>综述</a></span></li><li><span><a href=\"#数据的引入和format-(Alternative)\" data-toc-modified-id=\"数据的引入和format-(Alternative)-2\"><span class=\"toc-item-num\">2&nbsp;&nbsp;</span>数据的引入和format (Alternative)</a></span><ul class=\"toc-item\"><li><span><a href=\"#参数的选取（Input）\" data-toc-modified-id=\"参数的选取（Input）-2.1\"><span class=\"toc-item-num\">2.1&nbsp;&nbsp;</span>参数的选取（Input）</a></span></li><li><span><a href=\"#K星等(4.5)筛选-或者-ugriz(13,-14,-14,-14,-12)（Input:）\" data-toc-modified-id=\"K星等(4.5)筛选-或者-ugriz(13,-14,-14,-14,-12)（Input:）-2.2\"><span class=\"toc-item-num\">2.2&nbsp;&nbsp;</span>K星等(4.5)筛选 或者 ugriz(13, 14, 14, 14, 12)（Input:）</a></span></li><li><span><a href=\"#Logg，误差的选取(Input:)\" data-toc-modified-id=\"Logg，误差的选取(Input:)-2.3\"><span class=\"toc-item-num\">2.3&nbsp;&nbsp;</span>Logg，误差的选取(Input:)</a></span></li><li><span><a href=\"#有效温度-Teff-的限制（Input:）\" data-toc-modified-id=\"有效温度-Teff-的限制（Input:）-2.4\"><span class=\"toc-item-num\">2.4&nbsp;&nbsp;</span>有效温度 Teff 的限制（Input:）</a></span></li><li><span><a href=\"#蓝色边缘的比例，bin最小值的选取（Input：）\" data-toc-modified-id=\"蓝色边缘的比例，bin最小值的选取（Input：）-2.5\"><span class=\"toc-item-num\">2.5&nbsp;&nbsp;</span>蓝色边缘的比例，bin最小值的选取（Input：）</a></span></li><li><span><a href=\"#比较星表的数据选取（Input:）\" data-toc-modified-id=\"比较星表的数据选取（Input:）-2.6\"><span class=\"toc-item-num\">2.6&nbsp;&nbsp;</span>比较星表的数据选取（Input:）</a></span></li></ul></li><li><span><a href=\"#内禀色指数的计算（蓝色边缘方法），同时取出某一部分用于SFD判断\" data-toc-modified-id=\"内禀色指数的计算（蓝色边缘方法），同时取出某一部分用于SFD判断-3\"><span class=\"toc-item-num\">3&nbsp;&nbsp;</span>内禀色指数的计算（蓝色边缘方法），同时取出某一部分用于SFD判断</a></span><ul class=\"toc-item\"><li><span><a href=\"#DEF\" data-toc-modified-id=\"DEF-3.1\"><span class=\"toc-item-num\">3.1&nbsp;&nbsp;</span>DEF</a></span></li><li><span><a href=\"#运算，拟合，SFD的准备（Input:)\" data-toc-modified-id=\"运算，拟合，SFD的准备（Input:)-3.2\"><span class=\"toc-item-num\">3.2&nbsp;&nbsp;</span>运算，拟合，SFD的准备（Input:)</a></span></li></ul></li><li><span><a href=\"#SFD的使用：——-将使用到新的包\" data-toc-modified-id=\"SFD的使用：——-将使用到新的包-4\"><span class=\"toc-item-num\">4&nbsp;&nbsp;</span>SFD的使用：—— 将使用到新的包</a></span></li><li><span><a href=\"#图片输出\" data-toc-modified-id=\"图片输出-5\"><span class=\"toc-item-num\">5&nbsp;&nbsp;</span>图片输出</a></span><ul class=\"toc-item\"><li><span><a href=\"#图片保存格式（Input:)\" data-toc-modified-id=\"图片保存格式（Input:)-5.1\"><span class=\"toc-item-num\">5.1&nbsp;&nbsp;</span>图片保存格式（Input:)</a></span></li><li><span><a href=\"#绘图所需的具体量（Alternative)\" data-toc-modified-id=\"绘图所需的具体量（Alternative)-5.2\"><span class=\"toc-item-num\">5.2&nbsp;&nbsp;</span>绘图所需的具体量（Alternative)</a></span></li></ul></li><li><span><a href=\"#some-other-features\" data-toc-modified-id=\"some-other-features-6\"><span class=\"toc-item-num\">6&nbsp;&nbsp;</span>some other features</a></span><ul class=\"toc-item\"><li><span><a href=\"#赫罗图\" data-toc-modified-id=\"赫罗图-6.1\"><span class=\"toc-item-num\">6.1&nbsp;&nbsp;</span>赫罗图</a></span></li><li><span><a href=\"#参数统计图\" data-toc-modified-id=\"参数统计图-6.2\"><span class=\"toc-item-num\">6.2&nbsp;&nbsp;</span>参数统计图</a></span></li></ul></li><li><span><a href=\"#Remember-List-for-Lamost\" data-toc-modified-id=\"Remember-List-for-Lamost-7\"><span class=\"toc-item-num\">7&nbsp;&nbsp;</span>Remember List for Lamost</a></span><ul class=\"toc-item\"><li><span><a href=\"#4月19日讨论：\" data-toc-modified-id=\"4月19日讨论：-7.1\"><span class=\"toc-item-num\">7.1&nbsp;&nbsp;</span>4月19日讨论：</a></span></li><li><span><a href=\"#5月2日组会：\" data-toc-modified-id=\"5月2日组会：-7.2\"><span class=\"toc-item-num\">7.2&nbsp;&nbsp;</span>5月2日组会：</a></span></li><li><span><a href=\"#5月3日讨论：\" data-toc-modified-id=\"5月3日讨论：-7.3\"><span class=\"toc-item-num\">7.3&nbsp;&nbsp;</span>5月3日讨论：</a></span></li></ul></li></ul></div>"
   ]
  },
  {
   "cell_type": "markdown",
   "metadata": {},
   "source": [
    "# 综述\n",
    "** 蓝色边缘程序使用pandas的改写 **\n",
    "\n",
    "_由于有一些星表中包含缺省项，我们需要使用pandas中使用dataframe读取csv中自动将缺省项补上的优势，来优化我们的自动化程式_\n",
    "\n",
    "_(fits的文件我们可以使用topcat改变格式并且给星表瘦身，以加快程序读取速度）_\n",
    "\n",
    "我们需要实现的功能包含以下几点：\n",
    "\n",
    "输入：\n",
    "* csv星表**_的名字_**\n",
    "* 需要画的色指数的两个测光点（比如 $ J - H $ 我们需要输入$J$ 和 $H$）\n",
    "\n",
    "程序中自带（我们所需要限定的条件）\n",
    "_写在其中的某一个cell中作为 filt 条件_\n",
    "* 限定的误差范围（测光数据一般选择 0.3，光谱数据可以具体再定，基本上认为不太离谱的都可以用）\n",
    "* 去掉错误的点（见之前的程序)\n",
    "\n",
    "输出：\n",
    "* 颜色-teff 图\n",
    "\n",
    "Now,trying:\n",
    "* SFD: 一个新的ratio,比如说0.05，把这个ratio底下的部分输入进SFD,判断：E(B-V) <0.3 的值就是我们零消光的值。这个值去拟合一个新的curve。"
   ]
  },
  {
   "cell_type": "markdown",
   "metadata": {},
   "source": [
    "# 数据的引入和format (Alternative)"
   ]
  },
  {
   "cell_type": "code",
   "execution_count": 50,
   "metadata": {
    "collapsed": true
   },
   "outputs": [],
   "source": [
    "import pandas as pd\n",
    "import numpy as np\n",
    "import math\n",
    "import matplotlib.pyplot as plt\n",
    "import time\n",
    "import datetime\n",
    "%matplotlib inline\n",
    "\n",
    "data_dir = '/Users/SY/Desktop/obic/data/'\n",
    "#data_dir = '/Users/dengdingshan/Documents/data/obic/'"
   ]
  },
  {
   "cell_type": "code",
   "execution_count": 51,
   "metadata": {},
   "outputs": [],
   "source": [
    "#read as pandas\n",
    "starcatalog_fram = pd.read_csv(data_dir + 'lamost_sdss_galex_new2.csv')\n",
    "\n",
    "###########\n",
    "\n",
    "#starcatlog_fram = starcatlog_fram.ix[:,:517]\n",
    "#print(starcatalog_fram)"
   ]
  },
  {
   "cell_type": "code",
   "execution_count": 52,
   "metadata": {},
   "outputs": [
    {
     "name": "stdout",
     "output_type": "stream",
     "text": [
      "Index(['Zini', 'Age', 'Mini', 'Mass', 'logL', 'logTe', 'logg', 'label',\n",
      "       'McoreTP', 'C_O', 'period0', 'period1', 'pmode', 'Mloss', 'tau1m', 'X',\n",
      "       'Y', 'Xc', 'Xn', 'Xo', 'Cexcess', 'Z', 'mbolmag', 'FUVmag', 'NUVmag',\n",
      "       'umag', 'gmag', 'rmag', 'imag', 'zmag'],\n",
      "      dtype='object')\n"
     ]
    }
   ],
   "source": [
    "#read parsec\n",
    "parsec_fram = pd.read_csv(data_dir + 'parsec_fnugriz.csv')\n",
    "\n",
    "############\n",
    "\n",
    "print(parsec_fram.columns)"
   ]
  },
  {
   "cell_type": "code",
   "execution_count": 53,
   "metadata": {
    "collapsed": true
   },
   "outputs": [],
   "source": [
    "### Elective CHOICE\n",
    "\n",
    "########### I.\n",
    "#change logTeff into Teff.\n",
    "\n",
    "# def tenn(x):\n",
    "#     y=10 ** x\n",
    "#     return y\n",
    "\n",
    "# Teff_tbl = starcatalog['logTeff'].apply(tenn)\n",
    "###########\n",
    "\n",
    "########### II.\n",
    "#add [Teff] into DATAFRAME\n",
    "\n",
    "#data_fram = starcatalog_fram[['TEFF_1','ERR_TEFF_1','Jmag_1','e_Jmag_1','Hmag_1','e_Hmag_1']]\n",
    "#print(data_fram)\n",
    "###########\n",
    "\n",
    "########### III.\n",
    "# fill the NaN blocks with 0\n",
    "\n",
    "starcatalog_fram_fil_1 = starcatalog_fram.fillna(0)\n",
    "\n",
    "#print(starcatalog_fram_fil['LOGG'])\n",
    "############\n"
   ]
  },
  {
   "cell_type": "code",
   "execution_count": 54,
   "metadata": {
    "scrolled": true
   },
   "outputs": [
    {
     "data": {
      "text/plain": [
       "Index(['col1', 'TEFF', 'ERR_TEFF', 'RA', 'DEC', 'LOGG', 'ERR_LOGG', 'FEH',\n",
       "       'ERR_FEH', 'RAdeg', 'DEdeg', 'errHalfMaj', 'errHalfMin', 'errPosAng',\n",
       "       'objID', 'mode', 'q_mode', 'class', 'SDSS12', 'm_SDSS12', 'flags',\n",
       "       'ObsDate', 'Q', 'umag', 'e_umag', 'gmag', 'e_gmag', 'rmag', 'e_rmag',\n",
       "       'imag', 'e_imag', 'zmag', 'e_zmag', 'zsp', 'e_zsp', 'f_zsp', 'zph',\n",
       "       'e_zph', 'avg_zph', 'pmRA', 'e_pmRA', 'pmDE', 'e_pmDE', 'SpObjID',\n",
       "       'spType', 'spCl', 'subClass', 'angDist', 'ra_x', 'dec_x', 'fuv_mag',\n",
       "       'nuv_mag', 'fuv_magerr', 'nuv_magerr', 'objid_x', 'E_bv', 'objtype',\n",
       "       'fuv_flux', 'fuv_fluxerr', 'nuv_flux', 'nuv_fluxerr', 'fuv_artifact',\n",
       "       'nuv_artifact', 'angDist_x'],\n",
       "      dtype='object')"
      ]
     },
     "execution_count": 54,
     "metadata": {},
     "output_type": "execute_result"
    }
   ],
   "source": [
    "starcatalog_fram_fil_1.columns"
   ]
  },
  {
   "cell_type": "markdown",
   "metadata": {},
   "source": [
    "## 参数的选取（Input）"
   ]
  },
  {
   "cell_type": "code",
   "execution_count": 55,
   "metadata": {
    "collapsed": true
   },
   "outputs": [],
   "source": [
    "### variables\n",
    "\n",
    "teff = 'TEFF'\n",
    "\n",
    "color1 = 'nuv_mag'\n",
    "color2 = 'gmag'\n",
    "err_teff = 'ERR_TEFF'\n",
    "\n",
    "err_c1 = color1 + 'err'\n",
    "#'e_' + color1\n",
    "#color1 + 'err' \n",
    "#color1 + 'err'\n",
    "#ERR_' + color1\n",
    "#'e_' + color1\n",
    "\n",
    "err_c2 = 'e_' + color2\n",
    "#'ERR_' + color2\n",
    "#'e_' + color2"
   ]
  },
  {
   "cell_type": "markdown",
   "metadata": {},
   "source": [
    "## K星等(4.5)筛选 或者 ugriz(13, 14, 14, 14, 12)（Input:）\n"
   ]
  },
  {
   "cell_type": "code",
   "execution_count": 56,
   "metadata": {
    "collapsed": true
   },
   "outputs": [],
   "source": [
    "#starcatalog_fram_fil_2 = starcatalog_fram_fil_1[(starcatalog_fram_fil_1['Kmag']>4.5)]\n",
    "# starcatalog_fram_fil_2 = starcatalog_fram_fil_1[((starcatalog_fram_fil_1[color1]>14)\\\n",
    "#                                                 & (starcatalog_fram_fil_1[color2]>14))]\n",
    "starcatalog_fram_fil_2 = starcatalog_fram_fil_1"
   ]
  },
  {
   "cell_type": "markdown",
   "metadata": {},
   "source": [
    "## Logg，误差的选取(Input:)"
   ]
  },
  {
   "cell_type": "code",
   "execution_count": 57,
   "metadata": {
    "collapsed": true
   },
   "outputs": [],
   "source": [
    "### we just need the mainsquence (dwarf stars)\n",
    "\n",
    "# #judge logg >3.5\n",
    "\n",
    "starcatalog_fram_fil = starcatalog_fram_fil_2[(starcatalog_fram_fil_2['LOGG']>3.5)]\n",
    "parsec_fram = parsec_fram[(parsec_fram['logg']>3.5)]                                            "
   ]
  },
  {
   "cell_type": "code",
   "execution_count": 58,
   "metadata": {},
   "outputs": [
    {
     "name": "stdout",
     "output_type": "stream",
     "text": [
      "9602\n"
     ]
    }
   ],
   "source": [
    "### get the good stars\n",
    "\n",
    "# judge  data\n",
    "starcatalog_fram_fil=starcatalog_fram_fil[((starcatalog_fram_fil[err_c1] != 0) \\\n",
    "                                          & (starcatalog_fram_fil[err_c2] != 0)\\\n",
    "                                          & (starcatalog_fram_fil[err_c1] != -99) \\\n",
    "                                          & (starcatalog_fram_fil[err_c2] != -99))\\\n",
    "                                         & ((starcatalog_fram_fil[color1] != 0)\\\n",
    "                                           & (starcatalog_fram_fil[color2] != 0)\\\n",
    "                                           & (starcatalog_fram_fil[color1] != -99) \\\n",
    "                                           & (starcatalog_fram_fil[color2] != -99))\\\n",
    "                                         &((starcatalog_fram_fil[err_c1] <=0.05)\\\n",
    "                                          & (starcatalog_fram_fil[err_c2] <=0.2))]\n",
    "### additional judgement\n",
    "\n",
    "# starcatalog_fram_fil=starcatalog_fram_fil[(starcatalog_fram_fil[err_c1] <=0.2)\\\n",
    "#                                            &(starcatalog_fram_fil[err_c2] <=0.05)]\n",
    "\n",
    "print(starcatalog_fram_fil.iloc[:,0].size)"
   ]
  },
  {
   "cell_type": "code",
   "execution_count": 59,
   "metadata": {
    "collapsed": true
   },
   "outputs": [],
   "source": [
    "### draw the png of errTeff \n",
    "\n",
    "# plt.figure(3)\n",
    "# plt.xlabel('$T_\\mathrm{eff}(K)$',fontsize=14)\n",
    "# plt.ylabel('$σ_\\mathrm{Teff}$',fontsize=14)\n",
    "# plt.scatter(starcatalog_fram_fil[teff],starcatalog_fram_fil[err_teff],\\\n",
    "#             c='steelblue',s=8, edgecolors='None',alpha=0.2,label='$σ_\\mathrm{Teff}$(LAMOST)')\n",
    "# plt.legend(loc='lower right')\n",
    "# plt.xticks(fontsize=12)\n",
    "# plt.yticks(fontsize=12)\n",
    "# plt.savefig(savename3,dpi=200)  \n",
    "# plt.show()\n",
    "\n",
    "### "
   ]
  },
  {
   "cell_type": "code",
   "execution_count": 60,
   "metadata": {},
   "outputs": [
    {
     "name": "stdout",
     "output_type": "stream",
     "text": [
      "       col1        TEFF   ERR_TEFF          RA        DEC      LOGG  ERR_LOGG  \\\n",
      "1         2   8894.6210  478.29016   10.766761  36.745876  4.174851  0.245985   \n",
      "3         7   9097.6800  495.52026   12.677014  37.582947  3.709787  0.235823   \n",
      "5        12   8816.0280  433.36658   10.989372  37.464676  4.626165  0.158456   \n",
      "8        16   8973.1980  469.27066   11.649900  39.508762  4.316179  0.252921   \n",
      "10       20   8914.3125  480.73682   10.766761  36.745876  4.166037  0.259909   \n",
      "12       23  10404.8640  571.85645   12.677014  37.582947  3.662342  0.225923   \n",
      "14       30   8854.5090  445.03570   10.989372  37.464676  4.623707  0.174761   \n",
      "17       34   8764.4720  509.12710   11.649900  39.508762  3.998720  0.295417   \n",
      "20       46   8506.7910  426.00500   10.766761  36.745876  4.235578  0.276795   \n",
      "23       63   8269.9930  403.57413   12.412770  37.503098  3.563983  0.205603   \n",
      "34      141  17700.8930  564.80096   12.909964  37.537331  3.602798  0.219409   \n",
      "54      503   8642.8300  450.01430   26.169851  28.518057  4.317882  0.260407   \n",
      "55      504  11654.1370  629.70290   26.357738  31.230356  3.781759  0.226734   \n",
      "56      505  14273.2720  610.11414   26.794254  30.537003  3.813669  0.224721   \n",
      "58      507   8596.3040  436.14590   26.297784  31.545040  4.473267  0.271506   \n",
      "60      579   8659.7330  458.92590   24.810197  29.016003  5.459294  0.276957   \n",
      "63      582  12449.0205  606.30170   26.357738  31.230356  3.813669  0.224126   \n",
      "66      586   8610.8250  445.42667   26.297784  31.545040  4.305827  0.265862   \n",
      "68      590   8608.9380  440.26865   26.297801  31.545019  4.541240  0.227030   \n",
      "70      806   8086.3640  380.39220   23.397182  27.519711  3.618063  0.219883   \n",
      "71      807   8489.5430  358.21866   24.832878  29.229410  3.569777  0.262578   \n",
      "72      809   8730.8210  478.86328   24.472111  30.338034  3.717399  0.242707   \n",
      "76      817   8981.1660  446.02320   23.996254  28.761608  4.094865  0.170479   \n",
      "77      819  10877.0120  582.77010   21.362441  27.410208  3.857612  0.219739   \n",
      "78      821   8843.0200  467.94354   25.227849  29.676411  3.538427  0.195839   \n",
      "79      822   8576.1580  428.75250   26.169851  28.518057  4.464834  0.235482   \n",
      "80      823   9086.2120  505.64853   22.466523  30.137917  3.627091  0.244944   \n",
      "83      827   8192.8880  424.51175   19.143521  31.481236  4.953252  0.279248   \n",
      "86      833   9950.7295  586.86240   19.461708  32.280659  3.571159  0.222303   \n",
      "88      839   8414.1710  384.65158   19.143521  31.481236  5.206752  0.242335   \n",
      "...     ...         ...        ...         ...        ...       ...       ...   \n",
      "24090  2194  20170.8320  617.02960  101.952530  38.508511  3.781025  0.231390   \n",
      "24109  2307  20670.0330  555.10956  267.395051   5.259134  3.725463  0.221533   \n",
      "24114  2353  21681.2400  591.89996   18.225728  32.633606  3.727426  0.230482   \n",
      "24133  3157  23605.3540  537.04510  141.166946  30.836819  3.697475  0.212756   \n",
      "24136  3161  22188.7810  527.82790  165.973167  11.001214  3.727426  0.218755   \n",
      "24137  3206  21391.7710  597.47940  114.396560  35.605743  3.812556  0.229664   \n",
      "24149  3370  21468.3900  606.31070  194.337758  19.414326  3.727426  0.233590   \n",
      "24150  3371  21137.7930  606.15020  127.757904   3.002010  3.812556  0.231353   \n",
      "24163  3466  22455.3500  565.52820  221.292850  14.229163  3.752531  0.217579   \n",
      "24169  3536  20134.8300  587.96580  269.225838  25.285391  3.781025  0.226054   \n",
      "24171  3620  23708.9450  559.90906  343.076508  22.301397  3.697475  0.214648   \n",
      "24172  3622  22189.7320  547.71130   18.857196  44.982426  3.727426  0.222065   \n",
      "24180  3815  21569.8000  532.22570  314.217996   3.596911  3.812556  0.218350   \n",
      "24184  4061  21795.5250  591.95220   67.782979  56.252281  3.648789  0.212833   \n",
      "24193  4188  21120.9820  576.48346  322.233359   3.658329  3.812556  0.225730   \n",
      "24194  4189  20525.3630  601.45000  324.975129   3.549147  3.577609  0.230539   \n",
      "24195  4266  22600.7680  628.22217   27.729708   2.877662  3.660014  0.225551   \n",
      "24196  4298  24157.7480  552.20660   22.893805  32.623292  4.395270  0.217925   \n",
      "24202  4362  21617.4570  571.01180   46.061864  44.170376  3.727426  0.226176   \n",
      "24211  4551  22072.9880  516.50370   67.782979  56.252281  3.816145  0.216426   \n",
      "24214  4655  21441.1330  595.37634  111.163460  43.972833  3.812556  0.229260   \n",
      "24217  4671  21932.5020  618.47473  226.276064  38.504841  3.625908  0.220335   \n",
      "24218  4681  20066.7680  586.84980  166.949420  38.597446  3.781025  0.225858   \n",
      "24221  4706  21294.2130  570.29590  129.732938  17.644924  3.812556  0.224616   \n",
      "24222  4707  22144.5210  575.27530  129.709400  17.727288  3.816145  0.225262   \n",
      "24225  4716  20458.0350  568.06420  204.542970  43.295307  3.860888  0.224073   \n",
      "24233  4741  21427.1270  611.94434  241.210183   5.319241  3.812556  0.232501   \n",
      "24238  4803  21655.6040  620.60450  191.470090  17.853395  3.625908  0.224491   \n",
      "24245  4847  20197.7640  579.75946  244.328959  54.545199  3.781025  0.224628   \n",
      "24247  4874  21147.7170  573.32330  192.439540  20.759055  3.812556  0.225158   \n",
      "\n",
      "            FEH   ERR_FEH       RAdeg    ...                 objid_x  \\\n",
      "1     -0.563683  0.297892   10.766761    ...     6372252843229842226   \n",
      "3     -1.176679  0.261932   12.677006    ...     6372252831418680439   \n",
      "5     -0.598296  0.249077   10.989391    ...     6372252832492423013   \n",
      "8     -0.628108  0.326165   11.649893    ...     6372252808870103173   \n",
      "10    -0.586290  0.311061   10.766761    ...     6372252843229842226   \n",
      "12    -0.156920  0.558641   12.677006    ...     6372252831418680439   \n",
      "14    -0.599536  0.256315   10.989391    ...     6372252832492423013   \n",
      "17    -0.251176  0.338607   11.649893    ...     6372252808870103173   \n",
      "20    -0.538938  0.319277   10.766761    ...     6372252843229842226   \n",
      "23    -0.759871  0.304887   12.412724    ...     6372252831418680082   \n",
      "34     0.104991  0.543770   12.909910    ...     6372252831418680147   \n",
      "54    -0.415171  0.300112   26.169862    ...     6373132403139938859   \n",
      "55     0.201574  0.549436   26.357771    ...     6373132467564447199   \n",
      "56     0.163931  0.548166   26.794237    ...     6373132400992455200   \n",
      "58    -1.952481  0.349987   26.297777    ...     6373132467564448485   \n",
      "60    -1.931860  0.311473   24.810194    ...     6373132397771227979   \n",
      "63     0.163931  0.547516   26.357771    ...     6373132467564447199   \n",
      "66    -1.996816  0.331114   26.297777    ...     6373132467564448485   \n",
      "68    -1.858245  0.364385   26.297777    ...     6373132467564448485   \n",
      "70    -0.419884  0.251463   23.397197    ...     6387980260774775891   \n",
      "71    -0.347731  0.370258   24.832849    ...     6373132397771228790   \n",
      "72    -0.526891  0.303406   24.472108    ...     6373132393476262830   \n",
      "76    -0.787389  0.322601   23.996300    ...     6373132394550001938   \n",
      "77     0.202567  0.542315   21.362453    ...     6387980244668650011   \n",
      "78    -1.076390  0.286759   25.227864    ...     6373132397771230861   \n",
      "79    -0.256332  0.325727   26.169862    ...     6373132403139938859   \n",
      "80    -1.495535  0.269075   22.466539    ...     6373132390252939760   \n",
      "83    -3.101962  0.319366   19.143527    ...     6372393600045548877   \n",
      "86    -1.181962  0.312725   19.461717    ...     6372393590381872143   \n",
      "88    -3.006041  0.275308   19.143527    ...     6372393600045548877   \n",
      "...         ...       ...         ...    ...                     ...   \n",
      "24090 -0.029930  0.562366  101.952493    ...     6373800927682367068   \n",
      "24109 -0.081511  0.550322  267.395050    ...     6375419384104488506   \n",
      "24114 -0.187459  0.566698   18.225360    ...     6372393591455615366   \n",
      "24133  0.315244  0.511826  141.166969    ...     6378445266947671437   \n",
      "24136 -0.189134  0.549068  165.973090    ...     6381893374067083160   \n",
      "24137 -0.106597  0.562539  114.396749    ...     6373836163594062303   \n",
      "24149 -0.193519  0.571890  194.337786    ...     6378621178070700864   \n",
      "24150 -0.106597  0.565057  127.757914    ...     6377952717948588272   \n",
      "24163  0.200010  0.540463  221.292836    ...     6383511780021242910   \n",
      "24169 -0.029930  0.554976  269.225863    ...     6375243460096561279   \n",
      "24171  0.316701  0.512298  343.076497    ...     6376087920460172579   \n",
      "24172 -0.186613  0.553785   18.857068    ...     6372428732878030020   \n",
      "24180 -0.106597  0.546741  314.217514    ...     6379430448693512352   \n",
      "24184  0.567001  0.436210   67.783165    ...     6372780609884916335   \n",
      "24193 -0.106597  0.556807  322.233513    ...     6376580489858254092   \n",
      "24194 -0.110808  0.563990  324.975129    ...     6376580523144250077   \n",
      "24195  0.232295  0.547408   27.729706    ...     6380274894024738734   \n",
      "24196  0.093945  0.542471   22.893800    ...     6372393587160646353   \n",
      "24202 -0.177516  0.559677   46.061877    ...     6372851000103929131   \n",
      "24211 -0.126919  0.544725   67.783165    ...     6372780609884916335   \n",
      "24214 -0.106597  0.561941  111.163473    ...     6373836074475588871   \n",
      "24217  0.363740  0.501846  226.276091    ...     6374786096545402819   \n",
      "24218 -0.029930  0.554713  166.949429    ...     6374645347245885444   \n",
      "24221 -0.106597  0.555223  129.732942    ...     6377811899929593046   \n",
      "24222 -0.094864  0.555791  129.709384    ...     6377811899929593470   \n",
      "24225 -0.099268  0.554251  204.542973    ...     6374750884256026750   \n",
      "24233 -0.106597  0.566786  241.210173    ...     6382808128012946701   \n",
      "24238  0.228544  0.546404  191.470075    ...     6378761880125574825   \n",
      "24245 -0.029930  0.553073  244.328959    ...     6371021390206731064   \n",
      "24247 -0.106597  0.555991  192.439537    ...     6378726784871958633   \n",
      "\n",
      "           E_bv  objtype     fuv_flux  fuv_fluxerr    nuv_flux nuv_fluxerr  \\\n",
      "1      0.046020      0.0     45.66050      9.47148    203.3750     7.03823   \n",
      "3      0.051824      0.0     10.07840      4.21250    119.3040     5.46438   \n",
      "5      0.056678      0.0    218.81500     17.71910    384.9730     9.62189   \n",
      "8      0.057281      0.0    110.02700     11.68650    266.4720    11.59240   \n",
      "10     0.046020      0.0     45.66050      9.47148    203.3750     7.03823   \n",
      "12     0.051824      0.0     10.07840      4.21250    119.3040     5.46438   \n",
      "14     0.056678      0.0    218.81500     17.71910    384.9730     9.62189   \n",
      "17     0.057281      0.0    110.02700     11.68650    266.4720    11.59240   \n",
      "20     0.046020      0.0     45.66050      9.47148    203.3750     7.03823   \n",
      "23     0.054861      0.0    136.00200     13.94750    283.9650     8.31914   \n",
      "34     0.053950      0.0    533.28900     25.74580    364.9540     8.93781   \n",
      "54     0.062350      0.0     50.06360      4.93726    295.3900     7.69119   \n",
      "55     0.054328      0.0   1059.57000     28.00680   2116.0900    25.59030   \n",
      "56     0.048829      0.0   7209.69000     72.96830   6772.4200    44.56360   \n",
      "58     0.057939      0.0    109.00700      9.19527   1517.7300    20.55210   \n",
      "60     0.062286      0.0    296.42900     14.08920    673.4140    12.31490   \n",
      "63     0.054328      0.0   1059.57000     28.00680   2116.0900    25.59030   \n",
      "66     0.057939      0.0    109.00700      9.19527   1517.7300    20.55210   \n",
      "68     0.057939      0.0    109.00700      9.19527   1517.7300    20.55210   \n",
      "70     0.091200      0.0     58.27460      5.53035    382.3470     8.31620   \n",
      "71     0.058933      0.0    447.39300     16.27610    940.2650    14.75650   \n",
      "72     0.051344      0.0     56.93130      4.67516    179.7260     6.04283   \n",
      "76     0.082705      0.0    175.35900     10.11380    496.3070     9.17793   \n",
      "77     0.074107      0.0    989.24400     13.91140   1469.8900     9.32920   \n",
      "78     0.048011      0.0    119.21200      8.60172    309.2580     8.33384   \n",
      "79     0.062350      0.0     50.06360      4.93726    295.3900     7.69119   \n",
      "80     0.057157      0.0      0.00000      0.00000    128.0920     5.73713   \n",
      "83     0.069009      0.0   2637.84000     52.13430   1788.6500    28.87080   \n",
      "86     0.068008      0.0      6.57465      1.96155    145.3630     5.68297   \n",
      "88     0.069009      0.0   2637.84000     52.13430   1788.6500    28.87080   \n",
      "...         ...      ...          ...          ...         ...         ...   \n",
      "24090  0.127738      0.0      0.00000      0.00000   1186.4600    16.52660   \n",
      "24109  0.255582      0.0   7311.49000     66.60810   4974.6900    34.59620   \n",
      "24114  0.055203      0.0   4235.61000     65.61780   3751.5700    40.77410   \n",
      "24133  0.024573      0.0  24547.60000    182.62700  14937.9000    54.72570   \n",
      "24136  0.021930      0.0  10845.10000    111.00300   9039.1600    45.12040   \n",
      "24137  0.046244      0.0      0.00000      0.00000    988.6530    19.50470   \n",
      "24149  0.020260      0.0   2688.54000     54.82440   1596.8500    16.63850   \n",
      "24150  0.029983      0.0      0.00000      0.00000    286.0160     9.22793   \n",
      "24163  0.018878      0.0   6179.42000     81.46340   3829.1600    39.53220   \n",
      "24169  0.092153      0.0   3079.72000     44.05190   1803.3200    21.89520   \n",
      "24171  0.085282      0.0   4568.85000     67.71550   3394.2000    19.50910   \n",
      "24172  0.084124      0.0   2686.62000     54.85740   1644.5000    27.69870   \n",
      "24180  0.071154      0.0  18872.70000    124.15300  13735.2000    64.84060   \n",
      "24184  0.657872      0.0   7042.32000     55.49530   6248.7100    36.55610   \n",
      "24193  0.063677      0.0   1871.93000     37.75920   1102.5100    15.64960   \n",
      "24194  0.092002      0.0     90.83750      6.30440    108.7230     4.46903   \n",
      "24195  0.029720      0.0   2347.95000     33.31800   1898.5100    19.71970   \n",
      "24196  0.049697      0.0  11108.20000     51.86780   7986.7300    30.71000   \n",
      "24202  0.247794      0.0   5330.43000     82.38960   7401.2500    64.53280   \n",
      "24211  0.657872      0.0   7042.32000     55.49530   6248.7100    36.55610   \n",
      "24214  0.085935      0.0   1363.96000     28.79420    734.6270     8.07313   \n",
      "24217  0.012859      0.0    246.36900     16.39560    460.3890     9.70795   \n",
      "24218  0.020891      0.0   2241.48000     34.70630   1491.2400    19.74420   \n",
      "24221  0.030067      0.0      0.00000      0.00000    152.2730     3.82797   \n",
      "24222  0.028255      0.0      0.00000      0.00000     90.9792     3.08268   \n",
      "24225  0.009176      0.0    989.86400     16.40280    883.8940    11.18050   \n",
      "24233  0.063232      0.0    375.20600     14.38300    294.0300     6.60254   \n",
      "24238  0.022714      0.0    902.20300     26.37910    790.3990    17.71980   \n",
      "24245  0.010600      0.0    226.37200     14.05130    313.4190     5.59638   \n",
      "24247  0.027842      0.0      0.00000      0.00000     94.2053     4.23211   \n",
      "\n",
      "       fuv_artifact nuv_artifact angDist_x  \n",
      "1                 0            0  0.012519  \n",
      "3                 0            0  0.765903  \n",
      "5                 0            0  0.863048  \n",
      "8                 0            2  0.605957  \n",
      "10                0            0  0.012519  \n",
      "12                0            0  0.765903  \n",
      "14                0            0  0.863048  \n",
      "17                0            2  0.605957  \n",
      "20                0            0  0.012519  \n",
      "23                0            0  0.274058  \n",
      "34                0            1  0.827774  \n",
      "54                0            0  0.827220  \n",
      "55                0            0  0.275505  \n",
      "56                0            0  1.735132  \n",
      "58                0            0  2.020916  \n",
      "60                0            0  0.281834  \n",
      "63                0            0  0.275505  \n",
      "66                0            0  2.020916  \n",
      "68                0            0  2.020916  \n",
      "70                0            0  0.149110  \n",
      "71                0            0  0.201442  \n",
      "72                0            0  0.123730  \n",
      "76                0            1  0.437021  \n",
      "77                0            1  0.740446  \n",
      "78                0            0  0.265128  \n",
      "79                0            0  0.827220  \n",
      "80                0            0  1.153157  \n",
      "83                0            0  1.209727  \n",
      "86                0            0  0.581272  \n",
      "88                0            0  1.209727  \n",
      "...             ...          ...       ...  \n",
      "24090           256            4  0.323174  \n",
      "24109             0            0  1.036483  \n",
      "24114             0            0  0.315655  \n",
      "24133             0            0  0.790819  \n",
      "24136             0            0  1.119105  \n",
      "24137             0            0  2.681671  \n",
      "24149             0            0  0.644052  \n",
      "24150             0            1  0.625823  \n",
      "24163             0            1  1.786499  \n",
      "24169             0            0  0.585624  \n",
      "24171             0            0  0.717263  \n",
      "24172             0            1  0.746479  \n",
      "24180             0            0  1.814490  \n",
      "24184             0            0  0.199196  \n",
      "24193             0            0  1.069344  \n",
      "24194             0            0  0.536649  \n",
      "24195             0            0  1.001447  \n",
      "24196           256            0  0.851074  \n",
      "24202             0            0  0.777174  \n",
      "24211             0            0  0.199196  \n",
      "24214             0            0  0.346680  \n",
      "24217             0            0  0.177915  \n",
      "24218             0            0  0.336067  \n",
      "24221             0            0  0.338661  \n",
      "24222             0           17  0.415598  \n",
      "24225             0            0  0.345596  \n",
      "24233             0          256  0.129827  \n",
      "24238             0            0  0.466844  \n",
      "24245             0            1  0.369577  \n",
      "24247             0            0  0.964008  \n",
      "\n",
      "[9602 rows x 64 columns]\n"
     ]
    }
   ],
   "source": [
    "# cut source g-r:0.440\n",
    "origin = starcatalog_fram_fil\n",
    "print(origin)\n",
    "# starcatalog_fram_fil=starcatalog_fram_fil[(starcatalog_fram_fil[color1]-starcatalog_fram_fil[color2]>= -0.50)\\\n",
    "#                                          & (starcatalog_fram_fil[color1]>=12)]"
   ]
  },
  {
   "cell_type": "markdown",
   "metadata": {},
   "source": [
    "## 有效温度 Teff 的限制（Input:）"
   ]
  },
  {
   "cell_type": "code",
   "execution_count": 61,
   "metadata": {},
   "outputs": [
    {
     "name": "stdout",
     "output_type": "stream",
     "text": [
      "24157.748\n"
     ]
    }
   ],
   "source": [
    "#filt the good one\n",
    "#apogee_tbl_fil = apogee_tbl[np.argwhere(np.logical_and(apogee_tbl['teff'] > 0, apogee_tbl['logg'] > -3))]\n",
    "#apogee_tbl_fil = apogee_tbl_fil[np.argwhere(np.logical_and(apogee_tbl_fil['j'].flatten() > -1, \\\n",
    "#                                                           apogee_tbl_fil['h'].flatten() > -1))]\n",
    "#USE goodOB \n",
    "\n",
    "\n",
    "starcatalog_fram_fil=starcatalog_fram_fil[(((starcatalog_fram_fil[err_teff] != 0 )\\\n",
    "                                          & (starcatalog_fram_fil[teff]>= 10000))\\\n",
    "                                          #& (starcatalog_fram_fil[teff]<= 16000))\n",
    "                                          & (((starcatalog_fram_fil[err_teff]< 630)\\\n",
    "                                          &(starcatalog_fram_fil[teff]> 9000))\\\n",
    "                                          |((starcatalog_fram_fil[err_teff]< 500)\\\n",
    "                                          & (starcatalog_fram_fil[teff]<= 9000))))]\n",
    "print(np.max(starcatalog_fram_fil[teff]))"
   ]
  },
  {
   "cell_type": "markdown",
   "metadata": {},
   "source": [
    "## 蓝色边缘的比例，bin最小值的选取（Input：）"
   ]
  },
  {
   "cell_type": "code",
   "execution_count": 62,
   "metadata": {
    "collapsed": true
   },
   "outputs": [],
   "source": [
    "# Determine the input numbers.\n",
    "\n",
    "# Bin width, usually 50 (for more scatter, try 1000 or other figures)\n",
    "#bin_width = 1000\n",
    "\n",
    "# Ratio of the bluest edge, usually 5%\n",
    "rat = 5\n",
    "\n",
    "# Low end criteria. If the number in a bin is lower than this number then neglect.  \n",
    "low_crit = 50"
   ]
  },
  {
   "cell_type": "code",
   "execution_count": 63,
   "metadata": {
    "collapsed": true
   },
   "outputs": [],
   "source": [
    "# input the data of Bessell. M.S. & Brett. J.M. 1988\n",
    "# BBFrame is the dataframe of the ic data \n",
    "\n",
    "BBFrame=pd.DataFrame({'J-H':[-0.09,-0.08,-0.07,-0.06,-0.05,-0.03,-0.03,-0.01,0.0,0.02,0.06],\\\n",
    "                      'Teff':[22300,19000,17200,15400,14100,13000,11800,10700,9480,8810,8160]})\n"
   ]
  },
  {
   "cell_type": "markdown",
   "metadata": {},
   "source": [
    "## 比较星表的数据选取（Input:）"
   ]
  },
  {
   "cell_type": "code",
   "execution_count": 64,
   "metadata": {},
   "outputs": [],
   "source": [
    "# parsec point\n",
    "parsecframe = parsec_fram[((parsec_fram['Age'] == 3980000)\\\n",
    "                           &(parsec_fram['logTe'] <= 4.361)\\\n",
    "                           &(parsec_fram['logTe'] >= 4.000))]\n",
    "parsec_teff =10**parsecframe['logTe'] \n",
    "parsec_color = parsecframe['NUVmag'] - parsecframe[color2]\n",
    "#print(parsecframe.values)\n",
    "                                         "
   ]
  },
  {
   "cell_type": "code",
   "execution_count": 65,
   "metadata": {
    "collapsed": true
   },
   "outputs": [],
   "source": [
    "# Find the start point and bin number of Teff. \n",
    "# Start point: the first number divisible by bin_width smaller than min(teff)\n",
    "# Bin number: Start from start point and cover all the teff range.\n",
    "\n",
    "\n",
    "#teff_start = min(apogee_tbl_fil['teff']) - min(apogee_tbl_fil['teff']) % (bin_width/2)\n",
    "#bin_number = math.ceil((max(apogee_tbl_fil['teff']) - teff_start) / bin_width)\n",
    "\n",
    "#teff_start = min(starcatalog_fram_fil[teff])-min(starcatalog_fram_fil[teff])%(bin_width / 2)\n",
    "\n",
    "teff_start= 10000\n",
    "\n",
    "#bin_number = math.ceil((max(starcatalog_fram_fil[teff])-teff_start) / bin_width)\n"
   ]
  },
  {
   "cell_type": "code",
   "execution_count": 66,
   "metadata": {
    "collapsed": true
   },
   "outputs": [],
   "source": [
    "#filt BBFrame\n",
    "BBFrame_fil=BBFrame[BBFrame['Teff'] >= teff_start]"
   ]
  },
  {
   "cell_type": "markdown",
   "metadata": {},
   "source": [
    "# 内禀色指数的计算（蓝色边缘方法），同时取出某一部分用于SFD判断"
   ]
  },
  {
   "cell_type": "markdown",
   "metadata": {},
   "source": [
    "## DEF"
   ]
  },
  {
   "cell_type": "code",
   "execution_count": 67,
   "metadata": {
    "collapsed": true
   },
   "outputs": [],
   "source": [
    "def data(teff_start,ratio,low_crit,ratio_SFD):\n",
    "    \n",
    "    start_time = time.time()\n",
    "    int_teff = []\n",
    "    int_color = []\n",
    "    bin_int_color = []\n",
    "    \n",
    "    SFD_RA = []; SFD_DEC = []; SFD_TEFF = []; SFD_color1 = []; SFD_color2 = [];\n",
    "    \n",
    "    data_final = pd.DataFrame(columns=[teff,color1,color2])\n",
    "    teff_judge = teff_start\n",
    "    while teff_judge < np.max(starcatalog_fram_fil[teff]) - 1000:\n",
    "       \n",
    "        if teff_judge <9000:\n",
    "            bin_width = 100\n",
    "        else:\n",
    "            bin_width = 630\n",
    "\n",
    "        bin_tbl =starcatalog_fram_fil[np.logical_and(starcatalog_fram_fil[teff] > teff_judge, \\\n",
    "                                                starcatalog_fram_fil[teff] < teff_judge+bin_width)]\n",
    "\n",
    "        #print(teff_judge)\n",
    "       \n",
    "        \n",
    "        if len(bin_tbl) < low_crit:\n",
    "            teff_judge = teff_judge+bin_width\n",
    "            continue\n",
    "            \n",
    "        source_num = 0\n",
    "        #print(len(bin_tbl))\n",
    "\n",
    "        while source_num != len(bin_tbl):\n",
    "            source_num = len(bin_tbl)\n",
    "\n",
    "        data_final = data_final.append(bin_tbl[[teff,color1,color2]])\n",
    "        #print(len(bin_tbl))\n",
    "\n",
    "        int_teff.append(float(teff_judge+bin_width/2))\n",
    "        bin_tbl['color'] = bin_tbl[color1]-bin_tbl[color2]\n",
    "        bin_sort = bin_tbl.sort_index(axis = 0,ascending = True,by = 'color')\n",
    "        \n",
    "        # 每个bin中前ratio_SFD的部分用于取得ebv\n",
    "        color_SFD = bin_sort['color'].values[:math.ceil(len(bin_tbl)*ratio_SFD/100)]\n",
    "        bin_tbl_SFD = bin_sort[(bin_sort['color']<=np.max(color_SFD))]\n",
    "        \n",
    "        for ppp in range(len(bin_tbl_SFD)):\n",
    "            SFD_RA.append(bin_tbl_SFD['RA'].values[ppp])\n",
    "            SFD_DEC.append(bin_tbl_SFD['DEC'].values[ppp])\n",
    "            SFD_TEFF.append(bin_tbl_SFD['TEFF'].values[ppp])\n",
    "            SFD_color1.append(bin_tbl_SFD[color1].values[ppp])\n",
    "            SFD_color2.append(bin_tbl_SFD[color2].values[ppp])\n",
    "        \n",
    "        # 每个bin中前ratio(usually 5%)的部分 用于取得内禀色指数int_color\n",
    "        color5 = bin_sort['color'].values[:math.ceil(len(bin_tbl)*ratio/100)]\n",
    "        bin_tbl_5 = bin_sort[(bin_sort['color']<=np.max(color5))]\n",
    "        \n",
    "        if len(color5) != 0:\n",
    "            bin_mean = np.median(color5)\n",
    "            bin_sigma = np.std(color5)\n",
    "            bin_int_color = color5\\\n",
    "            [((color5<= bin_mean+3*bin_sigma)\\\n",
    "            & (color5>= bin_mean-3*bin_sigma))]\n",
    "\n",
    "            int_color.append(np.median(bin_int_color))\n",
    "            \n",
    "        teff_judge = teff_judge+bin_width\n",
    "        \n",
    "    SFD_tbl_final = pd.DataFrame({'TEFF':np.array(SFD_TEFF),'RA':np.array(SFD_RA),\\\n",
    "                                  'DEC':np.array(SFD_DEC),color1:np.array(SFD_color1),\\\n",
    "                                 color2:np.array(SFD_color2)})\n",
    "    \n",
    "    print(time.time() - start_time)\n",
    "    print(int_teff,int_color)\n",
    "#     print(bin_mean)\n",
    "#     print(data_final.iloc[:,0].size)\n",
    "    return int_teff,int_color,data_final,SFD_tbl_final"
   ]
  },
  {
   "cell_type": "markdown",
   "metadata": {},
   "source": [
    "## 运算，拟合，SFD的准备（Input:)"
   ]
  },
  {
   "cell_type": "code",
   "execution_count": 68,
   "metadata": {
    "scrolled": true
   },
   "outputs": [
    {
     "name": "stderr",
     "output_type": "stream",
     "text": [
      "/Users/SY/anaconda/lib/python3.6/site-packages/ipykernel_launcher.py:38: SettingWithCopyWarning: \n",
      "A value is trying to be set on a copy of a slice from a DataFrame.\n",
      "Try using .loc[row_indexer,col_indexer] = value instead\n",
      "\n",
      "See the caveats in the documentation: http://pandas.pydata.org/pandas-docs/stable/indexing.html#indexing-view-versus-copy\n",
      "/Users/SY/anaconda/lib/python3.6/site-packages/ipykernel_launcher.py:39: FutureWarning: by argument to sort_index is deprecated, pls use .sort_values(by=...)\n"
     ]
    },
    {
     "name": "stdout",
     "output_type": "stream",
     "text": [
      "0.607712984085083\n",
      "[10315.0, 10945.0, 11575.0, 12205.0, 12835.0, 13465.0, 14095.0, 14725.0, 15355.0, 17875.0] [-0.4269999999999996, -1.1969999999999974, -1.5009999999999994, -1.4180000000000028, -1.0469999999999997, -1.077, -1.4725000000000001, -1.0099999999999998, -1.3784999999999989, -0.93900000000000006]\n"
     ]
    }
   ],
   "source": [
    "# SFD ratio\n",
    "\n",
    "ratio_SFD = 5\n",
    "\n",
    "# fitting curve\n",
    "int_teff,int_color,data_final,SFD_tbl_ratio = data(teff_start,rat,low_crit,ratio_SFD)\n",
    "\n",
    "fc = np.polyfit(int_teff, int_color, 3)#用3次多项式拟合\n",
    "fitcurve = np.poly1d(fc)\n",
    "# print(fitcurve) #在屏幕上打印拟合多项式\n",
    "\n",
    "colorvals=fitcurve(int_teff)\n",
    "\n",
    "# print(len(colorvals),len(int_teff))\n",
    "#print(len(bin_tbl_final[teff].values))\n",
    "\n",
    "# SFD_tbl_ratio[teff]\n"
   ]
  },
  {
   "cell_type": "markdown",
   "metadata": {},
   "source": [
    "# SFD的使用：—— 将使用到新的包\n",
    "\n",
    "1. 选取SFD中Ebv小于某一个值的认为是零消光源（Lamost)——Thins page\n",
    "2. 用目前的色指数减去 Ebv 给出的消光值，然后去归算内禀色指数 - GOSSS"
   ]
  },
  {
   "cell_type": "code",
   "execution_count": 69,
   "metadata": {
    "scrolled": true
   },
   "outputs": [
    {
     "name": "stdout",
     "output_type": "stream",
     "text": [
      "96\n",
      "1\n",
      "2\n",
      "4\n",
      "5\n",
      "6\n",
      "7\n",
      "9\n",
      "10\n",
      "11\n",
      "12\n",
      "13\n",
      "14\n",
      "15\n",
      "18\n",
      "19\n",
      "20\n",
      "25\n",
      "26\n",
      "28\n",
      "29\n",
      "32\n",
      "33\n",
      "34\n",
      "35\n",
      "36\n",
      "37\n",
      "38\n",
      "39\n",
      "40\n",
      "41\n",
      "42\n",
      "43\n",
      "44\n",
      "45\n",
      "46\n",
      "47\n",
      "49\n",
      "51\n",
      "52\n",
      "53\n",
      "54\n",
      "55\n",
      "56\n",
      "57\n",
      "58\n",
      "59\n",
      "60\n",
      "61\n",
      "62\n",
      "63\n",
      "64\n",
      "65\n",
      "66\n",
      "68\n",
      "69\n",
      "70\n",
      "71\n",
      "72\n",
      "73\n",
      "75\n",
      "76\n",
      "78\n",
      "80\n",
      "81\n",
      "82\n",
      "83\n",
      "84\n",
      "86\n",
      "88\n",
      "90\n",
      "91\n",
      "92\n",
      "93\n",
      "95\n",
      "11.958463191986084\n"
     ]
    }
   ],
   "source": [
    "## use SFD dustmap\n",
    "from __future__ import print_function\n",
    "from astropy.coordinates import SkyCoord\n",
    "from astropy import units as u\n",
    "from dustmaps.sfd import SFDQuery\n",
    "\n",
    "sfd = SFDQuery()\n",
    "\n",
    "## ebv前的系数需要去文献中拿到。目前使用的是r和i的\n",
    "# Const1 = 0.709 #J #3.303 #g #2.285 #r \n",
    "# Const2 = 0.449 #H #2.285 #r #1.698 #i\n",
    "\n",
    "time_start = time.time()\n",
    "SFD_catalog_color = []\n",
    "SFD_catalog_teff = []\n",
    "lens = len(SFD_tbl_ratio)\n",
    "\n",
    "ebv_final = []\n",
    "\n",
    "# 判断ebv < 0.05，就拿入下一个数组，最后一起画在图上\n",
    "print(lens)\n",
    "for i in range(lens):\n",
    "    coords = SkyCoord(SFD_tbl_ratio['RA'].values[i],SFD_tbl_ratio['DEC'].values[i],\\\n",
    "                      frame = 'icrs',unit = 'deg')\n",
    "    ebv = sfd(coords)\n",
    "    ebv_final.append(ebv)\n",
    "    \n",
    "#     A_c1 = Const1*ebv;\n",
    "#     A_c2 = Const2*ebv;\n",
    "\n",
    "    if ebv < 0.05:\n",
    "        SFD_colorindex = SFD_tbl_ratio[color1].values[i]\\\n",
    "        - (SFD_tbl_ratio[color2].values[i])\n",
    "        SFD_catalog_color.append(SFD_colorindex)\n",
    "    \n",
    "        SFD_catalog_teff.append(SFD_tbl_ratio[teff].values[i])\n",
    "        print(i)\n",
    "#     print(i)\n",
    "\n",
    "print(time.time() - time_start)"
   ]
  },
  {
   "cell_type": "markdown",
   "metadata": {},
   "source": [
    "# 图片输出"
   ]
  },
  {
   "cell_type": "markdown",
   "metadata": {},
   "source": [
    "## 图片保存格式（Input:)"
   ]
  },
  {
   "cell_type": "code",
   "execution_count": 70,
   "metadata": {
    "collapsed": true
   },
   "outputs": [],
   "source": [
    "### figures & Savename\n",
    "cc1 = 'nuv'\n",
    "cc2 = 'g'\n",
    "\n",
    "save = data_dir + 'pictures/'\n",
    "# save = '/Users/SY/Desktop/obic/picture/'\n",
    "\n",
    "i = datetime.datetime.now()\n",
    "date_now = \"%s_%s_%s_\" % (i.year, i.month, i.day) \n",
    "ylabel = '$%s - %s$'%(cc1,cc2) \n",
    "savename1 = save + date_now + cc1 + cc2 + 'logg3'+'.png'\n",
    "savename2 = save + date_now + cc1 + '_HR_' + cc2 +'.png'\n",
    "savename3 = save + date_now + 'errteff.png'\n",
    "\n",
    "savename5 = save + date_now + cc1 + cc2 + '_logg3_SFD'+'5%'+'.png'\n"
   ]
  },
  {
   "cell_type": "code",
   "execution_count": 71,
   "metadata": {},
   "outputs": [
    {
     "name": "stdout",
     "output_type": "stream",
     "text": [
      "            3             2\n",
      "-2.029e-11 x + 8.857e-07 x - 0.01261 x + 57.29\n"
     ]
    }
   ],
   "source": [
    "# plt hist of ebv\n",
    "\n",
    "# plt.hist(ebv_final,1000)\n",
    "# plt.savefig(save+'ebv.png',dpi = 200)\n",
    "# plt.xlim(0,2)\n",
    "# plt.show()\n",
    "\n",
    "# 拟合SFD\n",
    "\n",
    "fcc = np.polyfit(SFD_catalog_teff, SFD_catalog_color, 3)#用3次多项式拟合 SFD\n",
    "fitcurve = np.poly1d(fcc)\n",
    "print(fitcurve) #在屏幕上打印拟合多项式\n",
    "\n",
    "SFD_vals = fitcurve(SFD_catalog_teff)\n",
    "\n"
   ]
  },
  {
   "cell_type": "markdown",
   "metadata": {},
   "source": [
    "## 绘图所需的具体量（Alternative)"
   ]
  },
  {
   "cell_type": "code",
   "execution_count": 72,
   "metadata": {
    "scrolled": false
   },
   "outputs": [
    {
     "data": {
      "image/png": "[encoded data removed]",
      "text/plain": [
       "<matplotlib.figure.Figure at 0x12826d400>"
      ]
     },
     "metadata": {},
     "output_type": "display_data"
    }
   ],
   "source": [
    "#PLT\n",
    "plt.figure(1,figsize=(7, 5))  \n",
    "plt.xlabel('$T_\\mathrm{eff}(K)$',fontsize=14)\n",
    "plt.ylabel(ylabel,fontsize=14)\n",
    "#plt.ylim(-4,9)\n",
    "\n",
    "# the data we use\n",
    "plt.scatter(starcatalog_fram_fil[teff], starcatalog_fram_fil[color1]-starcatalog_fram_fil[color2],\\\n",
    "            c='darkgray',s=8, edgecolors='None',label='LAMOST')\n",
    "\n",
    "# data we use in the SFD dustmap\n",
    "plt.scatter(SFD_catalog_teff,SFD_catalog_color,alpha=1,edgecolors='None',c='violet',s=4,label='SFD dustmap',zorder=2)\n",
    "\n",
    "# SFD fitcurve\n",
    "plt.plot(SFD_catalog_teff, SFD_vals, c='black',linewidth = 3,label='fitting curve of \\nthe E(B-V)<0.05',zorder=1)\n",
    "\n",
    "# ic plot from blue edge\n",
    "plt.plot(int_teff, colorvals, c='r',linewidth = 3,label='fitting curve of \\nthe bluest 5%',zorder=1)\n",
    "\n",
    "# ic from blue edge\n",
    "plt.scatter(int_teff, int_color, edgecolors='None',c='b', marker = '+',s=9,label='Median of\\nthe bluest 5%',zorder=2)\n",
    "\n",
    "# ic from Allen's work \n",
    "# plt.scatter(BBFrame_fil['Teff'],BBFrame_fil['J-H'],c='lime',s=11,label='Allen',zorder=2)\n",
    "\n",
    "# ic from parsec\n",
    "plt.scatter(parsec_teff,parsec_color,c='gold',s=9,label='PARSEC',zorder=2)\n",
    "\n",
    "### Draw the plot\n",
    "\n",
    "# plt.xlabel('$T_\\mathrm{eff}$'); plt.ylabel(ylabel)\n",
    "#plt.scatter(BBFrame_fil['Teff'],BBFrame_fil['J-H'],c='#FF6666',s=11,label='Allen')\n",
    "\n",
    "plt.legend(loc='upper right')\n",
    "#new_ticks = np.linspace(-1,2,7)\n",
    "#plt.yticks(new_ticks)\n",
    "# plt.ylim(np.min(starcatalog_fram_fil[color1] - starcatalog_fram_fil[color2]) - 0.5,\\\n",
    "#         np.max(starcatalog_fram_fil[color1] - starcatalog_fram_fil[color2]))\n",
    "plt.xticks(fontsize=12)\n",
    "plt.yticks(fontsize=12)\n",
    "# plt.savefig(savename1,dpi=200)\n",
    "plt.savefig(savename5,dpi=200)\n",
    "plt.show()"
   ]
  },
  {
   "cell_type": "markdown",
   "metadata": {},
   "source": [
    "# some other features"
   ]
  },
  {
   "cell_type": "code",
   "execution_count": 73,
   "metadata": {},
   "outputs": [
    {
     "name": "stdout",
     "output_type": "stream",
     "text": [
      "2004\n"
     ]
    }
   ],
   "source": [
    "print(len(starcatalog_fram_fil))"
   ]
  },
  {
   "cell_type": "markdown",
   "metadata": {},
   "source": [
    "## 赫罗图"
   ]
  },
  {
   "cell_type": "code",
   "execution_count": 124,
   "metadata": {},
   "outputs": [
    {
     "name": "stdout",
     "output_type": "stream",
     "text": [
      "5\n"
     ]
    },
    {
     "name": "stderr",
     "output_type": "stream",
     "text": [
      "/Users/SY/anaconda/lib/python3.6/site-packages/ipykernel_launcher.py:38: SettingWithCopyWarning: \n",
      "A value is trying to be set on a copy of a slice from a DataFrame.\n",
      "Try using .loc[row_indexer,col_indexer] = value instead\n",
      "\n",
      "See the caveats in the documentation: http://pandas.pydata.org/pandas-docs/stable/indexing.html#indexing-view-versus-copy\n",
      "/Users/SY/anaconda/lib/python3.6/site-packages/ipykernel_launcher.py:39: FutureWarning: by argument to sort_index is deprecated, pls use .sort_values(by=...)\n"
     ]
    },
    {
     "name": "stdout",
     "output_type": "stream",
     "text": [
      "1.1398210525512695\n",
      "[10315.0, 10945.0, 11575.0, 12205.0, 12835.0, 13465.0, 14095.0, 14725.0, 15355.0, 15985.0, 17245.0, 17875.0, 18505.0, 19135.0, 19765.0, 20395.0, 21655.0, 22285.0] [-0.34100000000000019, -0.33499999999999908, -0.42400000000000126, -0.34800000000000164, -0.44499999999999851, -0.46149999999999824, -0.47300000000000253, -0.4300000000000006, -0.4845000000000006, -0.48499999999999854, -0.39150000000000151, -0.32399999999999807, -0.48550000000000004, -0.22350000000000048, -0.47650000000000148, -0.47750000000000181, -0.4740000000000002, -0.48800000000000132]\n"
     ]
    },
    {
     "data": {
      "image/png": "[encoded data removed]",
      "text/plain": [
       "<matplotlib.figure.Figure at 0x126093080>"
      ]
     },
     "metadata": {},
     "output_type": "display_data"
    }
   ],
   "source": [
    "# H-R 1\n",
    "plt.figure(2)\n",
    "plt.xlabel(ylabel,fontsize=14); plt.ylabel(cc1,fontsize=14)\n",
    "plt.xlim(-6,6)\n",
    "plt.ylim(5,25)\n",
    "# for rat in ratio:\n",
    "print(rat)\n",
    "int_teff,int_color,data_final,SFD_tbl_final = data(teff_start,rat,low_crit,ratio_SFD)\n",
    "\n",
    "cm = plt.cm.get_cmap('RdYlBu')\n",
    "sc = plt.scatter(origin[color1]-origin[color2], origin[color1],\\\n",
    "            c= 'darkgray',s=5,edgecolors = 'None',alpha = 1,cmap=cm,label='all sources')\n",
    "plt.scatter(data_final[color1]-data_final[color2], data_final[color1],\\\n",
    "             c='g',s=5, edgecolors='None', alpha=1,label='selected sources')\n",
    "#plt.colorbar(sc)\n",
    "plt.legend(loc='upper right')\n",
    "# new_ticks = np.linspace(-2,3,18)\n",
    "# plt.xticks(new_ticks)\n",
    "plt.xticks(fontsize=12)\n",
    "plt.yticks(fontsize=12)\n",
    "plt.savefig(savename2,dpi=200)    \n",
    "plt.show()"
   ]
  },
  {
   "cell_type": "code",
   "execution_count": 43,
   "metadata": {},
   "outputs": [
    {
     "data": {
      "image/png": "[encoded data removed]",
      "text/plain": [
       "<matplotlib.figure.Figure at 0x107a69fd0>"
      ]
     },
     "metadata": {},
     "output_type": "display_data"
    }
   ],
   "source": [
    "# 赫罗图 2\n",
    "plt.xlabel('r')\n",
    "plt.ylabel(ylabel)\n",
    "\n",
    "cm = plt.cm.get_cmap('RdYlBu')\n",
    "\n",
    "sc = plt.scatter(starcatalog_fram_fil[color1]-starcatalog_fram_fil[color2],starcatalog_fram_fil[color1],\\\n",
    "            c = starcatalog_fram_fil[err_c1],s=2,edgecolors = 'None',alpha = 0.7,cmap=cm)\n",
    "\n",
    "plt.colorbar(sc)\n",
    "\n",
    "plt.xlim(-5,5)\n",
    "plt.ylim(9,22)\n",
    "plt.savefig(save+'HR.png',dpi=200)\n",
    "plt.show()"
   ]
  },
  {
   "cell_type": "markdown",
   "metadata": {},
   "source": [
    "## 参数统计图"
   ]
  },
  {
   "cell_type": "code",
   "execution_count": 93,
   "metadata": {},
   "outputs": [
    {
     "data": {
      "image/png": "[encoded data removed]",
      "text/plain": [
       "<matplotlib.figure.Figure at 0x1188647f0>"
      ]
     },
     "metadata": {},
     "output_type": "display_data"
    }
   ],
   "source": [
    "plt.figure(3)\n",
    "plt.xlabel('$T_\\mathrm{eff}(K)$')\n",
    "plt.ylabel('errTeff')\n",
    "plt.scatter(starcatalog_fram_fil[teff],starcatalog_fram_fil[err_teff],\\\n",
    "            c='darkgray',s=5, edgecolors='None', alpha=0.5)\n",
    "plt.show()"
   ]
  },
  {
   "cell_type": "markdown",
   "metadata": {},
   "source": [
    "# Remember List for Lamost"
   ]
  },
  {
   "cell_type": "markdown",
   "metadata": {},
   "source": [
    "## 4月19日讨论：\n",
    "\n",
    "1. log g > 4.0 比较可靠\n",
    "2. 16000-18000之间的这个区域很特别，似乎色指数就是偏红了\n",
    "3. Lamost最早也只到B2\n",
    "4. O-type 使用SFD的老方法——减去 SFD 的 E(B-V)，获得所有源的内禀色指数\n",
    "5. 向紫外波段扩充"
   ]
  },
  {
   "cell_type": "markdown",
   "metadata": {},
   "source": [
    "## 5月2日组会：\n",
    "\n",
    "** 苑老师 **： Lamost DR5 和 Mr.Yuan 给的星表由参数上的差别（跑的不同的pipline)"
   ]
  },
  {
   "cell_type": "markdown",
   "metadata": {
    "collapsed": true
   },
   "source": []
  },
  {
   "cell_type": "markdown",
   "metadata": {
    "collapsed": true
   },
   "source": [
    "## 5月3日讨论：\n",
    "1. logg< 3.5\n",
    "* Otype 色指数考虑误差限制在一个范围内\n",
    "* 延伸到可见光和紫外波段\n",
    "* J-H去掉3sigema再取平均再去3sigema知道没有源被扔掉\n",
    "* 去掉K饱和源"
   ]
  },
  {
   "cell_type": "markdown",
   "metadata": {},
   "source": []
  }
 ],
 "metadata": {
  "kernelspec": {
   "display_name": "Python 3",
   "language": "python",
   "name": "python3"
  },
  "language_info": {
   "codemirror_mode": {
    "name": "ipython",
    "version": 3
   },
   "file_extension": ".py",
   "mimetype": "text/x-python",
   "name": "python",
   "nbconvert_exporter": "python",
   "pygments_lexer": "ipython3",
   "version": "3.6.1"
  },
  "toc": {
   "base_numbering": 1,
   "nav_menu": {},
   "number_sections": true,
   "sideBar": true,
   "skip_h1_title": false,
   "title_cell": "Table of Contents",
   "title_sidebar": "Contents",
   "toc_cell": true,
   "toc_position": {
    "height": "calc(100% - 180px)",
    "left": "10px",
    "top": "150px",
    "width": "244px"
   },
   "toc_section_display": true,
   "toc_window_display": false
  }
 },
 "nbformat": 4,
 "nbformat_minor": 2
}
