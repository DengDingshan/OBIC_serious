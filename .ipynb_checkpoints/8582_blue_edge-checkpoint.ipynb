{
 "cells": [
  {
   "cell_type": "markdown",
   "metadata": {},
   "source": [
    "# 综述\n",
    "** 蓝色边缘程序(8582星表) **\n",
    "\n",
    "_由于有一些星表中包含缺省项，我们需要使用pandas中使用dataframe读取csv中自动将缺省项补上的优势，来优化我们的自动化程式_\n",
    "\n",
    "_(fits的文件我们可以使用topcat改变格式并且给星表瘦身，以加快程序读取速度）_\n",
    "\n",
    "我们需要实现的功能包含以下几点：\n",
    "\n",
    "输入：\n",
    "* csv星表**_的名字_**\n",
    "* 需要画的色指数的两个测光点（比如 $ J - H $ 我们需要输入$J$ 和 $H$）\n",
    "\n",
    "程序中自带（我们所需要限定的条件）\n",
    "_写在其中的某一个cell中作为 filt 条件_\n",
    "* 去掉错误的点（见之前的程序)\n",
    "\n",
    "输出：\n",
    "* 颜色-teff 图\n",
    "\n",
    "Now,trying:\n",
    "* SFD: 一个新的ratio,比如说0.05，把这个ratio底下的部分输入进SFD,判断：E(B-V) <0.3 的值就是我们零消光的值。这个值去拟合一个新的curve。"
   ]
  },
  {
   "cell_type": "markdown",
   "metadata": {},
   "source": [
    "# 数据的引入和format (Alternative)"
   ]
  },
  {
   "cell_type": "code",
   "execution_count": 1,
   "metadata": {
    "collapsed": true
   },
   "outputs": [],
   "source": [
    "import pandas as pd\n",
    "import numpy as np\n",
    "import math\n",
    "import matplotlib.pyplot as plt\n",
    "import time\n",
    "import datetime\n",
    "from scipy.optimize import curve_fit\n",
    "%matplotlib inline\n",
    "\n",
    "data_dir = '/Users/SY/Desktop/obic/data/'\n",
    "#data_dir = '/Users/dengdingshan/Documents/data/obic/'"
   ]
  },
  {
   "cell_type": "code",
   "execution_count": 20,
   "metadata": {
    "collapsed": true
   },
   "outputs": [],
   "source": [
    "#read as pandas\n",
    "starcatalog_fram = pd.read_csv(data_dir + '8582_sdss.csv')\n",
    "\n",
    "###########\n",
    "\n",
    "#starcatlog_fram = starcatlog_fram.ix[:,:517]\n",
    "#print(starcatalog_fram)"
   ]
  },
  {
   "cell_type": "code",
   "execution_count": 21,
   "metadata": {},
   "outputs": [
    {
     "name": "stdout",
     "output_type": "stream",
     "text": [
      "Index(['Unnamed: 0', 'Zini', 'Age', 'Mini', 'Mass', 'logL', 'logTe', 'logg',\n",
      "       'label', 'McoreTP', 'C_O', 'period0', 'period1', 'pmode', 'Mloss',\n",
      "       'tau1m', 'X', 'Y', 'Xc', 'Xn', 'Xo', 'Cexcess', 'Z', 'mbolmag',\n",
      "       'FUVmag', 'NUVmag', 'umag', 'gmag', 'rmag', 'imag', 'zmag'],\n",
      "      dtype='object')\n"
     ]
    }
   ],
   "source": [
    "#read parsec\n",
    "parsec_fram = pd.read_csv(data_dir + 'PARSECGALEXandSDSSPlus.csv')#PARSEC2MASSandWISEMinus PARSECGALEXandSDSSPlus\n",
    "\n",
    "############\n",
    "\n",
    "print(parsec_fram.columns)"
   ]
  },
  {
   "cell_type": "code",
   "execution_count": 22,
   "metadata": {
    "collapsed": true
   },
   "outputs": [],
   "source": [
    "### Elective CHOICE\n",
    "\n",
    "########### I.\n",
    "#change logTeff into Teff.\n",
    "\n",
    "# def tenn(x):\n",
    "#     y=10 ** x\n",
    "#     return y\n",
    "\n",
    "# Teff_tbl = starcatalog['logTeff'].apply(tenn)\n",
    "###########\n",
    "\n",
    "########### II.\n",
    "#add [Teff] into DATAFRAME\n",
    "\n",
    "#data_fram = starcatalog_fram[['TEFF_1','ERR_TEFF_1','Jmag_1','e_Jmag_1','Hmag_1','e_Hmag_1']]\n",
    "#print(data_fram)\n",
    "###########\n",
    "\n",
    "########### III.\n",
    "# fill the NaN blocks with 0\n",
    "\n",
    "starcatalog_fram_fil0 = starcatalog_fram.fillna(0)\n",
    "\n",
    "#print(starcatalog_fram_fil['LOGG'])\n",
    "############\n",
    "origin_1 = starcatalog_fram_fil0"
   ]
  },
  {
   "cell_type": "code",
   "execution_count": 23,
   "metadata": {},
   "outputs": [
    {
     "data": {
      "text/plain": [
       "Index(['RA', 'DEC', 'Teff_tlusty', 'logg_tlusty', 'RAdeg', 'DEdeg',\n",
       "       'errHalfMaj', 'errHalfMin', 'errPosAng', 'objID', 'mode', 'q_mode',\n",
       "       'class', 'SDSS12', 'm_SDSS12', 'flags', 'ObsDate', 'Q', 'umag',\n",
       "       'e_umag', 'gmag', 'e_gmag', 'rmag', 'e_rmag', 'imag', 'e_imag', 'zmag',\n",
       "       'e_zmag', 'zsp', 'e_zsp', 'f_zsp', 'zph', 'e_zph', 'avg_zph', 'pmRA',\n",
       "       'e_pmRA', 'pmDE', 'e_pmDE', 'SpObjID', 'spType', 'spCl', 'subClass',\n",
       "       'angDist'],\n",
       "      dtype='object')"
      ]
     },
     "execution_count": 23,
     "metadata": {},
     "output_type": "execute_result"
    }
   ],
   "source": [
    "starcatalog_fram.columns"
   ]
  },
  {
   "cell_type": "markdown",
   "metadata": {},
   "source": [
    "## 参数的选取（Input）"
   ]
  },
  {
   "cell_type": "code",
   "execution_count": 24,
   "metadata": {
    "collapsed": true
   },
   "outputs": [],
   "source": [
    "### variables\n",
    "\n",
    "teff = 'Teff_tlusty'\n",
    "\n",
    "color1 = 'gmag'\n",
    "color2 = 'rmag'\n",
    "\n",
    "err_c1 = 'e_' + color1\n",
    "#'e_' + color1\n",
    "#color1 + 'err' \n",
    "#color1 + 'err'\n",
    "#ERR_' + color1\n",
    "#'e_' + color1\n",
    "\n",
    "err_c2 = 'e_' + color2 \n",
    "#'ERR_' + color2\n",
    "#'e_' + color2"
   ]
  },
  {
   "cell_type": "markdown",
   "metadata": {},
   "source": [
    "## Logg，误差的选取(Input:)"
   ]
  },
  {
   "cell_type": "code",
   "execution_count": 25,
   "metadata": {
    "collapsed": true
   },
   "outputs": [],
   "source": [
    "### we just need the mainsquence (dwarf stars)\n",
    "\n",
    "# #judge logg >3.0\n",
    "\n",
    "Judge_logg = 3.5\n",
    "\n",
    "starcatalog_fram_fil = starcatalog_fram_fil0[(starcatalog_fram_fil0['logg_tlusty']> Judge_logg)]\n",
    "parsec_fram = parsec_fram[(parsec_fram['logg']>Judge_logg)]                                            "
   ]
  },
  {
   "cell_type": "code",
   "execution_count": 26,
   "metadata": {
    "collapsed": true
   },
   "outputs": [],
   "source": [
    "### get the good stars\n",
    "\n",
    "# judge  data\n",
    "starcatalog_fram_fil=starcatalog_fram_fil[((starcatalog_fram_fil[color1] != 0)\\\n",
    "                                           & (starcatalog_fram_fil[color2] != 0)\\\n",
    "                                           & (starcatalog_fram_fil[color1] != -99) \\\n",
    "                                           & (starcatalog_fram_fil[color2] != -99))\\\n",
    "                                         &((starcatalog_fram_fil[err_c1] <=0.05)\\\n",
    "                                          & (starcatalog_fram_fil[err_c2] <=0.05))]\n",
    "\n",
    "# starcatalog_fram_fil=starcatalog_fram_fil[((starcatalog_fram_fil['Jmag'] >= 5.5) \\\n",
    "#                                            &(starcatalog_fram_fil['Hmag'] >= 5)\\\n",
    "#                                            &(starcatalog_fram_fil['Kmag'] >= 4.5))]\\\n",
    "#                                            &(starcatalog_fram_fil['W1mag'] >= 8.1) \\\n",
    "#                                            &(starcatalog_fram_fil['W2mag'] >= 6.7)\\\n",
    "#                                            &(starcatalog_fram_fil['W3mag'] >= 3.8))]\n",
    "# ### additional judgement\n",
    "\n",
    "# starcatalog_fram_fil=starcatalog_fram_fil[(starcatalog_fram_fil[err_c1] <=0.2)\\\n",
    "#                                            &(starcatalog_fram_fil[err_c2] <=0.05)]\n",
    "\n",
    "# print(starcatalog_fram_fil.iloc[:,0].size)"
   ]
  },
  {
   "cell_type": "markdown",
   "metadata": {},
   "source": [
    "## 赫罗图的限制——Only for SDSS"
   ]
  },
  {
   "cell_type": "code",
   "execution_count": 27,
   "metadata": {
    "collapsed": true
   },
   "outputs": [],
   "source": [
    "# Only for SDSS\n",
    "# for H-R gragh\n",
    "\n",
    "# if want to use this section, \n",
    "# just choose the part between 2 ### and use [command+/]\n",
    "################\n",
    "\n",
    "origin = starcatalog_fram_fil\n",
    "# # starcatalog_fram_fil=starcatalog_fram_fil[(starcatalog_fram_fil[color1]-starcatalog_fram_fil[color2]>= -0.50)\\\n",
    "# #                                          & (starcatalog_fram_fil[color1]>=14)]\n",
    "\n",
    "\n",
    "data_final_sdss = starcatalog_fram_fil[(\\\n",
    "                                   (starcatalog_fram_fil[color1] > 14)\\\n",
    "                                   & (starcatalog_fram_fil[color2] > 14))]\n",
    "\n",
    "#data_final_sdss = data_final_sdss[( (data_final_sdss[color1] - data_final_sdss[color2]) > -0.5)]\n",
    "\n",
    "starcatalog_fram_fil = data_final_sdss\n",
    "\n",
    "#################"
   ]
  },
  {
   "cell_type": "markdown",
   "metadata": {},
   "source": [
    "## 有效温度 Teff 的限制（Input:）"
   ]
  },
  {
   "cell_type": "code",
   "execution_count": 28,
   "metadata": {
    "scrolled": false
   },
   "outputs": [
    {
     "name": "stdout",
     "output_type": "stream",
     "text": [
      "32499.99797\n",
      "435\n"
     ]
    }
   ],
   "source": [
    "#filt the good one\n",
    "#apogee_tbl_fil = apogee_tbl[np.argwhere(np.logical_and(apogee_tbl['teff'] > 0, apogee_tbl['logg'] > -3))]\n",
    "#apogee_tbl_fil = apogee_tbl_fil[np.argwhere(np.logical_and(apogee_tbl_fil['j'].flatten() > -1, \\\n",
    "#                                                           apogee_tbl_fil['h'].flatten() > -1))]\n",
    "#USE goodOB \n",
    "\n",
    "\n",
    "starcatalog_fram_fil=starcatalog_fram_fil[((starcatalog_fram_fil[teff]>= 10000))]\n",
    "#                                           &(starcatalog_fram_fil[teff]<= 20000))]\n",
    "\n",
    "print(np.max(starcatalog_fram_fil[teff]))\n",
    "print(starcatalog_fram_fil.iloc[:,0].size)"
   ]
  },
  {
   "cell_type": "markdown",
   "metadata": {},
   "source": [
    "## 蓝色边缘的比例，bin最小值的选取（Input：）"
   ]
  },
  {
   "cell_type": "code",
   "execution_count": 29,
   "metadata": {
    "collapsed": true
   },
   "outputs": [],
   "source": [
    "# Determine the input numbers.\n",
    "\n",
    "# Bin width, usually 50 (for more scatter, try 1000 or other figures)\n",
    "#bin_width = 1000\n",
    "\n",
    "# Ratio of the bluest edge, usually 5%\n",
    "rat = 5\n",
    "\n",
    "# Low end criteria. If the number in a bin is lower than this number then neglect.  \n",
    "low_crit = 50"
   ]
  },
  {
   "cell_type": "code",
   "execution_count": 30,
   "metadata": {
    "collapsed": true
   },
   "outputs": [],
   "source": [
    "# input the data of Bessell. M.S. & Brett. J.M. 1988\n",
    "# BBFrame is the dataframe of the ic data \n",
    "\n",
    "BBFrame=pd.DataFrame({'J-H':[-0.09,-0.08,-0.07,-0.06,-0.05,-0.03,-0.03,-0.01,0.0,0.02,0.06],\\\n",
    "                      'Teff':[22300,19000,17200,15400,14100,13000,11800,10700,9480,8810,8160]})\n"
   ]
  },
  {
   "cell_type": "markdown",
   "metadata": {},
   "source": [
    "## 比较星表的数据选取（Input:）"
   ]
  },
  {
   "cell_type": "code",
   "execution_count": 31,
   "metadata": {
    "collapsed": true
   },
   "outputs": [],
   "source": [
    "# parsec point 10000-20000\n",
    "parsecframe = parsec_fram[((parsec_fram['logTe'] <= 4.301)\\\n",
    "                           &(parsec_fram['logTe'] >= 4))]\n",
    "\n",
    "# print(parsecframe.values)\n",
    "                                         "
   ]
  },
  {
   "cell_type": "code",
   "execution_count": 33,
   "metadata": {},
   "outputs": [
    {
     "name": "stderr",
     "output_type": "stream",
     "text": [
      "/Users/SY/anaconda/lib/python3.6/site-packages/numpy/core/fromnumeric.py:2889: RuntimeWarning: Mean of empty slice.\n",
      "  out=out, **kwargs)\n",
      "/Users/SY/anaconda/lib/python3.6/site-packages/numpy/core/_methods.py:80: RuntimeWarning: invalid value encountered in double_scalars\n",
      "  ret = ret.dtype.type(ret / rcount)\n"
     ]
    }
   ],
   "source": [
    "bin_width_par = 500\n",
    "teff_start_par = 10000\n",
    "teff_end_par = 30000\n",
    "\n",
    "color_total = []\n",
    "teff_total = []\n",
    "for i in range(int((teff_end_par-teff_start_par)/bin_width_par)):\n",
    "    parsecframe_bin = parsecframe[( (teff_start_par+i*bin_width_par) <=10**parsecframe['logTe']) & \\\n",
    "                (10**parsecframe['logTe']< (teff_start_par+ (i+1)*bin_width_par) )]\n",
    "    color_total.append(np.median(np.array(parsecframe_bin[color1]-parsecframe_bin[color2])))#'Ksmag'\n",
    "    teff_total.append(teff_start_par+(i+0.5)*bin_width_par)\n",
    "    \n",
    "parsec_color = np.array(color_total)\n",
    "parsec_teff = np.array(teff_total)"
   ]
  },
  {
   "cell_type": "code",
   "execution_count": 34,
   "metadata": {
    "collapsed": true
   },
   "outputs": [],
   "source": [
    "# Find the start point and bin number of Teff. \n",
    "# Start point: the first number divisible by bin_width smaller than min(teff)\n",
    "# Bin number: Start from start point and cover all the teff range.\n",
    "\n",
    "\n",
    "#teff_start = min(apogee_tbl_fil['teff']) - min(apogee_tbl_fil['teff']) % (bin_width/2)\n",
    "#bin_number = math.ceil((max(apogee_tbl_fil['teff']) - teff_start) / bin_width)\n",
    "\n",
    "#teff_start = min(starcatalog_fram_fil[teff])-min(starcatalog_fram_fil[teff])%(bin_width / 2)\n",
    "\n",
    "teff_start= 10000\n",
    "slide_index = 400 #the pace of slide\n",
    "#bin_number = math.ceil((max(starcatalog_fram_fil[teff])-teff_start) / bin_width)\n"
   ]
  },
  {
   "cell_type": "code",
   "execution_count": 35,
   "metadata": {
    "collapsed": true
   },
   "outputs": [],
   "source": [
    "#filt BBFrame\n",
    "BBFrame_fil=BBFrame[BBFrame['Teff'] >= teff_start]"
   ]
  },
  {
   "cell_type": "markdown",
   "metadata": {},
   "source": [
    "# 内禀色指数的计算（蓝色边缘方法），同时取出某一部分用于SFD判断"
   ]
  },
  {
   "cell_type": "markdown",
   "metadata": {},
   "source": [
    "## DEF"
   ]
  },
  {
   "cell_type": "code",
   "execution_count": 36,
   "metadata": {
    "collapsed": true
   },
   "outputs": [],
   "source": [
    "def data(teff_start,ratio,low_crit,ratio_SFD,slide_index):\n",
    "    \n",
    "    start_time = time.time()\n",
    "    int_teff = []\n",
    "    int_color = []\n",
    "    bin_int_color = []\n",
    "    \n",
    "    SFD_RA = []; SFD_DEC = []; SFD_TEFF = []; SFD_color1 = []; SFD_color2 = [];\n",
    "    \n",
    "    data_final = pd.DataFrame(columns=[teff,color1,color2])\n",
    "    teff_judge = teff_start\n",
    "    while teff_judge < np.max(starcatalog_fram_fil[teff]) - 2000:\n",
    "        #print(teff_judge)\n",
    "        if teff_judge <15000:\n",
    "            bin_width = 500\n",
    "        else:\n",
    "            bin_width = 2000\n",
    "\n",
    "        bin_tbl =starcatalog_fram_fil[np.logical_and(starcatalog_fram_fil[teff] > teff_judge, \\\n",
    "                                                starcatalog_fram_fil[teff] < teff_judge+bin_width)]\n",
    "\n",
    "        #print(teff_judge)\n",
    "       \n",
    "        \n",
    "        if len(bin_tbl) < low_crit:\n",
    "            teff_judge = teff_judge+slide_index\n",
    "            #print('1')\n",
    "            continue\n",
    "            \n",
    "        source_num = 0\n",
    "        #print(len(bin_tbl))\n",
    "\n",
    "        while source_num != len(bin_tbl):\n",
    "            source_num = len(bin_tbl)\n",
    "\n",
    "        data_final = data_final.append(bin_tbl[[teff,color1,color2]])\n",
    "        #print(len(bin_tbl))\n",
    "\n",
    "        int_teff.append(float(teff_judge+bin_width/2))\n",
    "        bin_tbl['color'] = bin_tbl[color1]-bin_tbl[color2]\n",
    "        bin_sort = bin_tbl.sort_index(axis = 0,ascending = True,by = 'color')\n",
    "        \n",
    "        # 每个bin中前ratio_SFD的部分用于取得ebv\n",
    "        color_SFD = bin_sort['color'].values[:math.ceil(len(bin_tbl)*ratio_SFD/100)]\n",
    "        bin_tbl_SFD = bin_sort[(bin_sort['color']<=np.max(color_SFD))]\n",
    "        \n",
    "        for ppp in range(len(bin_tbl_SFD)):\n",
    "            SFD_RA.append(bin_tbl_SFD['RA'].values[ppp])\n",
    "            SFD_DEC.append(bin_tbl_SFD['DEC'].values[ppp])\n",
    "            SFD_TEFF.append(bin_tbl_SFD[teff].values[ppp])\n",
    "            SFD_color1.append(bin_tbl_SFD[color1].values[ppp])\n",
    "            SFD_color2.append(bin_tbl_SFD[color2].values[ppp])\n",
    "\n",
    "        \n",
    "        # 每个bin中前ratio(usually 5%)的部分 用于取得内禀色指数int_color\n",
    "        color5 = bin_sort['color'].values[:math.ceil(len(bin_tbl)*ratio/100)]\n",
    "        bin_tbl_5 = bin_sort[(bin_sort['color']<=np.max(color5))]\n",
    "        \n",
    "        \n",
    "        if len(color5) != 0:\n",
    "            for i in range(10):\n",
    "                bin_mean = np.median(color5)\n",
    "                bin_sigma = np.std(color5)\n",
    "                bin_int_color = color5\\\n",
    "                [((color5<= bin_mean+3*bin_sigma)\\\n",
    "                & (color5>= bin_mean-3*bin_sigma))]\n",
    "                color5 = np.array(bin_int_color)\n",
    "\n",
    "            int_color.append(np.median(bin_int_color))\n",
    "            \n",
    "        teff_judge = teff_judge+slide_index\n",
    "        \n",
    "    SFD_tbl_final = pd.DataFrame({teff:np.array(SFD_TEFF),'RA':np.array(SFD_RA),\\\n",
    "                                  'DEC':np.array(SFD_DEC),color1:np.array(SFD_color1),\\\n",
    "                                 color2:np.array(SFD_color2)})\n",
    "    \n",
    "    #print(time.time() - start_time)\n",
    "    print(int_teff,int_color)\n",
    "#     print(bin_mean)\n",
    "#     print(data_final.iloc[:,0].size)\n",
    "    return int_teff,int_color,data_final,SFD_tbl_final"
   ]
  },
  {
   "cell_type": "markdown",
   "metadata": {},
   "source": [
    "## 运算，拟合，SFD的准备（Input:)"
   ]
  },
  {
   "cell_type": "code",
   "execution_count": 37,
   "metadata": {
    "scrolled": false
   },
   "outputs": [
    {
     "name": "stdout",
     "output_type": "stream",
     "text": [
      "[16200.0, 16600.0, 17000.0] [-1.3070000000000004, -1.3070000000000004, -1.3070000000000004]\n",
      "[3.2400000000000002, 3.3199999999999998, 3.3999999999999999]\n",
      "[-1.3070000004682065, -1.3069999999667012, -1.306999999580271]\n",
      "-8.40119787628e-05* np.exp(-3.25827923266*x)-1.30699999828\n"
     ]
    },
    {
     "name": "stderr",
     "output_type": "stream",
     "text": [
      "/Users/SY/anaconda/lib/python3.6/site-packages/ipykernel_launcher.py:39: SettingWithCopyWarning: \n",
      "A value is trying to be set on a copy of a slice from a DataFrame.\n",
      "Try using .loc[row_indexer,col_indexer] = value instead\n",
      "\n",
      "See the caveats in the documentation: http://pandas.pydata.org/pandas-docs/stable/indexing.html#indexing-view-versus-copy\n",
      "/Users/SY/anaconda/lib/python3.6/site-packages/ipykernel_launcher.py:40: FutureWarning: by argument to sort_index is deprecated, pls use .sort_values(by=...)\n",
      "/Users/SY/anaconda/lib/python3.6/site-packages/scipy/optimize/minpack.py:779: OptimizeWarning: Covariance of the parameters could not be estimated\n",
      "  category=OptimizeWarning)\n"
     ]
    }
   ],
   "source": [
    "# SFD ratio\n",
    "\n",
    "ratio_SFD = 5\n",
    "\n",
    "# fitting curve\n",
    "int_teff,int_color,data_final,SFD_tbl_ratio = data(teff_start,rat,low_crit,ratio_SFD,slide_index)\n",
    "int_teff_fit = list(np.array(int_teff)/5000)\n",
    "\n",
    "def func(x, a, b, c):\n",
    "    return a * np.exp(-b * x) + c\n",
    "print(int_teff_fit)\n",
    "\n",
    "popt, pcov = curve_fit(func, int_teff_fit, int_color)\n",
    "#popt数组中，三个值分别是待求参数a,b,c\n",
    "colorvals = [func(i, popt[0],popt[1],popt[2]) for i in int_teff_fit]\n",
    "\n",
    "print(colorvals)\n",
    "print(str(popt[0])+'* np.exp('+str(-popt[1])+'*x)'+str(popt[2]))#在屏幕上打印拟合多项式 \n",
    "# fc = np.polyfit(int_teff, int_color, 1)#用3次多项式拟合\n",
    "# fitcurve = np.poly1d(fc)\n",
    "# print(fitcurve) #在屏幕上打印拟合多项式\n",
    "\n",
    "# colorvals=fitcurve(int_teff)\n",
    "\n",
    "# print(len(colorvals),len(int_teff))\n",
    "#print(len(bin_tbl_final[teff].values))\n",
    "\n",
    "#SFD_tbl_ratio['SFD_ebv']\n"
   ]
  },
  {
   "cell_type": "markdown",
   "metadata": {},
   "source": [
    "# SFD的使用：—— 将使用到新的包\n",
    "\n",
    "1. 选取SFD中Ebv小于某一个值的认为是零消光源（Lamost)——Thins page\n",
    "2. 用目前的色指数减去 Ebv 给出的消光值，然后去归算内禀色指数 - GOSSS"
   ]
  },
  {
   "cell_type": "code",
   "execution_count": 38,
   "metadata": {
    "collapsed": true
   },
   "outputs": [],
   "source": [
    "# SFD_catalog_color = []\n",
    "# SFD_catalog_teff = []\n",
    "# lens = len(SFD_tbl_ratio)\n",
    "\n",
    "# for i in range(lens):\n",
    "#     if SFD_tbl_ratio['SFD_ebv'].values[i] < 0.05:\n",
    "#         SFD_colorindex = SFD_tbl_ratio[color1].values[i]\\\n",
    "#         - (SFD_tbl_ratio[color2].values[i])\n",
    "#         SFD_catalog_color.append(SFD_colorindex)\n",
    "    \n",
    "#         SFD_catalog_teff.append(SFD_tbl_ratio[teff].values[i])\n",
    "#         print(i)\n",
    "# #     print(i)\n",
    "\n",
    "# # print(time.time() - time_start)"
   ]
  },
  {
   "cell_type": "code",
   "execution_count": 39,
   "metadata": {
    "scrolled": true
   },
   "outputs": [
    {
     "name": "stdout",
     "output_type": "stream",
     "text": [
      "9\n",
      "3.4308888912200928\n"
     ]
    }
   ],
   "source": [
    "## use SFD dustmap\n",
    "from __future__ import print_function\n",
    "from astropy.coordinates import SkyCoord\n",
    "from astropy import units as u\n",
    "from dustmaps.sfd import SFDQuery\n",
    "\n",
    "sfd = SFDQuery()\n",
    "\n",
    "## ebv前的系数需要去文献中拿到。目前使用的是r和i的\n",
    "# Const1 = 0.709 #J #3.303 #g #2.285 #r \n",
    "# Const2 = 0.449 #H #2.285 #r #1.698 #i\n",
    "\n",
    "time_start = time.time()\n",
    "SFD_catalog_color = []\n",
    "SFD_catalog_teff = []\n",
    "lens = len(SFD_tbl_ratio)\n",
    "\n",
    "ebv_final = []\n",
    "\n",
    "# 判断ebv < 0.05，就拿入下一个数组，最后一起画在图上\n",
    "print(lens)\n",
    "for i in range(lens):\n",
    "    coords = SkyCoord(SFD_tbl_ratio['RA'].values[i],SFD_tbl_ratio['DEC'].values[i],\\\n",
    "                      frame = 'icrs',unit = 'deg')\n",
    "    ebv = sfd(coords)\n",
    "    ebv_final.append(ebv)\n",
    "    \n",
    "#     A_c1 = Const1*ebv;\n",
    "#     A_c2 = Const2*ebv;\n",
    "\n",
    "    if ebv < 0.05:\n",
    "        SFD_colorindex = SFD_tbl_ratio[color1].values[i]\\\n",
    "        - (SFD_tbl_ratio[color2].values[i])\n",
    "        SFD_catalog_color.append(SFD_colorindex)\n",
    "    \n",
    "        SFD_catalog_teff.append(SFD_tbl_ratio[teff].values[i])\n",
    "        print(i)\n",
    "#     print(i)\n",
    "SFD_catalog_teff_fit = list(np.array(SFD_catalog_teff)/5000)\n",
    "print(time.time() - time_start)"
   ]
  },
  {
   "cell_type": "markdown",
   "metadata": {},
   "source": [
    "# 图片输出"
   ]
  },
  {
   "cell_type": "markdown",
   "metadata": {},
   "source": [
    "## 图片保存格式（Input:)"
   ]
  },
  {
   "cell_type": "code",
   "execution_count": 40,
   "metadata": {
    "collapsed": true
   },
   "outputs": [],
   "source": [
    "### figures & Savename\n",
    "cc1 = 'g'\n",
    "cc2 = 'r'\n",
    "\n",
    "save = data_dir + 'pictures/'\n",
    "# save = '/Users/SY/Desktop/obic/picture/'\n",
    "\n",
    "i = datetime.datetime.now()\n",
    "date_now = \"%s_%s_%s_\" % (i.year, i.month, i.day) \n",
    "ylabel = '$%s - %s$'%(cc1,cc2) \n",
    "savename1 = save + date_now + cc1 + cc2 + '8582'+'.png'\n",
    "savename2 = save + date_now + 'logg_teff_8582'+'.png'\n",
    "# savename3 = save + date_now + 'errteff.png'\n",
    "\n",
    "# savename5 = save + date_now + cc1 + cc2 + 'FEH'+'Plus'+'.png'\n",
    "# savename6 = save + date_now + cc1 + cc2 + 'FEH'+'Plus'+'_sdssno'+'.png'"
   ]
  },
  {
   "cell_type": "code",
   "execution_count": 41,
   "metadata": {},
   "outputs": [
    {
     "ename": "TypeError",
     "evalue": "Improper input: N=3 must not exceed M=0",
     "output_type": "error",
     "traceback": [
      "\u001b[0;31m---------------------------------------------------------------------------\u001b[0m",
      "\u001b[0;31mTypeError\u001b[0m                                 Traceback (most recent call last)",
      "\u001b[0;32m<ipython-input-41-e8561c3483d8>\u001b[0m in \u001b[0;36m<module>\u001b[0;34m()\u001b[0m\n\u001b[1;32m      9\u001b[0m \u001b[0;34m\u001b[0m\u001b[0m\n\u001b[1;32m     10\u001b[0m \u001b[0;34m\u001b[0m\u001b[0m\n\u001b[0;32m---> 11\u001b[0;31m \u001b[0mpopt_sfd\u001b[0m\u001b[0;34m,\u001b[0m \u001b[0mpcov_sfd\u001b[0m \u001b[0;34m=\u001b[0m \u001b[0mcurve_fit\u001b[0m\u001b[0;34m(\u001b[0m\u001b[0mfunc\u001b[0m\u001b[0;34m,\u001b[0m \u001b[0mSFD_catalog_teff_fit\u001b[0m\u001b[0;34m,\u001b[0m \u001b[0mSFD_catalog_color\u001b[0m\u001b[0;34m)\u001b[0m\u001b[0;34m\u001b[0m\u001b[0m\n\u001b[0m\u001b[1;32m     12\u001b[0m \u001b[0;31m#popt数组中，三个值分别是待求参数a,b,c\u001b[0m\u001b[0;34m\u001b[0m\u001b[0;34m\u001b[0m\u001b[0m\n\u001b[1;32m     13\u001b[0m \u001b[0mSFD_vals\u001b[0m \u001b[0;34m=\u001b[0m \u001b[0;34m[\u001b[0m\u001b[0mfunc\u001b[0m\u001b[0;34m(\u001b[0m\u001b[0mi\u001b[0m\u001b[0;34m,\u001b[0m \u001b[0mpopt_sfd\u001b[0m\u001b[0;34m[\u001b[0m\u001b[0;36m0\u001b[0m\u001b[0;34m]\u001b[0m\u001b[0;34m,\u001b[0m\u001b[0mpopt_sfd\u001b[0m\u001b[0;34m[\u001b[0m\u001b[0;36m1\u001b[0m\u001b[0;34m]\u001b[0m\u001b[0;34m,\u001b[0m\u001b[0mpopt_sfd\u001b[0m\u001b[0;34m[\u001b[0m\u001b[0;36m2\u001b[0m\u001b[0;34m]\u001b[0m\u001b[0;34m)\u001b[0m \u001b[0;32mfor\u001b[0m \u001b[0mi\u001b[0m \u001b[0;32min\u001b[0m \u001b[0mSFD_catalog_teff_fit\u001b[0m\u001b[0;34m]\u001b[0m\u001b[0;34m\u001b[0m\u001b[0m\n",
      "\u001b[0;32m/Users/SY/anaconda/lib/python3.6/site-packages/scipy/optimize/minpack.py\u001b[0m in \u001b[0;36mcurve_fit\u001b[0;34m(f, xdata, ydata, p0, sigma, absolute_sigma, check_finite, bounds, method, jac, **kwargs)\u001b[0m\n\u001b[1;32m    734\u001b[0m         \u001b[0;31m# Remove full_output from kwargs, otherwise we're passing it in twice.\u001b[0m\u001b[0;34m\u001b[0m\u001b[0;34m\u001b[0m\u001b[0m\n\u001b[1;32m    735\u001b[0m         \u001b[0mreturn_full\u001b[0m \u001b[0;34m=\u001b[0m \u001b[0mkwargs\u001b[0m\u001b[0;34m.\u001b[0m\u001b[0mpop\u001b[0m\u001b[0;34m(\u001b[0m\u001b[0;34m'full_output'\u001b[0m\u001b[0;34m,\u001b[0m \u001b[0;32mFalse\u001b[0m\u001b[0;34m)\u001b[0m\u001b[0;34m\u001b[0m\u001b[0m\n\u001b[0;32m--> 736\u001b[0;31m         \u001b[0mres\u001b[0m \u001b[0;34m=\u001b[0m \u001b[0mleastsq\u001b[0m\u001b[0;34m(\u001b[0m\u001b[0mfunc\u001b[0m\u001b[0;34m,\u001b[0m \u001b[0mp0\u001b[0m\u001b[0;34m,\u001b[0m \u001b[0mDfun\u001b[0m\u001b[0;34m=\u001b[0m\u001b[0mjac\u001b[0m\u001b[0;34m,\u001b[0m \u001b[0mfull_output\u001b[0m\u001b[0;34m=\u001b[0m\u001b[0;36m1\u001b[0m\u001b[0;34m,\u001b[0m \u001b[0;34m**\u001b[0m\u001b[0mkwargs\u001b[0m\u001b[0;34m)\u001b[0m\u001b[0;34m\u001b[0m\u001b[0m\n\u001b[0m\u001b[1;32m    737\u001b[0m         \u001b[0mpopt\u001b[0m\u001b[0;34m,\u001b[0m \u001b[0mpcov\u001b[0m\u001b[0;34m,\u001b[0m \u001b[0minfodict\u001b[0m\u001b[0;34m,\u001b[0m \u001b[0merrmsg\u001b[0m\u001b[0;34m,\u001b[0m \u001b[0mier\u001b[0m \u001b[0;34m=\u001b[0m \u001b[0mres\u001b[0m\u001b[0;34m\u001b[0m\u001b[0m\n\u001b[1;32m    738\u001b[0m         \u001b[0mcost\u001b[0m \u001b[0;34m=\u001b[0m \u001b[0mnp\u001b[0m\u001b[0;34m.\u001b[0m\u001b[0msum\u001b[0m\u001b[0;34m(\u001b[0m\u001b[0minfodict\u001b[0m\u001b[0;34m[\u001b[0m\u001b[0;34m'fvec'\u001b[0m\u001b[0;34m]\u001b[0m \u001b[0;34m**\u001b[0m \u001b[0;36m2\u001b[0m\u001b[0;34m)\u001b[0m\u001b[0;34m\u001b[0m\u001b[0m\n",
      "\u001b[0;32m/Users/SY/anaconda/lib/python3.6/site-packages/scipy/optimize/minpack.py\u001b[0m in \u001b[0;36mleastsq\u001b[0;34m(func, x0, args, Dfun, full_output, col_deriv, ftol, xtol, gtol, maxfev, epsfcn, factor, diag)\u001b[0m\n\u001b[1;32m    378\u001b[0m     \u001b[0mm\u001b[0m \u001b[0;34m=\u001b[0m \u001b[0mshape\u001b[0m\u001b[0;34m[\u001b[0m\u001b[0;36m0\u001b[0m\u001b[0;34m]\u001b[0m\u001b[0;34m\u001b[0m\u001b[0m\n\u001b[1;32m    379\u001b[0m     \u001b[0;32mif\u001b[0m \u001b[0mn\u001b[0m \u001b[0;34m>\u001b[0m \u001b[0mm\u001b[0m\u001b[0;34m:\u001b[0m\u001b[0;34m\u001b[0m\u001b[0m\n\u001b[0;32m--> 380\u001b[0;31m         \u001b[0;32mraise\u001b[0m \u001b[0mTypeError\u001b[0m\u001b[0;34m(\u001b[0m\u001b[0;34m'Improper input: N=%s must not exceed M=%s'\u001b[0m \u001b[0;34m%\u001b[0m \u001b[0;34m(\u001b[0m\u001b[0mn\u001b[0m\u001b[0;34m,\u001b[0m \u001b[0mm\u001b[0m\u001b[0;34m)\u001b[0m\u001b[0;34m)\u001b[0m\u001b[0;34m\u001b[0m\u001b[0m\n\u001b[0m\u001b[1;32m    381\u001b[0m     \u001b[0;32mif\u001b[0m \u001b[0mepsfcn\u001b[0m \u001b[0;32mis\u001b[0m \u001b[0;32mNone\u001b[0m\u001b[0;34m:\u001b[0m\u001b[0;34m\u001b[0m\u001b[0m\n\u001b[1;32m    382\u001b[0m         \u001b[0mepsfcn\u001b[0m \u001b[0;34m=\u001b[0m \u001b[0mfinfo\u001b[0m\u001b[0;34m(\u001b[0m\u001b[0mdtype\u001b[0m\u001b[0;34m)\u001b[0m\u001b[0;34m.\u001b[0m\u001b[0meps\u001b[0m\u001b[0;34m\u001b[0m\u001b[0m\n",
      "\u001b[0;31mTypeError\u001b[0m: Improper input: N=3 must not exceed M=0"
     ]
    }
   ],
   "source": [
    "# plt hist of ebv\n",
    "\n",
    "# plt.hist(ebv_final,1000)\n",
    "# plt.savefig(save+'ebv.png',dpi = 200)\n",
    "# plt.xlim(0,2)\n",
    "# plt.show()\n",
    "\n",
    "# 拟合SFD\n",
    " \n",
    "\n",
    "popt_sfd, pcov_sfd = curve_fit(func, SFD_catalog_teff_fit, SFD_catalog_color)\n",
    "#popt数组中，三个值分别是待求参数a,b,c\n",
    "SFD_vals = [func(i, popt_sfd[0],popt_sfd[1],popt_sfd[2]) for i in SFD_catalog_teff_fit]\n",
    "\n",
    "\n",
    "print(SFD_catalog_teff)\n",
    "print(str(popt_sfd[0])+'* np.exp('+str(-popt_sfd[1])+'*x)'+str(popt_sfd[2])) #在屏幕上打印拟合多项式\n",
    "\n",
    "# fc = np.polyfit(SFD_catalog_teff, SFD_catalog_color, 1)#用3次多项式拟合\n",
    "# fitcurve = np.poly1d(fc)\n",
    "# print(fitcurve) #在屏幕上打印拟合多项式\n",
    "# SFD_vals=fitcurve(SFD_catalog_teff)\n"
   ]
  },
  {
   "cell_type": "markdown",
   "metadata": {},
   "source": [
    "## 绘图所需的具体量（Alternative)"
   ]
  },
  {
   "cell_type": "code",
   "execution_count": 42,
   "metadata": {
    "scrolled": false
   },
   "outputs": [
    {
     "data": {
      "image/png": "[encoded data removed]",
      "text/plain": [
       "<matplotlib.figure.Figure at 0x12f102dd8>"
      ]
     },
     "metadata": {},
     "output_type": "display_data"
    }
   ],
   "source": [
    "#PLT\n",
    "plt.figure(1,figsize=(15, 10))  \n",
    "plt.xlabel('$T_\\mathrm{eff}(K)$',fontsize=14)\n",
    "plt.ylabel(ylabel,fontsize=14)\n",
    "\n",
    "# the data we use\n",
    "plt.scatter(starcatalog_fram_fil[teff], starcatalog_fram_fil[color1]-starcatalog_fram_fil[color2],\\\n",
    "            c='darkgray',s=4, edgecolors='None',label='LAMOST(8582)')\n",
    "\n",
    "# data we use in the SFD dustmap\n",
    "plt.scatter(SFD_catalog_teff,SFD_catalog_color,alpha=1,edgecolors='None',c='violet',s=4,label='SFD dustmap',zorder=2)\n",
    "\n",
    "# SFD fitcurve\n",
    "#plt.plot(SFD_catalog_teff, SFD_vals, c='black',linewidth = 3.5,label='fitting curve of \\nthe E(B-V)<0.05',zorder=1)\n",
    "\n",
    "# ic plot from blue edge\n",
    "plt.plot(int_teff, colorvals, c='r',linewidth = 3.5,label='fitting curve of \\nthe bluest 5%',zorder=1,alpha=1)\n",
    "\n",
    "# ic from blue edge\n",
    "plt.scatter(int_teff, int_color, edgecolors='None',c='b', marker = '+',s=11,label='Median of\\nthe bluest 5%',zorder=2)\n",
    "\n",
    "# ic from Allen's work \n",
    "# plt.scatter(BBFrame_fil['Teff'],BBFrame_fil['J-H'],c='lime',s=11,label='Allen',zorder=2)\n",
    "\n",
    "#ic from parsec\n",
    "#plt.scatter(parsec_teff,parsec_color,c='gold',s=5,label='PARSEC',zorder=2)\n",
    "plt.plot(parsec_teff, parsec_color, c='gold',linewidth = 3.5,label='PARSEC',zorder=2,alpha=1)\n",
    "### Draw the plot\n",
    "\n",
    "# plt.xlabel('$T_\\mathrm{eff}$'); plt.ylabel(ylabel)\n",
    "#plt.scatter(BBFrame_fil['Teff'],BBFrame_fil['J-H'],c='lightgreen',s=15,label='Allen')\n",
    "\n",
    "plt.legend(loc='upper right')\n",
    "#new_ticks = np.linspace(-1,2,7)\n",
    "#plt.yticks(new_ticks)\n",
    "\n",
    "# plt.ylim(np.min(starcatalog_fram_fil[color1] - starcatalog_fram_fil[color2]) - 0.5,\\\n",
    "#         np.max(starcatalog_fram_fil[color1] - starcatalog_fram_fil[color2]))\n",
    "#plt.ylim(np.min(starcatalog_fram_fil[color1] - starcatalog_fram_fil[color2]) - 0.5,\\\n",
    "#       4)\n",
    "\n",
    "plt.xticks(fontsize=12)\n",
    "plt.yticks(fontsize=12)\n",
    "# plt.savefig(savename1,dpi=200)\n",
    "plt.xlim(9000,21000)\n",
    "plt.ylim(-0.5,0.5)\n",
    "plt.savefig(savename1,dpi=200)\n",
    "\n",
    "plt.show()"
   ]
  },
  {
   "cell_type": "code",
   "execution_count": 68,
   "metadata": {},
   "outputs": [
    {
     "data": {
      "text/plain": [
       "array([ 10250.,  10750.,  11250.,  11750.,  12250.,  12750.,  13250.,\n",
       "        13750.,  14250.,  14750.,  15250.,  15750.,  16250.,  16750.,\n",
       "        17250.,  17750.,  18250.,  18750.,  19250.,  19750.,  20250.,\n",
       "        20750.,  21250.,  21750.,  22250.,  22750.,  23250.,  23750.,\n",
       "        24250.,  24750.,  25250.,  25750.,  26250.,  26750.,  27250.,\n",
       "        27750.,  28250.,  28750.,  29250.,  29750.])"
      ]
     },
     "execution_count": 68,
     "metadata": {},
     "output_type": "execute_result"
    }
   ],
   "source": [
    "parsec_teff"
   ]
  },
  {
   "cell_type": "code",
   "execution_count": 71,
   "metadata": {},
   "outputs": [
    {
     "data": {
      "image/png": "[encoded data removed]",
      "text/plain": [
       "<matplotlib.figure.Figure at 0x120754a58>"
      ]
     },
     "metadata": {},
     "output_type": "display_data"
    }
   ],
   "source": [
    "TEFF = origin_1['Teff_tlusty'].values\n",
    "logg = origin_1['logg_tlusty'].values\n",
    "\n",
    "\n",
    "plt.figure(2,figsize=(15, 10))  \n",
    "plt.xlabel('$T_\\mathrm{eff}(K)$',fontsize=14)\n",
    "plt.ylabel('logg',fontsize=14)\n",
    "\n",
    "plt.scatter(TEFF,logg,s=3)\n",
    "plt.savefig(savename2,dpi=200)\n",
    "plt.show()\n",
    "\n",
    "\n",
    "\n"
   ]
  },
  {
   "cell_type": "code",
   "execution_count": null,
   "metadata": {
    "collapsed": true
   },
   "outputs": [],
   "source": []
  }
 ],
 "metadata": {
  "kernelspec": {
   "display_name": "Python 3",
   "language": "python",
   "name": "python3"
  },
  "language_info": {
   "codemirror_mode": {
    "name": "ipython",
    "version": 3
   },
   "file_extension": ".py",
   "mimetype": "text/x-python",
   "name": "python",
   "nbconvert_exporter": "python",
   "pygments_lexer": "ipython3",
   "version": "3.6.1"
  },
  "toc": {
   "base_numbering": 1,
   "nav_menu": {},
   "number_sections": true,
   "sideBar": true,
   "skip_h1_title": false,
   "title_cell": "Table of Contents",
   "title_sidebar": "Contents",
   "toc_cell": false,
   "toc_position": {},
   "toc_section_display": true,
   "toc_window_display": false
  }
 },
 "nbformat": 4,
 "nbformat_minor": 2
}
