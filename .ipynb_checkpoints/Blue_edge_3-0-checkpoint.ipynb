{
 "cells": [
  {
   "cell_type": "markdown",
   "metadata": {},
   "source": [
    "# 综述\n",
    "\n",
    "\n",
    "_由于有一些星表中包含缺省项，我们需要使用pandas中使用dataframe读取csv中自动将缺省项补上的优势，来优化我们的自动化程式_\n",
    "\n",
    "\n",
    "我们需要实现的功能包含以下几点：\n",
    "\n",
    "输入：\n",
    "* csv星表**_的名字_**\n",
    "* 需要画的色指数的两个测光点（比如 $ J - H $ 我们需要输入$J$ 和 $H$）\n",
    "\n",
    "程序中自带（我们所需要限定的条件）\n",
    "_写在其中的某一个cell中作为 filt 条件_\n",
    "* 限定的误差范围（看各波段误差分布，取符合统计规律的限定）\n",
    "* 去掉错误的点（见之前的程序)\n",
    "\n",
    "操作：\n",
    "* 蓝边缘选取（根据误差选择选取前%？的源，以及三sigema剔除）\n",
    "* 对所有点算SFD,选取<0.05的源认为它没有消光\n",
    "* 对蓝边缘点和SFD无消光点作拟合（拟合函数及方法暂定）\n",
    "\n",
    "输出：\n",
    "* 颜色-teff 图（其中包括全部数据点，蓝边缘点，SFD<0.05的点 ， parsec点，以及拟合曲线）\n",
    "\n"
   ]
  },
  {
   "cell_type": "markdown",
   "metadata": {},
   "source": [
    "# 数据的引入和format (Alternative)"
   ]
  },
  {
   "cell_type": "code",
   "execution_count": 28,
   "metadata": {
    "collapsed": true
   },
   "outputs": [],
   "source": [
    "import pandas as pd\n",
    "import numpy as np\n",
    "import math\n",
    "import matplotlib.pyplot as plt\n",
    "import time\n",
    "import datetime\n",
    "from scipy.optimize import curve_fit\n",
    "%matplotlib inline\n",
    "\n",
    "# data_dir = '/Users/SY/Desktop/obic/data/'\n",
    "data_dir = '/Users/dengdingshan/Documents/data/obic/'"
   ]
  },
  {
   "cell_type": "code",
   "execution_count": 29,
   "metadata": {},
   "outputs": [
    {
     "data": {
      "text/plain": [
       "Index(['col1', 'TEFF', 'ERR_TEFF', 'RA', 'DEC', 'LOGG', 'ERR_LOGG', 'FEH',\n",
       "       'ERR_FEH', 'SFD_ebv', 'l', 'b', 'J', 'ERR_J', 'H', 'ERR_H', 'KS',\n",
       "       'ERR_KS', 'W1', 'ERR_W1', 'W2', 'ERR_W2', 'GMAG_gaia', 'GBP', 'GRP',\n",
       "       'objID', 'RAJ2000', 'DEJ2000', 'errHalfMaj', 'errHalfMin', 'errPosAng',\n",
       "       'f_objID', 'Qual', 'Epoch', 'Ns', 'Nd', 'gmag', 'e_gmag', 'gKmag',\n",
       "       'e_gKmag', 'gFlags', 'rmag', 'e_rmag', 'rKmag', 'e_rKmag', 'rFlags',\n",
       "       'imag', 'e_imag', 'iKmag', 'e_iKmag', 'iFlags', 'zmag', 'e_zmag',\n",
       "       'zKmag', 'e_zKmag', 'zFlags', 'ymag', 'e_ymag', 'yKmag', 'e_yKmag',\n",
       "       'yFlags', 'angDist'],\n",
       "      dtype='object')"
      ]
     },
     "execution_count": 29,
     "metadata": {},
     "output_type": "execute_result"
    }
   ],
   "source": [
    "#read as pandas\n",
    "# starcatalog_fram = pd.read_csv(data_dir + 'LMOB-V4-SFDGP-right_panstar.csv') \n",
    "starcatalog_fram = pd.read_csv(data_dir + 'New/LMOBV4-Panstarr.csv')\n",
    "\n",
    "###########\n",
    "starcatalog_fram.columns\n",
    "#print(starcatalog_fram)"
   ]
  },
  {
   "cell_type": "code",
   "execution_count": 30,
   "metadata": {
    "collapsed": true
   },
   "outputs": [],
   "source": [
    "# fill the NaN blocks with 0\n",
    "\n",
    "starcatalog_fram_fil0 = starcatalog_fram.fillna(0)"
   ]
  },
  {
   "cell_type": "code",
   "execution_count": 31,
   "metadata": {},
   "outputs": [],
   "source": [
    "# #read parsec\n",
    "# parsec_fram = pd.read_csv(data_dir + 'PARSEC2MASSandWISEMinus.csv') #PARSEC2MASSandWISEMinus PARSECGALEXandSDSSPlus\n",
    "\n",
    "# ############\n",
    "\n",
    "# print(parsec_fram.columns)"
   ]
  },
  {
   "cell_type": "markdown",
   "metadata": {},
   "source": [
    "## 所需参数的选取（Input）"
   ]
  },
  {
   "cell_type": "code",
   "execution_count": 77,
   "metadata": {
    "collapsed": true
   },
   "outputs": [],
   "source": [
    "### variables\n",
    "\n",
    "teff = 'TEFF'\n",
    "\n",
    "color1 = 'rmag'\n",
    "color2 = 'imag'\n",
    "err_teff = 'ERR_TEFF'\n",
    "\n",
    "err_c1 = 'e_' + color1\n",
    "#'e_' + color1\n",
    "#color1 + 'err' \n",
    "#color1 + 'err'\n",
    "#ERR_' + color1\n",
    "#'e_' + color1\n",
    "\n",
    "err_c2 ='e_' + color2\n",
    "#'ERR_' + color2\n",
    "#'e_' + color2"
   ]
  },
  {
   "cell_type": "markdown",
   "metadata": {},
   "source": [
    "## Logg选取(Input:)"
   ]
  },
  {
   "cell_type": "code",
   "execution_count": 78,
   "metadata": {
    "collapsed": true
   },
   "outputs": [],
   "source": [
    "### we just need the mainsquence (dwarf stars)\n",
    "\n",
    "# #judge logg >3.0\n",
    "\n",
    "Judge_logg = 3.5\n",
    "\n",
    "starcatalog_fram_fil = starcatalog_fram_fil0[(starcatalog_fram_fil0['LOGG']> Judge_logg)]\n",
    "#parsec_fram = parsec_fram[(parsec_fram['logg']>Judge_logg)]                                            "
   ]
  },
  {
   "cell_type": "markdown",
   "metadata": {},
   "source": [
    "## 测光误差的选取(input:)"
   ]
  },
  {
   "cell_type": "code",
   "execution_count": 79,
   "metadata": {},
   "outputs": [],
   "source": [
    "### get the good stars\n",
    "\n",
    "# judge  data\n",
    "starcatalog_fram_fil=starcatalog_fram_fil[((starcatalog_fram_fil[err_c1] != 0) \\\n",
    "                                          & (starcatalog_fram_fil[err_c2] != 0)\\\n",
    "                                          & (starcatalog_fram_fil[err_c1] != -99) \\\n",
    "                                          & (starcatalog_fram_fil[err_c2] != -99))\\\n",
    "                                         & ((starcatalog_fram_fil[color1] != 0)\\\n",
    "                                           & (starcatalog_fram_fil[color2] != 0)\\\n",
    "                                           & (starcatalog_fram_fil[color1] != -99) \\\n",
    "                                           & (starcatalog_fram_fil[color2] != -99))\\\n",
    "                                         &((starcatalog_fram_fil[err_c1] <=0.01))\n",
    "                                          & ((starcatalog_fram_fil[err_c2] <=0.01))]\n",
    "#saturated magnitude\n",
    "\n",
    "# if (color1=='J' or color2=='J'):\n",
    "#      starcatalog_fram_fil=starcatalog_fram_fil[(starcatalog_fram_fil['J'] >= 5.5)]\n",
    "# if (color1=='H' or color2=='H'):\n",
    "#      starcatalog_fram_fil=starcatalog_fram_fil[(starcatalog_fram_fil['H'] >= 5)]  \n",
    "# if (color1=='KS' or color2=='KS'):\n",
    "#      starcatalog_fram_fil=starcatalog_fram_fil[(starcatalog_fram_fil['KS'] >= 4.5)]\n",
    "# if (color1=='W1' or color2=='W1'):\n",
    "#      starcatalog_fram_fil=starcatalog_fram_fil[(starcatalog_fram_fil['W1'] >= 8.1)]\n",
    "# if (color1=='W2' or color2=='W2'):\n",
    "#      starcatalog_fram_fil=starcatalog_fram_fil[(starcatalog_fram_fil['W2'] >= 6.7)]  \n",
    "# if (color1=='W3' or color2=='W3'):\n",
    "#      starcatalog_fram_fil=starcatalog_fram_fil[(starcatalog_fram_fil['W3'] >= 3.8)\n",
    "\n",
    "# if (color1=='gmag' or color2=='gmag'):\n",
    "#      starcatalog_fram_fil=starcatalog_fram_fil[(starcatalog_fram_fil['gmag'] >= 14)]\n",
    "# if (color1=='rmag' or color2=='rmag'):\n",
    "#      starcatalog_fram_fil=starcatalog_fram_fil[(starcatalog_fram_fil['rmag'] >= 14)]\n",
    "# if (color1=='imag' or color2=='imag'):\n",
    "#      starcatalog_fram_fil=starcatalog_fram_fil[(starcatalog_fram_fil['imag'] >= 13)]\n",
    "# if (color1=='zmag' or color2=='zmag'):\n",
    "#      starcatalog_fram_fil=starcatalog_fram_fil[(starcatalog_fram_fil['zmag'] >= 13)]\n",
    "# if (color1=='ymag' or color2=='ymag'):\n",
    "#      starcatalog_fram_fil=starcatalog_fram_fil[(starcatalog_fram_fil['ymag'] >= 13)]\n",
    "        \n",
    "\n",
    "if (color1=='gmag' or color2=='gmag'):\n",
    "     starcatalog_fram_fil=starcatalog_fram_fil[(starcatalog_fram_fil['gmag'] >= 12)]\n",
    "if (color1=='rmag' or color2=='rmag'):\n",
    "     starcatalog_fram_fil=starcatalog_fram_fil[(starcatalog_fram_fil['rmag'] >= 12)]\n",
    "if (color1=='imag' or color2=='imag'):\n",
    "     starcatalog_fram_fil=starcatalog_fram_fil[(starcatalog_fram_fil['imag'] >= 12)]\n",
    "if (color1=='zmag' or color2=='zmag'):\n",
    "     starcatalog_fram_fil=starcatalog_fram_fil[(starcatalog_fram_fil['zmag'] >= 12)]\n",
    "if (color1=='ymag' or color2=='ymag'):\n",
    "     starcatalog_fram_fil=starcatalog_fram_fil[(starcatalog_fram_fil['ymag'] >= 12)]"
   ]
  },
  {
   "cell_type": "markdown",
   "metadata": {},
   "source": [
    "## （金属丰度选取）(input:)"
   ]
  },
  {
   "cell_type": "code",
   "execution_count": 80,
   "metadata": {
    "collapsed": true
   },
   "outputs": [],
   "source": [
    "#FEH\n",
    "starcatalog_fram_fil=starcatalog_fram_fil[starcatalog_fram_fil['FEH'] > 0] # > <"
   ]
  },
  {
   "cell_type": "markdown",
   "metadata": {},
   "source": [
    "## 有效温度及其误差选取(input:)"
   ]
  },
  {
   "cell_type": "code",
   "execution_count": 81,
   "metadata": {
    "scrolled": false
   },
   "outputs": [
    {
     "name": "stdout",
     "output_type": "stream",
     "text": [
      "max_teff: 22950.762000000002\n",
      "the amount of available sources: 2177\n"
     ]
    }
   ],
   "source": [
    "#USE goodOB \n",
    "teff_min=np.min(starcatalog_fram_fil[teff]) #10000\n",
    "teff_max=np.max(starcatalog_fram_fil[teff]) #16000\n",
    "\n",
    "starcatalog_fram_fil=starcatalog_fram_fil[(((starcatalog_fram_fil[err_teff] != 0 )\\\n",
    "                                          & (starcatalog_fram_fil[teff]>= teff_min)\\\n",
    "                                          & (starcatalog_fram_fil[teff]<= teff_max))\\\n",
    "                                          & (((starcatalog_fram_fil[err_teff]< 630)\\\n",
    "                                          &(starcatalog_fram_fil[teff]> 9000))\\\n",
    "                                          |((starcatalog_fram_fil[err_teff]< 500)\\\n",
    "                                          & (starcatalog_fram_fil[teff]<= 9000))))]\n",
    "print('max_teff:',np.max(starcatalog_fram_fil[teff]))\n",
    "print('the amount of available sources:',starcatalog_fram_fil.iloc[:,0].size)"
   ]
  },
  {
   "cell_type": "markdown",
   "metadata": {},
   "source": [
    "## 蓝边缘的参数选取(input:)"
   ]
  },
  {
   "cell_type": "code",
   "execution_count": 82,
   "metadata": {
    "collapsed": true
   },
   "outputs": [],
   "source": [
    "# Ratio of the bluest edge, usually 5% 前%多少的源\n",
    "rat = 5\n",
    "\n",
    "# Low end criteria. If the number in a bin is lower than this number then neglect.  #为保证统计的可靠性，每个区间最少的源为50\n",
    "low_crit = 50\n",
    "\n",
    "#the start teff 选取最低温度\n",
    "teff_start= teff_min\n",
    "\n",
    "#the pace of slide 滑动窗口的步长\n",
    "slide_index = 500 \n",
    "\n"
   ]
  },
  {
   "cell_type": "markdown",
   "metadata": {},
   "source": [
    "## parsec星表参数的选取(input:)"
   ]
  },
  {
   "cell_type": "code",
   "execution_count": 83,
   "metadata": {},
   "outputs": [],
   "source": [
    "# # parsec point  #16000:4.204 23000:4.362 选取温度范围\n",
    "# parsecframe = parsec_fram[((parsec_fram['logTe'] <= 4.362)\\\n",
    "#                            &(parsec_fram['logTe'] >= 4))]\n",
    "\n",
    "# #the width of bin\n",
    "# bin_width_parsec = 500 #选取500一个bin\n",
    "\n",
    "# #确定开始和结束的温度\n",
    "# teff_start_parsec = teff_min\n",
    "# teff_end_parsec = teff_max\n",
    "\n",
    "                                         "
   ]
  },
  {
   "cell_type": "code",
   "execution_count": 84,
   "metadata": {},
   "outputs": [],
   "source": [
    "# parseccolor1 = color1+'mag'\n",
    "# parseccolor2 = color2+'mag'\n",
    "# color_total = []\n",
    "# teff_total = []\n",
    "# #算色指数\n",
    "# for i in range(int((teff_end_parsec-teff_start_parsec)/bin_width_parsec)):\n",
    "#     parsecframe_bin = parsecframe[( (teff_start_parsec+i*bin_width_parsec) <=10**parsecframe['logTe']) & \\\n",
    "#                 (10**parsecframe['logTe']< (teff_start_parsec+ (i+1)*bin_width_parsec) )]\n",
    "#     color_total.append(np.median(np.array(parsecframe_bin[parseccolor1]-parsecframe_bin[parseccolor2])))#'Ksmag''NUVmag'\n",
    "#     teff_total.append(teff_start_parsec+(i+0.5)*bin_width_parsec)#选取bin中间温度为蓝边缘点的温度\n",
    "    \n",
    "# parsec_color = np.array(color_total)\n",
    "# parsec_teff = np.array(teff_total)"
   ]
  },
  {
   "cell_type": "markdown",
   "metadata": {},
   "source": [
    "# 内禀色指数的计算（蓝色边缘方法），同时取出某一部分用于SFD判断"
   ]
  },
  {
   "cell_type": "markdown",
   "metadata": {},
   "source": [
    "## DEF"
   ]
  },
  {
   "cell_type": "code",
   "execution_count": 85,
   "metadata": {
    "collapsed": true
   },
   "outputs": [],
   "source": [
    "def data(teff_start,ratio,low_crit,ratio_SFD,slide_index):\n",
    "    \n",
    "    start_time = time.time()\n",
    "    int_teff = []\n",
    "    int_color = []\n",
    "    bin_int_color = []\n",
    "    \n",
    "    SFD_RA = []; SFD_DEC = []; SFD_TEFF = []; SFD_color1 = []; SFD_color2 = [];SFD_ebv = []\n",
    "    \n",
    "    data_final = pd.DataFrame(columns=[teff,color1,color2])\n",
    "    teff_judge = teff_start\n",
    "    while teff_judge < np.max(starcatalog_fram_fil[teff]) - 500:\n",
    "        #print(teff_judge)\n",
    "        if teff_judge <16000:\n",
    "            bin_width = 500\n",
    "        else:\n",
    "            bin_width = 1000\n",
    "\n",
    "        bin_tbl =starcatalog_fram_fil[np.logical_and(starcatalog_fram_fil[teff] > teff_judge, \\\n",
    "                                                starcatalog_fram_fil[teff] < teff_judge+bin_width)]\n",
    "\n",
    "        #print(teff_judge)\n",
    "       \n",
    "        \n",
    "        if len(bin_tbl) < low_crit:\n",
    "            teff_judge = teff_judge+slide_index\n",
    "            continue\n",
    "            \n",
    "        source_num = 0\n",
    "        #print(len(bin_tbl))\n",
    "\n",
    "        while source_num != len(bin_tbl):\n",
    "            source_num = len(bin_tbl)\n",
    "\n",
    "        data_final = data_final.append(bin_tbl[[teff,color1,color2]])\n",
    "        #print(len(bin_tbl))\n",
    "\n",
    "        int_teff.append(float(teff_judge+bin_width/2))\n",
    "        bin_tbl['color'] = bin_tbl[color1]-bin_tbl[color2]\n",
    "        bin_sort = bin_tbl.sort_index(axis = 0,ascending = True,by = 'color')\n",
    "        \n",
    "        # 每个bin中前ratio_SFD的部分用于取得ebv\n",
    "        color_SFD = bin_sort['color'].values[:math.ceil(len(bin_tbl)*ratio_SFD/100)]\n",
    "        bin_tbl_SFD = bin_sort[(bin_sort['color']<=np.max(color_SFD))]\n",
    "        \n",
    "        for ppp in range(len(bin_tbl_SFD)):\n",
    "            SFD_RA.append(bin_tbl_SFD['RA'].values[ppp])\n",
    "            SFD_DEC.append(bin_tbl_SFD['DEC'].values[ppp])\n",
    "            SFD_TEFF.append(bin_tbl_SFD['TEFF'].values[ppp])\n",
    "            SFD_color1.append(bin_tbl_SFD[color1].values[ppp])\n",
    "            SFD_color2.append(bin_tbl_SFD[color2].values[ppp])\n",
    "            SFD_ebv.append(bin_tbl_SFD['SFD_ebv'].values[ppp])\n",
    "        \n",
    "        # 每个bin中前ratio(usually 5%)的部分 用于取得内禀色指数int_color\n",
    "        color5 = bin_sort['color'].values[:math.ceil(len(bin_tbl)*ratio/100)]\n",
    "        bin_tbl_5 = bin_sort[(bin_sort['color']<=np.max(color5))]\n",
    "        \n",
    "        \n",
    "        if len(color5) != 0:\n",
    "            for i in range(20):\n",
    "                bin_mean = np.median(color5)\n",
    "                bin_sigma = np.std(color5)\n",
    "                bin_int_color = color5\\\n",
    "                [((color5<= bin_mean+3*bin_sigma)\\\n",
    "                & (color5>= bin_mean-3*bin_sigma))]\n",
    "                color5 = np.array(bin_int_color)\n",
    "                print(bin_mean-3*bin_sigma)\n",
    "                print(np.min(color5))\n",
    "\n",
    "            int_color.append(np.median(bin_int_color))\n",
    "            \n",
    "        teff_judge = teff_judge+slide_index\n",
    "        \n",
    "    SFD_tbl_final = pd.DataFrame({'TEFF':np.array(SFD_TEFF),'RA':np.array(SFD_RA),\\\n",
    "                                  'DEC':np.array(SFD_DEC),color1:np.array(SFD_color1),\\\n",
    "                                 color2:np.array(SFD_color2),'SFD_ebv':np.array(SFD_ebv)})\n",
    "    \n",
    "    #print(time.time() - start_time)\n",
    "    print('int_Teff:',int_teff)\n",
    "    print(' ') #让底下显示好看一些\n",
    "    print('int_color:',int_color)\n",
    "#     print(bin_mean)\n",
    "#     print(data_final.iloc[:,0].size)\n",
    "    return int_teff,int_color,data_final,SFD_tbl_final"
   ]
  },
  {
   "cell_type": "markdown",
   "metadata": {},
   "source": [
    "## 运算，SFD的准备（Input:)"
   ]
  },
  {
   "cell_type": "code",
   "execution_count": 86,
   "metadata": {
    "scrolled": true
   },
   "outputs": [
    {
     "name": "stdout",
     "output_type": "stream",
     "text": [
      "-0.26232843663065986\n",
      "-0.1993999999999989\n",
      "-0.26232843663065986\n",
      "-0.1993999999999989\n",
      "-0.26232843663065986\n",
      "-0.1993999999999989\n",
      "-0.26232843663065986\n",
      "-0.1993999999999989\n",
      "-0.26232843663065986\n",
      "-0.1993999999999989\n",
      "-0.26232843663065986\n",
      "-0.1993999999999989"
     ]
    },
    {
     "name": "stderr",
     "output_type": "stream",
     "text": [
      "/Users/dengdingshan/anaconda3/lib/python3.6/site-packages/ipykernel_launcher.py:38: SettingWithCopyWarning: \n",
      "A value is trying to be set on a copy of a slice from a DataFrame.\n",
      "Try using .loc[row_indexer,col_indexer] = value instead\n",
      "\n",
      "See the caveats in the documentation: http://pandas.pydata.org/pandas-docs/stable/indexing.html#indexing-view-versus-copy\n",
      "/Users/dengdingshan/anaconda3/lib/python3.6/site-packages/ipykernel_launcher.py:39: FutureWarning: by argument to sort_index is deprecated, pls use .sort_values(by=...)\n"
     ]
    },
    {
     "name": "stdout",
     "output_type": "stream",
     "text": [
      "\n",
      "-0.26232843663065986\n",
      "-0.1993999999999989\n",
      "-0.26232843663065986\n",
      "-0.1993999999999989\n",
      "-0.26232843663065986\n",
      "-0.1993999999999989\n",
      "-0.26232843663065986\n",
      "-0.1993999999999989\n",
      "-0.26232843663065986\n",
      "-0.1993999999999989\n",
      "-0.26232843663065986\n",
      "-0.1993999999999989\n",
      "-0.26232843663065986\n",
      "-0.1993999999999989\n",
      "-0.26232843663065986\n",
      "-0.1993999999999989\n",
      "-0.26232843663065986\n",
      "-0.1993999999999989\n",
      "-0.26232843663065986\n",
      "-0.1993999999999989\n",
      "-0.26232843663065986\n",
      "-0.1993999999999989\n",
      "-0.26232843663065986\n",
      "-0.1993999999999989\n",
      "-0.26232843663065986\n",
      "-0.1993999999999989\n",
      "-0.26232843663065986\n",
      "-0.1993999999999989\n",
      "-0.3007305502195016\n",
      "-0.24029999999999951\n",
      "-0.3007305502195016\n",
      "-0.24029999999999951\n",
      "-0.3007305502195016\n",
      "-0.24029999999999951\n",
      "-0.3007305502195016\n",
      "-0.24029999999999951\n",
      "-0.3007305502195016\n",
      "-0.24029999999999951\n",
      "-0.3007305502195016\n",
      "-0.24029999999999951\n",
      "-0.3007305502195016\n",
      "-0.24029999999999951\n",
      "-0.3007305502195016\n",
      "-0.24029999999999951\n",
      "-0.3007305502195016\n",
      "-0.24029999999999951\n",
      "-0.3007305502195016\n",
      "-0.24029999999999951\n",
      "-0.3007305502195016\n",
      "-0.24029999999999951\n",
      "-0.3007305502195016\n",
      "-0.24029999999999951\n",
      "-0.3007305502195016\n",
      "-0.24029999999999951\n",
      "-0.3007305502195016\n",
      "-0.24029999999999951\n",
      "-0.3007305502195016\n",
      "-0.24029999999999951\n",
      "-0.3007305502195016\n",
      "-0.24029999999999951\n",
      "-0.3007305502195016\n",
      "-0.24029999999999951\n",
      "-0.3007305502195016\n",
      "-0.24029999999999951\n",
      "-0.3007305502195016\n",
      "-0.24029999999999951\n",
      "-0.3007305502195016\n",
      "-0.24029999999999951\n",
      "-0.7723551301458269\n",
      "-0.33239999999999803\n",
      "-0.3400586496969969\n",
      "-0.33239999999999803\n",
      "-0.3400586496969969\n",
      "-0.33239999999999803\n",
      "-0.3400586496969969\n",
      "-0.33239999999999803\n",
      "-0.3400586496969969\n",
      "-0.33239999999999803\n",
      "-0.3400586496969969\n",
      "-0.33239999999999803\n",
      "-0.3400586496969969\n",
      "-0.33239999999999803\n",
      "-0.3400586496969969\n",
      "-0.33239999999999803\n",
      "-0.3400586496969969\n",
      "-0.33239999999999803\n",
      "-0.3400586496969969\n",
      "-0.33239999999999803\n",
      "-0.3400586496969969\n",
      "-0.33239999999999803\n",
      "-0.3400586496969969\n",
      "-0.33239999999999803\n",
      "-0.3400586496969969\n",
      "-0.33239999999999803\n",
      "-0.3400586496969969\n",
      "-0.33239999999999803\n",
      "-0.3400586496969969\n",
      "-0.33239999999999803\n",
      "-0.3400586496969969\n",
      "-0.33239999999999803\n",
      "-0.3400586496969969\n",
      "-0.33239999999999803\n",
      "-0.3400586496969969\n",
      "-0.33239999999999803\n",
      "-0.3400586496969969\n",
      "-0.33239999999999803\n",
      "-0.3400586496969969\n",
      "-0.33239999999999803\n",
      "-0.24314548414583562\n",
      "-0.23370000000000068\n",
      "-0.24314548414583562\n",
      "-0.23370000000000068\n",
      "-0.24314548414583562\n",
      "-0.23370000000000068\n",
      "-0.24314548414583562\n",
      "-0.23370000000000068\n",
      "-0.24314548414583562\n",
      "-0.23370000000000068\n",
      "-0.24314548414583562\n",
      "-0.23370000000000068\n",
      "-0.24314548414583562\n",
      "-0.23370000000000068\n",
      "-0.24314548414583562\n",
      "-0.23370000000000068\n",
      "-0.24314548414583562\n",
      "-0.23370000000000068\n",
      "-0.24314548414583562\n",
      "-0.23370000000000068\n",
      "-0.24314548414583562\n",
      "-0.23370000000000068\n",
      "-0.24314548414583562\n",
      "-0.23370000000000068\n",
      "-0.24314548414583562\n",
      "-0.23370000000000068\n",
      "-0.24314548414583562\n",
      "-0.23370000000000068\n",
      "-0.24314548414583562\n",
      "-0.23370000000000068\n",
      "-0.24314548414583562\n",
      "-0.23370000000000068\n",
      "-0.24314548414583562\n",
      "-0.23370000000000068\n",
      "-0.24314548414583562\n",
      "-0.23370000000000068\n",
      "-0.24314548414583562\n",
      "-0.23370000000000068\n",
      "-0.24314548414583562\n",
      "-0.23370000000000068\n",
      "-0.23753790911088302\n",
      "-0.2284000000000006\n",
      "-0.23753790911088302\n",
      "-0.2284000000000006\n",
      "-0.23753790911088302\n",
      "-0.2284000000000006\n",
      "-0.23753790911088302\n",
      "-0.2284000000000006\n",
      "-0.23753790911088302\n",
      "-0.2284000000000006\n",
      "-0.23753790911088302\n",
      "-0.2284000000000006\n",
      "-0.23753790911088302\n",
      "-0.2284000000000006\n",
      "-0.23753790911088302\n",
      "-0.2284000000000006\n",
      "-0.23753790911088302\n",
      "-0.2284000000000006\n",
      "-0.23753790911088302\n",
      "-0.2284000000000006\n",
      "-0.23753790911088302\n",
      "-0.2284000000000006\n",
      "-0.23753790911088302\n",
      "-0.2284000000000006\n",
      "-0.23753790911088302\n",
      "-0.2284000000000006\n",
      "-0.23753790911088302\n",
      "-0.2284000000000006\n",
      "-0.23753790911088302\n",
      "-0.2284000000000006\n",
      "-0.23753790911088302\n",
      "-0.2284000000000006\n",
      "-0.23753790911088302\n",
      "-0.2284000000000006\n",
      "-0.23753790911088302\n",
      "-0.2284000000000006\n",
      "-0.23753790911088302\n",
      "-0.2284000000000006\n",
      "-0.23753790911088302\n",
      "-0.2284000000000006\n",
      "-0.6350023137557452\n",
      "-0.48300000000000054\n",
      "-0.4446267339421612\n",
      "-0.3157000000000014\n",
      "-0.3295496627189396\n",
      "-0.3157000000000014\n",
      "-0.3295496627189396\n",
      "-0.3157000000000014\n",
      "-0.3295496627189396\n",
      "-0.3157000000000014\n",
      "-0.3295496627189396\n",
      "-0.3157000000000014\n",
      "-0.3295496627189396\n",
      "-0.3157000000000014\n",
      "-0.3295496627189396\n",
      "-0.3157000000000014\n",
      "-0.3295496627189396\n",
      "-0.3157000000000014\n",
      "-0.3295496627189396\n",
      "-0.3157000000000014\n",
      "-0.3295496627189396\n",
      "-0.3157000000000014\n",
      "-0.3295496627189396\n",
      "-0.3157000000000014\n",
      "-0.3295496627189396\n",
      "-0.3157000000000014\n",
      "-0.3295496627189396\n",
      "-0.3157000000000014\n",
      "-0.3295496627189396\n",
      "-0.3157000000000014\n",
      "-0.3295496627189396\n",
      "-0.3157000000000014\n",
      "-0.3295496627189396\n",
      "-0.3157000000000014\n",
      "-0.3295496627189396\n",
      "-0.3157000000000014\n",
      "-0.3295496627189396\n",
      "-0.3157000000000014\n",
      "-0.3295496627189396\n",
      "-0.3157000000000014\n",
      "-0.31468739576884774\n",
      "-0.26339999999999897\n",
      "-0.24986154764872548\n",
      "-0.18029999999999902\n",
      "-0.20348844113526732\n",
      "-0.18029999999999902\n",
      "-0.20348844113526732\n",
      "-0.18029999999999902\n",
      "-0.20348844113526732\n",
      "-0.18029999999999902\n",
      "-0.20348844113526732\n",
      "-0.18029999999999902\n",
      "-0.20348844113526732\n",
      "-0.18029999999999902\n",
      "-0.20348844113526732\n",
      "-0.18029999999999902\n",
      "-0.20348844113526732\n",
      "-0.18029999999999902\n",
      "-0.20348844113526732\n",
      "-0.18029999999999902\n",
      "-0.20348844113526732\n",
      "-0.18029999999999902\n",
      "-0.20348844113526732\n",
      "-0.18029999999999902\n",
      "-0.20348844113526732\n",
      "-0.18029999999999902\n",
      "-0.20348844113526732\n",
      "-0.18029999999999902\n",
      "-0.20348844113526732\n",
      "-0.18029999999999902\n",
      "-0.20348844113526732\n",
      "-0.18029999999999902\n",
      "-0.20348844113526732\n",
      "-0.18029999999999902\n",
      "-0.20348844113526732\n",
      "-0.18029999999999902\n",
      "-0.20348844113526732\n",
      "-0.18029999999999902\n",
      "-0.20348844113526732\n",
      "-0.18029999999999902\n",
      "-0.3471058950809095\n",
      "-0.07589999999999897\n",
      "-0.09111546238821093\n",
      "-0.07589999999999897\n",
      "-0.09111546238821093\n",
      "-0.07589999999999897\n",
      "-0.09111546238821093\n",
      "-0.07589999999999897\n",
      "-0.09111546238821093\n",
      "-0.07589999999999897\n",
      "-0.09111546238821093\n",
      "-0.07589999999999897\n",
      "-0.09111546238821093\n",
      "-0.07589999999999897\n",
      "-0.09111546238821093\n",
      "-0.07589999999999897\n",
      "-0.09111546238821093\n",
      "-0.07589999999999897\n",
      "-0.09111546238821093\n",
      "-0.07589999999999897\n",
      "-0.09111546238821093\n",
      "-0.07589999999999897\n",
      "-0.09111546238821093\n",
      "-0.07589999999999897\n",
      "-0.09111546238821093\n",
      "-0.07589999999999897\n",
      "-0.09111546238821093\n",
      "-0.07589999999999897\n",
      "-0.09111546238821093\n",
      "-0.07589999999999897\n",
      "-0.09111546238821093\n",
      "-0.07589999999999897\n",
      "-0.09111546238821093\n",
      "-0.07589999999999897\n",
      "-0.09111546238821093\n",
      "-0.07589999999999897\n",
      "-0.09111546238821093\n",
      "-0.07589999999999897\n",
      "-0.09111546238821093\n",
      "-0.07589999999999897\n",
      "-0.11416762334280485\n",
      "-0.09359999999999857\n",
      "-0.11416762334280485\n",
      "-0.09359999999999857\n",
      "-0.11416762334280485\n",
      "-0.09359999999999857\n",
      "-0.11416762334280485\n",
      "-0.09359999999999857\n",
      "-0.11416762334280485\n",
      "-0.09359999999999857\n",
      "-0.11416762334280485\n",
      "-0.09359999999999857\n",
      "-0.11416762334280485\n",
      "-0.09359999999999857\n",
      "-0.11416762334280485\n",
      "-0.09359999999999857\n",
      "-0.11416762334280485\n",
      "-0.09359999999999857\n",
      "-0.11416762334280485\n",
      "-0.09359999999999857\n",
      "-0.11416762334280485\n",
      "-0.09359999999999857\n",
      "-0.11416762334280485\n",
      "-0.09359999999999857\n",
      "-0.11416762334280485\n",
      "-0.09359999999999857\n",
      "-0.11416762334280485\n",
      "-0.09359999999999857\n",
      "-0.11416762334280485\n",
      "-0.09359999999999857\n",
      "-0.11416762334280485\n",
      "-0.09359999999999857\n",
      "-0.11416762334280485\n",
      "-0.09359999999999857\n",
      "-0.11416762334280485\n",
      "-0.09359999999999857\n",
      "-0.11416762334280485\n",
      "-0.09359999999999857\n",
      "-0.11416762334280485\n",
      "-0.09359999999999857\n",
      "-0.1535987245527056\n",
      "-0.10500000000000043\n",
      "-0.1535987245527056\n",
      "-0.10500000000000043\n",
      "-0.1535987245527056\n",
      "-0.10500000000000043\n",
      "-0.1535987245527056\n",
      "-0.10500000000000043\n",
      "-0.1535987245527056\n",
      "-0.10500000000000043\n",
      "-0.1535987245527056\n",
      "-0.10500000000000043\n",
      "-0.1535987245527056\n",
      "-0.10500000000000043\n",
      "-0.1535987245527056\n",
      "-0.10500000000000043\n",
      "-0.1535987245527056\n",
      "-0.10500000000000043\n",
      "-0.1535987245527056\n",
      "-0.10500000000000043\n",
      "-0.1535987245527056\n",
      "-0.10500000000000043\n",
      "-0.1535987245527056\n",
      "-0.10500000000000043\n",
      "-0.1535987245527056\n",
      "-0.10500000000000043\n",
      "-0.1535987245527056\n",
      "-0.10500000000000043\n",
      "-0.1535987245527056\n",
      "-0.10500000000000043\n",
      "-0.1535987245527056\n",
      "-0.10500000000000043\n",
      "-0.1535987245527056\n",
      "-0.10500000000000043\n",
      "-0.1535987245527056\n",
      "-0.10500000000000043\n",
      "-0.1535987245527056\n",
      "-0.10500000000000043\n",
      "-0.1535987245527056\n",
      "-0.10500000000000043\n",
      "-0.19420347282559458\n",
      "-0.09640000000000093\n",
      "-0.19420347282559458\n",
      "-0.09640000000000093\n",
      "-0.19420347282559458\n",
      "-0.09640000000000093\n",
      "-0.19420347282559458\n",
      "-0.09640000000000093\n",
      "-0.19420347282559458\n",
      "-0.09640000000000093\n",
      "-0.19420347282559458\n",
      "-0.09640000000000093\n",
      "-0.19420347282559458\n",
      "-0.09640000000000093\n",
      "-0.19420347282559458\n",
      "-0.09640000000000093\n",
      "-0.19420347282559458\n",
      "-0.09640000000000093\n",
      "-0.19420347282559458\n",
      "-0.09640000000000093\n",
      "-0.19420347282559458\n",
      "-0.09640000000000093\n",
      "-0.19420347282559458\n",
      "-0.09640000000000093\n",
      "-0.19420347282559458\n",
      "-0.09640000000000093\n",
      "-0.19420347282559458\n",
      "-0.09640000000000093\n",
      "-0.19420347282559458\n",
      "-0.09640000000000093\n",
      "-0.19420347282559458\n",
      "-0.09640000000000093\n",
      "-0.19420347282559458\n",
      "-0.09640000000000093\n",
      "-0.19420347282559458\n",
      "-0.09640000000000093\n",
      "-0.19420347282559458\n",
      "-0.09640000000000093\n",
      "-0.19420347282559458\n",
      "-0.09640000000000093\n",
      "int_Teff: [9758.091, 10258.091, 10758.091, 11258.091, 11758.091, 12258.091, 12758.091, 13258.091, 13758.091, 14258.091, 14758.091]\n",
      " \n",
      "int_color: [-0.14230000000000054, -0.17925000000000058, -0.19790000000000063, -0.05930000000000035, -0.07280000000000086, -0.10999999999999943, -0.08959999999999901, -0.028100000000000236, -0.09210000000000029, -0.06515000000000004, -0.08910000000000018]\n"
     ]
    }
   ],
   "source": [
    "# SFD ratio 需要计算SFD的比例，目前是全部计算\n",
    "\n",
    "ratio_SFD = 100\n",
    "\n",
    "# fitting curve\n",
    "int_teff,int_color,data_final,SFD_tbl_ratio = data(teff_start,rat,low_crit,ratio_SFD,slide_index)\n",
    "\n"
   ]
  },
  {
   "cell_type": "markdown",
   "metadata": {},
   "source": [
    "# SFD的使用：—— 将使用到新的包\n",
    "\n",
    "1. 选取SFD中Ebv小于某一个值的认为是零消光源（Lamost)——Thins page\n",
    "2. 用目前的色指数减去 Ebv 给出的消光值，然后去归算内禀色指数 - GOSSS"
   ]
  },
  {
   "cell_type": "code",
   "execution_count": 87,
   "metadata": {},
   "outputs": [
    {
     "name": "stdout",
     "output_type": "stream",
     "text": [
      "85\n",
      "86\n",
      "87\n",
      "88\n",
      "92\n",
      "93\n",
      "353\n",
      "354\n",
      "358\n",
      "360\n",
      "766\n",
      "1013\n",
      "1351\n"
     ]
    }
   ],
   "source": [
    "SFD_catalog_color = []\n",
    "SFD_catalog_teff = []\n",
    "lens = len(SFD_tbl_ratio)\n",
    "\n",
    "#挑出SFD<0.05的源，把他们的色指数与有效温度储存备用\n",
    "for i in range(lens):\n",
    "    if SFD_tbl_ratio['SFD_ebv'].values[i] < 0.05:\n",
    "        SFD_colorindex = SFD_tbl_ratio[color1].values[i]\\\n",
    "        - (SFD_tbl_ratio[color2].values[i])\n",
    "        SFD_catalog_color.append(SFD_colorindex)\n",
    "    \n",
    "        SFD_catalog_teff.append(SFD_tbl_ratio[teff].values[i])\n",
    "        print(i)\n",
    "\n",
    "# print(time.time() - time_start)"
   ]
  },
  {
   "cell_type": "markdown",
   "metadata": {},
   "source": [
    "# 拟合（目前是指数函数）"
   ]
  },
  {
   "cell_type": "code",
   "execution_count": 88,
   "metadata": {
    "collapsed": true
   },
   "outputs": [],
   "source": [
    "# 指数函数\n",
    "def func(x, a, b, c):\n",
    "    return a * np.exp(-b * x) + c\n",
    " \n"
   ]
  },
  {
   "cell_type": "markdown",
   "metadata": {},
   "source": [
    "## 蓝边缘函数拟合"
   ]
  },
  {
   "cell_type": "code",
   "execution_count": 89,
   "metadata": {},
   "outputs": [
    {
     "name": "stdout",
     "output_type": "stream",
     "text": [
      "function: 40.52525641714471* np.exp(-1.0508456541133386e-18*x)-40.62758368987199\n",
      " \n",
      "fit_teff: [0.9758091, 1.0258091, 1.0758091, 1.1258091000000001, 1.1758091, 1.2258091, 1.2758091, 1.3258091, 1.3758091000000001, 1.4258091, 1.4758091]\n",
      " \n",
      "fit_color: [-0.1023272727272797, -0.1023272727272797, -0.1023272727272797, -0.1023272727272797, -0.1023272727272797, -0.1023272727272797, -0.1023272727272797, -0.1023272727272797, -0.1023272727272797, -0.1023272727272797, -0.1023272727272797]\n",
      " \n",
      "int_color: [-0.14230000000000054, -0.17925000000000058, -0.19790000000000063, -0.05930000000000035, -0.07280000000000086, -0.10999999999999943, -0.08959999999999901, -0.028100000000000236, -0.09210000000000029, -0.06515000000000004, -0.08910000000000018]\n"
     ]
    }
   ],
   "source": [
    "int_teff_fit = list(np.array(int_teff)/10000)\n",
    "\n",
    "popt, pcov = curve_fit(func, int_teff_fit, int_color,bounds=([0,0,-100000], [50,0.03 , -40]))\n",
    "\n",
    "#popt数组中，三个值分别是待求参数a,b,c\n",
    "colorvals = [func(i, popt[0],popt[1],popt[2]) for i in int_teff_fit]\n",
    "\n",
    "\n",
    "print('function:',str(popt[0])+'* np.exp('+str(-popt[1])+'*x)'+str(popt[2])) #在屏幕上打印拟合多项式 \n",
    "print(' ')\n",
    "print('fit_teff:',int_teff_fit)\n",
    "print(' ')\n",
    "print('fit_color:',colorvals)\n",
    "print(' ')\n",
    "print('int_color:',int_color) #为了提取出来传到matlab里去拟合"
   ]
  },
  {
   "cell_type": "markdown",
   "metadata": {},
   "source": [
    "## SFD函数拟合"
   ]
  },
  {
   "cell_type": "code",
   "execution_count": 90,
   "metadata": {},
   "outputs": [
    {
     "name": "stdout",
     "output_type": "stream",
     "text": [
      "fit_SFD_teff: [1.0465103999999998, 1.0343722, 1.0491236000000002, 1.0492445, 1.0350715, 1.0042235000000002, 1.0902579, 1.06545205, 1.0622153, 1.0707688999999998, 1.1625356000000002, 1.2109807, 1.2753207]\n",
      " \n",
      "fit_SFD_color: [-0.20970586469680796, -0.20720161946123739, -0.21024498031450634, -0.21026992241925058, -0.207345896231395, -0.20098106217549372, -0.2187304116169031, -0.21361348489281085, -0.21294577235502032, -0.2147102839502253, -0.23363678020501055, -0.243625469726652, -0.25688835460136517]\n",
      " \n",
      "SFD_color: [-0.24029999999999951, -0.22250000000000014, -0.2215000000000007, -0.21640000000000015, -0.17800000000000082, -0.17550000000000132, -0.24120000000000097, -0.22990000000000066, -0.20770000000000088, -0.1880000000000006, -0.2284000000000006, -0.22710000000000008, -0.26339999999999897]\n",
      " \n",
      "SFD_function: 49.89090702445803* np.exp(-0.004153151770729624*x)-49.88424176502265\n"
     ]
    }
   ],
   "source": [
    "# 拟合SFD\n",
    "SFD_catalog_teff_fit = list(np.array(SFD_catalog_teff)/10000)\n",
    "\n",
    "popt_sfd, pcov_sfd = curve_fit(func, SFD_catalog_teff_fit, SFD_catalog_color,bounds=([0,0,-100000], [50,0.03 , -40]))\n",
    "#popt数组中，三个值分别是待求参数a,b,c\n",
    "SFD_vals = [func(i, popt_sfd[0],popt_sfd[1],popt_sfd[2]) for i in SFD_catalog_teff_fit]\n",
    "\n",
    "print('fit_SFD_teff:',SFD_catalog_teff_fit)\n",
    "print(' ')\n",
    "print('fit_SFD_color:',SFD_vals)\n",
    "print(' ')\n",
    "print('SFD_color:',SFD_catalog_color) #同样是为了方便提取传入matlab\n",
    "print(' ')\n",
    "print('SFD_function:',str(popt_sfd[0])+'* np.exp('+str(-popt_sfd[1])+'*x)'+str(popt_sfd[2])) #在屏幕上打印拟合多项式\n",
    "\n",
    "# fc = np.polyfit(SFD_catalog_teff, SFD_catalog_color, 1)#用3次多项式拟合\n",
    "# fitcurve = np.poly1d(fc)\n",
    "# print(fitcurve) #在屏幕上打印拟合多项式\n",
    "# SFD_vals=fitcurve(SFD_catalog_teff)\n"
   ]
  },
  {
   "cell_type": "markdown",
   "metadata": {},
   "source": [
    "# 图片输出"
   ]
  },
  {
   "cell_type": "markdown",
   "metadata": {},
   "source": [
    "## 图片保存格式（Input:)"
   ]
  },
  {
   "cell_type": "code",
   "execution_count": 93,
   "metadata": {
    "collapsed": true
   },
   "outputs": [],
   "source": [
    "### figures & Savename\n",
    "cc1 = 'r'\n",
    "cc2 = 'i'\n",
    "\n",
    "save = data_dir + 'pictures/'\n",
    "# save = '/Users/SY/Desktop/obic/picture/'\n",
    "\n",
    "i = datetime.datetime.now()\n",
    "date_now = \"%s_%s_%s_\" % (i.year, i.month, i.day) \n",
    "ylabel = '$%s - %s$'%(cc1,cc2) \n",
    "savename1 = save + date_now + cc1 + cc2 + 'LMOB'+'FEH'+'>'+'0'+'.png'\n",
    "savename2 = save + date_now + cc1 + cc2 + 'LMOB'+'FEH'+'_all'+'panstar'+'.png'\n",
    "savename3 = save + date_now + 'errteff.png'\n",
    "\n"
   ]
  },
  {
   "cell_type": "markdown",
   "metadata": {},
   "source": [
    "## 绘图所需的具体量（Alternative)"
   ]
  },
  {
   "cell_type": "code",
   "execution_count": 94,
   "metadata": {
    "scrolled": false
   },
   "outputs": [
    {
     "data": {
      "image/png": "[encoded data removed]",
      "text/plain": [
       "<matplotlib.figure.Figure at 0x150e44c9b0>"
      ]
     },
     "metadata": {},
     "output_type": "display_data"
    }
   ],
   "source": [
    "#PLT\n",
    "ax = plt.figure(1,figsize=(7, 5))  \n",
    "plt.xlabel('$T_\\mathrm{eff}(K)$',fontsize=14)\n",
    "plt.ylabel(ylabel,fontsize=14)\n",
    "\n",
    "# the data we use\n",
    "plt.scatter(starcatalog_fram_fil[teff], starcatalog_fram_fil[color1]-starcatalog_fram_fil[color2],\\\n",
    "            c='grey',s=5, edgecolors='None',label='LAMOST')\n",
    "\n",
    "# data we use in the SFD dustmap\n",
    "plt.scatter(SFD_catalog_teff,SFD_catalog_color,alpha=1,edgecolors='None',c='violet',s=5,label='SFD dustmap',zorder=2)\n",
    "\n",
    "# SFD fitcurve\n",
    "#plt.plot(SFD_catalog_teff, SFD_vals, c='black',linewidth = 3.5,label='fitting curve of \\nthe E(B-V)<0.05',zorder=1)\n",
    "\n",
    "# ic plot from blue edge\n",
    "#plt.plot(int_teff, colorvals, c='r',linewidth = 3.5,label='fitting curve of \\nthe bluest 5%',zorder=1,alpha=1)\n",
    "\n",
    "# ic from blue edge\n",
    "plt.scatter(int_teff, int_color, edgecolors='None',c='b', marker = '+',s=50,label='Median of\\nthe bluest 5%',zorder=2)\n",
    "\n",
    "# ic from Allen's work \n",
    "# plt.scatter(BBFrame_fil['Teff'],BBFrame_fil['J-H'],c='lime',s=11,label='Allen',zorder=2)\n",
    "\n",
    "#ic from parsec\n",
    "#plt.scatter(parsec_teff,parsec_color,c='gold',s=5,label='PARSEC',zorder=2)\n",
    "#plt.plot(parsec_teff, parsec_color, c='gold',linewidth = 3.5,label='PARSEC',zorder=1,alpha=1)\n",
    "### Draw the plot\n",
    "\n",
    "# plt.xlabel('$T_\\mathrm{eff}$'); plt.ylabel(ylabel)\n",
    "#plt.scatter(BBFrame_fil['Teff'],BBFrame_fil['J-H'],c='lightgreen',s=15,label='Allen')\n",
    "\n",
    "plt.legend(loc='upper right')\n",
    "\n",
    "plt.xticks(fontsize=12)\n",
    "plt.yticks(fontsize=12)\n",
    "\n",
    "plt.minorticks_on()\n",
    "#new_ticks = np.linspace(-1,2,7)\n",
    "#plt.yticks(new_ticks)\n",
    "plt.ylim(-0.4,2)\n",
    "#plt.yticks([-0.4,-0.2,0,0.2,0.4,0.6,0.8,1,1.2,1.4,1.6])\n",
    "#plt.xlim(9000,25000)\n",
    "plt.savefig(savename2,dpi=200)\n",
    "\n",
    "plt.show()"
   ]
  },
  {
   "cell_type": "code",
   "execution_count": null,
   "metadata": {
    "collapsed": true
   },
   "outputs": [],
   "source": []
  },
  {
   "cell_type": "code",
   "execution_count": null,
   "metadata": {
    "collapsed": true
   },
   "outputs": [],
   "source": []
  }
 ],
 "metadata": {
  "kernelspec": {
   "display_name": "Python 3",
   "language": "python",
   "name": "python3"
  },
  "language_info": {
   "codemirror_mode": {
    "name": "ipython",
    "version": 3
   },
   "file_extension": ".py",
   "mimetype": "text/x-python",
   "name": "python",
   "nbconvert_exporter": "python",
   "pygments_lexer": "ipython3",
   "version": "3.6.3"
  },
  "toc": {
   "base_numbering": 1,
   "nav_menu": {},
   "number_sections": true,
   "sideBar": true,
   "skip_h1_title": false,
   "title_cell": "Table of Contents",
   "title_sidebar": "Contents",
   "toc_cell": false,
   "toc_position": {},
   "toc_section_display": true,
   "toc_window_display": false
  },
  "varInspector": {
   "cols": {
    "lenName": 16,
    "lenType": 16,
    "lenVar": 40
   },
   "kernels_config": {
    "python": {
     "delete_cmd_postfix": "",
     "delete_cmd_prefix": "del ",
     "library": "var_list.py",
     "varRefreshCmd": "print(var_dic_list())"
    },
    "r": {
     "delete_cmd_postfix": ") ",
     "delete_cmd_prefix": "rm(",
     "library": "var_list.r",
     "varRefreshCmd": "cat(var_dic_list()) "
    }
   },
   "types_to_exclude": [
    "module",
    "function",
    "builtin_function_or_method",
    "instance",
    "_Feature"
   ],
   "window_display": false
  }
 },
 "nbformat": 4,
 "nbformat_minor": 2
}
