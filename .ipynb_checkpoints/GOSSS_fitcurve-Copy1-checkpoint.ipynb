{
 "cells": [
  {
   "cell_type": "code",
   "execution_count": 14,
   "metadata": {
    "collapsed": true
   },
   "outputs": [],
   "source": [
    "from astropy.io import fits\n",
    "import numpy as np\n",
    "import matplotlib.pyplot as plt\n",
    "from time import time\n",
    "import math\n",
    "path_data1 = '/Users/SY/Desktop/obic/data/'#'D:/DATA/OBIC/'\n",
    "path_data2 = 'C:/Users/1234/DATA/'\n",
    "data_go = fits.open(path_data1 + 'gosss_2mass_new.fits')"
   ]
  },
  {
   "cell_type": "code",
   "execution_count": 15,
   "metadata": {
    "collapsed": true
   },
   "outputs": [],
   "source": [
    "start_time = time()\n",
    "f = data_go[1].data\n"
   ]
  },
  {
   "cell_type": "code",
   "execution_count": 16,
   "metadata": {
    "collapsed": true
   },
   "outputs": [],
   "source": [
    "spt = list(f['STv3'])\n"
   ]
  },
  {
   "cell_type": "code",
   "execution_count": 17,
   "metadata": {
    "collapsed": true
   },
   "outputs": [],
   "source": [
    "# 分类(肉眼分类)\n",
    "# 写成函数\n",
    "def divid(s):\n",
    "    # s is a string\n",
    "    if 'N' in s or 'C' in s:\n",
    "        new_s = s[2:]\n",
    "    else:\n",
    "        new_s = s[1:]\n",
    "    if ':' in new_s:\n",
    "        new_s = new_s[:-1]\n",
    "    if '-' in new_s:\n",
    "        new_s = new_s[:-2]\n",
    "    f_s = float(new_s)\n",
    "    #print(f_s)\n",
    "    return f_s\n",
    "#    return round(f_s*2)/2 #round可能不可靠\n",
    "#     return math.floor(f_s)"
   ]
  },
  {
   "cell_type": "code",
   "execution_count": 18,
   "metadata": {
    "collapsed": true
   },
   "outputs": [],
   "source": [
    "#math.floor(9.7)\n",
    "for s in spt:\n",
    "    f_s = divid(s)"
   ]
  },
  {
   "cell_type": "code",
   "execution_count": 19,
   "metadata": {
    "scrolled": true
   },
   "outputs": [
    {
     "name": "stdout",
     "output_type": "stream",
     "text": [
      "[ 2.   2.5  3.   3.5  4.   4.5  5.   5.5  6.   6.5  7.   7.5  8.   8.5  9.\n",
      "  9.2  9.5  9.7]\n"
     ]
    }
   ],
   "source": [
    "#直接计算直方图的频数（算法有点粗暴）\n",
    "new_spt = []\n",
    "for s in spt:\n",
    "    new_spt.append(divid(s))\n",
    "    \n",
    "\n",
    "figure_spt = np.array(new_spt) #散点\n",
    "figure_spt_sort = np.sort(np.array([i for i in set(figure_spt)]))\n",
    "count = []\n",
    "for i in range(len(figure_spt_sort)):\n",
    "    k = 0\n",
    "    for ele in new_spt:\n",
    "        if ele == figure_spt_sort[i]:\n",
    "            k = k + 1\n",
    "    count.append(k)\n",
    "#print(count)\n",
    "print(figure_spt_sort)"
   ]
  },
  {
   "cell_type": "code",
   "execution_count": 20,
   "metadata": {},
   "outputs": [
    {
     "name": "stdout",
     "output_type": "stream",
     "text": [
      "-2.827\n"
     ]
    },
    {
     "data": {
      "text/plain": [
       "-2.8270001411437988"
      ]
     },
     "execution_count": 20,
     "metadata": {},
     "output_type": "execute_result"
    }
   ],
   "source": [
    "#give color(JH) or else in 2MASS\n",
    "color_JH = f['Jmag']-f['Hmag']\n",
    "[ra,dec] = [f['RAd'],f['decd']]\n",
    "print(np.min(color_JH))\n",
    "color_JH = color_JH[:, np.newaxis]\n",
    "\n",
    "ra = ra[:, np.newaxis]\n",
    "dec = dec[:, np.newaxis]\n",
    "\n",
    "figure_spt = figure_spt[:, np.newaxis]\n",
    "\n",
    "\n",
    "ra_dec1=np.concatenate((ra,dec), axis = 1)\n",
    "c_ra_dec1=np.concatenate((color_JH,ra_dec1), axis = 1)\n",
    "c_ra_dec=np.concatenate((c_ra_dec1,figure_spt), axis = 1)\n",
    "\n",
    "\n",
    "np.min(c_ra_dec1[:,0])"
   ]
  },
  {
   "cell_type": "code",
   "execution_count": 21,
   "metadata": {
    "scrolled": true
   },
   "outputs": [
    {
     "name": "stdout",
     "output_type": "stream",
     "text": [
      "18\n",
      "18\n",
      "(18,)\n",
      "[ 2.   2.5  3.   3.5  4.   4.5  5.   5.5  6.   6.5  7.   7.5  8.   8.5  9.\n",
      "  9.2  9.5  9.7]\n",
      "(38, 4)\n"
     ]
    }
   ],
   "source": [
    "#fit scatter\n",
    "\n",
    "ic = []\n",
    "ratio = 5\n",
    "c_ra_dec_fin = np.array([0,0,0,0])\n",
    "for i in range(len(figure_spt_sort)):\n",
    "    bin = []\n",
    "    for ele_num in range(len(spt)):\n",
    "        if figure_spt[ele_num] == figure_spt_sort[i]:\n",
    "            bin.append(c_ra_dec[ele_num,:])\n",
    "    bin_ara = np.array(bin)\n",
    "    #print(bin_c_ara)\n",
    "    #select the fit dot\n",
    "    ratio_integer = math.ceil(len(bin_ara[:,0])*ratio/100)\n",
    "    sort = bin_ara[np.lexsort(bin_ara[:,::-1].T)] \n",
    "    #print(sort)\n",
    "    #print(sort[:,0][:ratio_integer])\n",
    "    a = np.median(sort[:,0][:ratio_integer])\n",
    "    index = np.where(sort[:,0]<=np.max(sort[:,0][:ratio_integer]))\n",
    "    #print(sort[index[0],:])\n",
    "    c_ra_dec_final = sort[index[0],:]\n",
    "    #print(c_ra_dec_final.shape)\n",
    "    c_ra_dec_fin = np.vstack((c_ra_dec_fin,c_ra_dec_final))\n",
    "    ic.append(float(a))\n",
    "c_ra_dec_fin = c_ra_dec_fin[1:,:]\n",
    "use_ic = np.array(ic)\n",
    "use_spt = np.array(figure_spt_sort)\n",
    "print(len(use_ic))\n",
    "print(len(use_spt))\n",
    "print(use_ic.shape)\n",
    "print(use_spt)\n",
    "print(c_ra_dec_fin.shape)"
   ]
  },
  {
   "cell_type": "code",
   "execution_count": 22,
   "metadata": {},
   "outputs": [
    {
     "name": "stdout",
     "output_type": "stream",
     "text": [
      "[[  2.00000000e+00   9.00001526e-02]\n",
      " [  2.50000000e+00   2.90000439e-01]\n",
      " [  3.00000000e+00   1.00040436e-03]\n",
      " [  3.50000000e+00   2.99978256e-03]\n",
      " [  4.00000000e+00  -1.64999962e-01]\n",
      " [  4.50000000e+00  -7.00044632e-03]\n",
      " [  5.00000000e+00  -4.10003662e-02]\n",
      " [  5.50000000e+00  -8.19997787e-02]\n",
      " [  6.00000000e+00  -5.35001755e-02]\n",
      " [  6.50000000e+00  -7.60002136e-02]\n",
      " [  7.00000000e+00  -1.05499983e-01]\n",
      " [  7.50000000e+00  -8.30001831e-02]\n",
      " [  8.00000000e+00  -7.20000267e-02]\n",
      " [  8.50000000e+00  -1.08000278e-01]\n",
      " [  9.00000000e+00  -1.37000084e-01]\n",
      " [  9.20000000e+00  -1.49999857e-01]\n",
      " [  9.50000000e+00  -1.53999805e-01]\n",
      " [  9.70000000e+00  -1.09500170e-01]]\n"
     ]
    }
   ],
   "source": [
    "whole_figure = np.vstack((use_spt , use_ic)).T\n",
    "print(whole_figure)"
   ]
  },
  {
   "cell_type": "code",
   "execution_count": 23,
   "metadata": {
    "collapsed": true
   },
   "outputs": [],
   "source": [
    "# SFD ratio\n",
    "\n",
    "ratio_SFD = 5\n",
    "\n",
    "# fitting curve\n",
    "\n",
    "\n",
    "fc = np.polyfit(use_spt, use_ic, 3)#用3次多项式拟合\n",
    "fitcurve = np.poly1d(fc)\n",
    "# print(fitcurve) #在屏幕上打印拟合多项式\n",
    "\n",
    "colorvals=fitcurve(use_spt)\n",
    "\n",
    "# print(len(colorvals),len(int_teff))\n",
    "#print(len(bin_tbl_final[teff].values))\n",
    "\n",
    "# SFD_tbl_ratio[teff]"
   ]
  },
  {
   "cell_type": "code",
   "execution_count": 31,
   "metadata": {},
   "outputs": [],
   "source": [
    "from __future__ import print_function\n",
    "import numpy as np\n",
    "import pandas as pd\n",
    "\n",
    "from astropy.coordinates import SkyCoord\n",
    "from dustmaps.sfd import SFDQuery\n",
    "\n",
    "sfd = SFDQuery()\n",
    "\n",
    "Consts = pd.DataFrame({'J':np.array([0.709]),\\\n",
    "'H':np.array([0.449]),\\\n",
    "'g':np.array([3.303]),\\\n",
    "'r':np.array([2.285]),\\\n",
    "'i':np.array([1.698])})\n",
    "# Const1 = 0.709 #J #3.303 #g #2.285 #r\n",
    "# Const2 = 0.449 #H #2.285 #r #1.698 #i\n",
    "\n",
    "def SFD_IC(Catalog_raw,color1,color2):\n",
    "    # Using ebv from SFD to get the intrinsic color\n",
    "\n",
    "    Intrinsic_color = []\n",
    "\n",
    "    for i in range(len(Catalog_raw)):\n",
    "        coords = SkyCoord(Catalog_raw[i,1],Catalog_raw[i,2],frame = 'icrs',unit = 'deg')\n",
    "        ebv = sfd(coords)\n",
    "        A_c1 = Consts[color1].values*ebv\n",
    "        A_c2 = Consts[color2].values*ebv\n",
    "\n",
    "        Intrinsic_color.append(Catalog_raw[i,0] - A_c1 + A_c2)\n",
    "    Intrinsic_color = np.array(Intrinsic_color)\n",
    "    return Intrinsic_color\n",
    "SFD_catalog_color1 = SFD_IC(c_ra_dec,'J','H').reshape(-1,1)"
   ]
  },
  {
   "cell_type": "code",
   "execution_count": 33,
   "metadata": {},
   "outputs": [
    {
     "name": "stdout",
     "output_type": "stream",
     "text": [
      "[[-0.25988922]\n",
      " [-0.17329091]\n",
      " [ 0.10822022]\n",
      " [-0.13599573]\n",
      " [-0.38054948]\n",
      " [-0.15182568]\n",
      " [-0.27417932]\n",
      " [-0.08162732]\n",
      " [-0.1635658 ]\n",
      " [-0.35911221]\n",
      " [-0.11925748]\n",
      " [-0.24046652]\n",
      " [-0.22133326]\n",
      " [-0.21131373]\n",
      " [-0.29861562]\n",
      " [-0.18871868]\n",
      " [-0.14774193]\n",
      " [-0.42561882]\n",
      " [-0.05355368]\n",
      " [-0.39825617]\n",
      " [-0.15418524]\n",
      " [-0.23558672]\n",
      " [-0.20963318]\n",
      " [-0.19639284]\n",
      " [-0.20540393]\n",
      " [-0.37201279]\n",
      " [-0.33018842]\n",
      " [-0.34366648]\n",
      " [-0.35287919]\n",
      " [-0.04599989]\n",
      " [-0.18207551]\n",
      " [-0.14679716]\n",
      " [-0.03534698]\n",
      " [-0.24817096]\n",
      " [-0.31080307]\n",
      " [-0.06644424]\n",
      " [-0.17417758]\n",
      " [-0.3379195 ]\n",
      " [ 0.09245097]\n",
      " [ 0.10101294]\n",
      " [-0.16772259]\n",
      " [-0.28714849]\n",
      " [-0.31707462]\n",
      " [-0.05346715]\n",
      " [-0.35948674]\n",
      " [-0.11425417]\n",
      " [-0.15879881]\n",
      " [-0.30367749]\n",
      " [-0.11592623]\n",
      " [-0.3431256 ]\n",
      " [-0.29007903]\n",
      " [-0.12862292]\n",
      " [-0.18482598]\n",
      " [-0.16270874]\n",
      " [-0.19446458]\n",
      " [-0.21744459]\n",
      " [-0.08990343]\n",
      " [-0.13922547]\n",
      " [-0.17498603]\n",
      " [-0.11559975]\n",
      " [-0.32102008]\n",
      " [-0.38423464]\n",
      " [-0.13272058]\n",
      " [-0.23939843]\n",
      " [-0.13968544]\n",
      " [-0.13930295]\n",
      " [-0.12091915]\n",
      " [-0.38641715]\n",
      " [-0.11307969]\n",
      " [-0.14004157]\n",
      " [-0.34146991]\n",
      " [-0.12260961]\n",
      " [-0.25862381]\n",
      " [-0.23885283]\n",
      " [-0.16137774]\n",
      " [-0.42342793]\n",
      " [-0.38287954]\n",
      " [-0.29042876]\n",
      " [-0.35339496]\n",
      " [-0.09896781]\n",
      " [-0.23671052]\n",
      " [-0.09111464]\n",
      " [-0.15407794]\n",
      " [-0.16517609]\n",
      " [-0.0687115 ]\n",
      " [-0.17061343]\n",
      " [-0.13796703]\n",
      " [-0.02869962]\n",
      " [-0.33670576]\n",
      " [-0.10562465]\n",
      " [-0.23493513]\n",
      " [-0.23445097]\n",
      " [-0.21847534]\n",
      " [-0.21857053]\n",
      " [-0.09232919]\n",
      " [-0.13022695]\n",
      " [-0.03926962]\n",
      " [-0.05049071]\n",
      " [-0.27353666]\n",
      " [-0.13517179]\n",
      " [-0.13080989]\n",
      " [-0.18621852]\n",
      " [-0.25478053]\n",
      " [-0.15981163]\n",
      " [-0.15434665]\n",
      " [-0.28958823]\n",
      " [-0.28961126]\n",
      " [-0.17937391]\n",
      " [-0.09930996]\n",
      " [-0.27836653]\n",
      " [-0.30238789]\n",
      " [-0.32242806]\n",
      " [-0.19516195]\n",
      " [-0.1439561 ]\n",
      " [-0.31269543]\n",
      " [-0.15878931]\n",
      " [-0.38434031]\n",
      " [-0.30204198]\n",
      " [-0.11475028]\n",
      " [-0.30485106]\n",
      " [-0.25337127]\n",
      " [-0.14037012]\n",
      " [-0.22637368]\n",
      " [-0.36831727]\n",
      " [-0.16759401]\n",
      " [-0.14991673]\n",
      " [-0.30619368]\n",
      " [-0.37589991]\n",
      " [-0.24462073]\n",
      " [-0.20484833]\n",
      " [-0.29306167]\n",
      " [-0.11974792]\n",
      " [-0.33374453]\n",
      " [-0.00659005]\n",
      " [-0.18740193]\n",
      " [-0.13705534]\n",
      " [-0.17606436]\n",
      " [-0.19184713]\n",
      " [-0.22882139]\n",
      " [-0.22459356]\n",
      " [-0.36273757]\n",
      " [-0.2020884 ]\n",
      " [-0.16641752]\n",
      " [-0.36125268]\n",
      " [-0.28972278]\n",
      " [-0.32523771]\n",
      " [-0.24475669]\n",
      " [-0.3285679 ]\n",
      " [-0.34864249]\n",
      " [-0.23774188]\n",
      " [-0.37450987]\n",
      " [-0.29965125]\n",
      " [-0.20392698]\n",
      " [-0.28561872]\n",
      " [-0.42683338]\n",
      " [-0.33397529]\n",
      " [-0.40144192]\n",
      " [-0.12856788]\n",
      " [-0.05744156]\n",
      " [-0.29753689]\n",
      " [-0.17351023]\n",
      " [-0.42477618]\n",
      " [-0.34869901]\n",
      " [-0.15224095]\n",
      " [-0.22337454]\n",
      " [-0.29341437]\n",
      " [-0.14533458]\n",
      " [-0.32495493]\n",
      " [-0.33306749]\n",
      " [-0.42500494]\n",
      " [-0.15693387]\n",
      " [-0.38157299]\n",
      " [-0.34424589]\n",
      " [-0.26785854]\n",
      " [-0.25236458]\n",
      " [-0.20915449]\n",
      " [-0.2460365 ]\n",
      " [-0.39160487]\n",
      " [-0.25672107]\n",
      " [-0.34166918]\n",
      " [-0.1140873 ]\n",
      " [-0.13962498]\n",
      " [-0.13638507]\n",
      " [-0.29712177]\n",
      " [-0.03352374]\n",
      " [-0.13754927]\n",
      " [-0.38427913]\n",
      " [-0.18727712]\n",
      " [-0.21703241]\n",
      " [-0.06366698]\n",
      " [-0.21083263]\n",
      " [ 0.06138463]\n",
      " [-0.41714866]\n",
      " [-0.03437103]\n",
      " [-0.21821465]\n",
      " [-0.19987622]\n",
      " [-0.40037718]\n",
      " [-0.29973755]\n",
      " [-0.00263392]\n",
      " [-0.15033684]\n",
      " [-0.16215526]\n",
      " [-0.20753897]\n",
      " [ 0.03993475]\n",
      " [-0.15025016]\n",
      " [-0.15541683]\n",
      " [-0.04255237]\n",
      " [-0.15819965]\n",
      " [-0.27930771]\n",
      " [-0.40365513]]\n",
      "[nan, nan, -0.20392698287963862, -0.24817095756530749, -0.31442010068893433, -0.28153684854507444, -0.089089444398880002, -0.22203163516521451, -0.20313331884997218, -0.18221893529681593, -0.23832533404231068, -0.23255564806361986, -0.21825087178498506, -0.24597579998013214, -0.16793089556066609, -0.239653179552406, -0.21950519620130457, -0.20401146264870956]\n"
     ]
    },
    {
     "name": "stderr",
     "output_type": "stream",
     "text": [
      "/Users/SY/anaconda/lib/python3.6/site-packages/numpy/core/fromnumeric.py:2889: RuntimeWarning: Mean of empty slice.\n",
      "  out=out, **kwargs)\n",
      "/Users/SY/anaconda/lib/python3.6/site-packages/numpy/core/_methods.py:80: RuntimeWarning: invalid value encountered in double_scalars\n",
      "  ret = ret.dtype.type(ret / rcount)\n"
     ]
    }
   ],
   "source": [
    "SFD_catalog_color = []\n",
    "SFD_catalog_teff = []\n",
    "for i in range(SFD_catalog_color1.shape[0]):\n",
    "    if SFD_catalog_color1[i,0]<0.17 and SFD_catalog_color1[i,0]>-0.43:\n",
    "        SFD_catalog_color.append(SFD_catalog_color1[i,0])\n",
    "        SFD_catalog_teff.append(c_ra_dec[i,3])\n",
    "SFD_catalog_color = np.array(SFD_catalog_color).reshape(-1,1)\n",
    "SFD_catalog_teff = np.array(SFD_catalog_teff).reshape(-1,1)\n",
    "print(SFD_catalog_color)\n",
    "\n",
    "\n",
    "whole_sfd = np.hstack((SFD_catalog_teff , SFD_catalog_color))\n",
    "\n",
    "\n",
    "mean = []\n",
    "for i in range(len(figure_spt_sort)):\n",
    "    sfd_bin = []\n",
    "    for ele_num in range(len(whole_sfd[:,0])):\n",
    "        if whole_sfd[ele_num,0] == figure_spt_sort[i]:\n",
    "            sfd_bin.append(whole_sfd[ele_num,1])\n",
    "    mean.append(np.mean(sfd_bin))\n",
    "print(mean)"
   ]
  },
  {
   "cell_type": "code",
   "execution_count": 44,
   "metadata": {},
   "outputs": [
    {
     "data": {
      "image/png": "[encoded data removed]",
      "text/plain": [
       "<matplotlib.figure.Figure at 0x121ef89e8>"
      ]
     },
     "metadata": {},
     "output_type": "display_data"
    }
   ],
   "source": [
    "plt.scatter(figure_spt,color_JH ,c='darkgrey', s=3, edgecolors='None', alpha=0.9)\n",
    "plt.scatter(use_spt,use_ic, c='r', edgecolors='None', s=2,label='Median of\\nthe bluest 5%')\n",
    "plt.scatter(SFD_catalog_teff,SFD_catalog_color,alpha=0.8,edgecolors='None',c='b',s=2,label='SFD dustmap',zorder=2)\n",
    "plt.scatter(figure_spt_sort,mean,alpha=0.8,edgecolors='None',c='gold',s=2,label='SFD dustmap(mean)',zorder=2)\n",
    "plt.xlabel('STv3_round') ; plt.ylabel('$J-H$')\n",
    "plt.ylim(-0.75,1.0)\n",
    "#plt.legend(loc='lower right')\n",
    "plt.savefig(path_data1+'pictures/'+'2018_5_3_GOSSS_new2.png', dpi=200)\n",
    "plt.show()"
   ]
  },
  {
   "cell_type": "code",
   "execution_count": 78,
   "metadata": {},
   "outputs": [
    {
     "data": {
      "text/plain": [
       "array([[1, 2, 3],\n",
       "       [1, 2, 4]])"
      ]
     },
     "execution_count": 78,
     "metadata": {},
     "output_type": "execute_result"
    }
   ],
   "source": [
    "a=np.array([1,2,3])\n",
    "b=np.array([1,2,4])\n",
    "a = a[:, np.newaxis]\n",
    "b = b[:, np.newaxis]\n",
    "v=np.concatenate((a.T,b.T), axis = 0)\n",
    "v"
   ]
  },
  {
   "cell_type": "code",
   "execution_count": null,
   "metadata": {
    "collapsed": true
   },
   "outputs": [],
   "source": []
  }
 ],
 "metadata": {
  "kernelspec": {
   "display_name": "Python 3",
   "language": "python",
   "name": "python3"
  },
  "language_info": {
   "codemirror_mode": {
    "name": "ipython",
    "version": 3
   },
   "file_extension": ".py",
   "mimetype": "text/x-python",
   "name": "python",
   "nbconvert_exporter": "python",
   "pygments_lexer": "ipython3",
   "version": "3.6.1"
  },
  "toc": {
   "base_numbering": 1,
   "nav_menu": {},
   "number_sections": true,
   "sideBar": true,
   "skip_h1_title": false,
   "title_cell": "Table of Contents",
   "title_sidebar": "Contents",
   "toc_cell": false,
   "toc_position": {},
   "toc_section_display": true,
   "toc_window_display": false
  }
 },
 "nbformat": 4,
 "nbformat_minor": 2
}
