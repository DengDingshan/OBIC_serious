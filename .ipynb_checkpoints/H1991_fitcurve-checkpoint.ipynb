{
 "cells": [
  {
   "cell_type": "code",
   "execution_count": 2,
   "metadata": {
    "collapsed": false
   },
   "outputs": [],
   "source": [
    "from astropy.io import fits\n",
    "import numpy as np\n",
    "import matplotlib.pyplot as plt\n",
    "from time import time\n",
    "import math\n",
    "path_data1 = 'D:/DATA/OBIC/'\n",
    "path_data2 = 'C:/Users/1234/DATA/'\n",
    "data_go = fits.open(path_data1 + 'H1991_final.fit')"
   ]
  },
  {
   "cell_type": "code",
   "execution_count": 3,
   "metadata": {
    "collapsed": false
   },
   "outputs": [],
   "source": [
    "start_time = time()\n",
    "f = data_go[1].data"
   ]
  },
  {
   "cell_type": "code",
   "execution_count": 4,
   "metadata": {
    "collapsed": false
   },
   "outputs": [],
   "source": [
    "spt = f['SpType']"
   ]
  },
  {
   "cell_type": "code",
   "execution_count": 5,
   "metadata": {
    "collapsed": true
   },
   "outputs": [],
   "source": [
    "Bs = []\n",
    "Num = []\n",
    "\n",
    "for i in range(len(spt)):\n",
    "    if len(spt[i]) != 0:\n",
    "        if spt[i][2] == 'B':\n",
    "            if spt[i][3].isdigit(): \n",
    "                Num.append(i)\n",
    "                Bs.append(spt[i])\n"
   ]
  },
  {
   "cell_type": "code",
   "execution_count": 7,
   "metadata": {
    "collapsed": true
   },
   "outputs": [],
   "source": [
    "def judge(ele):\n",
    "    e_figure = 0\n",
    "    if '.' in ele:\n",
    "        e_figure = ele[3:6]\n",
    "        if '+' in e_figure:\n",
    "            e_figure = e_figure[0]\n",
    "    \n",
    "        if 'IV' in e_figure:\n",
    "            e_figure = e_figure[0]\n",
    "    else:\n",
    "        if ele != '  BepShell' and ele != 'sdBe+gM3+Q':\n",
    "            e_figure = ele[3]\n",
    "    if e_figure != 0:\n",
    "        return e_figure\n",
    "    else:\n",
    "        return -1\n",
    "    \n",
    "\n",
    "DE = []\n",
    "RA = []\n",
    "SPT = []\n",
    "SPT_pure = []\n",
    "for i in Num:\n",
    "    j = judge(spt[i])\n",
    "    \n",
    "    if j != -1:\n",
    "        DE.append(f['_DEJ2000'][i])\n",
    "        RA.append(f['_RAJ2000'][i])\n",
    "        SPT.append(f['SpType'][i])\n",
    "        SPT_pure.append(j)\n",
    "out_f = np.vstack((np.array(DE),np.array(RA),np.array(SPT),np.array(SPT_pure))).T"
   ]
  },
  {
   "cell_type": "code",
   "execution_count": 17,
   "metadata": {
    "collapsed": false
   },
   "outputs": [],
   "source": [
    "spt = SPT_pure\n",
    "# print(spt)"
   ]
  },
  {
   "cell_type": "code",
   "execution_count": 18,
   "metadata": {
    "collapsed": false
   },
   "outputs": [],
   "source": [
    "# 分类(肉眼分类)\n",
    "# 写成函数\n",
    "def divid(s):\n",
    "    # s is a string\n",
    "    if 'N' in s or 'C' in s:\n",
    "        new_s = s[2:]\n",
    "    else:\n",
    "        new_s = s[1:]\n",
    "    if ':' in new_s:\n",
    "        new_s = new_s[:-1]\n",
    "    if '-' in new_s:\n",
    "        new_s = new_s[:-2]\n",
    "    f_s = float(new_s)\n",
    "    return round(f_s*2)/2 #round可能不可靠\n",
    "#     return math.floor(f_s)"
   ]
  },
  {
   "cell_type": "code",
   "execution_count": 26,
   "metadata": {
    "collapsed": false,
    "scrolled": true
   },
   "outputs": [
    {
     "name": "stdout",
     "output_type": "stream",
     "text": [
      "[62, 108, 262, 157, 58, 148, 94, 110, 270, 445]\n",
      "[0 1 2 3 4 5 6 7 8 9]\n"
     ]
    }
   ],
   "source": [
    "#直接计算直方图的频数（算法有点粗暴）\n",
    "new_spt = []\n",
    "for s in spt:\n",
    "    new_spt.append(math.floor(float(s)))\n",
    "    \n",
    "\n",
    "figure_spt = np.array(new_spt) #散点\n",
    "figure_spt_sort = np.sort(np.array([i for i in set(figure_spt)]))\n",
    "count = []\n",
    "for i in range(len(figure_spt_sort)):\n",
    "    k = 0\n",
    "    for ele in new_spt:\n",
    "        if ele == figure_spt_sort[i]:\n",
    "            k = k + 1\n",
    "    count.append(k)\n",
    "print(count)\n",
    "print(figure_spt_sort)"
   ]
  },
  {
   "cell_type": "code",
   "execution_count": 40,
   "metadata": {
    "collapsed": false
   },
   "outputs": [],
   "source": [
    "#give color(JH) or else in 2MASS\n",
    "color_JH_origin = f['Jmag']-f['Hmag']\n",
    "color_JH = []\n",
    "for i in Num:\n",
    "    color_JH.append(color_JH_origin[i])\n",
    "color_JH = np.array(color_JH)"
   ]
  },
  {
   "cell_type": "code",
   "execution_count": 47,
   "metadata": {
    "collapsed": false,
    "scrolled": true
   },
   "outputs": [
    {
     "name": "stdout",
     "output_type": "stream",
     "text": [
      "[-0.17700005 -0.13999987 -0.1400001  -0.12849998 -0.11199999 -0.12800026\n",
      " -0.11099958 -0.10400009 -0.10399961 -0.0999999 ]\n",
      "[0 1 2 3 4 5 6 7 8 9]\n"
     ]
    }
   ],
   "source": [
    "#fit scatter\n",
    "\n",
    "ic = []\n",
    "ratio = 15\n",
    "for i in range(len(figure_spt_sort)):\n",
    "    bin_c = []\n",
    "    for ele_num in range(len(spt)):\n",
    "        if figure_spt[ele_num] == figure_spt_sort[i]:\n",
    "            bin_c.append(color_JH[ele_num])\n",
    "    bin_c_ara = np.array(bin_c)\n",
    "    #select the fit dot\n",
    "    ratio_integer = math.ceil(len(bin_c)*ratio/100)\n",
    "    a = np.median(np.sort(bin_c_ara)[:ratio_integer])\n",
    "    ic.append(float(a))\n",
    "use_ic = np.array(ic)\n",
    "use_spt = np.array(figure_spt_sort)\n",
    "print(use_ic)\n",
    "print(use_spt)"
   ]
  },
  {
   "cell_type": "code",
   "execution_count": 48,
   "metadata": {
    "collapsed": false
   },
   "outputs": [
    {
     "name": "stdout",
     "output_type": "stream",
     "text": [
      "[[ 0.         -0.17700005]\n",
      " [ 1.         -0.13999987]\n",
      " [ 2.         -0.1400001 ]\n",
      " [ 3.         -0.12849998]\n",
      " [ 4.         -0.11199999]\n",
      " [ 5.         -0.12800026]\n",
      " [ 6.         -0.11099958]\n",
      " [ 7.         -0.10400009]\n",
      " [ 8.         -0.10399961]\n",
      " [ 9.         -0.0999999 ]]\n"
     ]
    }
   ],
   "source": [
    "whole_figure = np.vstack((use_spt , use_ic)).T\n",
    "print(whole_figure)"
   ]
  },
  {
   "cell_type": "code",
   "execution_count": 49,
   "metadata": {
    "collapsed": false
   },
   "outputs": [
    {
     "data": {
      "image/png": "[encoded data removed]",
      "text/plain": [
       "<matplotlib.figure.Figure at 0x2c611b3c7f0>"
      ]
     },
     "metadata": {},
     "output_type": "display_data"
    }
   ],
   "source": [
    "plt.scatter(figure_spt,color_JH , s=7, edgecolors='None', alpha=0.9)\n",
    "plt.scatter(use_spt,use_ic, c='r', edgecolors='None', s=15)\n",
    "plt.xlabel('Stype') ; plt.ylabel('$J-H$')\n",
    "plt.ylim(-0.5,1.0)\n",
    "plt.savefig('2017_10_29_GOSSS.png', dpi=200)\n",
    "plt.show()"
   ]
  },
  {
   "cell_type": "code",
   "execution_count": null,
   "metadata": {
    "collapsed": true
   },
   "outputs": [],
   "source": []
  }
 ],
 "metadata": {
  "kernelspec": {
   "display_name": "Python 3",
   "language": "python",
   "name": "python3"
  },
  "language_info": {
   "codemirror_mode": {
    "name": "ipython",
    "version": 3
   },
   "file_extension": ".py",
   "mimetype": "text/x-python",
   "name": "python",
   "nbconvert_exporter": "python",
   "pygments_lexer": "ipython3",
   "version": "3.6.0"
  }
 },
 "nbformat": 4,
 "nbformat_minor": 2
}
