{
 "cells": [
  {
   "cell_type": "code",
   "execution_count": 2,
   "metadata": {},
   "outputs": [],
   "source": [
    "from astropy.io import fits\n",
    "import numpy as np\n",
    "import matplotlib.pyplot as plt\n",
    "from time import time\n",
    "import math\n",
    "path_data1 = '/Users/SY/Desktop/obic/data/'\n",
    "path_data2 = 'C:/Users/1234/DATA/'\n",
    "data_go = fits.open(path_data1 + 'gosss_wise.fits')"
   ]
  },
  {
   "cell_type": "code",
   "execution_count": 12,
   "metadata": {},
   "outputs": [],
   "source": [
    "start_time = time()\n",
    "f = data_go[1].data"
   ]
  },
  {
   "cell_type": "code",
   "execution_count": 13,
   "metadata": {},
   "outputs": [],
   "source": [
    "spt = list(f['STv3'])\n"
   ]
  },
  {
   "cell_type": "code",
   "execution_count": 14,
   "metadata": {},
   "outputs": [],
   "source": [
    "# 分类(肉眼分类)\n",
    "# 写成函数\n",
    "def divid(s):\n",
    "    # s is a string\n",
    "    if 'N' in s or 'C' in s:\n",
    "        new_s = s[2:]\n",
    "    else:\n",
    "        new_s = s[1:]\n",
    "    if ':' in new_s:\n",
    "        new_s = new_s[:-1]\n",
    "    if '-' in new_s:\n",
    "        new_s = new_s[:-2]\n",
    "    f_s = float(new_s)\n",
    "    return round(f_s*2)/2 #round可能不可靠\n",
    "#     return math.floor(f_s)"
   ]
  },
  {
   "cell_type": "code",
   "execution_count": 15,
   "metadata": {},
   "outputs": [
    {
     "data": {
      "text/plain": [
       "9"
      ]
     },
     "execution_count": 15,
     "metadata": {},
     "output_type": "execute_result"
    }
   ],
   "source": [
    "math.floor(9.7)"
   ]
  },
  {
   "cell_type": "code",
   "execution_count": 16,
   "metadata": {
    "scrolled": true
   },
   "outputs": [
    {
     "name": "stdout",
     "output_type": "stream",
     "text": [
      "[2, 1, 3, 8, 13, 13, 17, 16, 31, 45, 58, 45, 52, 34, 68, 106]\n",
      "[ 2.   2.5  3.   3.5  4.   4.5  5.   5.5  6.   6.5  7.   7.5  8.   8.5  9.\n",
      "  9.5]\n"
     ]
    }
   ],
   "source": [
    "#直接计算直方图的频数（算法有点粗暴）\n",
    "new_spt = []\n",
    "for s in spt:\n",
    "    new_spt.append(divid(s))\n",
    "    \n",
    "\n",
    "figure_spt = np.array(new_spt) #散点\n",
    "figure_spt_sort = np.sort(np.array([i for i in set(figure_spt)]))\n",
    "count = []\n",
    "for i in range(len(figure_spt_sort)):\n",
    "    k = 0\n",
    "    for ele in new_spt:\n",
    "        if ele == figure_spt_sort[i]:\n",
    "            k = k + 1\n",
    "    count.append(k)\n",
    "print(count)\n",
    "print(figure_spt_sort)"
   ]
  },
  {
   "cell_type": "code",
   "execution_count": 20,
   "metadata": {},
   "outputs": [
    {
     "data": {
      "text/plain": [
       "-0.171"
      ]
     },
     "execution_count": 20,
     "metadata": {},
     "output_type": "execute_result"
    }
   ],
   "source": [
    "#give color(JW3) or else in 2MASS\n",
    "color_JW3 = f['Jmag']-f['W3mag']\n",
    "color_JW3[0]"
   ]
  },
  {
   "cell_type": "code",
   "execution_count": 45,
   "metadata": {
    "scrolled": true
   },
   "outputs": [
    {
     "name": "stdout",
     "output_type": "stream",
     "text": [
      "[ 2.13999987  3.43900013  0.1050005   1.1869998  -0.08900023  0.12300014\n",
      " -0.02199984 -0.13000011 -0.1340003  -0.24300003 -0.28999996 -1.06200027\n",
      " -0.29699993 -0.34300041 -0.52899981 -0.45199966]\n",
      "[ 2.   2.5  3.   3.5  4.   4.5  5.   5.5  6.   6.5  7.   7.5  8.   8.5  9.\n",
      "  9.5]\n"
     ]
    }
   ],
   "source": [
    "#fit scatter\n",
    "\n",
    "ic = []\n",
    "ratio = 10\n",
    "for i in range(len(figure_spt_sort)):\n",
    "    bin_c = []\n",
    "    for ele_num in range(len(spt)):\n",
    "        if figure_spt[ele_num] == figure_spt_sort[i]:\n",
    "            bin_c.append(color_JW3[ele_num])\n",
    "    bin_c_ara = np.array(bin_c)\n",
    "    #select the fit dot\n",
    "    #ratio_integer = math.ceil(len(bin_c)*ratio/100)\n",
    "    #a = np.median(np.sort(bin_c_ara)[:ratio_integer])\n",
    "    bin_c_ara_sort=np.sort(bin_c_ara) \n",
    "    a = bin_c_ara_sort[0] #the bluest star\n",
    "    ic.append(float(a))\n",
    "use_ic = np.array(ic)\n",
    "use_spt = np.array(figure_spt_sort)\n",
    "print(use_ic)\n",
    "print(use_spt)"
   ]
  },
  {
   "cell_type": "code",
   "execution_count": 46,
   "metadata": {},
   "outputs": [
    {
     "name": "stdout",
     "output_type": "stream",
     "text": [
      "[[ 2.          2.13999987]\n",
      " [ 2.5         3.43900013]\n",
      " [ 3.          0.1050005 ]\n",
      " [ 3.5         1.1869998 ]\n",
      " [ 4.         -0.08900023]\n",
      " [ 4.5         0.12300014]\n",
      " [ 5.         -0.02199984]\n",
      " [ 5.5        -0.13000011]\n",
      " [ 6.         -0.1340003 ]\n",
      " [ 6.5        -0.24300003]\n",
      " [ 7.         -0.28999996]\n",
      " [ 7.5        -1.06200027]\n",
      " [ 8.         -0.29699993]\n",
      " [ 8.5        -0.34300041]\n",
      " [ 9.         -0.52899981]\n",
      " [ 9.5        -0.45199966]]\n"
     ]
    }
   ],
   "source": [
    "whole_figure = np.vstack((use_spt , use_ic)).T\n",
    "print(whole_figure)"
   ]
  },
  {
   "cell_type": "code",
   "execution_count": 47,
   "metadata": {},
   "outputs": [
    {
     "data": {
      "image/png": "[encoded data removed]",
      "text/plain": [
       "<matplotlib.figure.Figure at 0x107dc3898>"
      ]
     },
     "metadata": {},
     "output_type": "display_data"
    }
   ],
   "source": [
    "plt.scatter(figure_spt,color_JW3 , s=7, edgecolors='None', alpha=0.9)\n",
    "plt.scatter(use_spt,use_ic, c='r', edgecolors='None', s=15)\n",
    "plt.xlabel('STv3_round') ; plt.ylabel('$J-W3$')\n",
    "plt.ylim(-1.2,1.0)\n",
    "plt.savefig('2018_1_31_GOSSS.png', dpi=200)\n",
    "plt.show()"
   ]
  },
  {
   "cell_type": "code",
   "execution_count": null,
   "metadata": {
    "collapsed": true
   },
   "outputs": [],
   "source": []
  }
 ],
 "metadata": {
  "kernelspec": {
   "display_name": "Python 3",
   "language": "python",
   "name": "python3"
  },
  "language_info": {
   "codemirror_mode": {
    "name": "ipython",
    "version": 3
   },
   "file_extension": ".py",
   "mimetype": "text/x-python",
   "name": "python",
   "nbconvert_exporter": "python",
   "pygments_lexer": "ipython3",
   "version": "3.6.1"
  }
 },
 "nbformat": 4,
 "nbformat_minor": 2
}
