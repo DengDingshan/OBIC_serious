{
 "cells": [
  {
   "cell_type": "markdown",
   "metadata": {},
   "source": [
    "# 苑老师给的lamost ob星表\n"
   ]
  },
  {
   "cell_type": "code",
   "execution_count": 95,
   "metadata": {
    "collapsed": true
   },
   "outputs": [],
   "source": [
    "from astropy.io import fits\n",
    "import numpy as np\n",
    "import math\n",
    "import matplotlib.pyplot as plt\n",
    "import time\n",
    "%matplotlib inline\n",
    "\n",
    "data_main_path = '/Users/dengdingshan/Documents/data/obic/'"
   ]
  },
  {
   "cell_type": "code",
   "execution_count": 191,
   "metadata": {
    "collapsed": true
   },
   "outputs": [],
   "source": [
    "# add the data from the Allen's book (J-H)\n",
    "Allen_color =[-0.1,-0.09] #[-0.04,-0.03] #[-0.1,-0.09]\n",
    "Allen_teff = [25600,22300]"
   ]
  },
  {
   "cell_type": "code",
   "execution_count": 192,
   "metadata": {
    "collapsed": true
   },
   "outputs": [],
   "source": [
    "# Read the fits file.\n",
    "Lamost_fits = fits.open(data_main_path + 'LamostX2mass.fits')\n",
    "Lamost_tbl = Lamost_fits[1].data"
   ]
  },
  {
   "cell_type": "code",
   "execution_count": 193,
   "metadata": {},
   "outputs": [],
   "source": [
    "# Filtering data (should be recorded and discussed!)\n",
    "\n",
    "# For programming, only teff and logg > 0 is now required.\n",
    "Lamost_tbl_fil = Lamost_tbl[np.argwhere((Lamost_tbl['teff'] > 0) & (Lamost_tbl['logg'] > -3) & \n",
    "                                       (Lamost_tbl['Jmag'] > -1) & (Lamost_tbl['Hmag'] > -1) )]\n",
    "\n",
    "\n",
    "# the sources should both have the data of JHK and W1W2W3 before we use them.\n",
    "\n",
    "# Lamost_tbl_fil = Lamost_tbl_fil[np.logical_not( (Lamost_tbl_fil['Jmag']==0)&(Lamost_tbl_fil['Hmag']==0))]\n",
    "\n",
    "# Lamost_tbl_fil = Lamost_tbl_fil[np.logical_and(\\\n",
    "#                                                np.logical_not((Lamost_tbl_fil['Jmag'] == 0) & (Lamost_tbl_fil['Hmag'] == 0)),\\\n",
    "#                                                np.logical_not((Lamost_tbl_fil['Hmag'] == 0) & (Lamost_tbl_fil['W2'] == 0)))]"
   ]
  },
  {
   "cell_type": "code",
   "execution_count": 194,
   "metadata": {
    "scrolled": true
   },
   "outputs": [
    {
     "name": "stdout",
     "output_type": "stream",
     "text": [
      "[[ 0.23199999]\n",
      " [ 0.235     ]\n",
      " [ 0.21799999]\n",
      " ..., \n",
      " [ 0.226     ]\n",
      " [        nan]\n",
      " [ 0.23899999]]\n",
      "2337\n"
     ]
    },
    {
     "data": {
      "text/plain": [
       "array([[ True],\n",
       "       [ True],\n",
       "       [ True],\n",
       "       ..., \n",
       "       [ True],\n",
       "       [False],\n",
       "       [ True]], dtype=bool)"
      ]
     },
     "execution_count": 194,
     "metadata": {},
     "output_type": "execute_result"
    }
   ],
   "source": [
    "print(Lamost_tbl_fil['e_Kmag'])\n",
    "print(len(Lamost_tbl_fil))\n",
    "np.logical_not(np.isnan(Lamost_tbl_fil['e_Kmag']))"
   ]
  },
  {
   "cell_type": "code",
   "execution_count": 195,
   "metadata": {
    "collapsed": true
   },
   "outputs": [],
   "source": [
    "# Determine the input numbers.\n",
    "\n",
    "# Bin width, usually 50\n",
    "bin_width = 500\n",
    "# Ratio of the bluest edge, usually 5%\n",
    "ratio = 5\n",
    "# Low end criteria. If the number in a bin is lower than this number then neglect.  \n",
    "low_crit = 100"
   ]
  },
  {
   "cell_type": "code",
   "execution_count": 196,
   "metadata": {},
   "outputs": [],
   "source": [
    "# Find the start point and bin number of Teff. \n",
    "# Start point: the first number divisible by bin_width smaller than min(teff)\n",
    "# Bin number: Start from start point and cover all the teff range.\n",
    "teff_start = min(Lamost_tbl_fil['teff']) - min(Lamost_tbl_fil['teff']) % (bin_width/2)\n",
    "bin_number = math.ceil((max(Lamost_tbl_fil['teff']) - teff_start) / bin_width)"
   ]
  },
  {
   "cell_type": "code",
   "execution_count": 197,
   "metadata": {},
   "outputs": [
    {
     "name": "stdout",
     "output_type": "stream",
     "text": [
      "0.6604180335998535\n",
      "[20250.0, 20750.0, 21250.0, 21750.0, 22250.0, 22750.0, 23250.0]\n",
      "[-0.11999989, -0.13000011, -0.10999966, -0.14399958, -0.06000042, -0.16499996, -0.21500015]\n"
     ]
    }
   ],
   "source": [
    "start_time = time.time()\n",
    "int_teff = []\n",
    "int_color = []\n",
    "for i in range(bin_number):\n",
    "    bin_tbl = Lamost_tbl_fil[np.logical_and(Lamost_tbl_fil['teff'] > teff_start+i*bin_width, \\\n",
    "                                            Lamost_tbl_fil['teff'] < teff_start+(i+1)*bin_width)]\n",
    "    if len(bin_tbl) < low_crit:\n",
    "        continue\n",
    "    source_num = 0\n",
    "    while source_num != len(bin_tbl):\n",
    "        source_num = len(bin_tbl)\n",
    "        bin_mean = np.mean(bin_tbl['Jmag']-bin_tbl['Hmag'])\n",
    "        bin_sigma = np.std(bin_tbl['Jmag']-bin_tbl['Hmag'])\n",
    "        bin_tbl = bin_tbl[np.logical_or(bin_tbl['Jmag']-bin_tbl['Hmag'] < bin_mean+3*bin_sigma, \\\n",
    "                                  bin_tbl['Jmag']-bin_tbl['Hmag'] > bin_mean-3*bin_sigma)]\n",
    "    int_teff.append(float(teff_start+(i+0.5)*bin_width))\n",
    "    int_color.append(np.median(np.sort(bin_tbl['Jmag']-bin_tbl['Hmag'])[:math.ceil(len(bin_tbl)*ratio/100)]))\n",
    "#     int_color.append(np.min(bin_tbl['Jmag'] - bin_tbl['Hmag']))\n",
    "    \n",
    "print(time.time() - start_time)\n",
    "\n",
    "print(int_teff)\n",
    "print(int_color)"
   ]
  },
  {
   "cell_type": "code",
   "execution_count": 198,
   "metadata": {
    "scrolled": false
   },
   "outputs": [
    {
     "data": {
      "image/png": "[encoded data removed]",
      "text/plain": [
       "<matplotlib.figure.Figure at 0x114824160>"
      ]
     },
     "metadata": {},
     "output_type": "display_data"
    }
   ],
   "source": [
    "plt.scatter(Lamost_tbl_fil['teff'], Lamost_tbl_fil['Jmag']-Lamost_tbl_fil['Hmag'], s=2, edgecolors='None', alpha=0.5)\n",
    "plt.scatter(int_teff, int_color, c='r', edgecolors='None', s=5)\n",
    "plt.scatter(Allen_teff, Allen_color, c='m',edgecolors = 'None', s=5)\n",
    "plt.xlabel('$T_\\mathrm{eff}$'); plt.ylabel('$J-H$')\n",
    "#plt.ylim(-1,2.5)\n",
    "plt.title('lamost $J-H$')\n",
    "plt.savefig('figure/fig.png', dpi=200)\n",
    "plt.show()"
   ]
  },
  {
   "cell_type": "code",
   "execution_count": null,
   "metadata": {
    "collapsed": true
   },
   "outputs": [],
   "source": []
  }
 ],
 "metadata": {
  "kernelspec": {
   "display_name": "Python 3",
   "language": "python",
   "name": "python3"
  },
  "language_info": {
   "codemirror_mode": {
    "name": "ipython",
    "version": 3
   },
   "file_extension": ".py",
   "mimetype": "text/x-python",
   "name": "python",
   "nbconvert_exporter": "python",
   "pygments_lexer": "ipython3",
   "version": "3.6.3"
  }
 },
 "nbformat": 4,
 "nbformat_minor": 2
}
