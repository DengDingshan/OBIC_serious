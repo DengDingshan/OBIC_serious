{
 "cells": [
  {
   "cell_type": "markdown",
   "metadata": {},
   "source": [
    "# 蓝色边缘程序使用pandas的改写\n",
    "\n",
    "_由于有一些星表中包含缺省项，我们需要使用pandas中使用dataframe读取csv中自动将缺省项补上的优势，来优化我们的自动化程式_\n",
    "\n",
    "_(fits的文件我们可以使用topcat改变格式并且给星表瘦身，以加快程序读取速度）_\n",
    "\n",
    "我们需要实现的功能包含以下几点：\n",
    "\n",
    "输入：\n",
    "* csv星表**_的名字_**\n",
    "* 需要画的色指数的两个测光点（比如 $ J - H $ 我们需要输入$J$ 和 $H$）\n",
    "\n",
    "程序中自带（我们所需要限定的条件）\n",
    "_写在其中的某一个cell中作为 filt 条件_\n",
    "* 限定的误差范围（测光数据一般选择 0.3，光谱数据可以具体再定，基本上认为不太离谱的都可以用）\n",
    "* 去掉错误的点（见之前的程序)\n",
    "\n",
    "输出：\n",
    "* 颜色-teff 图"
   ]
  },
  {
   "cell_type": "code",
   "execution_count": null,
   "metadata": {
    "collapsed": true
   },
   "outputs": [],
   "source": []
  }
 ],
 "metadata": {
  "kernelspec": {
   "display_name": "Python 3",
   "language": "python",
   "name": "python3"
  },
  "language_info": {
   "codemirror_mode": {
    "name": "ipython",
    "version": 3
   },
   "file_extension": ".py",
   "mimetype": "text/x-python",
   "name": "python",
   "nbconvert_exporter": "python",
   "pygments_lexer": "ipython3",
   "version": "3.6.3"
  }
 },
 "nbformat": 4,
 "nbformat_minor": 2
}
