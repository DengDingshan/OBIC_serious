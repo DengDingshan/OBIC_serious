{
 "cells": [
  {
   "cell_type": "code",
   "execution_count": 1,
   "metadata": {
    "collapsed": true
   },
   "outputs": [],
   "source": [
    "from astropy.io import fits\n",
    "import matplotlib.pyplot as plt\n",
    "import time\n",
    "path_data1 = 'D:/DATA/OBIC/'\n",
    "path_data2 = 'C:/Users/1234/DATA/'\n",
    "data_apo = fits.open(path_data1 + 'APOGEE/APOGEE_DR14.fits')\n",
    "# data_apo = fits.open(path_data1 + 'apogee_DR13.fits')"
   ]
  },
  {
   "cell_type": "code",
   "execution_count": 2,
   "metadata": {
    "collapsed": true,
    "scrolled": true
   },
   "outputs": [],
   "source": [
    "#data_apo[1].data\n",
    "#data_apo[1].header"
   ]
  },
  {
   "cell_type": "code",
   "execution_count": 3,
   "metadata": {},
   "outputs": [
    {
     "name": "stdout",
     "output_type": "stream",
     "text": [
      "18.36970591545105\n"
     ]
    }
   ],
   "source": [
    "start_time = time.time()\n",
    "f = data_apo[1].data\n",
    "# change into bin_test\n",
    "##bine = bin(f['APOGEE_TARGET1'][10000]) #(test)\n",
    "\n",
    "print(time.time() - start_time)"
   ]
  },
  {
   "cell_type": "code",
   "execution_count": 4,
   "metadata": {
    "scrolled": false
   },
   "outputs": [
    {
     "name": "stdout",
     "output_type": "stream",
     "text": [
      "277371\n"
     ]
    }
   ],
   "source": [
    "lens = len(f['APOGEE2_TARGET3'])\n",
    "print(lens)\n",
    "# for lines in f['APOGEE_TARGET1']:\n",
    "#     print(lines)\n",
    "#lens1 = len(f[f['APOGEE_TARGET1']==0])"
   ]
  },
  {
   "cell_type": "code",
   "execution_count": 5,
   "metadata": {
    "collapsed": true,
    "scrolled": true
   },
   "outputs": [],
   "source": [
    "# for i in range(100):\n",
    "#     if f['APOGEE2_TARGET1'][i] != 0:\n",
    "#         print(str(f['APOGEE2_TARGET1'][i])[0])\n"
   ]
  },
  {
   "cell_type": "code",
   "execution_count": 13,
   "metadata": {
    "collapsed": true
   },
   "outputs": [],
   "source": [
    "#give an def to test the bitmasks\n",
    "#def v2.0.\n",
    "def bitjudge(bitmasks,digit):\n",
    "    #bitmasks is the string convert from data\n",
    "    #digit can be a list or int\n",
    "    if bitmasks >= 0:\n",
    "        output_bool = False\n",
    "    else:\n",
    "        magic_number = -4294967296\n",
    "        bitmasks_use = bitmasks - magic_number\n",
    "        c = 0 # for judgment(combination)\n",
    "        if type(digit) == int:\n",
    "            test_bin = '1' + digit*'0'\n",
    "            test_dec = int(test_bin,2)\n",
    "            c = test_dec & bitmasks_use;\n",
    "        elif type(digit) == list:\n",
    "            test_bin = 0\n",
    "            for elements in digit:\n",
    "                test_bin_line = int('1' + elements * '0') # change to int\n",
    "                test_bin = test_bin + test_bin_line #test_bin is still an int now\n",
    "            test_dec = int(str(test_bin),2) #str it then int test_bin to dec\n",
    "            c = test_dec & bitmasks_use;\n",
    "        else:\n",
    "            print('something seems wrong(not int or list)')\n",
    "        #test if c == the dec we need\n",
    "        if c == test_dec:\n",
    "            output_bool = True\n",
    "        else:\n",
    "            output_bool = False\n",
    "    return output_bool"
   ]
  },
  {
   "cell_type": "code",
   "execution_count": 18,
   "metadata": {},
   "outputs": [
    {
     "name": "stdout",
     "output_type": "stream",
     "text": [
      "from APOGEE1: 162\n",
      "from APOGEE2: 9\n",
      "time consumed: 22.729011297225952\n"
     ]
    }
   ],
   "source": [
    "start_time = time.time()\n",
    "# try to figure out both apo1 and apo2\n",
    "# just figure out which are included in the apogee_massive_programme\n",
    "\n",
    "# j = 0\n",
    "# k = 0\n",
    "\n",
    "o_num = 0\n",
    "t_num = 0\n",
    "standard_len = 34 # used to use this method to judge which bitmasks are True\n",
    "rangefigure = lens #lens is for the whole apogee\n",
    "#apogee2_target3_bitmasks9_massivestarprogramme\n",
    "for i in range(rangefigure):\n",
    "    apo1_tar1 = f['APOGEE_TARGET1'][i]\n",
    "    #print('1:',apo1_tar1)\n",
    "    apo2_tar3 = f['APOGEE2_TARGET3'][i]\n",
    "    #print('2:',apo2_tar3)\n",
    "    if bitjudge(apo1_tar1,25):\n",
    "        o_num = o_num + 1\n",
    "    if bitjudge(apo2_tar3,9):\n",
    "        t_num = t_num + 1\n",
    "#     not finished\n",
    "print('from APOGEE1:',o_num)\n",
    "print('from APOGEE2:',t_num)\n",
    "#are the bitmasks right? - bitmasks are right >.<\n",
    "print('time consumed: ' + str(time.time() - start_time))"
   ]
  },
  {
   "cell_type": "code",
   "execution_count": 19,
   "metadata": {
    "scrolled": true
   },
   "outputs": [
    {
     "name": "stdout",
     "output_type": "stream",
     "text": [
      "0.0006165028067101464\n"
     ]
    }
   ],
   "source": [
    "# massive ratio\n",
    "print((o_num + t_num) / lens)"
   ]
  },
  {
   "cell_type": "code",
   "execution_count": 9,
   "metadata": {},
   "outputs": [
    {
     "data": {
      "image/png": "[encoded data removed]",
      "text/plain": [
       "<matplotlib.figure.Figure at 0x28865d9ddd8>"
      ]
     },
     "metadata": {},
     "output_type": "display_data"
    }
   ],
   "source": [
    "plt.hist(f['APOGEE_TARGET1'])\n",
    "plt.show()"
   ]
  },
  {
   "cell_type": "code",
   "execution_count": null,
   "metadata": {
    "collapsed": true
   },
   "outputs": [],
   "source": []
  }
 ],
 "metadata": {
  "kernelspec": {
   "display_name": "Python 3",
   "language": "python",
   "name": "python3"
  },
  "language_info": {
   "codemirror_mode": {
    "name": "ipython",
    "version": 3
   },
   "file_extension": ".py",
   "mimetype": "text/x-python",
   "name": "python",
   "nbconvert_exporter": "python",
   "pygments_lexer": "ipython3",
   "version": "3.6.3"
  }
 },
 "nbformat": 4,
 "nbformat_minor": 2
}
