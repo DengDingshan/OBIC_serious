{
 "cells": [
  {
   "cell_type": "markdown",
   "metadata": {},
   "source": [
    "# 综述\n",
    "\n",
    "\n",
    "_由于有一些星表中包含缺省项，我们需要使用pandas中使用dataframe读取csv中自动将缺省项补上的优势，来优化我们的自动化程式_\n",
    "\n",
    "\n",
    "我们需要实现的功能包含以下几点：\n",
    "\n",
    "输入：\n",
    "* csv星表**_的名字_**\n",
    "* 需要画的色指数的两个测光点（比如 $ J - H $ 我们需要输入$J$ 和 $H$）\n",
    "\n",
    "程序中自带（我们所需要限定的条件）\n",
    "_写在其中的某一个cell中作为 filt 条件_\n",
    "* 限定的误差范围（看各波段误差分布，取符合统计规律的限定）\n",
    "* 去掉错误的点（见之前的程序)\n",
    "\n",
    "操作：\n",
    "* 蓝边缘选取（根据误差选择选取前%？的源，以及三sigema剔除）\n",
    "* 对所有点算SFD,选取<0.05的源认为它没有消光\n",
    "* 对蓝边缘点和SFD无消光点作拟合（拟合函数及方法暂定）\n",
    "\n",
    "输出：\n",
    "* 颜色-teff 图（其中包括全部数据点，蓝边缘点，SFD<0.05的点 ， parsec点，以及拟合曲线）\n",
    "\n"
   ]
  },
  {
   "cell_type": "markdown",
   "metadata": {},
   "source": [
    "# 数据的引入和format (Alternative)"
   ]
  },
  {
   "cell_type": "code",
   "execution_count": 1,
   "metadata": {
    "collapsed": true
   },
   "outputs": [],
   "source": [
    "import pandas as pd\n",
    "import numpy as np\n",
    "import math\n",
    "import matplotlib.pyplot as plt\n",
    "import time\n",
    "import datetime\n",
    "from scipy.optimize import curve_fit\n",
    "%matplotlib inline\n",
    "\n",
    "data_dir = '/Users/SY/Desktop/obic/data/'\n",
    "#data_dir = '/Users/dengdingshan/Documents/data/obic/'"
   ]
  },
  {
   "cell_type": "code",
   "execution_count": 8,
   "metadata": {},
   "outputs": [
    {
     "data": {
      "text/plain": [
       "Index(['Unnamed: 0', 'TEFF', 'ERR_TEFF', 'RA', 'DEC', 'LOGG', 'ERR_LOGG',\n",
       "       'FEH', 'ERR_FEH', 'SFD_ebv', 'l', 'b', 'J', 'ERR_J', 'H', 'ERR_H', 'KS',\n",
       "       'ERR_KS', 'W1', 'ERR_W1', 'W2', 'ERR_W2', 'GMAG', 'GBP', 'GRP'],\n",
       "      dtype='object')"
      ]
     },
     "execution_count": 8,
     "metadata": {},
     "output_type": "execute_result"
    }
   ],
   "source": [
    "#read as pandas\n",
    "starcatalog_fram = pd.read_csv(data_dir + 'LMOB-V4-SFDGP-final.csv') \n",
    "\n",
    "###########\n",
    "starcatalog_fram.columns\n",
    "#print(starcatalog_fram)"
   ]
  },
  {
   "cell_type": "code",
   "execution_count": 9,
   "metadata": {
    "collapsed": true
   },
   "outputs": [],
   "source": [
    "# fill the NaN blocks with 0\n",
    "\n",
    "starcatalog_fram_fil0 = starcatalog_fram.fillna(0)"
   ]
  },
  {
   "cell_type": "code",
   "execution_count": 10,
   "metadata": {},
   "outputs": [
    {
     "name": "stdout",
     "output_type": "stream",
     "text": [
      "Index(['Unnamed: 0', 'Zini', 'Age', 'Mini', 'Mass', 'logL', 'logTe', 'logg',\n",
      "       'label', 'McoreTP', 'C_O', 'period0', 'period1', 'pmode', 'Mloss',\n",
      "       'tau1m', 'X', 'Y', 'Xc', 'Xn', 'Xo', 'Cexcess', 'Z', 'mbolmag', 'Jmag',\n",
      "       'Hmag', 'Ksmag', 'IRAC_3.6mag', 'IRAC_4.5mag', 'IRAC_5.8mag',\n",
      "       'IRAC_8.0mag', 'MIPS_24mag', 'MIPS_70mag', 'MIPS_160mag', 'W1mag',\n",
      "       'W2mag', 'W3mag', 'W4mag'],\n",
      "      dtype='object')\n"
     ]
    }
   ],
   "source": [
    "#read parsec\n",
    "parsec_fram = pd.read_csv(data_dir + 'PARSEC2MASSandWISEMinus.csv') #PARSEC2MASSandWISEMinus PARSECGALEXandSDSSPlus\n",
    "\n",
    "############\n",
    "\n",
    "print(parsec_fram.columns)"
   ]
  },
  {
   "cell_type": "markdown",
   "metadata": {},
   "source": [
    "## 所需参数的选取（Input）"
   ]
  },
  {
   "cell_type": "code",
   "execution_count": 12,
   "metadata": {
    "collapsed": true
   },
   "outputs": [],
   "source": [
    "### variables\n",
    "\n",
    "teff = 'TEFF'\n",
    "\n",
    "color1 = 'H'\n",
    "color2 = 'W2'\n",
    "err_teff = 'ERR_TEFF'\n",
    "\n",
    "err_c1 = 'ERR_' + color1\n",
    "#'e_' + color1\n",
    "#color1 + 'err' \n",
    "#color1 + 'err'\n",
    "#ERR_' + color1\n",
    "#'e_' + color1\n",
    "\n",
    "err_c2 ='ERR_' + color2\n",
    "#'ERR_' + color2\n",
    "#'e_' + color2"
   ]
  },
  {
   "cell_type": "markdown",
   "metadata": {},
   "source": [
    "## Logg选取(Input:)"
   ]
  },
  {
   "cell_type": "code",
   "execution_count": 13,
   "metadata": {
    "collapsed": true
   },
   "outputs": [],
   "source": [
    "### we just need the mainsquence (dwarf stars)\n",
    "\n",
    "# #judge logg >3.0\n",
    "\n",
    "Judge_logg = 3.5\n",
    "\n",
    "starcatalog_fram_fil = starcatalog_fram_fil0[(starcatalog_fram_fil0['LOGG']> Judge_logg)]\n",
    "parsec_fram = parsec_fram[(parsec_fram['logg']>Judge_logg)]                                            "
   ]
  },
  {
   "cell_type": "markdown",
   "metadata": {},
   "source": [
    "## 测光误差的选取(input:)"
   ]
  },
  {
   "cell_type": "code",
   "execution_count": 14,
   "metadata": {
    "collapsed": true
   },
   "outputs": [],
   "source": [
    "### get the good stars\n",
    "\n",
    "# judge  data\n",
    "starcatalog_fram_fil=starcatalog_fram_fil[((starcatalog_fram_fil[err_c1] != 0) \\\n",
    "                                          & (starcatalog_fram_fil[err_c2] != 0)\\\n",
    "                                          & (starcatalog_fram_fil[err_c1] != -99) \\\n",
    "                                          & (starcatalog_fram_fil[err_c2] != -99))\\\n",
    "                                         & ((starcatalog_fram_fil[color1] != 0)\\\n",
    "                                           & (starcatalog_fram_fil[color2] != 0)\\\n",
    "                                           & (starcatalog_fram_fil[color1] != -99) \\\n",
    "                                           & (starcatalog_fram_fil[color2] != -99))\\\n",
    "                                         &((starcatalog_fram_fil[err_c1] <=0.03))\n",
    "                                          & ((starcatalog_fram_fil[err_c2] <=0.03))]\n",
    "#saturated magnitude\n",
    "\n",
    "# if (color1=='J' or color2=='J'):\n",
    "#      starcatalog_fram_fil=starcatalog_fram_fil[(starcatalog_fram_fil['J'] >= 5.5)]\n",
    "# if (color1=='H' or color2=='H'):\n",
    "#      starcatalog_fram_fil=starcatalog_fram_fil[(starcatalog_fram_fil['H'] >= 5)]  \n",
    "# if (color1=='KS' or color2=='KS'):\n",
    "#      starcatalog_fram_fil=starcatalog_fram_fil[(starcatalog_fram_fil['KS'] >= 4.5)]\n",
    "# if (color1=='W1' or color2=='W1'):\n",
    "#      starcatalog_fram_fil=starcatalog_fram_fil[(starcatalog_fram_fil['W1'] >= 8.1)]\n",
    "# if (color1=='W2' or color2=='W2'):\n",
    "#      starcatalog_fram_fil=starcatalog_fram_fil[(starcatalog_fram_fil['W2'] >= 6.7)]  \n",
    "# if (color1=='W3' or color2=='W3'):\n",
    "#      starcatalog_fram_fil=starcatalog_fram_fil[(starcatalog_fram_fil['W3'] >= 3.8)]\n",
    "\n"
   ]
  },
  {
   "cell_type": "markdown",
   "metadata": {},
   "source": [
    "## （金属丰度选取）(input:)"
   ]
  },
  {
   "cell_type": "code",
   "execution_count": 16,
   "metadata": {
    "collapsed": true
   },
   "outputs": [],
   "source": [
    "#FEH\n",
    "starcatalog_fram_fil=starcatalog_fram_fil[starcatalog_fram_fil['FEH'] > 0] # > <"
   ]
  },
  {
   "cell_type": "markdown",
   "metadata": {},
   "source": [
    "## 有效温度及其误差选取(input:)"
   ]
  },
  {
   "cell_type": "code",
   "execution_count": 24,
   "metadata": {
    "scrolled": false
   },
   "outputs": [
    {
     "name": "stdout",
     "output_type": "stream",
     "text": [
      "max_teff: 24153.809\n",
      "the amount of available sources: 8634\n"
     ]
    }
   ],
   "source": [
    "#USE goodOB \n",
    "teff_min=np.min(starcatalog_fram_fil[teff]) #10000\n",
    "teff_max=np.max(starcatalog_fram_fil[teff]) #16000\n",
    "\n",
    "starcatalog_fram_fil=starcatalog_fram_fil[(((starcatalog_fram_fil[err_teff] != 0 )\\\n",
    "                                          & (starcatalog_fram_fil[teff]>= teff_min)\\\n",
    "                                          & (starcatalog_fram_fil[teff]<= teff_max))\\\n",
    "                                          & (((starcatalog_fram_fil[err_teff]< 630)\\\n",
    "                                          &(starcatalog_fram_fil[teff]> 9000))\\\n",
    "                                          |((starcatalog_fram_fil[err_teff]< 500)\\\n",
    "                                          & (starcatalog_fram_fil[teff]<= 9000))))]\n",
    "print('max_teff:',np.max(starcatalog_fram_fil[teff]))\n",
    "print('the amount of available sources:',starcatalog_fram_fil.iloc[:,0].size)"
   ]
  },
  {
   "cell_type": "markdown",
   "metadata": {},
   "source": [
    "## 蓝边缘的参数选取(input:)"
   ]
  },
  {
   "cell_type": "code",
   "execution_count": 25,
   "metadata": {
    "collapsed": true
   },
   "outputs": [],
   "source": [
    "# Ratio of the bluest edge, usually 5% 前%多少的源\n",
    "rat = 5\n",
    "\n",
    "# Low end criteria. If the number in a bin is lower than this number then neglect.  #为保证统计的可靠性，每个区间最少的源为50\n",
    "low_crit = 50\n",
    "\n",
    "#the start teff 选取最低温度\n",
    "teff_start= teff_min\n",
    "\n",
    "#the pace of slide 滑动窗口的步长\n",
    "slide_index = 500 \n",
    "\n"
   ]
  },
  {
   "cell_type": "markdown",
   "metadata": {},
   "source": [
    "## parsec星表参数的选取(input:)"
   ]
  },
  {
   "cell_type": "code",
   "execution_count": 26,
   "metadata": {
    "collapsed": true
   },
   "outputs": [],
   "source": [
    "# parsec point  #16000:4.204 23000:4.362 选取温度范围\n",
    "parsecframe = parsec_fram[((parsec_fram['logTe'] <= 4.362)\\\n",
    "                           &(parsec_fram['logTe'] >= 4))]\n",
    "\n",
    "#the width of bin\n",
    "bin_width_parsec = 500 #选取500一个bin\n",
    "\n",
    "#确定开始和结束的温度\n",
    "teff_start_parsec = teff_min\n",
    "teff_end_parsec = teff_max\n",
    "\n",
    "                                         "
   ]
  },
  {
   "cell_type": "code",
   "execution_count": 54,
   "metadata": {},
   "outputs": [
    {
     "name": "stderr",
     "output_type": "stream",
     "text": [
      "/Users/SY/anaconda/lib/python3.6/site-packages/numpy/core/fromnumeric.py:2889: RuntimeWarning: Mean of empty slice.\n",
      "  out=out, **kwargs)\n",
      "/Users/SY/anaconda/lib/python3.6/site-packages/numpy/core/_methods.py:80: RuntimeWarning: invalid value encountered in double_scalars\n",
      "  ret = ret.dtype.type(ret / rcount)\n"
     ]
    }
   ],
   "source": [
    "parseccolor1 = color1+'mag'\n",
    "parseccolor2 = color2+'mag'\n",
    "color_total = []\n",
    "teff_total = []\n",
    "#算色指数\n",
    "for i in range(int((teff_end_parsec-teff_start_parsec)/bin_width_parsec)):\n",
    "    parsecframe_bin = parsecframe[( (teff_start_parsec+i*bin_width_parsec) <=10**parsecframe['logTe']) & \\\n",
    "                (10**parsecframe['logTe']< (teff_start_parsec+ (i+1)*bin_width_parsec) )]\n",
    "    color_total.append(np.median(np.array(parsecframe_bin[parseccolor1]-parsecframe_bin[parseccolor2])))#'Ksmag''NUVmag'\n",
    "    teff_total.append(teff_start_parsec+(i+0.5)*bin_width_parsec)#选取bin中间温度为蓝边缘点的温度\n",
    "    \n",
    "parsec_color = np.array(color_total)\n",
    "parsec_teff = np.array(teff_total)"
   ]
  },
  {
   "cell_type": "markdown",
   "metadata": {},
   "source": [
    "# 内禀色指数的计算（蓝色边缘方法），同时取出某一部分用于SFD判断"
   ]
  },
  {
   "cell_type": "markdown",
   "metadata": {},
   "source": [
    "## DEF"
   ]
  },
  {
   "cell_type": "code",
   "execution_count": 55,
   "metadata": {
    "collapsed": true
   },
   "outputs": [],
   "source": [
    "def data(teff_start,ratio,low_crit,ratio_SFD,slide_index):\n",
    "    \n",
    "    start_time = time.time()\n",
    "    int_teff = []\n",
    "    int_color = []\n",
    "    bin_int_color = []\n",
    "    \n",
    "    SFD_RA = []; SFD_DEC = []; SFD_TEFF = []; SFD_color1 = []; SFD_color2 = [];SFD_ebv = []\n",
    "    \n",
    "    data_final = pd.DataFrame(columns=[teff,color1,color2])\n",
    "    teff_judge = teff_start\n",
    "    while teff_judge < np.max(starcatalog_fram_fil[teff]) - 500:\n",
    "        #print(teff_judge)\n",
    "        if teff_judge <16000:\n",
    "            bin_width = 500\n",
    "        else:\n",
    "            bin_width = 1000\n",
    "\n",
    "        bin_tbl =starcatalog_fram_fil[np.logical_and(starcatalog_fram_fil[teff] > teff_judge, \\\n",
    "                                                starcatalog_fram_fil[teff] < teff_judge+bin_width)]\n",
    "\n",
    "        #print(teff_judge)\n",
    "       \n",
    "        \n",
    "        if len(bin_tbl) < low_crit:\n",
    "            teff_judge = teff_judge+slide_index\n",
    "            continue\n",
    "            \n",
    "        source_num = 0\n",
    "        #print(len(bin_tbl))\n",
    "\n",
    "        while source_num != len(bin_tbl):\n",
    "            source_num = len(bin_tbl)\n",
    "\n",
    "        data_final = data_final.append(bin_tbl[[teff,color1,color2]])\n",
    "        #print(len(bin_tbl))\n",
    "\n",
    "        int_teff.append(float(teff_judge+bin_width/2))\n",
    "        bin_tbl['color'] = bin_tbl[color1]-bin_tbl[color2]\n",
    "        bin_sort = bin_tbl.sort_index(axis = 0,ascending = True,by = 'color')\n",
    "        \n",
    "        # 每个bin中前ratio_SFD的部分用于取得ebv\n",
    "        color_SFD = bin_sort['color'].values[:math.ceil(len(bin_tbl)*ratio_SFD/100)]\n",
    "        bin_tbl_SFD = bin_sort[(bin_sort['color']<=np.max(color_SFD))]\n",
    "        \n",
    "        for ppp in range(len(bin_tbl_SFD)):\n",
    "            SFD_RA.append(bin_tbl_SFD['RA'].values[ppp])\n",
    "            SFD_DEC.append(bin_tbl_SFD['DEC'].values[ppp])\n",
    "            SFD_TEFF.append(bin_tbl_SFD['TEFF'].values[ppp])\n",
    "            SFD_color1.append(bin_tbl_SFD[color1].values[ppp])\n",
    "            SFD_color2.append(bin_tbl_SFD[color2].values[ppp])\n",
    "            SFD_ebv.append(bin_tbl_SFD['SFD_ebv'].values[ppp])\n",
    "        \n",
    "        # 每个bin中前ratio(usually 5%)的部分 用于取得内禀色指数int_color\n",
    "        color5 = bin_sort['color'].values[:math.ceil(len(bin_tbl)*ratio/100)]\n",
    "        bin_tbl_5 = bin_sort[(bin_sort['color']<=np.max(color5))]\n",
    "        \n",
    "        \n",
    "        if len(color5) != 0:\n",
    "            for i in range(10):\n",
    "                bin_mean = np.median(color5)\n",
    "                bin_sigma = np.std(color5)\n",
    "                bin_int_color = color5\\\n",
    "                [((color5<= bin_mean+3*bin_sigma)\\\n",
    "                & (color5>= bin_mean-3*bin_sigma))]\n",
    "                color5 = np.array(bin_int_color)\n",
    "\n",
    "            int_color.append(np.median(bin_int_color))\n",
    "            \n",
    "        teff_judge = teff_judge+slide_index\n",
    "        \n",
    "    SFD_tbl_final = pd.DataFrame({'TEFF':np.array(SFD_TEFF),'RA':np.array(SFD_RA),\\\n",
    "                                  'DEC':np.array(SFD_DEC),color1:np.array(SFD_color1),\\\n",
    "                                 color2:np.array(SFD_color2),'SFD_ebv':np.array(SFD_ebv)})\n",
    "    \n",
    "    #print(time.time() - start_time)\n",
    "    print('int_Teff:',int_teff)\n",
    "    print(' ') #让底下显示好看一些\n",
    "    print('int_color:',int_color)\n",
    "#     print(bin_mean)\n",
    "#     print(data_final.iloc[:,0].size)\n",
    "    return int_teff,int_color,data_final,SFD_tbl_final"
   ]
  },
  {
   "cell_type": "markdown",
   "metadata": {},
   "source": [
    "## 运算，SFD的准备（Input:)"
   ]
  },
  {
   "cell_type": "code",
   "execution_count": 56,
   "metadata": {
    "scrolled": true
   },
   "outputs": [
    {
     "name": "stderr",
     "output_type": "stream",
     "text": [
      "/Users/SY/anaconda/lib/python3.6/site-packages/ipykernel_launcher.py:38: SettingWithCopyWarning: \n",
      "A value is trying to be set on a copy of a slice from a DataFrame.\n",
      "Try using .loc[row_indexer,col_indexer] = value instead\n",
      "\n",
      "See the caveats in the documentation: http://pandas.pydata.org/pandas-docs/stable/indexing.html#indexing-view-versus-copy\n",
      "/Users/SY/anaconda/lib/python3.6/site-packages/ipykernel_launcher.py:39: FutureWarning: by argument to sort_index is deprecated, pls use .sort_values(by=...)\n"
     ]
    },
    {
     "name": "stdout",
     "output_type": "stream",
     "text": [
      "int_Teff: [9750.454, 10250.454, 10750.454, 11250.454, 11750.454, 12250.454, 12750.454, 13250.454, 13750.454, 14250.454, 14750.454, 15250.454, 15750.454, 18500.453999999998, 19000.453999999998, 19500.453999999998]\n",
      " \n",
      "int_color: [-0.039500000000000313, -0.038000000000000256, -0.046499999999999986, -0.044999999999999929, -0.0625, -0.055999999999999162, -0.055000000000000604, -0.029999999999999361, -0.077999999999999403, -0.067000000000000171, -0.074499999999999567, -0.07099999999999973, -0.092000000000000526, -0.10200000000000031, -0.055999999999999162, -0.053000000000000824]\n"
     ]
    }
   ],
   "source": [
    "# SFD ratio 需要计算SFD的比例，目前是全部计算\n",
    "\n",
    "ratio_SFD = 100\n",
    "\n",
    "# fitting curve\n",
    "int_teff,int_color,data_final,SFD_tbl_ratio = data(teff_start,rat,low_crit,ratio_SFD,slide_index)\n",
    "\n"
   ]
  },
  {
   "cell_type": "markdown",
   "metadata": {},
   "source": [
    "# SFD的使用：—— 将使用到新的包\n",
    "\n",
    "1. 选取SFD中Ebv小于某一个值的认为是零消光源（Lamost)——Thins page\n",
    "2. 用目前的色指数减去 Ebv 给出的消光值，然后去归算内禀色指数 - GOSSS"
   ]
  },
  {
   "cell_type": "code",
   "execution_count": 57,
   "metadata": {},
   "outputs": [
    {
     "name": "stdout",
     "output_type": "stream",
     "text": [
      "6\n",
      "19\n",
      "23\n",
      "254\n",
      "258\n",
      "259\n",
      "261\n",
      "264\n",
      "278\n",
      "279\n",
      "287\n",
      "294\n",
      "300\n",
      "303\n",
      "309\n",
      "318\n",
      "362\n",
      "365\n",
      "376\n",
      "400\n",
      "611\n",
      "648\n",
      "993\n",
      "997\n",
      "998\n",
      "999\n",
      "1011\n",
      "1070\n",
      "1080\n",
      "1085\n",
      "1110\n",
      "1331\n",
      "1440\n",
      "1486\n",
      "1759\n",
      "1765\n",
      "1892\n",
      "1981\n",
      "2085\n",
      "2113\n",
      "2117\n",
      "2121\n",
      "2137\n",
      "2157\n",
      "2167\n",
      "2169\n",
      "2208\n",
      "2237\n",
      "2289\n",
      "2523\n",
      "3050\n",
      "3057\n",
      "3058\n",
      "3059\n",
      "3062\n",
      "3065\n",
      "3068\n",
      "3072\n",
      "3075\n",
      "3083\n",
      "3179\n",
      "3185\n",
      "3208\n",
      "3823\n",
      "4435\n",
      "4436\n",
      "4442\n",
      "4443\n",
      "4551\n",
      "5878\n",
      "5880\n",
      "5881\n",
      "5911\n",
      "6125\n",
      "6640\n",
      "6641\n",
      "6644\n",
      "6649\n",
      "6767\n",
      "7371\n",
      "7761\n",
      "7894\n"
     ]
    }
   ],
   "source": [
    "SFD_catalog_color = []\n",
    "SFD_catalog_teff = []\n",
    "lens = len(SFD_tbl_ratio)\n",
    "\n",
    "#挑出SFD<0.05的源，把他们的色指数与有效温度储存备用\n",
    "for i in range(lens):\n",
    "    if SFD_tbl_ratio['SFD_ebv'].values[i] < 0.05:\n",
    "        SFD_colorindex = SFD_tbl_ratio[color1].values[i]\\\n",
    "        - (SFD_tbl_ratio[color2].values[i])\n",
    "        SFD_catalog_color.append(SFD_colorindex)\n",
    "    \n",
    "        SFD_catalog_teff.append(SFD_tbl_ratio[teff].values[i])\n",
    "        print(i)\n",
    "\n",
    "# print(time.time() - time_start)"
   ]
  },
  {
   "cell_type": "markdown",
   "metadata": {},
   "source": [
    "# 拟合（目前是指数函数）"
   ]
  },
  {
   "cell_type": "code",
   "execution_count": 58,
   "metadata": {
    "collapsed": true
   },
   "outputs": [],
   "source": [
    "# 指数函数\n",
    "def func(x, a, b, c):\n",
    "    return a * np.exp(-b * x) + c\n",
    " \n"
   ]
  },
  {
   "cell_type": "markdown",
   "metadata": {},
   "source": [
    "## 蓝边缘函数拟合"
   ]
  },
  {
   "cell_type": "code",
   "execution_count": 59,
   "metadata": {},
   "outputs": [
    {
     "name": "stdout",
     "output_type": "stream",
     "text": [
      "function: 39.9883421297* np.exp(-0.000875598305438*x)-40.0000009221\n",
      " \n",
      "fit_teff: [0.97504539999999995, 1.0250454, 1.0750454, 1.1250453999999999, 1.1750453999999999, 1.2250454, 1.2750454, 1.3250454, 1.3750453999999999, 1.4250453999999999, 1.4750454, 1.5250454, 1.5750454, 1.8500453999999997, 1.9000453999999998, 1.9500453999999998]\n",
      " \n",
      "fit_color: [-0.045784194192670213, -0.04753334812658494, -0.049282425484364012, -0.051031426269361191, -0.052780350484930239, -0.054529198134424917, -0.056277969221184776, -0.058026663748577789, -0.059775281719943507, -0.061523823138642797, -0.063272288008022315, -0.065020676331435823, -0.066768988112222871, -0.076383334857041518, -0.078131149192493865, -0.07987888701046586]\n",
      " \n",
      "int_color: [-0.039500000000000313, -0.038000000000000256, -0.046499999999999986, -0.044999999999999929, -0.0625, -0.055999999999999162, -0.055000000000000604, -0.029999999999999361, -0.077999999999999403, -0.067000000000000171, -0.074499999999999567, -0.07099999999999973, -0.092000000000000526, -0.10200000000000031, -0.055999999999999162, -0.053000000000000824]\n"
     ]
    }
   ],
   "source": [
    "int_teff_fit = list(np.array(int_teff)/10000)\n",
    "\n",
    "popt, pcov = curve_fit(func, int_teff_fit, int_color,bounds=([0,0,-100000], [50,0.03 , -40]))\n",
    "\n",
    "#popt数组中，三个值分别是待求参数a,b,c\n",
    "colorvals = [func(i, popt[0],popt[1],popt[2]) for i in int_teff_fit]\n",
    "\n",
    "\n",
    "print('function:',str(popt[0])+'* np.exp('+str(-popt[1])+'*x)'+str(popt[2])) #在屏幕上打印拟合多项式 \n",
    "print(' ')\n",
    "print('fit_teff:',int_teff_fit)\n",
    "print(' ')\n",
    "print('fit_color:',colorvals)\n",
    "print(' ')\n",
    "print('int_color:',int_color) #为了提取出来传到matlab里去拟合"
   ]
  },
  {
   "cell_type": "markdown",
   "metadata": {},
   "source": [
    "## SFD函数拟合"
   ]
  },
  {
   "cell_type": "code",
   "execution_count": 60,
   "metadata": {},
   "outputs": [
    {
     "name": "stdout",
     "output_type": "stream",
     "text": [
      "fit_SFD_teff: [0.98732039999999999, 0.99004740000000002, 0.9527002, 1.0230424999999999, 1.0166226, 1.0146660000000001, 1.0388131999999999, 1.0463564000000001, 1.0298555, 1.0271647000000002, 1.0366438, 1.0356182, 1.0049622999999999, 1.0142879999999999, 1.0338398, 1.0194056, 1.0394861, 1.0294619, 1.0435934, 1.0120340000000001, 1.0338967000000001, 1.0078096999999999, 1.0844374999999999, 1.0880315, 1.0502113, 1.0642651000000001, 1.0503035000000001, 1.099917, 1.0778558999999999, 1.0934233, 1.0695330000000001, 1.0906003, 1.0945562, 1.0558669000000001, 1.1027145, 1.1144052, 1.1224915000000002, 1.1202238, 1.162628, 1.1624060000000001, 1.1608514999999999, 1.1614845999999999, 1.1750114, 1.1754407, 1.1629468000000001, 1.1619821000000001, 1.1791773999999999, 1.1701763000000001, 1.1902663, 1.1930529000000001, 1.2292868000000001, 1.2037088, 1.2198716000000001, 1.2257816000000001, 1.2247860000000002, 1.2410950999999999, 1.2161352999999999, 1.2454082, 1.2424525, 1.2424978, 1.2264113999999999, 1.2285073, 1.2007508999999998, 1.2030984, 1.2505754999999998, 1.2818858, 1.2804235000000002, 1.2652675, 1.2578096999999999, 1.3239920000000001, 1.3369792999999999, 1.3184714, 1.3269667999999999, 1.3210932, 1.3634237, 1.3646957, 1.3577878000000001, 1.3536469, 1.3567893, 1.4750034000000001, 1.5062053, 1.5304938999999997]\n",
      " \n",
      "fit_SFD_color: [0.0066785939801476957, 0.0061454602122097413, 0.013447407871822747, -0.00030469172651237386, 0.00095025712676033436, 0.0013327355826220355, -0.0033873809978288705, -0.0048617780709250269, -0.0016364482475736963, -0.001110474175781917, -0.0029633410411307182, -0.0027628717332817132, 0.0032296697716773792, 0.0014066278043998182, -0.0024152541571282882, 0.00040623811129592013, -0.00351890809723443, -0.0015595111069686141, -0.0043217260032690774, 0.0018472466703798318, -0.0024263762371745656, 0.0026730363892184528, -0.012304457177215511, -0.013006821159464721, -0.005615241544944638, -0.0083620446937189286, -0.0056332624513757423, -0.015329495781102764, -0.011018210255329564, -0.014060504824882969, -0.0093916120441264184, -0.013508827474623786, -0.014281897102691232, -0.0067206419961749475, -0.015876169824124986, -0.018160645197710323, -0.019740724545073363, -0.019297616464669431, -0.027582732799174892, -0.027539361080989977, -0.027235660306978104, -0.027359348508312564, -0.030001994060469883, -0.030085861386801582, -0.027645016083084784, -0.027456544438074104, -0.030815850827274005, -0.029057407257830903, -0.032982078656573321, -0.033526428907229899, -0.040604020483186787, -0.035607957743557961, -0.038765040406303797, -0.039919391592754039, -0.039724931200780134, -0.042910325255370196, -0.038035246110872833, -0.043752699454074673, -0.043175435128581796, -0.043184282516293138, -0.040042403608396171, -0.040451770866908987, -0.035030168838808606, -0.035488724261448112, -0.044761885171205051, -0.050876420301975145, -0.050590867015500862, -0.047631154730261471, -0.046174706757859951, -0.059098079357852384, -0.061633705135328398, -0.058020204359003458, -0.059678887402746739, -0.058532103211923925, -0.066796278932706343, -0.067044589931661847, -0.065696062737274019, -0.064887678454788045, -0.065501137308004331, -0.088573360577782978, -0.094661342991813058, -0.099399913679150131]\n",
      " \n",
      "SFD_color: [-0.039999999999999147, -0.018000000000000682, -0.0069999999999996732, -0.078999999999998849, -0.062000000000001165, -0.059000000000001052, -0.056999999999998607, -0.044000000000000483, -0.025000000000000355, -0.022999999999999687, -0.018000000000000682, -0.014999999999998792, -0.012999999999999901, -0.012000000000000455, -0.0050000000000007816, -0.0030000000000001137, 0.020999999999999019, 0.022999999999999687, 0.026999999999999247, 0.03700000000000081, 0.10299999999999976, 0.11600000000000144, -0.095000000000000639, -0.064000000000000057, -0.062999999999998835, -0.058999999999999275, -0.045999999999999375, 0.0030000000000001137, 0.0080000000000008953, 0.012000000000000455, 0.019999999999999574, 0.082999999999998408, 0.11599999999999966, 0.13100000000000023, -0.041999999999999815, -0.027999999999998693, 0.10100000000000087, 0.17999999999999972, -0.11299999999999955, -0.059000000000001052, -0.054999999999999716, -0.052000000000001378, -0.037999999999998479, -0.025000000000000355, -0.020999999999999019, -0.017000000000001236, -0.0010000000000012221, 0.0069999999999996732, 0.024000000000000909, 0.092000000000000526, -0.1460000000000008, -0.096000000000000085, -0.092999999999999972, -0.086999999999999744, -0.086000000000000298, -0.081000000000001293, -0.079000000000000625, -0.076000000000000512, -0.071999999999999176, -0.056000000000000938, -0.015000000000000568, -0.012000000000000455, -0.0070000000000005613, 0.11399999999999899, -0.15600000000000058, -0.13499999999999801, -0.096999999999997755, -0.089999999999999858, -0.016000000000000014, -0.10999999999999766, -0.090000000000001634, -0.085999999999998522, -0.013000000000001677, 0.083000000000000185, -0.14100000000000001, -0.1379999999999999, -0.10899999999999999, -0.077999999999999403, 0.038999999999999702, -0.13899999999999935, -0.10200000000000031, 0.07099999999999973]\n",
      " \n",
      "SFD_function: 49.8216249933* np.exp(-0.00393935067546*x)-49.6215464558\n"
     ]
    }
   ],
   "source": [
    "# 拟合SFD\n",
    "SFD_catalog_teff_fit = list(np.array(SFD_catalog_teff)/10000)\n",
    "\n",
    "popt_sfd, pcov_sfd = curve_fit(func, SFD_catalog_teff_fit, SFD_catalog_color,bounds=([0,0,-100000], [50,0.03 , -40]))\n",
    "#popt数组中，三个值分别是待求参数a,b,c\n",
    "SFD_vals = [func(i, popt_sfd[0],popt_sfd[1],popt_sfd[2]) for i in SFD_catalog_teff_fit]\n",
    "\n",
    "print('fit_SFD_teff:',SFD_catalog_teff_fit)\n",
    "print(' ')\n",
    "print('fit_SFD_color:',SFD_vals)\n",
    "print(' ')\n",
    "print('SFD_color:',SFD_catalog_color) #同样是为了方便提取传入matlab\n",
    "print(' ')\n",
    "print('SFD_function:',str(popt_sfd[0])+'* np.exp('+str(-popt_sfd[1])+'*x)'+str(popt_sfd[2])) #在屏幕上打印拟合多项式\n",
    "\n",
    "# fc = np.polyfit(SFD_catalog_teff, SFD_catalog_color, 1)#用3次多项式拟合\n",
    "# fitcurve = np.poly1d(fc)\n",
    "# print(fitcurve) #在屏幕上打印拟合多项式\n",
    "# SFD_vals=fitcurve(SFD_catalog_teff)\n"
   ]
  },
  {
   "cell_type": "markdown",
   "metadata": {},
   "source": [
    "# 图片输出"
   ]
  },
  {
   "cell_type": "markdown",
   "metadata": {},
   "source": [
    "## 图片保存格式（Input:)"
   ]
  },
  {
   "cell_type": "code",
   "execution_count": 61,
   "metadata": {
    "collapsed": true
   },
   "outputs": [],
   "source": [
    "### figures & Savename\n",
    "cc1 = 'H'\n",
    "cc2 = 'W2'\n",
    "\n",
    "save = data_dir + 'pictures/'\n",
    "# save = '/Users/SY/Desktop/obic/picture/'\n",
    "\n",
    "i = datetime.datetime.now()\n",
    "date_now = \"%s_%s_%s_\" % (i.year, i.month, i.day) \n",
    "ylabel = '$%s - %s$'%(cc1,cc2) \n",
    "savename1 = save + date_now + cc1 + cc2 + 'LMOB'+'FEH'+'>'+'0'+'.png'\n",
    "savename2 = save + date_now + cc1 + cc2 + 'LMOB'+'FEH'+'_all'+'.png'\n",
    "savename3 = save + date_now + 'errteff.png'\n",
    "\n"
   ]
  },
  {
   "cell_type": "markdown",
   "metadata": {},
   "source": [
    "## 绘图所需的具体量（Alternative)"
   ]
  },
  {
   "cell_type": "code",
   "execution_count": 62,
   "metadata": {
    "scrolled": false
   },
   "outputs": [
    {
     "data": {
      "image/png": "[encoded data removed]",
      "text/plain": [
       "<matplotlib.figure.Figure at 0x11211b518>"
      ]
     },
     "metadata": {},
     "output_type": "display_data"
    }
   ],
   "source": [
    "#PLT\n",
    "ax = plt.figure(1,figsize=(7, 5))  \n",
    "plt.xlabel('$T_\\mathrm{eff}(K)$',fontsize=14)\n",
    "plt.ylabel(ylabel,fontsize=14)\n",
    "\n",
    "# the data we use\n",
    "plt.scatter(starcatalog_fram_fil[teff], starcatalog_fram_fil[color1]-starcatalog_fram_fil[color2],\\\n",
    "            c='grey',s=5, edgecolors='None',label='LAMOST')\n",
    "\n",
    "# data we use in the SFD dustmap\n",
    "plt.scatter(SFD_catalog_teff,SFD_catalog_color,alpha=1,edgecolors='None',c='violet',s=5,label='SFD dustmap',zorder=2)\n",
    "\n",
    "# SFD fitcurve\n",
    "#plt.plot(SFD_catalog_teff, SFD_vals, c='black',linewidth = 3.5,label='fitting curve of \\nthe E(B-V)<0.05',zorder=1)\n",
    "\n",
    "# ic plot from blue edge\n",
    "#plt.plot(int_teff, colorvals, c='r',linewidth = 3.5,label='fitting curve of \\nthe bluest 5%',zorder=1,alpha=1)\n",
    "\n",
    "# ic from blue edge\n",
    "plt.scatter(int_teff, int_color, edgecolors='None',c='b', marker = '+',s=50,label='Median of\\nthe bluest 5%',zorder=2)\n",
    "\n",
    "# ic from Allen's work \n",
    "# plt.scatter(BBFrame_fil['Teff'],BBFrame_fil['J-H'],c='lime',s=11,label='Allen',zorder=2)\n",
    "\n",
    "#ic from parsec\n",
    "#plt.scatter(parsec_teff,parsec_color,c='gold',s=5,label='PARSEC',zorder=2)\n",
    "plt.plot(parsec_teff, parsec_color, c='gold',linewidth = 3.5,label='PARSEC',zorder=1,alpha=1)\n",
    "### Draw the plot\n",
    "\n",
    "# plt.xlabel('$T_\\mathrm{eff}$'); plt.ylabel(ylabel)\n",
    "#plt.scatter(BBFrame_fil['Teff'],BBFrame_fil['J-H'],c='lightgreen',s=15,label='Allen')\n",
    "\n",
    "plt.legend(loc='upper right')\n",
    "\n",
    "plt.xticks(fontsize=12)\n",
    "plt.yticks(fontsize=12)\n",
    "\n",
    "plt.minorticks_on()\n",
    "#new_ticks = np.linspace(-1,2,7)\n",
    "#plt.yticks(new_ticks)\n",
    "#plt.ylim(-0.4,1.6)\n",
    "#plt.yticks([-0.4,-0.2,0,0.2,0.4,0.6,0.8,1,1.2,1.4,1.6])\n",
    "#plt.xlim(9000,25000)\n",
    "plt.savefig(savename2,dpi=200)\n",
    "\n",
    "plt.show()"
   ]
  },
  {
   "cell_type": "code",
   "execution_count": null,
   "metadata": {
    "collapsed": true
   },
   "outputs": [],
   "source": []
  }
 ],
 "metadata": {
  "kernelspec": {
   "display_name": "Python 3",
   "language": "python",
   "name": "python3"
  },
  "language_info": {
   "codemirror_mode": {
    "name": "ipython",
    "version": 3
   },
   "file_extension": ".py",
   "mimetype": "text/x-python",
   "name": "python",
   "nbconvert_exporter": "python",
   "pygments_lexer": "ipython3",
   "version": "3.6.1"
  },
  "toc": {
   "base_numbering": 1,
   "nav_menu": {},
   "number_sections": true,
   "sideBar": true,
   "skip_h1_title": false,
   "title_cell": "Table of Contents",
   "title_sidebar": "Contents",
   "toc_cell": false,
   "toc_position": {},
   "toc_section_display": true,
   "toc_window_display": false
  }
 },
 "nbformat": 4,
 "nbformat_minor": 2
}
