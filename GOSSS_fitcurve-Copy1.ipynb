{
 "cells": [
  {
   "cell_type": "code",
   "execution_count": 142,
   "metadata": {
    "collapsed": true
   },
   "outputs": [],
   "source": [
    "from astropy.io import fits\n",
    "import numpy as np\n",
    "import matplotlib.pyplot as plt\n",
    "from time import time\n",
    "import math\n",
    "path_data1 = '/Users/SY/Desktop/obic/data/'#'D:/DATA/OBIC/'\n",
    "path_data2 = 'C:/Users/1234/DATA/'\n",
    "data_go = fits.open(path_data1 + 'gosss_2mass_new.fits')"
   ]
  },
  {
   "cell_type": "code",
   "execution_count": 143,
   "metadata": {
    "collapsed": true
   },
   "outputs": [],
   "source": [
    "start_time = time()\n",
    "f = data_go[1].data\n"
   ]
  },
  {
   "cell_type": "code",
   "execution_count": 144,
   "metadata": {
    "collapsed": true
   },
   "outputs": [],
   "source": [
    "spt = list(f['STv3'])\n"
   ]
  },
  {
   "cell_type": "code",
   "execution_count": 145,
   "metadata": {
    "collapsed": true
   },
   "outputs": [],
   "source": [
    "# 分类(肉眼分类)\n",
    "# 写成函数\n",
    "def divid(s):\n",
    "    # s is a string\n",
    "    if 'N' in s or 'C' in s:\n",
    "        new_s = s[2:]\n",
    "    else:\n",
    "        new_s = s[1:]\n",
    "    if ':' in new_s:\n",
    "        new_s = new_s[:-1]\n",
    "    if '-' in new_s:\n",
    "        new_s = new_s[:-2]\n",
    "    f_s = float(new_s)\n",
    "    #print(f_s)\n",
    "    return f_s\n",
    "#    return round(f_s*2)/2 #round可能不可靠\n",
    "#     return math.floor(f_s)"
   ]
  },
  {
   "cell_type": "code",
   "execution_count": 146,
   "metadata": {},
   "outputs": [],
   "source": [
    "#math.floor(9.7)\n",
    "for s in spt:\n",
    "    f_s = divid(s)"
   ]
  },
  {
   "cell_type": "code",
   "execution_count": 147,
   "metadata": {
    "scrolled": true
   },
   "outputs": [
    {
     "name": "stdout",
     "output_type": "stream",
     "text": [
      "[ 2.   2.5  3.   3.5  4.   4.5  5.   5.5  6.   6.5  7.   7.5  8.   8.5  9.\n",
      "  9.2  9.5  9.7]\n"
     ]
    }
   ],
   "source": [
    "#直接计算直方图的频数（算法有点粗暴）\n",
    "new_spt = []\n",
    "for s in spt:\n",
    "    new_spt.append(divid(s))\n",
    "    \n",
    "\n",
    "figure_spt = np.array(new_spt) #散点\n",
    "figure_spt_sort = np.sort(np.array([i for i in set(figure_spt)]))\n",
    "count = []\n",
    "for i in range(len(figure_spt_sort)):\n",
    "    k = 0\n",
    "    for ele in new_spt:\n",
    "        if ele == figure_spt_sort[i]:\n",
    "            k = k + 1\n",
    "    count.append(k)\n",
    "#print(count)\n",
    "print(figure_spt_sort)"
   ]
  },
  {
   "cell_type": "code",
   "execution_count": 148,
   "metadata": {},
   "outputs": [
    {
     "name": "stdout",
     "output_type": "stream",
     "text": [
      "-2.827\n"
     ]
    },
    {
     "data": {
      "text/plain": [
       "-2.8270001411437988"
      ]
     },
     "execution_count": 148,
     "metadata": {},
     "output_type": "execute_result"
    }
   ],
   "source": [
    "#give color(JH) or else in 2MASS\n",
    "color_JH = f['Jmag']-f['Hmag']\n",
    "[ra,dec] = [f['RAd'],f['decd']]\n",
    "print(np.min(color_JH))\n",
    "color_JH = color_JH[:, np.newaxis]\n",
    "\n",
    "ra = ra[:, np.newaxis]\n",
    "dec = dec[:, np.newaxis]\n",
    "\n",
    "figure_spt = figure_spt[:, np.newaxis]\n",
    "\n",
    "\n",
    "ra_dec1=np.concatenate((ra,dec), axis = 1)\n",
    "c_ra_dec1=np.concatenate((color_JH,ra_dec1), axis = 1)\n",
    "c_ra_dec=np.concatenate((c_ra_dec1,figure_spt), axis = 1)\n",
    "\n",
    "\n",
    "np.min(c_ra_dec1[:,0])"
   ]
  },
  {
   "cell_type": "code",
   "execution_count": 149,
   "metadata": {
    "scrolled": true
   },
   "outputs": [
    {
     "name": "stdout",
     "output_type": "stream",
     "text": [
      "18\n",
      "18\n",
      "(18,)\n",
      "[ 2.   2.5  3.   3.5  4.   4.5  5.   5.5  6.   6.5  7.   7.5  8.   8.5  9.\n",
      "  9.2  9.5  9.7]\n",
      "(38, 4)\n"
     ]
    }
   ],
   "source": [
    "#fit scatter\n",
    "\n",
    "ic = []\n",
    "ratio = 5\n",
    "c_ra_dec_fin = np.array([0,0,0,0])\n",
    "for i in range(len(figure_spt_sort)):\n",
    "    bin = []\n",
    "    for ele_num in range(len(spt)):\n",
    "        if figure_spt[ele_num] == figure_spt_sort[i]:\n",
    "            bin.append(c_ra_dec[ele_num,:])\n",
    "    bin_ara = np.array(bin)\n",
    "    #print(bin_c_ara)\n",
    "    #select the fit dot\n",
    "    ratio_integer = math.ceil(len(bin_ara[:,0])*ratio/100)\n",
    "    sort = bin_ara[np.lexsort(bin_ara[:,::-1].T)] \n",
    "    #print(sort)\n",
    "    #print(sort[:,0][:ratio_integer])\n",
    "    a = np.median(sort[:,0][:ratio_integer])\n",
    "    index = np.where(sort[:,0]<=np.max(sort[:,0][:ratio_integer]))\n",
    "    #print(sort[index[0],:])\n",
    "    c_ra_dec_final = sort[index[0],:]\n",
    "    #print(c_ra_dec_final.shape)\n",
    "    c_ra_dec_fin = np.vstack((c_ra_dec_fin,c_ra_dec_final))\n",
    "    ic.append(float(a))\n",
    "c_ra_dec_fin = c_ra_dec_fin[1:,:]\n",
    "use_ic = np.array(ic)\n",
    "use_spt = np.array(figure_spt_sort)\n",
    "print(len(use_ic))\n",
    "print(len(use_spt))\n",
    "print(use_ic.shape)\n",
    "print(use_spt)\n",
    "print(c_ra_dec_fin.shape)"
   ]
  },
  {
   "cell_type": "code",
   "execution_count": 150,
   "metadata": {},
   "outputs": [
    {
     "name": "stdout",
     "output_type": "stream",
     "text": [
      "[[  2.00000000e+00   9.00001526e-02]\n",
      " [  2.50000000e+00   2.90000439e-01]\n",
      " [  3.00000000e+00   1.00040436e-03]\n",
      " [  3.50000000e+00   2.99978256e-03]\n",
      " [  4.00000000e+00  -1.64999962e-01]\n",
      " [  4.50000000e+00  -7.00044632e-03]\n",
      " [  5.00000000e+00  -4.10003662e-02]\n",
      " [  5.50000000e+00  -8.19997787e-02]\n",
      " [  6.00000000e+00  -5.35001755e-02]\n",
      " [  6.50000000e+00  -7.60002136e-02]\n",
      " [  7.00000000e+00  -1.05499983e-01]\n",
      " [  7.50000000e+00  -8.30001831e-02]\n",
      " [  8.00000000e+00  -7.20000267e-02]\n",
      " [  8.50000000e+00  -1.08000278e-01]\n",
      " [  9.00000000e+00  -1.37000084e-01]\n",
      " [  9.20000000e+00  -1.49999857e-01]\n",
      " [  9.50000000e+00  -1.53999805e-01]\n",
      " [  9.70000000e+00  -1.09500170e-01]]\n"
     ]
    }
   ],
   "source": [
    "whole_figure = np.vstack((use_spt , use_ic)).T\n",
    "print(whole_figure)"
   ]
  },
  {
   "cell_type": "code",
   "execution_count": 151,
   "metadata": {
    "collapsed": true
   },
   "outputs": [],
   "source": [
    "# SFD ratio\n",
    "\n",
    "ratio_SFD = 5\n",
    "\n",
    "# fitting curve\n",
    "\n",
    "\n",
    "fc = np.polyfit(use_spt, use_ic, 3)#用3次多项式拟合\n",
    "fitcurve = np.poly1d(fc)\n",
    "# print(fitcurve) #在屏幕上打印拟合多项式\n",
    "\n",
    "colorvals=fitcurve(use_spt)\n",
    "\n",
    "# print(len(colorvals),len(int_teff))\n",
    "#print(len(bin_tbl_final[teff].values))\n",
    "\n",
    "# SFD_tbl_ratio[teff]"
   ]
  },
  {
   "cell_type": "code",
   "execution_count": 152,
   "metadata": {},
   "outputs": [
    {
     "name": "stdout",
     "output_type": "stream",
     "text": [
      "[-6.4628272247314431, -3.1234712982177726, -0.20392698287963862, -3.1625354766845692, -0.40365513086318966, -4.1998847770690908, -1.0525642919540406, -14.825891380310058, -2.0852397012710564, -1.589919951856136, -4.8075479805469508, -0.2163309472799301, -0.31757805436849584, -0.29037360649555916, -0.2963111400604248, -0.24740660250186919, -0.2047112537547946, -1.5081867651939391]\n"
     ]
    }
   ],
   "source": [
    "from __future__ import print_function\n",
    "import numpy as np\n",
    "import pandas as pd\n",
    "\n",
    "from astropy.coordinates import SkyCoord\n",
    "from dustmaps.sfd import SFDQuery\n",
    "\n",
    "sfd = SFDQuery()\n",
    "\n",
    "Consts = pd.DataFrame({'J':np.array([0.709]),\\\n",
    "'H':np.array([0.449]),\\\n",
    "'g':np.array([3.303]),\\\n",
    "'r':np.array([2.285]),\\\n",
    "'i':np.array([1.698])})\n",
    "# Const1 = 0.709 #J #3.303 #g #2.285 #r\n",
    "# Const2 = 0.449 #H #2.285 #r #1.698 #i\n",
    "\n",
    "def SFD_IC(Catalog_raw,color1,color2):\n",
    "    # Using ebv from SFD to get the intrinsic color\n",
    "\n",
    "    Intrinsic_color = []\n",
    "\n",
    "    for i in range(len(Catalog_raw)):\n",
    "        coords = SkyCoord(Catalog_raw[i,1],Catalog_raw[i,2],frame = 'icrs',unit = 'deg')\n",
    "        ebv = sfd(coords)\n",
    "        A_c1 = Consts[color1].values*ebv\n",
    "        A_c2 = Consts[color2].values*ebv\n",
    "\n",
    "        Intrinsic_color.append(Catalog_raw[i,0] - A_c1 + A_c2)\n",
    "    Intrinsic_color = np.array(Intrinsic_color)\n",
    "    return Intrinsic_color\n",
    "SFD_catalog_color = SFD_IC(c_ra_dec_fin,'J','H').reshape(-1,1)\n",
    "SFD_catalog_teff = c_ra_dec_fin[:,3].reshape(-1,1)\n",
    "\n",
    "whole_sfd = np.hstack((SFD_catalog_teff , SFD_catalog_color))\n",
    "\n",
    "\n",
    "mean = []\n",
    "for i in range(len(figure_spt_sort)):\n",
    "    sfd_bin = []\n",
    "    for ele_num in range(len(whole_sfd[:,0])):\n",
    "        if whole_sfd[ele_num,0] == figure_spt_sort[i]:\n",
    "            sfd_bin.append(whole_sfd[ele_num,1])\n",
    "    mean.append(np.mean(sfd_bin))\n",
    "print(mean)"
   ]
  },
  {
   "cell_type": "code",
   "execution_count": 155,
   "metadata": {},
   "outputs": [
    {
     "data": {
      "image/png": "[encoded data removed]",
      "text/plain": [
       "<matplotlib.figure.Figure at 0x11bda4978>"
      ]
     },
     "metadata": {},
     "output_type": "display_data"
    }
   ],
   "source": [
    "plt.scatter(figure_spt,color_JH ,c='darkgrey', s=15, edgecolors='None', alpha=0.9)\n",
    "plt.scatter(use_spt,use_ic, c='r', edgecolors='None', s=15,label='Median of\\nthe bluest 5%')\n",
    "plt.scatter(SFD_catalog_teff,SFD_catalog_color,alpha=0.8,edgecolors='None',c='b',s=10,label='SFD dustmap',zorder=2)\n",
    "plt.scatter(figure_spt_sort,mean,alpha=0.8,edgecolors='None',c='gold',s=10,label='SFD dustmap(mean)',zorder=2)\n",
    "plt.xlabel('STv3_round') ; plt.ylabel('$J-H$')\n",
    "plt.ylim(-2,1.0)\n",
    "plt.legend(loc='lower right')\n",
    "plt.savefig(path_data1+'pictures/'+'2018_5_3_GOSSS.png', dpi=200)\n",
    "plt.show()"
   ]
  },
  {
   "cell_type": "code",
   "execution_count": 78,
   "metadata": {},
   "outputs": [
    {
     "data": {
      "text/plain": [
       "array([[1, 2, 3],\n",
       "       [1, 2, 4]])"
      ]
     },
     "execution_count": 78,
     "metadata": {},
     "output_type": "execute_result"
    }
   ],
   "source": [
    "a=np.array([1,2,3])\n",
    "b=np.array([1,2,4])\n",
    "a = a[:, np.newaxis]\n",
    "b = b[:, np.newaxis]\n",
    "v=np.concatenate((a.T,b.T), axis = 0)\n",
    "v"
   ]
  },
  {
   "cell_type": "code",
   "execution_count": null,
   "metadata": {
    "collapsed": true
   },
   "outputs": [],
   "source": []
  }
 ],
 "metadata": {
  "kernelspec": {
   "display_name": "Python 3",
   "language": "python",
   "name": "python3"
  },
  "language_info": {
   "codemirror_mode": {
    "name": "ipython",
    "version": 3
   },
   "file_extension": ".py",
   "mimetype": "text/x-python",
   "name": "python",
   "nbconvert_exporter": "python",
   "pygments_lexer": "ipython3",
   "version": "3.6.1"
  },
  "toc": {
   "base_numbering": 1,
   "nav_menu": {},
   "number_sections": true,
   "sideBar": true,
   "skip_h1_title": false,
   "title_cell": "Table of Contents",
   "title_sidebar": "Contents",
   "toc_cell": false,
   "toc_position": {},
   "toc_section_display": true,
   "toc_window_display": false
  }
 },
 "nbformat": 4,
 "nbformat_minor": 2
}
