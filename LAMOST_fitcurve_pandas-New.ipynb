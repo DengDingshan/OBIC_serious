{
 "cells": [
  {
   "cell_type": "markdown",
   "metadata": {
    "toc": true
   },
   "source": [
    "<h1>Table of Contents<span class=\"tocSkip\"></span></h1>\n",
    "<div class=\"toc\"><ul class=\"toc-item\"><li><span><a href=\"#综述\" data-toc-modified-id=\"综述-1\"><span class=\"toc-item-num\">1&nbsp;&nbsp;</span>综述</a></span></li><li><span><a href=\"#数据的引入和format-(Alternative)\" data-toc-modified-id=\"数据的引入和format-(Alternative)-2\"><span class=\"toc-item-num\">2&nbsp;&nbsp;</span>数据的引入和format (Alternative)</a></span><ul class=\"toc-item\"><li><span><a href=\"#参数的选取（Input）\" data-toc-modified-id=\"参数的选取（Input）-2.1\"><span class=\"toc-item-num\">2.1&nbsp;&nbsp;</span>参数的选取（Input）</a></span></li><li><span><a href=\"#K星等筛选（Input:）\" data-toc-modified-id=\"K星等筛选（Input:）-2.2\"><span class=\"toc-item-num\">2.2&nbsp;&nbsp;</span>K星等筛选（Input:）</a></span></li><li><span><a href=\"#Logg，误差的选取(Input:)\" data-toc-modified-id=\"Logg，误差的选取(Input:)-2.3\"><span class=\"toc-item-num\">2.3&nbsp;&nbsp;</span>Logg，误差的选取(Input:)</a></span></li><li><span><a href=\"#有效温度-Teff-的限制（Input:）\" data-toc-modified-id=\"有效温度-Teff-的限制（Input:）-2.4\"><span class=\"toc-item-num\">2.4&nbsp;&nbsp;</span>有效温度 Teff 的限制（Input:）</a></span></li><li><span><a href=\"#蓝色边缘的比例，bin最小值的选取（Input：）\" data-toc-modified-id=\"蓝色边缘的比例，bin最小值的选取（Input：）-2.5\"><span class=\"toc-item-num\">2.5&nbsp;&nbsp;</span>蓝色边缘的比例，bin最小值的选取（Input：）</a></span></li><li><span><a href=\"#比较星表的数据选取（Input:）\" data-toc-modified-id=\"比较星表的数据选取（Input:）-2.6\"><span class=\"toc-item-num\">2.6&nbsp;&nbsp;</span>比较星表的数据选取（Input:）</a></span></li></ul></li><li><span><a href=\"#内禀色指数的计算（蓝色边缘方法），同时取出某一部分用于SFD判断\" data-toc-modified-id=\"内禀色指数的计算（蓝色边缘方法），同时取出某一部分用于SFD判断-3\"><span class=\"toc-item-num\">3&nbsp;&nbsp;</span>内禀色指数的计算（蓝色边缘方法），同时取出某一部分用于SFD判断</a></span><ul class=\"toc-item\"><li><span><a href=\"#DEF\" data-toc-modified-id=\"DEF-3.1\"><span class=\"toc-item-num\">3.1&nbsp;&nbsp;</span>DEF</a></span></li><li><span><a href=\"#运算，拟合，SFD的准备（Input:)\" data-toc-modified-id=\"运算，拟合，SFD的准备（Input:)-3.2\"><span class=\"toc-item-num\">3.2&nbsp;&nbsp;</span>运算，拟合，SFD的准备（Input:)</a></span></li></ul></li><li><span><a href=\"#SFD的使用：——-将使用到新的包\" data-toc-modified-id=\"SFD的使用：——-将使用到新的包-4\"><span class=\"toc-item-num\">4&nbsp;&nbsp;</span>SFD的使用：—— 将使用到新的包</a></span></li><li><span><a href=\"#图片输出\" data-toc-modified-id=\"图片输出-5\"><span class=\"toc-item-num\">5&nbsp;&nbsp;</span>图片输出</a></span><ul class=\"toc-item\"><li><span><a href=\"#图片保存格式（Input:)\" data-toc-modified-id=\"图片保存格式（Input:)-5.1\"><span class=\"toc-item-num\">5.1&nbsp;&nbsp;</span>图片保存格式（Input:)</a></span></li><li><span><a href=\"#绘图所需的具体量（Alternative)\" data-toc-modified-id=\"绘图所需的具体量（Alternative)-5.2\"><span class=\"toc-item-num\">5.2&nbsp;&nbsp;</span>绘图所需的具体量（Alternative)</a></span></li></ul></li><li><span><a href=\"#some-other-features\" data-toc-modified-id=\"some-other-features-6\"><span class=\"toc-item-num\">6&nbsp;&nbsp;</span>some other features</a></span><ul class=\"toc-item\"><li><span><a href=\"#赫罗图\" data-toc-modified-id=\"赫罗图-6.1\"><span class=\"toc-item-num\">6.1&nbsp;&nbsp;</span>赫罗图</a></span></li><li><span><a href=\"#参数统计图\" data-toc-modified-id=\"参数统计图-6.2\"><span class=\"toc-item-num\">6.2&nbsp;&nbsp;</span>参数统计图</a></span></li></ul></li><li><span><a href=\"#Remember-List-for-Lamost\" data-toc-modified-id=\"Remember-List-for-Lamost-7\"><span class=\"toc-item-num\">7&nbsp;&nbsp;</span>Remember List for Lamost</a></span><ul class=\"toc-item\"><li><span><a href=\"#4月19日讨论：\" data-toc-modified-id=\"4月19日讨论：-7.1\"><span class=\"toc-item-num\">7.1&nbsp;&nbsp;</span>4月19日讨论：</a></span></li><li><span><a href=\"#5月2日组会：\" data-toc-modified-id=\"5月2日组会：-7.2\"><span class=\"toc-item-num\">7.2&nbsp;&nbsp;</span>5月2日组会：</a></span></li><li><span><a href=\"#5月3日讨论：\" data-toc-modified-id=\"5月3日讨论：-7.3\"><span class=\"toc-item-num\">7.3&nbsp;&nbsp;</span>5月3日讨论：</a></span></li></ul></li></ul></div>"
   ]
  },
  {
   "cell_type": "markdown",
   "metadata": {},
   "source": [
    "# 综述\n",
    "** 蓝色边缘程序使用pandas的改写 **\n",
    "\n",
    "_由于有一些星表中包含缺省项，我们需要使用pandas中使用dataframe读取csv中自动将缺省项补上的优势，来优化我们的自动化程式_\n",
    "\n",
    "_(fits的文件我们可以使用topcat改变格式并且给星表瘦身，以加快程序读取速度）_\n",
    "\n",
    "我们需要实现的功能包含以下几点：\n",
    "\n",
    "输入：\n",
    "* csv星表**_的名字_**\n",
    "* 需要画的色指数的两个测光点（比如 $ J - H $ 我们需要输入$J$ 和 $H$）\n",
    "\n",
    "程序中自带（我们所需要限定的条件）\n",
    "_写在其中的某一个cell中作为 filt 条件_\n",
    "* 限定的误差范围（测光数据一般选择 0.3，光谱数据可以具体再定，基本上认为不太离谱的都可以用）\n",
    "* 去掉错误的点（见之前的程序)\n",
    "\n",
    "输出：\n",
    "* 颜色-teff 图\n",
    "\n",
    "Now,trying:\n",
    "* SFD: 一个新的ratio,比如说0.05，把这个ratio底下的部分输入进SFD,判断：E(B-V) <0.3 的值就是我们零消光的值。这个值去拟合一个新的curve。"
   ]
  },
  {
   "cell_type": "markdown",
   "metadata": {},
   "source": [
    "# 数据的引入和format (Alternative)"
   ]
  },
  {
   "cell_type": "code",
   "execution_count": 1,
   "metadata": {
    "collapsed": true
   },
   "outputs": [],
   "source": [
    "import pandas as pd\n",
    "import numpy as np\n",
    "import math\n",
    "import matplotlib.pyplot as plt\n",
    "import time\n",
    "import datetime\n",
    "%matplotlib inline\n",
    "\n",
    "data_dir = '/Users/SY/Desktop/obic/data/'\n",
    "#data_dir = '/Users/dengdingshan/Documents/data/obic/'"
   ]
  },
  {
   "cell_type": "code",
   "execution_count": 40,
   "metadata": {
    "collapsed": true
   },
   "outputs": [],
   "source": [
    "#read as pandas\n",
    "starcatalog_fram = pd.read_csv(data_dir + 'lamost_2mass_wise_new2.csv')\n",
    "\n",
    "###########\n",
    "\n",
    "#starcatlog_fram = starcatlog_fram.ix[:,:517]\n",
    "#print(starcatalog_fram)"
   ]
  },
  {
   "cell_type": "code",
   "execution_count": 41,
   "metadata": {
    "collapsed": true
   },
   "outputs": [],
   "source": [
    "#read parsec\n",
    "parsec_fram = pd.read_csv(data_dir + 'parsec_jhkw.csv')\n",
    "\n",
    "############\n",
    "\n",
    "#print(parsec_fram.values)"
   ]
  },
  {
   "cell_type": "code",
   "execution_count": 42,
   "metadata": {
    "collapsed": true
   },
   "outputs": [],
   "source": [
    "### Elective CHOICE\n",
    "\n",
    "########### I.\n",
    "#change logTeff into Teff.\n",
    "\n",
    "# def tenn(x):\n",
    "#     y=10 ** x\n",
    "#     return y\n",
    "\n",
    "# Teff_tbl = starcatalog['logTeff'].apply(tenn)\n",
    "###########\n",
    "\n",
    "########### II.\n",
    "#add [Teff] into DATAFRAME\n",
    "\n",
    "#data_fram = starcatalog_fram[['TEFF_1','ERR_TEFF_1','Jmag_1','e_Jmag_1','Hmag_1','e_Hmag_1']]\n",
    "#print(data_fram)\n",
    "###########\n",
    "\n",
    "########### III.\n",
    "# fill the NaN blocks with 0\n",
    "\n",
    "starcatalog_fram_fil_1 = starcatalog_fram.fillna(0)\n",
    "\n",
    "#print(starcatalog_fram_fil['LOGG'])\n",
    "############\n"
   ]
  },
  {
   "cell_type": "code",
   "execution_count": 43,
   "metadata": {
    "scrolled": true
   },
   "outputs": [
    {
     "data": {
      "text/plain": [
       "Index(['col1', 'TEFF', 'ERR_TEFF', 'RA', 'DEC', 'LOGG', 'ERR_LOGG', 'FEH',\n",
       "       'ERR_FEH', '2MASS', 'RAJ2000', 'DEJ2000', 'errHalfMaj', 'errHalfMin',\n",
       "       'errPosAng', 'Jmag', 'Hmag', 'Kmag', 'e_Jmag', 'e_Hmag', 'e_Kmag',\n",
       "       'Qfl', 'Rfl', 'X', 'MeasureJD', 'angDist', 'JNAME', 'ra_x', 'dec_x',\n",
       "       'errHalfMaj_x', 'errHalfMin_x', 'errPosAng_x', 'W1mag', 'W2mag',\n",
       "       'W3mag', 'W4mag', 'Jmag_x', 'Hmag_x', 'Kmag_x', 'e_W1mag', 'e_W2mag',\n",
       "       'e_W3mag', 'e_W4mag', 'e_Jmag_x', 'e_Hmag_x', 'e_Kmag_x', 'cntr',\n",
       "       'cc_flags', 'ext_flg', 'var_flg', 'ph_qual', 'r_2mass', 'angDist_x'],\n",
       "      dtype='object')"
      ]
     },
     "execution_count": 43,
     "metadata": {},
     "output_type": "execute_result"
    }
   ],
   "source": [
    "starcatalog_fram_fil_1.columns"
   ]
  },
  {
   "cell_type": "markdown",
   "metadata": {},
   "source": [
    "## 参数的选取（Input）"
   ]
  },
  {
   "cell_type": "code",
   "execution_count": 80,
   "metadata": {
    "collapsed": true
   },
   "outputs": [],
   "source": [
    "### variables\n",
    "\n",
    "teff = 'TEFF'\n",
    "\n",
    "color1 = 'Jmag'\n",
    "color2 = 'W3mag'\n",
    "err_teff = 'ERR_TEFF'\n",
    "\n",
    "err_c1 = 'e_' + color1\n",
    "#'e_' + color1\n",
    "#color1 + 'err' \n",
    "#color1 + 'err'\n",
    "#ERR_' + color1\n",
    "#'e_' + color1\n",
    "\n",
    "err_c2 = 'e_' + color2\n",
    "#'ERR_' + color2\n",
    "#'e_' + color2"
   ]
  },
  {
   "cell_type": "markdown",
   "metadata": {},
   "source": [
    "## K星等筛选（Input:）\n"
   ]
  },
  {
   "cell_type": "code",
   "execution_count": 81,
   "metadata": {
    "collapsed": true
   },
   "outputs": [],
   "source": [
    "starcatalog_fram_fil_2 = starcatalog_fram_fil_1[(starcatalog_fram_fil_1['Kmag']>4.5)]"
   ]
  },
  {
   "cell_type": "markdown",
   "metadata": {},
   "source": [
    "## Logg，误差的选取(Input:)"
   ]
  },
  {
   "cell_type": "code",
   "execution_count": 82,
   "metadata": {
    "collapsed": true
   },
   "outputs": [],
   "source": [
    "### we just need the mainsquence (dwarf stars)\n",
    "\n",
    "# #judge logg >3.5\n",
    "\n",
    "starcatalog_fram_fil = starcatalog_fram_fil_2[(starcatalog_fram_fil_2['LOGG']>3.5)]\n",
    "parsec_fram = parsec_fram[(parsec_fram['logg']>3.5)]                                            "
   ]
  },
  {
   "cell_type": "code",
   "execution_count": 85,
   "metadata": {},
   "outputs": [
    {
     "name": "stdout",
     "output_type": "stream",
     "text": [
      "4261\n"
     ]
    }
   ],
   "source": [
    "### get the good stars\n",
    "\n",
    "# judge  data\n",
    "starcatalog_fram_fil=starcatalog_fram_fil[((starcatalog_fram_fil[err_c1] != 0) \\\n",
    "                                          & (starcatalog_fram_fil[err_c2] != 0)\\\n",
    "                                          & (starcatalog_fram_fil[err_c1] != -99) \\\n",
    "                                          & (starcatalog_fram_fil[err_c2] != -99))\\\n",
    "                                         & ((starcatalog_fram_fil[color1] != 0)\\\n",
    "                                           & (starcatalog_fram_fil[color2] != 0)\\\n",
    "                                           & (starcatalog_fram_fil[color1] != -99) \\\n",
    "                                           & (starcatalog_fram_fil[color2] != -99))\\\n",
    "                                         &((starcatalog_fram_fil[err_c1] <=0.03)\\\n",
    "                                          & (starcatalog_fram_fil[err_c2] <=0.05))]\n",
    "### additional judgement\n",
    "\n",
    "# starcatalog_fram_fil=starcatalog_fram_fil[(starcatalog_fram_fil[err_c1] <=0.2)\\\n",
    "#                                            &(starcatalog_fram_fil[err_c2] <=0.05)]\n",
    "\n",
    "print(starcatalog_fram_fil.iloc[:,0].size)"
   ]
  },
  {
   "cell_type": "code",
   "execution_count": 86,
   "metadata": {
    "collapsed": true
   },
   "outputs": [],
   "source": [
    "### draw the png of errTeff \n",
    "\n",
    "# plt.figure(3)\n",
    "# plt.xlabel('$T_\\mathrm{eff}(K)$',fontsize=14)\n",
    "# plt.ylabel('$σ_\\mathrm{Teff}$',fontsize=14)\n",
    "# plt.scatter(starcatalog_fram_fil[teff],starcatalog_fram_fil[err_teff],\\\n",
    "#             c='steelblue',s=8, edgecolors='None',alpha=0.2,label='$σ_\\mathrm{Teff}$(LAMOST)')\n",
    "# plt.legend(loc='lower right')\n",
    "# plt.xticks(fontsize=12)\n",
    "# plt.yticks(fontsize=12)\n",
    "# plt.savefig(savename3,dpi=200)  \n",
    "# plt.show()\n",
    "\n",
    "### "
   ]
  },
  {
   "cell_type": "code",
   "execution_count": 87,
   "metadata": {},
   "outputs": [
    {
     "name": "stdout",
     "output_type": "stream",
     "text": [
      "        col1        TEFF   ERR_TEFF          RA        DEC      LOGG  \\\n",
      "224      335  11096.5420  608.41240   56.886091  55.143044  3.838928   \n",
      "458      598  14425.9830  628.42676   51.980583  55.172440  3.748644   \n",
      "652      802  14857.9850  585.44684   51.276934  57.595299  3.958282   \n",
      "791      980  13435.5625  599.71700   61.126987  29.545055  3.859636   \n",
      "1363    1592   8047.3765  460.67136   91.140970  30.494438  4.144221   \n",
      "2774    3169  19039.9650  592.30890  115.966770  27.210983  3.589174   \n",
      "3715    4163   9475.9040  557.18414   47.373877  52.712032  3.647403   \n",
      "3831    4279  12323.0220  525.82520   46.790638  53.861801  3.816897   \n",
      "4044    4509   8288.3040  459.46368   29.594820  57.908844  4.440061   \n",
      "4561    5046  17144.4980  515.73126   44.967259  54.253883  3.857065   \n",
      "4709    5202   8129.5317  377.61798   43.563254  56.044823  3.785092   \n",
      "5525    6228  17768.8630  622.45374  138.968321  29.556669  3.602798   \n",
      "5623    6348  12636.4840  526.03030  341.787144  55.837582  3.681868   \n",
      "5657    6384  19072.4160  528.03530  341.055435  56.600761  3.589174   \n",
      "5719    6452  19157.3240  527.99475  339.930070  57.694553  3.589174   \n",
      "5743    6477   8604.8890  389.40750  339.126853  58.604523  4.187845   \n",
      "5795    6535   8098.3887  386.64220  341.898926  57.655807  3.806133   \n",
      "5845    6590  14065.0600  525.44990  339.986006  57.329891  3.720316   \n",
      "5865    6610  14505.0190  525.44990  341.216532  57.448750  3.720316   \n",
      "5886    6632   9680.6660  516.61550  343.951747  57.272987  3.658582   \n",
      "5891    6637  12055.7030  584.11444  344.275453  58.043720  3.991069   \n",
      "5909    6656  14205.3940  522.57556  344.704527  57.621716  3.714616   \n",
      "5913    6660   8296.4250  430.13180  344.851800  57.580708  4.087563   \n",
      "5930    6678  19148.8960  603.20795  342.681857  56.413040  3.589174   \n",
      "5964    6716   8331.8350  436.08084  343.323140  56.154640  4.425810   \n",
      "6023    6783   8739.5960  421.47333  342.682881  57.742542  3.664468   \n",
      "6092    6864   8962.1480  418.84628  337.439537  57.447063  4.499667   \n",
      "6096    6868  12283.3570  528.34960  336.776843  57.491993  3.816897   \n",
      "6134    6910  12307.3100  525.82520  342.646497  60.282516  3.816897   \n",
      "6169    6946  11147.0280  515.48420  344.387214  59.465710  3.662342   \n",
      "...      ...         ...        ...         ...        ...       ...   \n",
      "251305  4284  20460.4770  517.35693   99.437547   0.752590  3.740306   \n",
      "251316  4307  21266.5960  517.20400   68.357298  15.960933  3.812556   \n",
      "251326  4335  22547.6740  528.76605  347.917482  57.259554  3.752531   \n",
      "251339  4381  22929.0300  516.42944   19.637755  58.375135  3.857007   \n",
      "251349  4395  22792.0740  516.39500   38.675015  59.507441  3.857007   \n",
      "251351  4397  21447.6620  517.20400   39.750657  61.237695  3.812556   \n",
      "251356  4403  22458.7320  528.74070   42.250807  62.535328  3.752531   \n",
      "251363  4410  21261.4600  518.07623   45.749409  61.694004  3.812556   \n",
      "251374  4421  21352.7660  520.74335   38.297730  61.450859  3.812556   \n",
      "251380  4427  22582.1620  517.07764   43.413172  61.730078  3.852343   \n",
      "251388  4439  21958.9570  551.62690  104.258737   9.270398  3.727426   \n",
      "251392  4450  22932.6390  515.69710   36.009300  57.353900  3.857007   \n",
      "251399  4457  21495.0700  517.20400   35.945684  57.636774  3.812556   \n",
      "251402  4460  21366.5250  517.20400   37.558557  57.675086  3.812556   \n",
      "251403  4461  22104.2710  533.40094   38.928466  56.739194  3.716296   \n",
      "251404  4462  21423.9160  518.84470   39.181076  56.706987  3.729049   \n",
      "251413  4473  20250.0840  519.91650   33.079893  57.940881  3.781025   \n",
      "251415  4477  22944.9750  519.71716   91.188740  23.402000  3.943712   \n",
      "251431  4526  22097.5920  516.33093   85.912383  28.244617  3.816145   \n",
      "251434  4531  20189.8280  519.91650   83.326006  29.376095  3.781025   \n",
      "251435  4532  21128.8050  529.33610   85.372651  30.181059  3.812556   \n",
      "251438  4550  22790.0370  528.73600   67.692020  55.945904  3.752531   \n",
      "251446  4590  21993.9120  555.43475   92.133840  21.610920  3.648789   \n",
      "251448  4593  22825.5080  603.53150  132.572697  17.852342  3.752531   \n",
      "251449  4594  21183.0800  517.20400   93.009069  21.288215  3.812556   \n",
      "251464  4634  21940.8440  565.74725   94.056205  22.763550  3.727426   \n",
      "251467  4642  22508.2560  528.75580   94.923153  23.289703  3.752531   \n",
      "251473  4666  22809.1560  528.76240  102.955337  13.920172  3.752531   \n",
      "251491  4745  21483.4120  590.01807  255.924223   2.981815  3.727426   \n",
      "251503  4765  22318.6130  526.87350  281.318952  -4.788754  3.742235   \n",
      "\n",
      "        ERR_LOGG       FEH   ERR_FEH             2MASS    ...      e_Jmag_x  \\\n",
      "224     0.222429  0.237404  0.543012  03473266+5508349    ...         0.018   \n",
      "458     0.228583  0.134907  0.553394  03275534+5510207    ...         0.021   \n",
      "652     0.236530 -0.489909  0.587931  03250646+5735429    ...         0.020   \n",
      "791     0.233700 -0.256597  0.574680  04043046+2932422    ...         0.019   \n",
      "1363    0.209752 -0.026783  0.272587  06043382+3029400    ...         0.025   \n",
      "2774    0.221425  0.187472  0.544203  07435202+2712395    ...         0.026   \n",
      "3715    0.236804 -0.115942  0.349270  03092973+5242432    ...         0.018   \n",
      "3831    0.214453  0.127140  0.538955  03070971+5351426    ...         0.023   \n",
      "4044    0.214600 -0.162232  0.330255  01582239+5754318    ...         0.021   \n",
      "4561    0.216558 -0.149604  0.545306  02595213+5415139    ...         0.022   \n",
      "4709    0.140548 -0.429588  0.196632  02541518+5602413    ...         0.023   \n",
      "5525    0.228890  0.090563  0.555084  09155240+2933240    ...         0.028   \n",
      "5623    0.214404  0.132373  0.538856  22470892+5550152    ...         0.022   \n",
      "5657    0.213920  0.182841  0.537962  22441330+5636027    ...         0.019   \n",
      "5719    0.213929  0.181832  0.537979  22394321+5741404    ...         0.021   \n",
      "5743    0.143890 -0.380365  0.224198  22363044+5836163    ...         0.019   \n",
      "5795    0.143354  0.010236  0.296956  22473572+5739207    ...         0.019   \n",
      "5845    0.214542  0.117527  0.539138  22395663+5719474    ...         0.023   \n",
      "5865    0.214542  0.117527  0.539138  22445196+5726555    ...         0.026   \n",
      "5886    0.352823  0.456199  0.488004  22554841+5716227    ...         0.026   \n",
      "5891    0.228605 -0.172780  0.563239  22570610+5802372    ...         0.030   \n",
      "5909    0.215204  0.042324  0.540688  22584910+5737182    ...         0.021   \n",
      "5913    0.148522 -0.131990  0.275716  22592442+5734505    ...         0.023   \n",
      "5930    0.221688  0.237357  0.542324  22504364+5624469    ...         0.022   \n",
      "5964    0.153663 -0.202111  0.276448  22531755+5609167    ...         0.027   \n",
      "6023    0.185330 -0.221419  0.366400  22504388+5744331    ...         0.021   \n",
      "6092    0.175136  0.155203  0.344540  22294549+5726494    ...         0.021   \n",
      "6096    0.214683  0.127140  0.539123  22270641+5729309    ...         0.026   \n",
      "6134    0.214453  0.127140  0.538955  22503514+6016570    ...         0.023   \n",
      "6169    0.216599 -0.156920  0.545495  22573292+5927564    ...         0.030   \n",
      "...          ...       ...       ...               ...    ...           ...   \n",
      "251305  0.216273 -0.102189  0.544100  06374506+0045070    ...         0.022   \n",
      "251316  0.216301 -0.106597  0.544211  04332575+1557394    ...         0.019   \n",
      "251326  0.213741  0.200931  0.537668  23114004+5715344    ...         0.027   \n",
      "251339  0.216439 -0.129089  0.544781  01183306+5822304    ...         0.023   \n",
      "251349  0.216445 -0.130094  0.544806  02344199+5930268    ...         0.026   \n",
      "251351  0.216301 -0.106597  0.544211  02390016+6114156    ...         0.022   \n",
      "251356  0.213747  0.200306  0.537678  02490019+6232072    ...         0.024   \n",
      "251363  0.216139 -0.081597  0.543587  03025985+6141384    ...         0.021   \n",
      "251374  0.216748 -0.106597  0.544744  02331145+6127031    ...         0.022   \n",
      "251380  0.216324 -0.110248  0.544303  02533918+6143482    ...         0.027   \n",
      "251388  0.222905 -0.195276  0.555275  06570199+0916134    ...         0.021   \n",
      "251392  0.216564 -0.150614  0.545332  02240223+5721141    ...         0.024   \n",
      "251399  0.216301 -0.106597  0.544211  02234695+5738123    ...         0.024   \n",
      "251402  0.216301 -0.106597  0.544211  02301405+5740303    ...         0.023   \n",
      "251403  0.213103  0.272402  0.525080  02354283+5644211    ...         0.020   \n",
      "251404  0.215990 -0.059846  0.543053  02364346+5642251    ...         0.024   \n",
      "251413  0.215775 -0.029930  0.542335  02121917+5756272    ...         0.030   \n",
      "251415  0.215815 -0.035457  0.542466  06044529+2324072    ...         0.022   \n",
      "251431  0.216456 -0.131968  0.544854  05433904+2814381    ...         0.022   \n",
      "251434  0.215775 -0.029930  0.542335  05331835+2922319    ...         0.029   \n",
      "251435  0.217929 -0.106597  0.546206  05412943+3010517    ...         0.021   \n",
      "251438  0.213748  0.200191  0.537680  04304612+5556480    ...         0.029   \n",
      "251446  0.210980  0.529348  0.447503  06083212+2136392    ...         0.021   \n",
      "251448  0.222621  0.204162  0.545050  08501744+1751084    ...         0.021   \n",
      "251449  0.216301 -0.106597  0.544211  06120217+2117176    ...         0.021   \n",
      "251464  0.225463 -0.192184  0.559056  06161333+2245487    ...         0.023   \n",
      "251467  0.213743  0.200679  0.537672  06194164+2317202    ...         0.026   \n",
      "251473  0.213741  0.200841  0.537670  06514936+1355120    ...         0.021   \n",
      "251491  0.229113 -0.144116  0.563018  17034181+0258545    ...         0.021   \n",
      "251503  0.214202  0.153750  0.538464  18451655-0447195    ...         0.020   \n",
      "\n",
      "        e_Hmag_x  e_Kmag_x                 cntr  cc_flags  ext_flg  var_flg  \\\n",
      "224        0.017     0.018   561154501241047295      0000        0     112n   \n",
      "458        0.024     0.026   510154501241044946      0000        1     0045   \n",
      "652        0.020     0.020   526157501241031177      0000        0     0111   \n",
      "791        0.033     0.016   608130201241001679      0000        0     111n   \n",
      "1363       0.033     0.020   904130201241041382      0hhh        3     0129   \n",
      "2774       0.026     0.024  1166127201241021996      0000        0     0011   \n",
      "3715       0.017     0.027   468153001241017945      0000        0     0000   \n",
      "3831       0.021     0.018   459154501241000012      dd00        0     100n   \n",
      "4044       0.030     0.018   304157501241037425      00o0        0     111n   \n",
      "4561       0.022     0.019   459154501241011405      0000        0     000n   \n",
      "4709       0.021     0.018   426156001241022841      hh00        0     110n   \n",
      "5525       0.027     0.027  1391130201241002910      dd00        0     0000   \n",
      "5623       0.032     0.023  3413156001241019895      0000        0     001n   \n",
      "5657       0.027     0.020  3413156001241053829      0000        0     0110   \n",
      "5719       0.030     0.022  3406157501241030904      dd00        0     1121   \n",
      "5743       0.028     0.021  3398159001241013973      hhh0        0     011n   \n",
      "5795       0.029     0.026  3406157501241023992      0000        0     111n   \n",
      "5845       0.028     0.022  3406157501241015219      hhdp        0     111n   \n",
      "5865       0.028     0.022  3406157501241026455      0h00        0     111n   \n",
      "5886       0.032     0.018  3433157501241018870      0000        0     111n   \n",
      "5891       0.046     0.018  3433157501241046470      0000        0     110n   \n",
      "5909       0.042     0.032  3433157501241023645      0000        0     111n   \n",
      "5913       0.025     0.022  3461157501241031284      hh00        0     001n   \n",
      "5930       0.028     0.022  3439156001241035189      0000        0     0111   \n",
      "5964       0.032     0.021  3439156001241030593      dd00        0     111n   \n",
      "6023       0.031     0.019  3433157501241036996      0000        0     000n   \n",
      "6092       0.027     0.021  3378157501241031916      0000        0     000n   \n",
      "6096       0.044     0.021  3378157501241034429      0h00        0     nnnn   \n",
      "6134       0.051     0.022  3420160501241017991      hhdh        1     0199   \n",
      "6169       0.034     0.018  3456159001241030456      00dD        1     119n   \n",
      "...          ...       ...                  ...       ...      ...      ...   \n",
      "251305     0.026     0.021   998100001241052929      0000        1     0069   \n",
      "251316     0.024     0.021   675116601241000005      0000        0     00nn   \n",
      "251326     0.042     0.018  3489157501241011445      dd00        1     0118   \n",
      "251339     0.033     0.023   201159001241006922      0000        0     1100   \n",
      "251349     0.021     0.024   374159001241044950      0000        0     111n   \n",
      "251351     0.021     0.014   390160501241041133      0000        1     0099   \n",
      "251356     0.030     0.023   410162001241040250      0000        1     0112   \n",
      "251363     0.031     0.022   442162001241020028      0000        1     0099   \n",
      "251374     0.020     0.016   378162001241001445      0000        1     0192   \n",
      "251380     0.044     0.024   442162001241013119      0000        0     110n   \n",
      "251388     0.022     0.019  1041109001241036696      0000        0     000n   \n",
      "251392     0.046     0.023   359157501241016033      0000        0     1210   \n",
      "251399     0.030     0.020   359157501241028139      0000        0     110n   \n",
      "251402     0.027     0.025   387157501241033173      0000        0     900n   \n",
      "251403     0.022     0.017   399156001241055764      0000        0     001n   \n",
      "251404     0.024     0.018   399156001241053282      0000        0     002n   \n",
      "251413     0.030     0.021   332157501241038561      0000        0     111n   \n",
      "251415     0.023     0.018   912122701241050072      d000        0     011n   \n",
      "251431     0.019     0.017   857128701241002202      0000        0     0111   \n",
      "251434     0.017     0.020   840128701241052910      h000        0     1111   \n",
      "251435     0.020     0.019   852130201241027082      0000        0     0011   \n",
      "251438     0.029     0.024   666156001241022627      0000        0     111n   \n",
      "251446     0.019     0.017   920121201241032127      00hh        1     3199   \n",
      "251448     0.018     0.020  1332118101241007331      0000        0     111n   \n",
      "251449     0.019     0.018   936121201241030907      0000        0     0010   \n",
      "251464     0.069     0.024   944122701241024974      0000        0     0111   \n",
      "251467     0.030     0.023   944122701241039879      0000        0     111n   \n",
      "251473     0.017     0.015  1024113601241039700      0000        0     022n   \n",
      "251491     0.034     0.023  2556103001241022125      hh00        0     011n   \n",
      "251503     0.033     0.023  2810004601241020067      h0ho        0     313n   \n",
      "\n",
      "        ph_qual  r_2mass  angDist_x  \n",
      "224        AAAB    0.077   0.066796  \n",
      "458        AAAA    0.547   0.580134  \n",
      "652        AAAA    0.100   0.035824  \n",
      "791        AAAB    0.050   0.083012  \n",
      "1363       AAAA    0.114   0.126175  \n",
      "2774       AAAA    0.050   0.019358  \n",
      "3715       AAAA    0.152   0.050797  \n",
      "3831       AAAU    0.088   0.336888  \n",
      "4044       AAAC    0.049   2.923772  \n",
      "4561       AAAB    0.008   0.074358  \n",
      "4709       AAAB    0.031   0.017076  \n",
      "5525       AAAA    0.033   0.100746  \n",
      "5623       AAAB    0.088   0.031283  \n",
      "5657       AAAA    0.022   0.047973  \n",
      "5719       AAAA    0.105   0.087481  \n",
      "5743       AAAC    0.155   0.114402  \n",
      "5795       AAAB    0.125   0.103375  \n",
      "5845       AAAB    0.153   0.043959  \n",
      "5865       AAAB    0.024   0.023752  \n",
      "5886       AAAU    0.056   0.014705  \n",
      "5891       AAAB    0.156   0.030462  \n",
      "5909       AAAB    0.383   0.311656  \n",
      "5913       AAAB    0.033   0.012907  \n",
      "5930       AAAB    0.053   0.046194  \n",
      "5964       AAAB    0.092   0.136241  \n",
      "6023       AAAB    0.017   0.046109  \n",
      "6092       AAAC    0.071   0.099560  \n",
      "6096       AAAB    0.345   0.100629  \n",
      "6134       AAAA    0.030   0.049965  \n",
      "6169       AAAA    0.336   0.403073  \n",
      "...         ...      ...        ...  \n",
      "251305     AAAA    0.060   2.350370  \n",
      "251316     AAAB    0.141   0.057662  \n",
      "251326     AAAA    0.140   1.086647  \n",
      "251339     AAAA    0.096   0.085855  \n",
      "251349     AAAB    0.073   0.053821  \n",
      "251351     AAAA    0.027   0.044131  \n",
      "251356     AAAA    0.064   0.077454  \n",
      "251363     AAAA    0.245   0.271144  \n",
      "251374     AAAA    0.072   0.064012  \n",
      "251380     AAAB    0.157   0.026259  \n",
      "251388     AAAC    0.052   1.496663  \n",
      "251392     AAAA    0.069   0.106208  \n",
      "251399     AAAC    0.093   0.027126  \n",
      "251402     AAAB    0.053   0.053618  \n",
      "251403     AAAB    0.035   0.032818  \n",
      "251404     AAAB    0.040   0.028521  \n",
      "251413     AAAC    0.064   0.053023  \n",
      "251415     AAAB    0.054   0.059057  \n",
      "251431     AAAA    0.080   2.733614  \n",
      "251434     AAAA    0.112   2.360914  \n",
      "251435     AAAA    0.136   0.033379  \n",
      "251438     AAAB    0.159   2.864419  \n",
      "251446     AAAA    0.494   0.472740  \n",
      "251448     AAAB    0.116   0.122066  \n",
      "251449     AAAB    0.084   0.028200  \n",
      "251464     AAAA    0.069   2.213427  \n",
      "251467     AAAB    0.077   2.941336  \n",
      "251473     AAAB    0.046   1.399425  \n",
      "251491     AAAB    0.014   0.078427  \n",
      "251503     AAAB    0.105   0.097048  \n",
      "\n",
      "[4261 rows x 53 columns]\n"
     ]
    }
   ],
   "source": [
    "# cut source g-r:0.440\n",
    "origin = starcatalog_fram_fil\n",
    "print(origin)\n",
    "# starcatalog_fram_fil=starcatalog_fram_fil[(starcatalog_fram_fil[color1]-starcatalog_fram_fil[color2]>= -0.440)\\\n",
    "#                                          & (starcatalog_fram_fil[color1]>=12)]"
   ]
  },
  {
   "cell_type": "markdown",
   "metadata": {},
   "source": [
    "## 有效温度 Teff 的限制（Input:）"
   ]
  },
  {
   "cell_type": "code",
   "execution_count": 88,
   "metadata": {},
   "outputs": [
    {
     "name": "stdout",
     "output_type": "stream",
     "text": [
      "24700.084\n"
     ]
    }
   ],
   "source": [
    "#filt the good one\n",
    "#apogee_tbl_fil = apogee_tbl[np.argwhere(np.logical_and(apogee_tbl['teff'] > 0, apogee_tbl['logg'] > -3))]\n",
    "#apogee_tbl_fil = apogee_tbl_fil[np.argwhere(np.logical_and(apogee_tbl_fil['j'].flatten() > -1, \\\n",
    "#                                                           apogee_tbl_fil['h'].flatten() > -1))]\n",
    "#USE goodOB \n",
    "\n",
    "\n",
    "starcatalog_fram_fil=starcatalog_fram_fil[(((starcatalog_fram_fil[err_teff] != 0 )\\\n",
    "                                          & (starcatalog_fram_fil[teff]>= 10000))\\\n",
    "                                          #& (starcatalog_fram_fil[teff]<= 16000))\n",
    "                                          & (((starcatalog_fram_fil[err_teff]< 630)\\\n",
    "                                          &(starcatalog_fram_fil[teff]> 9000))\\\n",
    "                                          |((starcatalog_fram_fil[err_teff]< 500)\\\n",
    "                                          & (starcatalog_fram_fil[teff]<= 9000))))]\n",
    "print(np.max(starcatalog_fram_fil[teff]))"
   ]
  },
  {
   "cell_type": "markdown",
   "metadata": {},
   "source": [
    "## 蓝色边缘的比例，bin最小值的选取（Input：）"
   ]
  },
  {
   "cell_type": "code",
   "execution_count": 89,
   "metadata": {
    "collapsed": true
   },
   "outputs": [],
   "source": [
    "# Determine the input numbers.\n",
    "\n",
    "# Bin width, usually 50 (for more scatter, try 1000 or other figures)\n",
    "#bin_width = 1000\n",
    "\n",
    "# Ratio of the bluest edge, usually 5%\n",
    "rat = 5\n",
    "\n",
    "# Low end criteria. If the number in a bin is lower than this number then neglect.  \n",
    "low_crit = 50"
   ]
  },
  {
   "cell_type": "code",
   "execution_count": 90,
   "metadata": {
    "collapsed": true
   },
   "outputs": [],
   "source": [
    "# input the data of Bessell. M.S. & Brett. J.M. 1988\n",
    "# BBFrame is the dataframe of the ic data \n",
    "\n",
    "BBFrame=pd.DataFrame({'J-H':[-0.09,-0.08,-0.07,-0.06,-0.05,-0.03,-0.03,-0.01,0.0,0.02,0.06],\\\n",
    "                      'Teff':[22300,19000,17200,15400,14100,13000,11800,10700,9480,8810,8160]})\n"
   ]
  },
  {
   "cell_type": "markdown",
   "metadata": {},
   "source": [
    "## 比较星表的数据选取（Input:）"
   ]
  },
  {
   "cell_type": "code",
   "execution_count": 91,
   "metadata": {
    "collapsed": true
   },
   "outputs": [],
   "source": [
    "# parsec point\n",
    "parsecframe = parsec_fram[((parsec_fram['Age'] == 3980000)\\\n",
    "                           &(parsec_fram['logTe'] <= 4.361)\\\n",
    "                           &(parsec_fram['logTe'] >= 4.000))]\n",
    "parsec_teff =10**parsecframe['logTe'] \n",
    "parsec_color = parsecframe[color1] - parsecframe[color2]\n",
    "#print(parsecframe.values)\n",
    "                                         "
   ]
  },
  {
   "cell_type": "code",
   "execution_count": 92,
   "metadata": {
    "collapsed": true
   },
   "outputs": [],
   "source": [
    "# Find the start point and bin number of Teff. \n",
    "# Start point: the first number divisible by bin_width smaller than min(teff)\n",
    "# Bin number: Start from start point and cover all the teff range.\n",
    "\n",
    "\n",
    "#teff_start = min(apogee_tbl_fil['teff']) - min(apogee_tbl_fil['teff']) % (bin_width/2)\n",
    "#bin_number = math.ceil((max(apogee_tbl_fil['teff']) - teff_start) / bin_width)\n",
    "\n",
    "#teff_start = min(starcatalog_fram_fil[teff])-min(starcatalog_fram_fil[teff])%(bin_width / 2)\n",
    "\n",
    "teff_start= 10000\n",
    "\n",
    "#bin_number = math.ceil((max(starcatalog_fram_fil[teff])-teff_start) / bin_width)\n"
   ]
  },
  {
   "cell_type": "code",
   "execution_count": 93,
   "metadata": {
    "collapsed": true
   },
   "outputs": [],
   "source": [
    "#filt BBFrame\n",
    "BBFrame_fil=BBFrame[BBFrame['Teff'] >= teff_start]"
   ]
  },
  {
   "cell_type": "markdown",
   "metadata": {},
   "source": [
    "# 内禀色指数的计算（蓝色边缘方法），同时取出某一部分用于SFD判断"
   ]
  },
  {
   "cell_type": "markdown",
   "metadata": {},
   "source": [
    "## DEF"
   ]
  },
  {
   "cell_type": "code",
   "execution_count": 94,
   "metadata": {
    "collapsed": true
   },
   "outputs": [],
   "source": [
    "def data(teff_start,ratio,low_crit,ratio_SFD):\n",
    "    \n",
    "    start_time = time.time()\n",
    "    int_teff = []\n",
    "    int_color = []\n",
    "    bin_int_color = []\n",
    "    \n",
    "    SFD_RA = []; SFD_DEC = []; SFD_TEFF = []; SFD_color1 = []; SFD_color2 = [];\n",
    "    \n",
    "    data_final = pd.DataFrame(columns=[teff,color1,color2])\n",
    "    teff_judge = teff_start\n",
    "    while teff_judge < np.max(starcatalog_fram_fil[teff]) - 1000:\n",
    "       \n",
    "        if teff_judge <9000:\n",
    "            bin_width = 100\n",
    "        else:\n",
    "            bin_width = 630\n",
    "\n",
    "        bin_tbl =starcatalog_fram_fil[np.logical_and(starcatalog_fram_fil[teff] > teff_judge, \\\n",
    "                                                starcatalog_fram_fil[teff] < teff_judge+bin_width)]\n",
    "\n",
    "        #print(teff_judge)\n",
    "       \n",
    "        \n",
    "        if len(bin_tbl) < low_crit:\n",
    "            teff_judge = teff_judge+bin_width\n",
    "            continue\n",
    "            \n",
    "        source_num = 0\n",
    "        #print(len(bin_tbl))\n",
    "\n",
    "        while source_num != len(bin_tbl):\n",
    "            source_num = len(bin_tbl)\n",
    "\n",
    "        data_final = data_final.append(bin_tbl[[teff,color1,color2]])\n",
    "        #print(len(bin_tbl))\n",
    "\n",
    "        int_teff.append(float(teff_judge+bin_width/2))\n",
    "        bin_tbl['color'] = bin_tbl[color1]-bin_tbl[color2]\n",
    "        bin_sort = bin_tbl.sort_index(axis = 0,ascending = True,by = 'color')\n",
    "        \n",
    "        # 每个bin中前ratio_SFD的部分用于取得ebv\n",
    "        color_SFD = bin_sort['color'].values[:math.ceil(len(bin_tbl)*ratio_SFD/100)]\n",
    "        bin_tbl_SFD = bin_sort[(bin_sort['color']<=np.max(color_SFD))]\n",
    "        \n",
    "        for ppp in range(len(bin_tbl_SFD)):\n",
    "            SFD_RA.append(bin_tbl_SFD['RA'].values[ppp])\n",
    "            SFD_DEC.append(bin_tbl_SFD['DEC'].values[ppp])\n",
    "            SFD_TEFF.append(bin_tbl_SFD['TEFF'].values[ppp])\n",
    "            SFD_color1.append(bin_tbl_SFD[color1].values[ppp])\n",
    "            SFD_color2.append(bin_tbl_SFD[color2].values[ppp])\n",
    "        \n",
    "        # 每个bin中前ratio(usually 5%)的部分 用于取得内禀色指数int_color\n",
    "        color5 = bin_sort['color'].values[:math.ceil(len(bin_tbl)*ratio/100)]\n",
    "        bin_tbl_5 = bin_sort[(bin_sort['color']<=np.max(color5))]\n",
    "        \n",
    "        if len(color5) != 0:\n",
    "            bin_mean = np.median(color5)\n",
    "            bin_sigma = np.std(color5)\n",
    "            bin_int_color = color5\\\n",
    "            [((color5<= bin_mean+3*bin_sigma)\\\n",
    "            & (color5>= bin_mean-3*bin_sigma))]\n",
    "\n",
    "            int_color.append(np.median(bin_int_color))\n",
    "            \n",
    "        teff_judge = teff_judge+bin_width\n",
    "        \n",
    "    SFD_tbl_final = pd.DataFrame({'TEFF':np.array(SFD_TEFF),'RA':np.array(SFD_RA),\\\n",
    "                                  'DEC':np.array(SFD_DEC),color1:np.array(SFD_color1),\\\n",
    "                                 color2:np.array(SFD_color2)})\n",
    "    \n",
    "    print(time.time() - start_time)\n",
    "    print(int_teff,int_color)\n",
    "#     print(bin_mean)\n",
    "#     print(data_final.iloc[:,0].size)\n",
    "    return int_teff,int_color,data_final,SFD_tbl_final"
   ]
  },
  {
   "cell_type": "markdown",
   "metadata": {},
   "source": [
    "## 运算，拟合，SFD的准备（Input:)"
   ]
  },
  {
   "cell_type": "code",
   "execution_count": 107,
   "metadata": {
    "scrolled": true
   },
   "outputs": [
    {
     "name": "stderr",
     "output_type": "stream",
     "text": [
      "/Users/SY/anaconda/lib/python3.6/site-packages/ipykernel_launcher.py:38: SettingWithCopyWarning: \n",
      "A value is trying to be set on a copy of a slice from a DataFrame.\n",
      "Try using .loc[row_indexer,col_indexer] = value instead\n",
      "\n",
      "See the caveats in the documentation: http://pandas.pydata.org/pandas-docs/stable/indexing.html#indexing-view-versus-copy\n",
      "/Users/SY/anaconda/lib/python3.6/site-packages/ipykernel_launcher.py:39: FutureWarning: by argument to sort_index is deprecated, pls use .sort_values(by=...)\n"
     ]
    },
    {
     "name": "stdout",
     "output_type": "stream",
     "text": [
      "0.9571139812469482\n",
      "[10315.0, 10945.0, 11575.0, 12205.0, 12835.0, 13465.0, 14095.0, 14725.0, 15355.0, 19135.0, 21655.0, 22285.0, 22915.0] [-0.037999999999999812, -0.092999999999999972, -0.073999999999999844, -0.1120000000000001, -0.046000000000001151, -0.03700000000000081, 0.035999999999999588, -0.088999999999998636, -0.077500000000000568, 0.046000000000000263, 0.025999999999999801, 0.26049999999999951, -0.02000000000000135]\n"
     ]
    }
   ],
   "source": [
    "# SFD ratio\n",
    "\n",
    "ratio_SFD = 20\n",
    "\n",
    "# fitting curve\n",
    "int_teff,int_color,data_final,SFD_tbl_ratio = data(teff_start,rat,low_crit,ratio_SFD)\n",
    "\n",
    "fc = np.polyfit(int_teff, int_color, 3)#用3次多项式拟合\n",
    "fitcurve = np.poly1d(fc)\n",
    "# print(fitcurve) #在屏幕上打印拟合多项式\n",
    "\n",
    "colorvals=fitcurve(int_teff)\n",
    "\n",
    "# print(len(colorvals),len(int_teff))\n",
    "#print(len(bin_tbl_final[teff].values))\n",
    "\n",
    "# SFD_tbl_ratio[teff]\n"
   ]
  },
  {
   "cell_type": "markdown",
   "metadata": {},
   "source": [
    "# SFD的使用：—— 将使用到新的包\n",
    "\n",
    "1. 选取SFD中Ebv小于某一个值的认为是零消光源（Lamost)——Thins page\n",
    "2. 用目前的色指数减去 Ebv 给出的消光值，然后去归算内禀色指数 - GOSSS"
   ]
  },
  {
   "cell_type": "code",
   "execution_count": 108,
   "metadata": {
    "scrolled": true
   },
   "outputs": [
    {
     "name": "stdout",
     "output_type": "stream",
     "text": [
      "382\n",
      "24\n",
      "25\n",
      "27\n",
      "33\n",
      "56\n",
      "93\n",
      "98\n",
      "156\n",
      "221\n",
      "222\n",
      "264\n",
      "49.930294036865234\n"
     ]
    }
   ],
   "source": [
    "## use SFD dustmap\n",
    "from __future__ import print_function\n",
    "from astropy.coordinates import SkyCoord\n",
    "from astropy import units as u\n",
    "from dustmaps.sfd import SFDQuery\n",
    "\n",
    "sfd = SFDQuery()\n",
    "\n",
    "## ebv前的系数需要去文献中拿到。目前使用的是r和i的\n",
    "# Const1 = 0.709 #J #3.303 #g #2.285 #r \n",
    "# Const2 = 0.449 #H #2.285 #r #1.698 #i\n",
    "\n",
    "time_start = time.time()\n",
    "SFD_catalog_color = []\n",
    "SFD_catalog_teff = []\n",
    "lens = len(SFD_tbl_ratio)\n",
    "\n",
    "ebv_final = []\n",
    "\n",
    "# 判断ebv < 0.05，就拿入下一个数组，最后一起画在图上\n",
    "print(lens)\n",
    "for i in range(lens):\n",
    "    coords = SkyCoord(SFD_tbl_ratio['RA'].values[i],SFD_tbl_ratio['DEC'].values[i],\\\n",
    "                      frame = 'icrs',unit = 'deg')\n",
    "    ebv = sfd(coords)\n",
    "    ebv_final.append(ebv)\n",
    "    \n",
    "#     A_c1 = Const1*ebv;\n",
    "#     A_c2 = Const2*ebv;\n",
    "\n",
    "    if ebv < 0.05:\n",
    "        SFD_colorindex = SFD_tbl_ratio[color1].values[i]\\\n",
    "        - (SFD_tbl_ratio[color2].values[i])\n",
    "        SFD_catalog_color.append(SFD_colorindex)\n",
    "    \n",
    "        SFD_catalog_teff.append(SFD_tbl_ratio[teff].values[i])\n",
    "        print(i)\n",
    "#     print(i)\n",
    "\n",
    "print(time.time() - time_start)"
   ]
  },
  {
   "cell_type": "markdown",
   "metadata": {},
   "source": [
    "# 图片输出"
   ]
  },
  {
   "cell_type": "markdown",
   "metadata": {},
   "source": [
    "## 图片保存格式（Input:)"
   ]
  },
  {
   "cell_type": "code",
   "execution_count": 109,
   "metadata": {
    "collapsed": true
   },
   "outputs": [],
   "source": [
    "### figures & Savename\n",
    "cc1 = 'J'\n",
    "cc2 = 'W3'\n",
    "\n",
    "save = data_dir + 'pictures/'\n",
    "# save = '/Users/SY/Desktop/obic/picture/'\n",
    "\n",
    "i = datetime.datetime.now()\n",
    "date_now = \"%s_%s_%s_\" % (i.year, i.month, i.day) \n",
    "ylabel = '$%s - %s$'%(cc1,cc2) \n",
    "savename1 = save + date_now + cc1 + cc2 + 'logg3'+'.png'\n",
    "savename2 = save + date_now + cc1 + '_HR_' + cc2 +'.png'\n",
    "savename3 = save + date_now + 'errteff.png'\n",
    "\n",
    "savename5 = save + date_now + cc1 + cc2 + '_logg3_SFD'+'5%'+'.png'\n"
   ]
  },
  {
   "cell_type": "code",
   "execution_count": 110,
   "metadata": {},
   "outputs": [
    {
     "name": "stdout",
     "output_type": "stream",
     "text": [
      "            3             2\n",
      "-8.731e-13 x + 3.831e-08 x - 0.0005518 x + 2.494\n"
     ]
    }
   ],
   "source": [
    "# plt hist of ebv\n",
    "\n",
    "# plt.hist(ebv_final,1000)\n",
    "# plt.savefig(save+'ebv.png',dpi = 200)\n",
    "# plt.xlim(0,2)\n",
    "# plt.show()\n",
    "\n",
    "# 拟合SFD\n",
    "\n",
    "fcc = np.polyfit(SFD_catalog_teff, SFD_catalog_color, 3)#用3次多项式拟合 SFD\n",
    "fitcurve = np.poly1d(fcc)\n",
    "print(fitcurve) #在屏幕上打印拟合多项式\n",
    "\n",
    "SFD_vals = fitcurve(SFD_catalog_teff)\n",
    "\n"
   ]
  },
  {
   "cell_type": "markdown",
   "metadata": {},
   "source": [
    "## 绘图所需的具体量（Alternative)"
   ]
  },
  {
   "cell_type": "code",
   "execution_count": 111,
   "metadata": {
    "scrolled": false
   },
   "outputs": [
    {
     "data": {
      "image/png": "[encoded data removed]",
      "text/plain": [
       "<matplotlib.figure.Figure at 0x13902e668>"
      ]
     },
     "metadata": {},
     "output_type": "display_data"
    }
   ],
   "source": [
    "#PLT\n",
    "plt.figure(1,figsize=(7, 5))  \n",
    "plt.xlabel('$T_\\mathrm{eff}(K)$',fontsize=14)\n",
    "plt.ylabel(ylabel,fontsize=14)\n",
    "#plt.ylim(-4,9)\n",
    "\n",
    "# the data we use\n",
    "plt.scatter(starcatalog_fram_fil[teff], starcatalog_fram_fil[color1]-starcatalog_fram_fil[color2],\\\n",
    "            c='darkgray',s=8, edgecolors='None',label='LAMOST')\n",
    "\n",
    "# data we use in the SFD dustmap\n",
    "plt.scatter(SFD_catalog_teff,SFD_catalog_color,alpha=1,edgecolors='None',c='violet',s=4,label='SFD dustmap',zorder=2)\n",
    "\n",
    "# SFD fitcurve\n",
    "plt.plot(SFD_catalog_teff, SFD_vals, c='black',linewidth = 3,label='fitting curve of \\nthe E(B-V)<0.05',zorder=1)\n",
    "\n",
    "# ic plot from blue edge\n",
    "plt.plot(int_teff, colorvals, c='r',linewidth = 3,label='fitting curve of \\nthe bluest 5%',zorder=1)\n",
    "\n",
    "# ic from blue edge\n",
    "plt.scatter(int_teff, int_color, edgecolors='None',c='b', marker = '+',s=9,label='Median of\\nthe bluest 5%',zorder=2)\n",
    "\n",
    "# ic from Allen's work \n",
    "# plt.scatter(BBFrame_fil['Teff'],BBFrame_fil['J-H'],c='lime',s=11,label='Allen',zorder=2)\n",
    "\n",
    "# ic from parsec\n",
    "plt.scatter(parsec_teff,parsec_color,c='gold',s=9,label='PARSEC',zorder=2)\n",
    "\n",
    "### Draw the plot\n",
    "\n",
    "# plt.xlabel('$T_\\mathrm{eff}$'); plt.ylabel(ylabel)\n",
    "#plt.scatter(BBFrame_fil['Teff'],BBFrame_fil['J-H'],c='#FF6666',s=11,label='Allen')\n",
    "\n",
    "plt.legend(loc='upper right')\n",
    "#new_ticks = np.linspace(-1,2,7)\n",
    "#plt.yticks(new_ticks)\n",
    "# plt.ylim(np.min(starcatalog_fram_fil[color1] - starcatalog_fram_fil[color2]) - 0.5,\\\n",
    "#         np.max(starcatalog_fram_fil[color1] - starcatalog_fram_fil[color2]))\n",
    "plt.xticks(fontsize=12)\n",
    "plt.yticks(fontsize=12)\n",
    "# plt.savefig(savename1,dpi=200)\n",
    "plt.savefig(savename5,dpi=200)\n",
    "plt.show()"
   ]
  },
  {
   "cell_type": "markdown",
   "metadata": {},
   "source": [
    "# some other features"
   ]
  },
  {
   "cell_type": "code",
   "execution_count": 106,
   "metadata": {},
   "outputs": [
    {
     "name": "stdout",
     "output_type": "stream",
     "text": [
      "45834\n"
     ]
    }
   ],
   "source": [
    "print(len(starcatalog_fram_fil))"
   ]
  },
  {
   "cell_type": "markdown",
   "metadata": {},
   "source": [
    "## 赫罗图"
   ]
  },
  {
   "cell_type": "code",
   "execution_count": 84,
   "metadata": {},
   "outputs": [
    {
     "name": "stdout",
     "output_type": "stream",
     "text": [
      "5\n"
     ]
    },
    {
     "ename": "TypeError",
     "evalue": "data() missing 1 required positional argument: 'ratio_SFD'",
     "output_type": "error",
     "traceback": [
      "\u001b[0;31m---------------------------------------------------------------------------\u001b[0m",
      "\u001b[0;31mTypeError\u001b[0m                                 Traceback (most recent call last)",
      "\u001b[0;32m<ipython-input-84-d8fb8ce6a16a>\u001b[0m in \u001b[0;36m<module>\u001b[0;34m()\u001b[0m\n\u001b[1;32m      6\u001b[0m \u001b[0;31m# for rat in ratio:\u001b[0m\u001b[0;34m\u001b[0m\u001b[0;34m\u001b[0m\u001b[0m\n\u001b[1;32m      7\u001b[0m \u001b[0mprint\u001b[0m\u001b[0;34m(\u001b[0m\u001b[0mrat\u001b[0m\u001b[0;34m)\u001b[0m\u001b[0;34m\u001b[0m\u001b[0m\n\u001b[0;32m----> 8\u001b[0;31m \u001b[0mint_teff\u001b[0m\u001b[0;34m,\u001b[0m\u001b[0mint_color\u001b[0m\u001b[0;34m,\u001b[0m\u001b[0mdata_final\u001b[0m \u001b[0;34m=\u001b[0m \u001b[0mdata\u001b[0m\u001b[0;34m(\u001b[0m\u001b[0mteff_start\u001b[0m\u001b[0;34m,\u001b[0m\u001b[0mrat\u001b[0m\u001b[0;34m,\u001b[0m\u001b[0mlow_crit\u001b[0m\u001b[0;34m)\u001b[0m\u001b[0;34m\u001b[0m\u001b[0m\n\u001b[0m\u001b[1;32m      9\u001b[0m \u001b[0;34m\u001b[0m\u001b[0m\n\u001b[1;32m     10\u001b[0m \u001b[0mcm\u001b[0m \u001b[0;34m=\u001b[0m \u001b[0mplt\u001b[0m\u001b[0;34m.\u001b[0m\u001b[0mcm\u001b[0m\u001b[0;34m.\u001b[0m\u001b[0mget_cmap\u001b[0m\u001b[0;34m(\u001b[0m\u001b[0;34m'RdYlBu'\u001b[0m\u001b[0;34m)\u001b[0m\u001b[0;34m\u001b[0m\u001b[0m\n",
      "\u001b[0;31mTypeError\u001b[0m: data() missing 1 required positional argument: 'ratio_SFD'"
     ]
    },
    {
     "data": {
      "image/png": "[encoded data removed]",
      "text/plain": [
       "<matplotlib.figure.Figure at 0x1186a6828>"
      ]
     },
     "metadata": {},
     "output_type": "display_data"
    }
   ],
   "source": [
    "# H-R 1\n",
    "plt.figure(2)\n",
    "plt.xlabel(ylabel,fontsize=14); plt.ylabel(cc1,fontsize=14)\n",
    "plt.xlim(-6,6)\n",
    "plt.ylim(5,25)\n",
    "# for rat in ratio:\n",
    "print(rat)\n",
    "int_teff,int_color,data_final = data(teff_start,rat,low_crit)\n",
    "\n",
    "cm = plt.cm.get_cmap('RdYlBu')\n",
    "sc = plt.scatter(origin[color1]-origin[color2], origin[color1],\\\n",
    "            c= 'darkgray',s=5,edgecolors = 'None',alpha = 1,cmap=cm,label='all sources')\n",
    "plt.scatter(data_final[color1]-data_final[color2], data_final[color1],\\\n",
    "             c='g',s=5, edgecolors='None', alpha=1,label='selected sources')\n",
    "#plt.colorbar(sc)\n",
    "plt.legend(loc='upper right')\n",
    "# new_ticks = np.linspace(-2,3,18)\n",
    "# plt.xticks(new_ticks)\n",
    "plt.xticks(fontsize=12)\n",
    "plt.yticks(fontsize=12)\n",
    "plt.savefig(savename2,dpi=200)    \n",
    "plt.show()"
   ]
  },
  {
   "cell_type": "code",
   "execution_count": 43,
   "metadata": {},
   "outputs": [
    {
     "data": {
      "image/png": "[encoded data removed]",
      "text/plain": [
       "<matplotlib.figure.Figure at 0x107a69fd0>"
      ]
     },
     "metadata": {},
     "output_type": "display_data"
    }
   ],
   "source": [
    "# 赫罗图 2\n",
    "plt.xlabel('r')\n",
    "plt.ylabel(ylabel)\n",
    "\n",
    "cm = plt.cm.get_cmap('RdYlBu')\n",
    "\n",
    "sc = plt.scatter(starcatalog_fram_fil[color1]-starcatalog_fram_fil[color2],starcatalog_fram_fil[color1],\\\n",
    "            c = starcatalog_fram_fil[err_c1],s=2,edgecolors = 'None',alpha = 0.7,cmap=cm)\n",
    "\n",
    "plt.colorbar(sc)\n",
    "\n",
    "plt.xlim(-5,5)\n",
    "plt.ylim(9,22)\n",
    "plt.savefig(save+'HR.png',dpi=200)\n",
    "plt.show()"
   ]
  },
  {
   "cell_type": "markdown",
   "metadata": {},
   "source": [
    "## 参数统计图"
   ]
  },
  {
   "cell_type": "code",
   "execution_count": 93,
   "metadata": {},
   "outputs": [
    {
     "data": {
      "image/png": "[encoded data removed]",
      "text/plain": [
       "<matplotlib.figure.Figure at 0x1188647f0>"
      ]
     },
     "metadata": {},
     "output_type": "display_data"
    }
   ],
   "source": [
    "plt.figure(3)\n",
    "plt.xlabel('$T_\\mathrm{eff}(K)$')\n",
    "plt.ylabel('errTeff')\n",
    "plt.scatter(starcatalog_fram_fil[teff],starcatalog_fram_fil[err_teff],\\\n",
    "            c='darkgray',s=5, edgecolors='None', alpha=0.5)\n",
    "plt.show()"
   ]
  },
  {
   "cell_type": "markdown",
   "metadata": {},
   "source": [
    "# Remember List for Lamost"
   ]
  },
  {
   "cell_type": "markdown",
   "metadata": {},
   "source": [
    "## 4月19日讨论：\n",
    "\n",
    "1. log g > 4.0 比较可靠\n",
    "2. 16000-18000之间的这个区域很特别，似乎色指数就是偏红了\n",
    "3. Lamost最早也只到B2\n",
    "4. O-type 使用SFD的老方法——减去 SFD 的 E(B-V)，获得所有源的内禀色指数\n",
    "5. 向紫外波段扩充"
   ]
  },
  {
   "cell_type": "markdown",
   "metadata": {},
   "source": [
    "## 5月2日组会：\n",
    "\n",
    "** 苑老师 **： Lamost DR5 和 Mr.Yuan 给的星表由参数上的差别（跑的不同的pipline)"
   ]
  },
  {
   "cell_type": "markdown",
   "metadata": {
    "collapsed": true
   },
   "source": []
  },
  {
   "cell_type": "markdown",
   "metadata": {
    "collapsed": true
   },
   "source": [
    "## 5月3日讨论：\n",
    "1. logg< 3.5\n",
    "* Otype 色指数考虑误差限制在一个范围内\n",
    "* 延伸到可见光和紫外波段\n",
    "* J-H去掉3sigema再取平均再去3sigema知道没有源被扔掉\n",
    "* 去掉K饱和源"
   ]
  },
  {
   "cell_type": "markdown",
   "metadata": {},
   "source": []
  }
 ],
 "metadata": {
  "kernelspec": {
   "display_name": "Python 3",
   "language": "python",
   "name": "python3"
  },
  "language_info": {
   "codemirror_mode": {
    "name": "ipython",
    "version": 3
   },
   "file_extension": ".py",
   "mimetype": "text/x-python",
   "name": "python",
   "nbconvert_exporter": "python",
   "pygments_lexer": "ipython3",
   "version": "3.6.1"
  },
  "toc": {
   "base_numbering": 1,
   "nav_menu": {},
   "number_sections": true,
   "sideBar": true,
   "skip_h1_title": false,
   "title_cell": "Table of Contents",
   "title_sidebar": "Contents",
   "toc_cell": true,
   "toc_position": {
    "height": "calc(100% - 180px)",
    "left": "10px",
    "top": "150px",
    "width": "244px"
   },
   "toc_section_display": true,
   "toc_window_display": false
  }
 },
 "nbformat": 4,
 "nbformat_minor": 2
}
