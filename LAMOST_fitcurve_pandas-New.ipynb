{
 "cells": [
  {
   "cell_type": "markdown",
   "metadata": {
    "toc": true
   },
   "source": [
    "<h1>Table of Contents<span class=\"tocSkip\"></span></h1>\n",
    "<div class=\"toc\"><ul class=\"toc-item\"><li><span><a href=\"#综述\" data-toc-modified-id=\"综述-1\"><span class=\"toc-item-num\">1&nbsp;&nbsp;</span>综述</a></span></li><li><span><a href=\"#数据的引入和format-(Alternative)\" data-toc-modified-id=\"数据的引入和format-(Alternative)-2\"><span class=\"toc-item-num\">2&nbsp;&nbsp;</span>数据的引入和format (Alternative)</a></span><ul class=\"toc-item\"><li><span><a href=\"#参数的选取（Input）\" data-toc-modified-id=\"参数的选取（Input）-2.1\"><span class=\"toc-item-num\">2.1&nbsp;&nbsp;</span>参数的选取（Input）</a></span></li><li><span><a href=\"#K星等(4.5)筛选-或者-ugriz(13,-14,-14,-14,-12)（Input:）\" data-toc-modified-id=\"K星等(4.5)筛选-或者-ugriz(13,-14,-14,-14,-12)（Input:）-2.2\"><span class=\"toc-item-num\">2.2&nbsp;&nbsp;</span>K星等(4.5)筛选 或者 ugriz(13, 14, 14, 14, 12)（Input:）</a></span></li><li><span><a href=\"#Logg，误差的选取(Input:)\" data-toc-modified-id=\"Logg，误差的选取(Input:)-2.3\"><span class=\"toc-item-num\">2.3&nbsp;&nbsp;</span>Logg，误差的选取(Input:)</a></span></li><li><span><a href=\"#有效温度-Teff-的限制（Input:）\" data-toc-modified-id=\"有效温度-Teff-的限制（Input:）-2.4\"><span class=\"toc-item-num\">2.4&nbsp;&nbsp;</span>有效温度 Teff 的限制（Input:）</a></span></li><li><span><a href=\"#蓝色边缘的比例，bin最小值的选取（Input：）\" data-toc-modified-id=\"蓝色边缘的比例，bin最小值的选取（Input：）-2.5\"><span class=\"toc-item-num\">2.5&nbsp;&nbsp;</span>蓝色边缘的比例，bin最小值的选取（Input：）</a></span></li><li><span><a href=\"#比较星表的数据选取（Input:）\" data-toc-modified-id=\"比较星表的数据选取（Input:）-2.6\"><span class=\"toc-item-num\">2.6&nbsp;&nbsp;</span>比较星表的数据选取（Input:）</a></span></li></ul></li><li><span><a href=\"#内禀色指数的计算（蓝色边缘方法），同时取出某一部分用于SFD判断\" data-toc-modified-id=\"内禀色指数的计算（蓝色边缘方法），同时取出某一部分用于SFD判断-3\"><span class=\"toc-item-num\">3&nbsp;&nbsp;</span>内禀色指数的计算（蓝色边缘方法），同时取出某一部分用于SFD判断</a></span><ul class=\"toc-item\"><li><span><a href=\"#DEF\" data-toc-modified-id=\"DEF-3.1\"><span class=\"toc-item-num\">3.1&nbsp;&nbsp;</span>DEF</a></span></li><li><span><a href=\"#运算，拟合，SFD的准备（Input:)\" data-toc-modified-id=\"运算，拟合，SFD的准备（Input:)-3.2\"><span class=\"toc-item-num\">3.2&nbsp;&nbsp;</span>运算，拟合，SFD的准备（Input:)</a></span></li></ul></li><li><span><a href=\"#SFD的使用：——-将使用到新的包\" data-toc-modified-id=\"SFD的使用：——-将使用到新的包-4\"><span class=\"toc-item-num\">4&nbsp;&nbsp;</span>SFD的使用：—— 将使用到新的包</a></span></li><li><span><a href=\"#图片输出\" data-toc-modified-id=\"图片输出-5\"><span class=\"toc-item-num\">5&nbsp;&nbsp;</span>图片输出</a></span><ul class=\"toc-item\"><li><span><a href=\"#图片保存格式（Input:)\" data-toc-modified-id=\"图片保存格式（Input:)-5.1\"><span class=\"toc-item-num\">5.1&nbsp;&nbsp;</span>图片保存格式（Input:)</a></span></li><li><span><a href=\"#绘图所需的具体量（Alternative)\" data-toc-modified-id=\"绘图所需的具体量（Alternative)-5.2\"><span class=\"toc-item-num\">5.2&nbsp;&nbsp;</span>绘图所需的具体量（Alternative)</a></span></li></ul></li><li><span><a href=\"#some-other-features\" data-toc-modified-id=\"some-other-features-6\"><span class=\"toc-item-num\">6&nbsp;&nbsp;</span>some other features</a></span><ul class=\"toc-item\"><li><span><a href=\"#赫罗图\" data-toc-modified-id=\"赫罗图-6.1\"><span class=\"toc-item-num\">6.1&nbsp;&nbsp;</span>赫罗图</a></span></li><li><span><a href=\"#参数统计图\" data-toc-modified-id=\"参数统计图-6.2\"><span class=\"toc-item-num\">6.2&nbsp;&nbsp;</span>参数统计图</a></span></li></ul></li><li><span><a href=\"#Remember-List-for-Lamost\" data-toc-modified-id=\"Remember-List-for-Lamost-7\"><span class=\"toc-item-num\">7&nbsp;&nbsp;</span>Remember List for Lamost</a></span><ul class=\"toc-item\"><li><span><a href=\"#4月19日讨论：\" data-toc-modified-id=\"4月19日讨论：-7.1\"><span class=\"toc-item-num\">7.1&nbsp;&nbsp;</span>4月19日讨论：</a></span></li><li><span><a href=\"#5月2日组会：\" data-toc-modified-id=\"5月2日组会：-7.2\"><span class=\"toc-item-num\">7.2&nbsp;&nbsp;</span>5月2日组会：</a></span></li><li><span><a href=\"#5月3日讨论：\" data-toc-modified-id=\"5月3日讨论：-7.3\"><span class=\"toc-item-num\">7.3&nbsp;&nbsp;</span>5月3日讨论：</a></span></li></ul></li></ul></div>"
   ]
  },
  {
   "cell_type": "markdown",
   "metadata": {},
   "source": [
    "# 综述\n",
    "** 蓝色边缘程序使用pandas的改写 **\n",
    "\n",
    "_由于有一些星表中包含缺省项，我们需要使用pandas中使用dataframe读取csv中自动将缺省项补上的优势，来优化我们的自动化程式_\n",
    "\n",
    "_(fits的文件我们可以使用topcat改变格式并且给星表瘦身，以加快程序读取速度）_\n",
    "\n",
    "我们需要实现的功能包含以下几点：\n",
    "\n",
    "输入：\n",
    "* csv星表**_的名字_**\n",
    "* 需要画的色指数的两个测光点（比如 $ J - H $ 我们需要输入$J$ 和 $H$）\n",
    "\n",
    "程序中自带（我们所需要限定的条件）\n",
    "_写在其中的某一个cell中作为 filt 条件_\n",
    "* 限定的误差范围（测光数据一般选择 0.3，光谱数据可以具体再定，基本上认为不太离谱的都可以用）\n",
    "* 去掉错误的点（见之前的程序)\n",
    "\n",
    "输出：\n",
    "* 颜色-teff 图\n",
    "\n",
    "Now,trying:\n",
    "* SFD: 一个新的ratio,比如说0.05，把这个ratio底下的部分输入进SFD,判断：E(B-V) <0.3 的值就是我们零消光的值。这个值去拟合一个新的curve。"
   ]
  },
  {
   "cell_type": "markdown",
   "metadata": {},
   "source": [
    "# 数据的引入和format (Alternative)"
   ]
  },
  {
   "cell_type": "code",
   "execution_count": 1,
   "metadata": {
    "collapsed": true
   },
   "outputs": [],
   "source": [
    "import pandas as pd\n",
    "import numpy as np\n",
    "import math\n",
    "import matplotlib.pyplot as plt\n",
    "import time\n",
    "import datetime\n",
    "%matplotlib inline\n",
    "\n",
    "data_dir = '/Users/SY/Desktop/obic/data/'\n",
    "#data_dir = '/Users/dengdingshan/Documents/data/obic/'"
   ]
  },
  {
   "cell_type": "code",
   "execution_count": 125,
   "metadata": {},
   "outputs": [],
   "source": [
    "#read as pandas\n",
    "starcatalog_fram = pd.read_csv(data_dir + 'lamost_2mass_wise_new2.csv')\n",
    "\n",
    "###########\n",
    "\n",
    "#starcatlog_fram = starcatlog_fram.ix[:,:517]\n",
    "#print(starcatalog_fram)"
   ]
  },
  {
   "cell_type": "code",
   "execution_count": 211,
   "metadata": {},
   "outputs": [
    {
     "name": "stdout",
     "output_type": "stream",
     "text": [
      "Index(['Zini', 'Age', 'Mini', 'Mass', 'logL', 'logTe', 'logg', 'label',\n",
      "       'McoreTP', 'C_O', 'period0', 'period1', 'pmode', 'Mloss', 'tau1m', 'X',\n",
      "       'Y', 'Xc', 'Xn', 'Xo', 'Cexcess', 'Z', 'mbolmag', 'Jmag', 'Hmag',\n",
      "       'Ksmag', '[3.6]mag', '[4.5]mag', '[5.8]mag', '[8.0]mag', 'W1mag',\n",
      "       'W2mag', 'W3mag', 'W4mag', 'Cmag', 'Mmag', 'T1mag', 'T2mag',\n",
      "       'DDO51_finfmag'],\n",
      "      dtype='object')\n"
     ]
    }
   ],
   "source": [
    "#read parsec\n",
    "parsec_fram = pd.read_csv(data_dir + 'parsec_jhkw.csv')\n",
    "\n",
    "############\n",
    "\n",
    "print(parsec_fram.columns)"
   ]
  },
  {
   "cell_type": "code",
   "execution_count": 127,
   "metadata": {
    "collapsed": true
   },
   "outputs": [],
   "source": [
    "### Elective CHOICE\n",
    "\n",
    "########### I.\n",
    "#change logTeff into Teff.\n",
    "\n",
    "# def tenn(x):\n",
    "#     y=10 ** x\n",
    "#     return y\n",
    "\n",
    "# Teff_tbl = starcatalog['logTeff'].apply(tenn)\n",
    "###########\n",
    "\n",
    "########### II.\n",
    "#add [Teff] into DATAFRAME\n",
    "\n",
    "#data_fram = starcatalog_fram[['TEFF_1','ERR_TEFF_1','Jmag_1','e_Jmag_1','Hmag_1','e_Hmag_1']]\n",
    "#print(data_fram)\n",
    "###########\n",
    "\n",
    "########### III.\n",
    "# fill the NaN blocks with 0\n",
    "\n",
    "starcatalog_fram_fil_1 = starcatalog_fram.fillna(0)\n",
    "\n",
    "#print(starcatalog_fram_fil['LOGG'])\n",
    "############\n"
   ]
  },
  {
   "cell_type": "code",
   "execution_count": 128,
   "metadata": {
    "scrolled": true
   },
   "outputs": [
    {
     "data": {
      "text/plain": [
       "Index(['col1', 'TEFF', 'ERR_TEFF', 'RA', 'DEC', 'LOGG', 'ERR_LOGG', 'FEH',\n",
       "       'ERR_FEH', '2MASS', 'RAJ2000', 'DEJ2000', 'errHalfMaj', 'errHalfMin',\n",
       "       'errPosAng', 'Jmag', 'Hmag', 'Kmag', 'e_Jmag', 'e_Hmag', 'e_Kmag',\n",
       "       'Qfl', 'Rfl', 'X', 'MeasureJD', 'angDist', 'JNAME', 'ra_x', 'dec_x',\n",
       "       'errHalfMaj_x', 'errHalfMin_x', 'errPosAng_x', 'W1mag', 'W2mag',\n",
       "       'W3mag', 'W4mag', 'Jmag_x', 'Hmag_x', 'Kmag_x', 'e_W1mag', 'e_W2mag',\n",
       "       'e_W3mag', 'e_W4mag', 'e_Jmag_x', 'e_Hmag_x', 'e_Kmag_x', 'cntr',\n",
       "       'cc_flags', 'ext_flg', 'var_flg', 'ph_qual', 'r_2mass', 'angDist_x'],\n",
       "      dtype='object')"
      ]
     },
     "execution_count": 128,
     "metadata": {},
     "output_type": "execute_result"
    }
   ],
   "source": [
    "starcatalog_fram_fil_1.columns"
   ]
  },
  {
   "cell_type": "markdown",
   "metadata": {},
   "source": [
    "## 参数的选取（Input）"
   ]
  },
  {
   "cell_type": "code",
   "execution_count": 221,
   "metadata": {
    "collapsed": true
   },
   "outputs": [],
   "source": [
    "### variables\n",
    "\n",
    "teff = 'TEFF'\n",
    "\n",
    "color1 = 'Jmag'\n",
    "color2 = 'Hmag'\n",
    "err_teff = 'ERR_TEFF'\n",
    "\n",
    "err_c1 = 'e_' + color1\n",
    "#'e_' + color1\n",
    "#color1 + 'err' \n",
    "#color1 + 'err'\n",
    "#ERR_' + color1\n",
    "#'e_' + color1\n",
    "\n",
    "err_c2 = 'e_' + color2\n",
    "#'ERR_' + color2\n",
    "#'e_' + color2"
   ]
  },
  {
   "cell_type": "markdown",
   "metadata": {},
   "source": [
    "## K星等(4.5)筛选 或者 ugriz(13, 14, 14, 14, 12)（Input:）\n"
   ]
  },
  {
   "cell_type": "code",
   "execution_count": 222,
   "metadata": {},
   "outputs": [],
   "source": [
    "#starcatalog_fram_fil_2 = starcatalog_fram_fil_1[(starcatalog_fram_fil_1['Kmag']>4.5)]\n",
    "# starcatalog_fram_fil_2 = starcatalog_fram_fil_1[((starcatalog_fram_fil_1[color1]>14)\\\n",
    "#                                                 & (starcatalog_fram_fil_1[color2]>14))]\n",
    "starcatalog_fram_fil_2 = starcatalog_fram_fil_1"
   ]
  },
  {
   "cell_type": "markdown",
   "metadata": {},
   "source": [
    "## Logg，误差的选取(Input:)"
   ]
  },
  {
   "cell_type": "code",
   "execution_count": 223,
   "metadata": {},
   "outputs": [],
   "source": [
    "### we just need the mainsquence (dwarf stars)\n",
    "\n",
    "# #judge logg >3.5\n",
    "\n",
    "starcatalog_fram_fil = starcatalog_fram_fil_2[(starcatalog_fram_fil_2['LOGG']>3.5)]\n",
    "parsec_fram = parsec_fram[(parsec_fram['logg']>3.5)]                                            "
   ]
  },
  {
   "cell_type": "code",
   "execution_count": 224,
   "metadata": {},
   "outputs": [
    {
     "name": "stdout",
     "output_type": "stream",
     "text": [
      "120915\n"
     ]
    }
   ],
   "source": [
    "### get the good stars\n",
    "\n",
    "# judge  data\n",
    "starcatalog_fram_fil=starcatalog_fram_fil[((starcatalog_fram_fil[err_c1] != 0) \\\n",
    "                                          & (starcatalog_fram_fil[err_c2] != 0)\\\n",
    "                                          & (starcatalog_fram_fil[err_c1] != -99) \\\n",
    "                                          & (starcatalog_fram_fil[err_c2] != -99))\\\n",
    "                                         & ((starcatalog_fram_fil[color1] != 0)\\\n",
    "                                           & (starcatalog_fram_fil[color2] != 0)\\\n",
    "                                           & (starcatalog_fram_fil[color1] != -99) \\\n",
    "                                           & (starcatalog_fram_fil[color2] != -99))\\\n",
    "                                         &((starcatalog_fram_fil[err_c1] <=0.03)\\\n",
    "                                          & (starcatalog_fram_fil[err_c2] <=0.03))]\n",
    "### additional judgement\n",
    "\n",
    "# starcatalog_fram_fil=starcatalog_fram_fil[(starcatalog_fram_fil[err_c1] <=0.2)\\\n",
    "#                                            &(starcatalog_fram_fil[err_c2] <=0.05)]\n",
    "\n",
    "print(starcatalog_fram_fil.iloc[:,0].size)"
   ]
  },
  {
   "cell_type": "code",
   "execution_count": 225,
   "metadata": {
    "collapsed": true
   },
   "outputs": [],
   "source": [
    "### draw the png of errTeff \n",
    "\n",
    "# plt.figure(3)\n",
    "# plt.xlabel('$T_\\mathrm{eff}(K)$',fontsize=14)\n",
    "# plt.ylabel('$σ_\\mathrm{Teff}$',fontsize=14)\n",
    "# plt.scatter(starcatalog_fram_fil[teff],starcatalog_fram_fil[err_teff],\\\n",
    "#             c='steelblue',s=8, edgecolors='None',alpha=0.2,label='$σ_\\mathrm{Teff}$(LAMOST)')\n",
    "# plt.legend(loc='lower right')\n",
    "# plt.xticks(fontsize=12)\n",
    "# plt.yticks(fontsize=12)\n",
    "# plt.savefig(savename3,dpi=200)  \n",
    "# plt.show()\n",
    "\n",
    "### "
   ]
  },
  {
   "cell_type": "code",
   "execution_count": 226,
   "metadata": {},
   "outputs": [
    {
     "name": "stdout",
     "output_type": "stream",
     "text": [
      "        col1        TEFF   ERR_TEFF          RA        DEC      LOGG  \\\n",
      "20        28  11348.1920  651.76044   11.040600  36.995529  4.080263   \n",
      "30        38  11890.1880  614.71954   63.538244   4.756004  3.728037   \n",
      "207      315  12787.3380  607.78670   10.774026  38.759811  3.532669   \n",
      "215      325   8128.0137  432.37335   55.271124  54.802589  4.096234   \n",
      "216      326   8929.9920  483.90836   52.840573  55.162617  3.973036   \n",
      "217      327   8303.3430  440.43668   51.778596  55.397030  4.147080   \n",
      "218      328   8884.8980  478.67400   51.989001  55.361656  4.064834   \n",
      "219      329   8940.2940  471.37488   53.486737  55.177288  4.306056   \n",
      "221      331  12258.5850  618.72970   50.968032  55.518478  3.636619   \n",
      "222      333   8071.4450  463.75770   57.176869  55.694656  4.066268   \n",
      "224      335  11096.5420  608.41240   56.886091  55.143044  3.838928   \n",
      "235      350  12896.4610  613.93896   56.701189  58.799835  3.502657   \n",
      "246      370  11079.8140  628.30615   58.081692  58.467014  3.863864   \n",
      "251      375  13363.3730  569.43050   57.432072  58.033730  3.632989   \n",
      "257      381   8372.4610  445.71274   55.245676  55.172211  4.632455   \n",
      "259      383   8792.9490  492.00820   54.450383  54.493004  4.015175   \n",
      "261      385  13286.8230  606.86050   52.777238  55.124409  3.626792   \n",
      "262      386   8243.5625  463.42917   53.274714  55.010292  4.451610   \n",
      "264      388   8388.2770  395.92972   51.989001  55.361656  3.923304   \n",
      "265      389  12064.1360  609.45580   53.618222  55.210884  3.710394   \n",
      "266      390   9148.8800  530.75110   53.178793  55.317329  3.980233   \n",
      "267      391   8103.3120  426.54715   53.788785  55.410477  4.384722   \n",
      "268      392   8020.1743  493.86874   53.278239  55.323185  4.616098   \n",
      "269      393   8143.1100  430.61450   53.102745  54.758255  4.358770   \n",
      "274      398   8355.9480  437.51300   51.592802  55.783611  4.617745   \n",
      "276      400   8051.7197  473.17905   52.794197  55.362961  3.948072   \n",
      "279      403   8963.0410  469.49698   54.474740  55.986290  4.128318   \n",
      "282      406   8417.4620  475.91037   53.291573  55.620457  4.205091   \n",
      "287      411  14414.7860  627.35650   57.386408  56.763729  3.720316   \n",
      "288      412  11814.1000  612.70220   57.795442  56.600674  3.781759   \n",
      "...      ...         ...        ...         ...        ...       ...   \n",
      "251440  4565  20024.9510  526.37384   93.748856  25.321333  3.913445   \n",
      "251441  4566  20900.4020  517.45850   94.346853  25.953466  3.816145   \n",
      "251442  4569  22642.9730  515.37885   97.141370  23.959780  3.857007   \n",
      "251446  4590  21993.9120  555.43475   92.133840  21.610920  3.648789   \n",
      "251448  4593  22825.5080  603.53150  132.572697  17.852342  3.752531   \n",
      "251449  4594  21183.0800  517.20400   93.009069  21.288215  3.812556   \n",
      "251462  4631  20926.9060  518.07920   93.889735  22.040896  3.725463   \n",
      "251463  4633  21500.1270  512.69760   93.437382  22.611849  3.739759   \n",
      "251467  4642  22508.2560  528.75580   94.923153  23.289703  3.752531   \n",
      "251469  4649  21194.5940  517.20400  226.292430  22.960601  3.812556   \n",
      "251471  4660  22832.1910  528.76140  102.608221  11.656512  3.752531   \n",
      "251472  4662  20673.1230  615.39720  104.090124  11.363957  4.123562   \n",
      "251473  4666  22809.1560  528.76240  102.955337  13.920172  3.752531   \n",
      "251474  4667  21341.2680  518.07623  100.748013  12.542416  3.812556   \n",
      "251475  4679  21471.4360  517.20400   99.352896  22.019632  3.812556   \n",
      "251480  4691  21101.7620  607.66550   99.748872  55.736985  3.812556   \n",
      "251482  4706  21294.2130  570.29590  129.732938  17.644924  3.812556   \n",
      "251483  4707  22144.5210  575.27530  129.709400  17.727288  3.816145   \n",
      "251485  4710  21666.4000  580.99640  129.657408  17.748175  3.727426   \n",
      "251489  4735  21126.3930  611.07697  119.660002  11.421056  3.812556   \n",
      "251510  4776  21811.4960  529.17017  283.237058  -9.267320  3.625908   \n",
      "251512  4779  21943.4730  514.31055  281.639232  -6.055687  3.727426   \n",
      "251515  4783  21348.2440  518.07623  280.292600  -6.782293  3.812556   \n",
      "251516  4785  20237.8280  562.27765  281.427463  -6.274192  3.781025   \n",
      "251521  4791  25258.8380  576.16490  138.780625  -1.595295  4.261025   \n",
      "251523  4800  22618.6300  551.36460  158.204792   9.284396  3.752531   \n",
      "251533  4874  21147.7170  573.32330  192.439540  20.759055  3.812556   \n",
      "251536  4909  21358.6370  602.74400  293.780924  26.453759  3.812556   \n",
      "251543  4922  22167.1000  576.65080  298.524365  26.112535  3.816145   \n",
      "251544  4942  20090.2070  611.62646  246.923320  37.837318  3.781025   \n",
      "\n",
      "        ERR_LOGG       FEH   ERR_FEH             2MASS    ...      e_Jmag_x  \\\n",
      "20      0.223760  0.403267  0.492568  00440961+3659433    ...         0.023   \n",
      "30      0.229496  0.021973  0.558008  04140916+0445218    ...         0.026   \n",
      "207     0.232776 -0.149145  0.568836  00430574+3845353    ...         0.024   \n",
      "215     0.272587 -0.164151  0.357123  03410506+5448092    ...         0.023   \n",
      "216     0.298086 -0.001354  0.400083  03312173+5509455    ...         0.022   \n",
      "217     0.211764 -0.548971  0.283776  03270686+5523493    ...         0.021   \n",
      "218     0.303962 -0.255427  0.391527  03275735+5521420    ...         0.022   \n",
      "219     0.188043 -0.777697  0.303183  03335682+5510383    ...         0.022   \n",
      "221     0.230197  0.023104  0.558914  03235233+5531065    ...         0.021   \n",
      "222     0.217482  0.120171  0.297808  03484244+5541408    ...         0.023   \n",
      "224     0.222429  0.237404  0.543012  03473266+5508349    ...         0.018   \n",
      "235     0.229716  0.009076  0.558722  03464827+5847594    ...         0.023   \n",
      "246     0.227271  0.176821  0.550687  03521961+5828012    ...         0.026   \n",
      "251     0.220492  0.084473  0.545319  03494370+5802013    ...         0.025   \n",
      "257     0.194310 -0.121118  0.304749  03405895+5510200    ...         0.021   \n",
      "259     0.222395 -0.228067  0.306997  03374808+5429347    ...         0.023   \n",
      "261     0.226483  0.080897  0.552372  03310653+5507279    ...         0.022   \n",
      "262     0.269400 -0.247350  0.312439  03330593+5500371    ...         0.022   \n",
      "264     0.321455 -0.273651  0.393603  03275735+5521420    ...         0.022   \n",
      "265     0.227461  0.061406  0.554147  03342837+5512393    ...         0.023   \n",
      "266     0.222586 -0.999215  0.384663  03324290+5519024    ...         0.025   \n",
      "267     0.261157 -0.235864  0.272531  03350930+5524377    ...         0.020   \n",
      "268     0.301413  0.107620  0.322588  03330677+5519235    ...         0.028   \n",
      "269     0.271672 -0.574648  0.277236  03322466+5445298    ...         0.022   \n",
      "274     0.306504 -0.178061  0.273822  03262227+5547011    ...         0.019   \n",
      "276     0.243038  0.180572  0.300927  03311060+5521467    ...         0.021   \n",
      "279     0.225194 -0.472474  0.271594  03375393+5559106    ...         0.025   \n",
      "282     0.312361 -0.117662  0.324553  03330999+5537136    ...         0.022   \n",
      "287     0.228931  0.117527  0.554329  03493273+5645494    ...         0.023   \n",
      "288     0.224065  0.201574  0.546580  03511091+5636024    ...         0.022   \n",
      "...          ...       ...       ...               ...    ...           ...   \n",
      "251440  0.214322  0.141110  0.538694  06145972+2519169    ...         0.024   \n",
      "251441  0.216255 -0.099268  0.544027  06172305+2557125    ...         0.021   \n",
      "251442  0.216616 -0.160048  0.545576  06283393+2357352    ...         0.018   \n",
      "251446  0.210980  0.529348  0.447503  06083212+2136392    ...         0.021   \n",
      "251448  0.222621  0.204162  0.545050  08501744+1751084    ...         0.021   \n",
      "251449  0.216301 -0.106597  0.544211  06120217+2117176    ...         0.021   \n",
      "251462  0.216138 -0.081511  0.543585  06153346+2202272    ...         0.022   \n",
      "251463  0.217007 -0.241597  0.547715  06134504+2236428    ...         0.019   \n",
      "251467  0.213743  0.200679  0.537672  06194164+2317202    ...         0.026   \n",
      "251469  0.216301 -0.106597  0.544211  15051003+2257381    ...         0.022   \n",
      "251471  0.213742  0.200817  0.537670  06502596+1139233    ...         0.026   \n",
      "251472  0.228142  0.073928  0.554639  06562162+1121501    ...         0.029   \n",
      "251473  0.213741  0.200841  0.537670  06514936+1355120    ...         0.021   \n",
      "251474  0.216139 -0.081597  0.543587  06425951+1232327    ...         0.020   \n",
      "251475  0.216301 -0.106597  0.544211  06372473+2201129    ...         0.021   \n",
      "251480  0.231652 -0.106597  0.565506  06385973+5544131    ...         0.023   \n",
      "251482  0.224616 -0.106597  0.555223  08385590+1738418    ...         0.022   \n",
      "251483  0.225262 -0.094864  0.555791  08385025+1743383    ...         0.021   \n",
      "251485  0.228200 -0.182306  0.562944  08383777+1744534    ...         0.022   \n",
      "251489  0.232329 -0.106597  0.566525  07583839+1125157    ...         0.026   \n",
      "251510  0.213641  0.210866  0.537514  18525689-0916023    ...         0.024   \n",
      "251512  0.216783 -0.192088  0.546410  18463341-0603206    ...         0.023   \n",
      "251515  0.216139 -0.081597  0.543587  18411022-0646562    ...         0.024   \n",
      "251516  0.221726 -0.029930  0.549318  18454259-0616270    ...         0.021   \n",
      "251521  0.224379 -0.046597  0.553202  09150734-0135431    ...         0.024   \n",
      "251523  0.215890  0.202336  0.539092  10324915+0917037    ...         0.026   \n",
      "251533  0.225158 -0.106597  0.555991  12494548+2045325    ...         0.022   \n",
      "251536  0.230048 -0.081597  0.562237  19350742+2627135    ...         0.022   \n",
      "251543  0.225251 -0.082894  0.555424  19540585+2606451    ...         0.021   \n",
      "251544  0.230367 -0.029930  0.560919  16274159+3750143    ...         0.024   \n",
      "\n",
      "        e_Hmag_x  e_Kmag_x                 cntr  cc_flags  ext_flg  var_flg  \\\n",
      "20         0.023     0.020   111136301241038914      0000        0     11nn   \n",
      "30         0.025     0.025   637104501241024523      0000        0     111n   \n",
      "207        0.023     0.030   116139301241008018      0000        0     01nn   \n",
      "215        0.029     0.024   561154501241034084      0000        0     001n   \n",
      "216        0.021     0.022   536154501241052950      0h00        0     00nn   \n",
      "217        0.017     0.019   506156001241000081      0000        0     000n   \n",
      "218        0.024     0.027   506156001241000239      0000        0     nnnn   \n",
      "219        0.021     0.022   536154501241050591      0000        0     011n   \n",
      "221        0.019     0.017   506156001241002330      0000        0     001n   \n",
      "222        0.021     0.019   559156001241020667      0000        0     01nn   \n",
      "224        0.017     0.018   561154501241047295      0000        0     112n   \n",
      "235        0.027     0.025   576159001241014001      0000        0     11nn   \n",
      "246        0.026     0.021   576159001241002440      0000        0     11nn   \n",
      "251        0.023     0.023   581157501241054966      0000        0     nnnn   \n",
      "257        0.025     0.022   561154501241054092      0000        0     nnnn   \n",
      "259        0.030     0.020   536154501241023053      dd00        0     000n   \n",
      "261        0.019     0.020   536154501241055304      0000        0     00nn   \n",
      "262        0.023     0.026   536154501241053139      dd00        0     01nn   \n",
      "264        0.024     0.027   506156001241000239      0000        0     nnnn   \n",
      "265        0.023     0.026   536154501241050584      0000        0     001n   \n",
      "266        0.015     0.029   533156001241004767      0000        0     00nn   \n",
      "267        0.024     0.023   533156001241002336      0000        0     11nn   \n",
      "268        0.027     0.034   533156001241004777      0000        0     00nn   \n",
      "269        0.015     0.022   536154501241036811      0000        0     00nn   \n",
      "274        0.021     0.021   506156001241020644      0000        0     111n   \n",
      "276        0.017     0.020   533156001241006837      0000        0     001n   \n",
      "279        0.028     0.026   533156001241022442      0000        0     110n   \n",
      "282        0.022     0.028   533156001241015785      0000        0     00nn   \n",
      "287        0.029     0.034   586156001241056284      hh00        0     12nn   \n",
      "288        0.024     0.026   586156001241056505      d000        0     nnnn   \n",
      "...          ...       ...                  ...       ...      ...      ...   \n",
      "251440     0.025     0.021   933125701241017963      0000        0     000n   \n",
      "251441     0.022     0.018   950125701241033005      0000        0     110n   \n",
      "251442     0.016     0.018   974124201241012827      0000        0     110n   \n",
      "251446     0.019     0.017   920121201241032127      00hh        1     3199   \n",
      "251448     0.018     0.020  1332118101241007331      0000        0     111n   \n",
      "251449     0.019     0.018   936121201241030907      0000        0     0010   \n",
      "251462     0.022     0.018   944122701241008424      0000        0     000n   \n",
      "251463     0.015     0.016   928122701241021337      h000        0     011n   \n",
      "251467     0.030     0.023   944122701241039879      0000        0     111n   \n",
      "251469     0.027     0.021  2264122701241031426      0000        0     110n   \n",
      "251471     0.025     0.024  1019112101241018958      0000        0     nnnn   \n",
      "251472     0.030     0.029  1035112101241000097      0000        0     00nn   \n",
      "251473     0.017     0.015  1024113601241039700      0000        0     022n   \n",
      "251474     0.021     0.018  1004112101241032347      0000        0     110n   \n",
      "251475     0.022     0.017   993122701241003903      0000        0     00nn   \n",
      "251480     0.024     0.024   986156001241016042      0000        0     00nn   \n",
      "251482     0.023     0.018  1300118101241003662      0000        0     00nn   \n",
      "251483     0.023     0.023  1300118101241007328      0000        0     22nn   \n",
      "251485     0.021     0.020  1300118101241007314      0000        0     01nn   \n",
      "251489     0.028     0.027  1189112101241000029      0000        0     00nn   \n",
      "251510     0.022     0.023  2834009101241015606      0000        0     010n   \n",
      "251512     0.023     0.023  2810006101241026603      0000        1     910n   \n",
      "251515     0.024     0.019  2810006101241012598      00dh        0     109n   \n",
      "251516     0.024     0.023  2810006101241021091      0000        0     380n   \n",
      "251521     0.022     0.021  1391001601241020977      0000        0     110n   \n",
      "251523     0.023     0.061  1577109001241024259      h0h0        0     15nn   \n",
      "251533     0.024     0.027  1921121201241013331      0000        0     01nn   \n",
      "251536     0.023     0.022  2933125701241054579      0h00        0     010n   \n",
      "251543     0.023     0.020  2983125701241046195      0000        0     003n   \n",
      "251544     0.027     0.033  2463137801241017095      0000        0     11nn   \n",
      "\n",
      "        ph_qual  r_2mass  angDist_x  \n",
      "20         AABU    1.719   0.116178  \n",
      "30         AABC    0.181   0.083631  \n",
      "207        AABU    0.284   0.057531  \n",
      "215        AABU    0.082   0.057005  \n",
      "216        AAUU    0.047   0.053561  \n",
      "217        AABU    0.037   0.078741  \n",
      "218        AAUU    0.186   0.122038  \n",
      "219        AABU    0.076   0.082995  \n",
      "221        AABU    0.083   0.042824  \n",
      "222        AACU    0.013   0.042974  \n",
      "224        AAAB    0.077   0.066796  \n",
      "235        AAUU    0.067   0.028556  \n",
      "246        AAUU    0.111   0.024455  \n",
      "251        AABU    0.038   0.015107  \n",
      "257        AABU    0.186   0.095877  \n",
      "259        AAAU    0.127   0.048554  \n",
      "261        AAUU    0.027   0.099340  \n",
      "262        AABC    0.125   0.023016  \n",
      "264        AAUU    0.186   0.122038  \n",
      "265        AAAC    0.171   0.042712  \n",
      "266        AAUU    0.102   0.061934  \n",
      "267        AAUU    0.080   0.041760  \n",
      "268        AAUU    0.105   0.018454  \n",
      "269        AAUU    0.047   0.058524  \n",
      "274        AABB    0.086   0.109975  \n",
      "276        AAAU    0.060   0.066490  \n",
      "279        AABB    0.081   0.099516  \n",
      "282        AAUU    0.134   0.094926  \n",
      "287        AAUU    0.023   0.051043  \n",
      "288        AAUU    0.254   0.314020  \n",
      "...         ...      ...        ...  \n",
      "251440     AAAB    0.032   0.170100  \n",
      "251441     AAAB    0.009   2.523727  \n",
      "251442     AAAB    0.011   0.129589  \n",
      "251446     AAAA    0.494   0.472740  \n",
      "251448     AAAB    0.116   0.122066  \n",
      "251449     AAAB    0.084   0.028200  \n",
      "251462     AAAU    0.032   0.944391  \n",
      "251463     AAAB    0.068   1.069763  \n",
      "251467     AAAB    0.077   2.941336  \n",
      "251469     AAAU    0.110   2.050948  \n",
      "251471     AAAB    0.069   0.155262  \n",
      "251472     AACU    0.257   0.163735  \n",
      "251473     AAAB    0.046   1.399425  \n",
      "251474     AAAU    0.062   0.158315  \n",
      "251475     AAAB    0.087   2.398801  \n",
      "251480     AABU    0.116   0.155978  \n",
      "251482     AABU    0.066   0.090620  \n",
      "251483     AAUU    0.150   0.099155  \n",
      "251485     AABU    0.086   0.069762  \n",
      "251489     AABU    0.158   0.097198  \n",
      "251510     AAAU    0.081   0.033740  \n",
      "251512     AAAU    0.147   0.074442  \n",
      "251515     AAAB    0.071   0.111181  \n",
      "251516     AAAC    0.117   0.181472  \n",
      "251521     AAAU    0.085   0.076984  \n",
      "251523     AAUU    0.058   0.083705  \n",
      "251533     AABU    0.094   0.116127  \n",
      "251536     AABU    0.074   0.057537  \n",
      "251543     AAAC    0.135   0.061325  \n",
      "251544     AABB    0.288   0.286552  \n",
      "\n",
      "[120915 rows x 53 columns]\n"
     ]
    }
   ],
   "source": [
    "# cut source g-r:0.440\n",
    "origin = starcatalog_fram_fil\n",
    "print(origin)\n",
    "# starcatalog_fram_fil=starcatalog_fram_fil[(starcatalog_fram_fil[color1]-starcatalog_fram_fil[color2]>= -0.50)\\\n",
    "#                                          & (starcatalog_fram_fil[color1]>=12)]"
   ]
  },
  {
   "cell_type": "markdown",
   "metadata": {},
   "source": [
    "## 有效温度 Teff 的限制（Input:）"
   ]
  },
  {
   "cell_type": "code",
   "execution_count": 227,
   "metadata": {},
   "outputs": [
    {
     "name": "stdout",
     "output_type": "stream",
     "text": [
      "25258.838\n"
     ]
    }
   ],
   "source": [
    "#filt the good one\n",
    "#apogee_tbl_fil = apogee_tbl[np.argwhere(np.logical_and(apogee_tbl['teff'] > 0, apogee_tbl['logg'] > -3))]\n",
    "#apogee_tbl_fil = apogee_tbl_fil[np.argwhere(np.logical_and(apogee_tbl_fil['j'].flatten() > -1, \\\n",
    "#                                                           apogee_tbl_fil['h'].flatten() > -1))]\n",
    "#USE goodOB \n",
    "\n",
    "\n",
    "starcatalog_fram_fil=starcatalog_fram_fil[(((starcatalog_fram_fil[err_teff] != 0 )\\\n",
    "                                          & (starcatalog_fram_fil[teff]>= 10000))\\\n",
    "                                          #& (starcatalog_fram_fil[teff]<= 16000))\n",
    "                                          & (((starcatalog_fram_fil[err_teff]< 630)\\\n",
    "                                          &(starcatalog_fram_fil[teff]> 9000))\\\n",
    "                                          |((starcatalog_fram_fil[err_teff]< 500)\\\n",
    "                                          & (starcatalog_fram_fil[teff]<= 9000))))]\n",
    "print(np.max(starcatalog_fram_fil[teff]))"
   ]
  },
  {
   "cell_type": "markdown",
   "metadata": {},
   "source": [
    "## 蓝色边缘的比例，bin最小值的选取（Input：）"
   ]
  },
  {
   "cell_type": "code",
   "execution_count": 228,
   "metadata": {
    "collapsed": true
   },
   "outputs": [],
   "source": [
    "# Determine the input numbers.\n",
    "\n",
    "# Bin width, usually 50 (for more scatter, try 1000 or other figures)\n",
    "#bin_width = 1000\n",
    "\n",
    "# Ratio of the bluest edge, usually 5%\n",
    "rat = 5\n",
    "\n",
    "# Low end criteria. If the number in a bin is lower than this number then neglect.  \n",
    "low_crit = 50"
   ]
  },
  {
   "cell_type": "code",
   "execution_count": 229,
   "metadata": {
    "collapsed": true
   },
   "outputs": [],
   "source": [
    "# input the data of Bessell. M.S. & Brett. J.M. 1988\n",
    "# BBFrame is the dataframe of the ic data \n",
    "\n",
    "BBFrame=pd.DataFrame({'J-H':[-0.09,-0.08,-0.07,-0.06,-0.05,-0.03,-0.03,-0.01,0.0,0.02,0.06],\\\n",
    "                      'Teff':[22300,19000,17200,15400,14100,13000,11800,10700,9480,8810,8160]})\n"
   ]
  },
  {
   "cell_type": "markdown",
   "metadata": {},
   "source": [
    "## 比较星表的数据选取（Input:）"
   ]
  },
  {
   "cell_type": "code",
   "execution_count": 230,
   "metadata": {},
   "outputs": [],
   "source": [
    "# parsec point\n",
    "parsecframe = parsec_fram[((parsec_fram['Age'] == 3980000)\\\n",
    "                           &(parsec_fram['logTe'] <= 4.361)\\\n",
    "                           &(parsec_fram['logTe'] >= 4.000))]\n",
    "parsec_teff =10**parsecframe['logTe'] \n",
    "parsec_color = parsecframe[color1] - parsecframe[color2]\n",
    "#print(parsecframe.values)\n",
    "                                         "
   ]
  },
  {
   "cell_type": "code",
   "execution_count": 231,
   "metadata": {
    "collapsed": true
   },
   "outputs": [],
   "source": [
    "# Find the start point and bin number of Teff. \n",
    "# Start point: the first number divisible by bin_width smaller than min(teff)\n",
    "# Bin number: Start from start point and cover all the teff range.\n",
    "\n",
    "\n",
    "#teff_start = min(apogee_tbl_fil['teff']) - min(apogee_tbl_fil['teff']) % (bin_width/2)\n",
    "#bin_number = math.ceil((max(apogee_tbl_fil['teff']) - teff_start) / bin_width)\n",
    "\n",
    "#teff_start = min(starcatalog_fram_fil[teff])-min(starcatalog_fram_fil[teff])%(bin_width / 2)\n",
    "\n",
    "teff_start= 10000\n",
    "\n",
    "#bin_number = math.ceil((max(starcatalog_fram_fil[teff])-teff_start) / bin_width)\n"
   ]
  },
  {
   "cell_type": "code",
   "execution_count": 232,
   "metadata": {
    "collapsed": true
   },
   "outputs": [],
   "source": [
    "#filt BBFrame\n",
    "BBFrame_fil=BBFrame[BBFrame['Teff'] >= teff_start]"
   ]
  },
  {
   "cell_type": "markdown",
   "metadata": {},
   "source": [
    "# 内禀色指数的计算（蓝色边缘方法），同时取出某一部分用于SFD判断"
   ]
  },
  {
   "cell_type": "markdown",
   "metadata": {},
   "source": [
    "## DEF"
   ]
  },
  {
   "cell_type": "code",
   "execution_count": 233,
   "metadata": {
    "collapsed": true
   },
   "outputs": [],
   "source": [
    "def data(teff_start,ratio,low_crit,ratio_SFD):\n",
    "    \n",
    "    start_time = time.time()\n",
    "    int_teff = []\n",
    "    int_color = []\n",
    "    bin_int_color = []\n",
    "    \n",
    "    SFD_RA = []; SFD_DEC = []; SFD_TEFF = []; SFD_color1 = []; SFD_color2 = [];\n",
    "    \n",
    "    data_final = pd.DataFrame(columns=[teff,color1,color2])\n",
    "    teff_judge = teff_start\n",
    "    while teff_judge < np.max(starcatalog_fram_fil[teff]) - 1000:\n",
    "       \n",
    "        if teff_judge <9000:\n",
    "            bin_width = 100\n",
    "        else:\n",
    "            bin_width = 630\n",
    "\n",
    "        bin_tbl =starcatalog_fram_fil[np.logical_and(starcatalog_fram_fil[teff] > teff_judge, \\\n",
    "                                                starcatalog_fram_fil[teff] < teff_judge+bin_width)]\n",
    "\n",
    "        #print(teff_judge)\n",
    "       \n",
    "        \n",
    "        if len(bin_tbl) < low_crit:\n",
    "            teff_judge = teff_judge+bin_width\n",
    "            continue\n",
    "            \n",
    "        source_num = 0\n",
    "        #print(len(bin_tbl))\n",
    "\n",
    "        while source_num != len(bin_tbl):\n",
    "            source_num = len(bin_tbl)\n",
    "\n",
    "        data_final = data_final.append(bin_tbl[[teff,color1,color2]])\n",
    "        #print(len(bin_tbl))\n",
    "\n",
    "        int_teff.append(float(teff_judge+bin_width/2))\n",
    "        bin_tbl['color'] = bin_tbl[color1]-bin_tbl[color2]\n",
    "        bin_sort = bin_tbl.sort_index(axis = 0,ascending = True,by = 'color')\n",
    "        \n",
    "        # 每个bin中前ratio_SFD的部分用于取得ebv\n",
    "        color_SFD = bin_sort['color'].values[:math.ceil(len(bin_tbl)*ratio_SFD/100)]\n",
    "        bin_tbl_SFD = bin_sort[(bin_sort['color']<=np.max(color_SFD))]\n",
    "        \n",
    "        for ppp in range(len(bin_tbl_SFD)):\n",
    "            SFD_RA.append(bin_tbl_SFD['RA'].values[ppp])\n",
    "            SFD_DEC.append(bin_tbl_SFD['DEC'].values[ppp])\n",
    "            SFD_TEFF.append(bin_tbl_SFD['TEFF'].values[ppp])\n",
    "            SFD_color1.append(bin_tbl_SFD[color1].values[ppp])\n",
    "            SFD_color2.append(bin_tbl_SFD[color2].values[ppp])\n",
    "        \n",
    "        # 每个bin中前ratio(usually 5%)的部分 用于取得内禀色指数int_color\n",
    "        color5 = bin_sort['color'].values[:math.ceil(len(bin_tbl)*ratio/100)]\n",
    "        bin_tbl_5 = bin_sort[(bin_sort['color']<=np.max(color5))]\n",
    "        \n",
    "        if len(color5) != 0:\n",
    "            bin_mean = np.median(color5)\n",
    "            bin_sigma = np.std(color5)\n",
    "            bin_int_color = color5\\\n",
    "            [((color5<= bin_mean+3*bin_sigma)\\\n",
    "            & (color5>= bin_mean-3*bin_sigma))]\n",
    "\n",
    "            int_color.append(np.median(bin_int_color))\n",
    "            \n",
    "        teff_judge = teff_judge+bin_width\n",
    "        \n",
    "    SFD_tbl_final = pd.DataFrame({'TEFF':np.array(SFD_TEFF),'RA':np.array(SFD_RA),\\\n",
    "                                  'DEC':np.array(SFD_DEC),color1:np.array(SFD_color1),\\\n",
    "                                 color2:np.array(SFD_color2)})\n",
    "    \n",
    "    print(time.time() - start_time)\n",
    "    print(int_teff,int_color)\n",
    "#     print(bin_mean)\n",
    "#     print(data_final.iloc[:,0].size)\n",
    "    return int_teff,int_color,data_final,SFD_tbl_final"
   ]
  },
  {
   "cell_type": "markdown",
   "metadata": {},
   "source": [
    "## 运算，拟合，SFD的准备（Input:)"
   ]
  },
  {
   "cell_type": "code",
   "execution_count": 234,
   "metadata": {
    "scrolled": true
   },
   "outputs": [
    {
     "name": "stderr",
     "output_type": "stream",
     "text": [
      "/Users/SY/anaconda/lib/python3.6/site-packages/ipykernel_launcher.py:38: SettingWithCopyWarning: \n",
      "A value is trying to be set on a copy of a slice from a DataFrame.\n",
      "Try using .loc[row_indexer,col_indexer] = value instead\n",
      "\n",
      "See the caveats in the documentation: http://pandas.pydata.org/pandas-docs/stable/indexing.html#indexing-view-versus-copy\n",
      "/Users/SY/anaconda/lib/python3.6/site-packages/ipykernel_launcher.py:39: FutureWarning: by argument to sort_index is deprecated, pls use .sort_values(by=...)\n"
     ]
    },
    {
     "name": "stdout",
     "output_type": "stream",
     "text": [
      "1.2173011302947998\n",
      "[10315.0, 10945.0, 11575.0, 12205.0, 12835.0, 13465.0, 14095.0, 14725.0, 15355.0, 15985.0, 17245.0, 17875.0, 18505.0, 19135.0, 19765.0, 20395.0, 21025.0, 21655.0, 22285.0, 22915.0] [-0.042999999999999261, -0.051000000000000156, -0.045999999999999375, -0.053000000000000824, -0.048999999999999488, -0.048000000000000043, -0.051000000000000156, -0.057500000000000107, -0.070000000000000284, -0.062999999999998835, -0.10700000000000021, 0.020999999999999908, -0.066999999999999282, -0.060000000000000497, -0.125, -0.1130000000000031, 0.022999999999999687, -0.047000000000000597, 0.025000000000000355, 0.020999999999999019]\n"
     ]
    }
   ],
   "source": [
    "# SFD ratio\n",
    "\n",
    "ratio_SFD = 5\n",
    "\n",
    "# fitting curve\n",
    "int_teff,int_color,data_final,SFD_tbl_ratio = data(teff_start,rat,low_crit,ratio_SFD)\n",
    "\n",
    "fc = np.polyfit(int_teff, int_color, 3)#用3次多项式拟合\n",
    "fitcurve = np.poly1d(fc)\n",
    "# print(fitcurve) #在屏幕上打印拟合多项式\n",
    "\n",
    "colorvals=fitcurve(int_teff)\n",
    "\n",
    "# print(len(colorvals),len(int_teff))\n",
    "#print(len(bin_tbl_final[teff].values))\n",
    "\n",
    "# SFD_tbl_ratio[teff]\n"
   ]
  },
  {
   "cell_type": "markdown",
   "metadata": {},
   "source": [
    "# SFD的使用：—— 将使用到新的包\n",
    "\n",
    "1. 选取SFD中Ebv小于某一个值的认为是零消光源（Lamost)——Thins page\n",
    "2. 用目前的色指数减去 Ebv 给出的消光值，然后去归算内禀色指数 - GOSSS"
   ]
  },
  {
   "cell_type": "code",
   "execution_count": 235,
   "metadata": {
    "scrolled": true
   },
   "outputs": [
    {
     "name": "stdout",
     "output_type": "stream",
     "text": [
      "1419\n",
      "0\n",
      "1\n",
      "2\n",
      "3\n",
      "7\n",
      "8\n",
      "9\n",
      "10\n",
      "11\n",
      "12\n",
      "14\n",
      "15\n",
      "28\n",
      "29\n",
      "30\n",
      "36\n",
      "37\n",
      "42\n",
      "48\n",
      "50\n",
      "51\n",
      "52\n",
      "54\n",
      "55\n",
      "56\n",
      "57\n",
      "58\n",
      "60\n",
      "61\n",
      "63\n",
      "65\n",
      "76\n",
      "77\n",
      "78\n",
      "79\n",
      "81\n",
      "82\n",
      "86\n",
      "89\n",
      "93\n",
      "94\n",
      "97\n",
      "100\n",
      "103\n",
      "105\n",
      "108\n",
      "132\n",
      "140\n",
      "143\n",
      "150\n",
      "151\n",
      "152\n",
      "153\n",
      "154\n",
      "155\n",
      "163\n",
      "167\n",
      "168\n",
      "171\n",
      "174\n",
      "183\n",
      "188\n",
      "192\n",
      "211\n",
      "212\n",
      "214\n",
      "220\n",
      "225\n",
      "227\n",
      "230\n",
      "231\n",
      "235\n",
      "243\n",
      "246\n",
      "251\n",
      "252\n",
      "253\n",
      "254\n",
      "272\n",
      "297\n",
      "298\n",
      "299\n",
      "305\n",
      "306\n",
      "307\n",
      "309\n",
      "310\n",
      "312\n",
      "313\n",
      "315\n",
      "319\n",
      "326\n",
      "327\n",
      "331\n",
      "335\n",
      "340\n",
      "366\n",
      "370\n",
      "376\n",
      "377\n",
      "378\n",
      "380\n",
      "381\n",
      "385\n",
      "406\n",
      "409\n",
      "435\n",
      "462\n",
      "463\n",
      "472\n",
      "473\n",
      "474\n",
      "475\n",
      "476\n",
      "477\n",
      "481\n",
      "485\n",
      "486\n",
      "487\n",
      "492\n",
      "494\n",
      "501\n",
      "503\n",
      "518\n",
      "519\n",
      "520\n",
      "531\n",
      "566\n",
      "569\n",
      "583\n",
      "585\n",
      "591\n",
      "595\n",
      "597\n",
      "598\n",
      "600\n",
      "602\n",
      "604\n",
      "605\n",
      "608\n",
      "612\n",
      "623\n",
      "625\n",
      "627\n",
      "635\n",
      "639\n",
      "666\n",
      "679\n",
      "684\n",
      "685\n",
      "688\n",
      "692\n",
      "693\n",
      "694\n",
      "695\n",
      "697\n",
      "700\n",
      "701\n",
      "706\n",
      "709\n",
      "735\n",
      "736\n",
      "740\n",
      "744\n",
      "746\n",
      "747\n",
      "754\n",
      "767\n",
      "771\n",
      "772\n",
      "784\n",
      "792\n",
      "806\n",
      "807\n",
      "816\n",
      "884\n",
      "896\n",
      "944\n",
      "946\n",
      "980\n",
      "981\n",
      "982\n",
      "983\n",
      "985\n",
      "986\n",
      "987\n",
      "993\n",
      "996\n",
      "997\n",
      "998\n",
      "1003\n",
      "1004\n",
      "1012\n",
      "1014\n",
      "1018\n",
      "1019\n",
      "1022\n",
      "1029\n",
      "1036\n",
      "1048\n",
      "1077\n",
      "1095\n",
      "1096\n",
      "1097\n",
      "1101\n",
      "1102\n",
      "1106\n",
      "1107\n",
      "1115\n",
      "1153\n",
      "1156\n",
      "1157\n",
      "1158\n",
      "1162\n",
      "1165\n",
      "1166\n",
      "1167\n",
      "1168\n",
      "1170\n",
      "1172\n",
      "1185\n",
      "1186\n",
      "1192\n",
      "1193\n",
      "1194\n",
      "1195\n",
      "1225\n",
      "1231\n",
      "1235\n",
      "1237\n",
      "1245\n",
      "1254\n",
      "1255\n",
      "1272\n",
      "1273\n",
      "1275\n",
      "1280\n",
      "1287\n",
      "1288\n",
      "1292\n",
      "1319\n",
      "1370\n",
      "1373\n",
      "1382\n",
      "1383\n",
      "1411\n",
      "145.74070811271667\n"
     ]
    }
   ],
   "source": [
    "## use SFD dustmap\n",
    "from __future__ import print_function\n",
    "from astropy.coordinates import SkyCoord\n",
    "from astropy import units as u\n",
    "from dustmaps.sfd import SFDQuery\n",
    "\n",
    "sfd = SFDQuery()\n",
    "\n",
    "## ebv前的系数需要去文献中拿到。目前使用的是r和i的\n",
    "# Const1 = 0.709 #J #3.303 #g #2.285 #r \n",
    "# Const2 = 0.449 #H #2.285 #r #1.698 #i\n",
    "\n",
    "time_start = time.time()\n",
    "SFD_catalog_color = []\n",
    "SFD_catalog_teff = []\n",
    "lens = len(SFD_tbl_ratio)\n",
    "\n",
    "ebv_final = []\n",
    "\n",
    "# 判断ebv < 0.05，就拿入下一个数组，最后一起画在图上\n",
    "print(lens)\n",
    "for i in range(lens):\n",
    "    coords = SkyCoord(SFD_tbl_ratio['RA'].values[i],SFD_tbl_ratio['DEC'].values[i],\\\n",
    "                      frame = 'icrs',unit = 'deg')\n",
    "    ebv = sfd(coords)\n",
    "    ebv_final.append(ebv)\n",
    "    \n",
    "#     A_c1 = Const1*ebv;\n",
    "#     A_c2 = Const2*ebv;\n",
    "\n",
    "    if ebv < 0.05:\n",
    "        SFD_colorindex = SFD_tbl_ratio[color1].values[i]\\\n",
    "        - (SFD_tbl_ratio[color2].values[i])\n",
    "        SFD_catalog_color.append(SFD_colorindex)\n",
    "    \n",
    "        SFD_catalog_teff.append(SFD_tbl_ratio[teff].values[i])\n",
    "        print(i)\n",
    "#     print(i)\n",
    "\n",
    "print(time.time() - time_start)"
   ]
  },
  {
   "cell_type": "markdown",
   "metadata": {},
   "source": [
    "# 图片输出"
   ]
  },
  {
   "cell_type": "markdown",
   "metadata": {},
   "source": [
    "## 图片保存格式（Input:)"
   ]
  },
  {
   "cell_type": "code",
   "execution_count": 236,
   "metadata": {
    "collapsed": true
   },
   "outputs": [],
   "source": [
    "### figures & Savename\n",
    "cc1 = 'J'\n",
    "cc2 = 'H'\n",
    "\n",
    "save = data_dir + 'pictures/'\n",
    "# save = '/Users/SY/Desktop/obic/picture/'\n",
    "\n",
    "i = datetime.datetime.now()\n",
    "date_now = \"%s_%s_%s_\" % (i.year, i.month, i.day) \n",
    "ylabel = '$%s - %s$'%(cc1,cc2) \n",
    "savename1 = save + date_now + cc1 + cc2 + 'logg3'+'.png'\n",
    "savename2 = save + date_now + cc1 + '_HR_' + cc2 +'.png'\n",
    "savename3 = save + date_now + 'errteff.png'\n",
    "\n",
    "savename5 = save + date_now + cc1 + cc2 + '_logg3_SFD'+'5%'+'.png'\n"
   ]
  },
  {
   "cell_type": "code",
   "execution_count": 237,
   "metadata": {},
   "outputs": [
    {
     "name": "stdout",
     "output_type": "stream",
     "text": [
      "           3             2\n",
      "5.481e-14 x - 2.109e-09 x + 1.961e-05 x - 0.09535\n"
     ]
    }
   ],
   "source": [
    "# plt hist of ebv\n",
    "\n",
    "# plt.hist(ebv_final,1000)\n",
    "# plt.savefig(save+'ebv.png',dpi = 200)\n",
    "# plt.xlim(0,2)\n",
    "# plt.show()\n",
    "\n",
    "# 拟合SFD\n",
    "\n",
    "fcc = np.polyfit(SFD_catalog_teff, SFD_catalog_color, 3)#用3次多项式拟合 SFD\n",
    "fitcurve = np.poly1d(fcc)\n",
    "print(fitcurve) #在屏幕上打印拟合多项式\n",
    "\n",
    "SFD_vals = fitcurve(SFD_catalog_teff)\n",
    "\n"
   ]
  },
  {
   "cell_type": "markdown",
   "metadata": {},
   "source": [
    "## 绘图所需的具体量（Alternative)"
   ]
  },
  {
   "cell_type": "code",
   "execution_count": 238,
   "metadata": {
    "scrolled": false
   },
   "outputs": [
    {
     "data": {
      "image/png": "[encoded data removed]",
      "text/plain": [
       "<matplotlib.figure.Figure at 0x133bfc5f8>"
      ]
     },
     "metadata": {},
     "output_type": "display_data"
    }
   ],
   "source": [
    "#PLT\n",
    "plt.figure(1,figsize=(7, 5))  \n",
    "plt.xlabel('$T_\\mathrm{eff}(K)$',fontsize=14)\n",
    "plt.ylabel(ylabel,fontsize=14)\n",
    "#plt.ylim(-4,9)\n",
    "\n",
    "# the data we use\n",
    "plt.scatter(starcatalog_fram_fil[teff], starcatalog_fram_fil[color1]-starcatalog_fram_fil[color2],\\\n",
    "            c='darkgray',s=8, edgecolors='None',label='LAMOST')\n",
    "\n",
    "# data we use in the SFD dustmap\n",
    "plt.scatter(SFD_catalog_teff,SFD_catalog_color,alpha=1,edgecolors='None',c='violet',s=4,label='SFD dustmap',zorder=2)\n",
    "\n",
    "# SFD fitcurve\n",
    "plt.plot(SFD_catalog_teff, SFD_vals, c='black',linewidth = 3,label='fitting curve of \\nthe E(B-V)<0.05',zorder=1)\n",
    "\n",
    "# ic plot from blue edge\n",
    "plt.plot(int_teff, colorvals, c='r',linewidth = 3,label='fitting curve of \\nthe bluest 5%',zorder=1)\n",
    "\n",
    "# ic from blue edge\n",
    "plt.scatter(int_teff, int_color, edgecolors='None',c='b', marker = '+',s=9,label='Median of\\nthe bluest 5%',zorder=2)\n",
    "\n",
    "# ic from Allen's work \n",
    "# plt.scatter(BBFrame_fil['Teff'],BBFrame_fil['J-H'],c='lime',s=11,label='Allen',zorder=2)\n",
    "\n",
    "# ic from parsec\n",
    "plt.scatter(parsec_teff,parsec_color,c='gold',s=9,label='PARSEC',zorder=2)\n",
    "\n",
    "### Draw the plot\n",
    "\n",
    "# plt.xlabel('$T_\\mathrm{eff}$'); plt.ylabel(ylabel)\n",
    "#plt.scatter(BBFrame_fil['Teff'],BBFrame_fil['J-H'],c='#FF6666',s=11,label='Allen')\n",
    "\n",
    "plt.legend(loc='upper right')\n",
    "#new_ticks = np.linspace(-1,2,7)\n",
    "#plt.yticks(new_ticks)\n",
    "# plt.ylim(np.min(starcatalog_fram_fil[color1] - starcatalog_fram_fil[color2]) - 0.5,\\\n",
    "#         np.max(starcatalog_fram_fil[color1] - starcatalog_fram_fil[color2]))\n",
    "plt.xticks(fontsize=12)\n",
    "plt.yticks(fontsize=12)\n",
    "# plt.savefig(savename1,dpi=200)\n",
    "plt.savefig(savename5,dpi=200)\n",
    "plt.show()"
   ]
  },
  {
   "cell_type": "markdown",
   "metadata": {},
   "source": [
    "# some other features"
   ]
  },
  {
   "cell_type": "code",
   "execution_count": 123,
   "metadata": {},
   "outputs": [
    {
     "name": "stdout",
     "output_type": "stream",
     "text": [
      "10843\n"
     ]
    }
   ],
   "source": [
    "print(len(starcatalog_fram_fil))"
   ]
  },
  {
   "cell_type": "markdown",
   "metadata": {},
   "source": [
    "## 赫罗图"
   ]
  },
  {
   "cell_type": "code",
   "execution_count": 124,
   "metadata": {},
   "outputs": [
    {
     "name": "stdout",
     "output_type": "stream",
     "text": [
      "5\n"
     ]
    },
    {
     "name": "stderr",
     "output_type": "stream",
     "text": [
      "/Users/SY/anaconda/lib/python3.6/site-packages/ipykernel_launcher.py:38: SettingWithCopyWarning: \n",
      "A value is trying to be set on a copy of a slice from a DataFrame.\n",
      "Try using .loc[row_indexer,col_indexer] = value instead\n",
      "\n",
      "See the caveats in the documentation: http://pandas.pydata.org/pandas-docs/stable/indexing.html#indexing-view-versus-copy\n",
      "/Users/SY/anaconda/lib/python3.6/site-packages/ipykernel_launcher.py:39: FutureWarning: by argument to sort_index is deprecated, pls use .sort_values(by=...)\n"
     ]
    },
    {
     "name": "stdout",
     "output_type": "stream",
     "text": [
      "1.1398210525512695\n",
      "[10315.0, 10945.0, 11575.0, 12205.0, 12835.0, 13465.0, 14095.0, 14725.0, 15355.0, 15985.0, 17245.0, 17875.0, 18505.0, 19135.0, 19765.0, 20395.0, 21655.0, 22285.0] [-0.34100000000000019, -0.33499999999999908, -0.42400000000000126, -0.34800000000000164, -0.44499999999999851, -0.46149999999999824, -0.47300000000000253, -0.4300000000000006, -0.4845000000000006, -0.48499999999999854, -0.39150000000000151, -0.32399999999999807, -0.48550000000000004, -0.22350000000000048, -0.47650000000000148, -0.47750000000000181, -0.4740000000000002, -0.48800000000000132]\n"
     ]
    },
    {
     "data": {
      "image/png": "[encoded data removed]",
      "text/plain": [
       "<matplotlib.figure.Figure at 0x126093080>"
      ]
     },
     "metadata": {},
     "output_type": "display_data"
    }
   ],
   "source": [
    "# H-R 1\n",
    "plt.figure(2)\n",
    "plt.xlabel(ylabel,fontsize=14); plt.ylabel(cc1,fontsize=14)\n",
    "plt.xlim(-6,6)\n",
    "plt.ylim(5,25)\n",
    "# for rat in ratio:\n",
    "print(rat)\n",
    "int_teff,int_color,data_final,SFD_tbl_final = data(teff_start,rat,low_crit,ratio_SFD)\n",
    "\n",
    "cm = plt.cm.get_cmap('RdYlBu')\n",
    "sc = plt.scatter(origin[color1]-origin[color2], origin[color1],\\\n",
    "            c= 'darkgray',s=5,edgecolors = 'None',alpha = 1,cmap=cm,label='all sources')\n",
    "plt.scatter(data_final[color1]-data_final[color2], data_final[color1],\\\n",
    "             c='g',s=5, edgecolors='None', alpha=1,label='selected sources')\n",
    "#plt.colorbar(sc)\n",
    "plt.legend(loc='upper right')\n",
    "# new_ticks = np.linspace(-2,3,18)\n",
    "# plt.xticks(new_ticks)\n",
    "plt.xticks(fontsize=12)\n",
    "plt.yticks(fontsize=12)\n",
    "plt.savefig(savename2,dpi=200)    \n",
    "plt.show()"
   ]
  },
  {
   "cell_type": "code",
   "execution_count": 43,
   "metadata": {},
   "outputs": [
    {
     "data": {
      "image/png": "[encoded data removed]",
      "text/plain": [
       "<matplotlib.figure.Figure at 0x107a69fd0>"
      ]
     },
     "metadata": {},
     "output_type": "display_data"
    }
   ],
   "source": [
    "# 赫罗图 2\n",
    "plt.xlabel('r')\n",
    "plt.ylabel(ylabel)\n",
    "\n",
    "cm = plt.cm.get_cmap('RdYlBu')\n",
    "\n",
    "sc = plt.scatter(starcatalog_fram_fil[color1]-starcatalog_fram_fil[color2],starcatalog_fram_fil[color1],\\\n",
    "            c = starcatalog_fram_fil[err_c1],s=2,edgecolors = 'None',alpha = 0.7,cmap=cm)\n",
    "\n",
    "plt.colorbar(sc)\n",
    "\n",
    "plt.xlim(-5,5)\n",
    "plt.ylim(9,22)\n",
    "plt.savefig(save+'HR.png',dpi=200)\n",
    "plt.show()"
   ]
  },
  {
   "cell_type": "markdown",
   "metadata": {},
   "source": [
    "## 参数统计图"
   ]
  },
  {
   "cell_type": "code",
   "execution_count": 93,
   "metadata": {},
   "outputs": [
    {
     "data": {
      "image/png": "[encoded data removed]",
      "text/plain": [
       "<matplotlib.figure.Figure at 0x1188647f0>"
      ]
     },
     "metadata": {},
     "output_type": "display_data"
    }
   ],
   "source": [
    "plt.figure(3)\n",
    "plt.xlabel('$T_\\mathrm{eff}(K)$')\n",
    "plt.ylabel('errTeff')\n",
    "plt.scatter(starcatalog_fram_fil[teff],starcatalog_fram_fil[err_teff],\\\n",
    "            c='darkgray',s=5, edgecolors='None', alpha=0.5)\n",
    "plt.show()"
   ]
  },
  {
   "cell_type": "markdown",
   "metadata": {},
   "source": [
    "# Remember List for Lamost"
   ]
  },
  {
   "cell_type": "markdown",
   "metadata": {},
   "source": [
    "## 4月19日讨论：\n",
    "\n",
    "1. log g > 4.0 比较可靠\n",
    "2. 16000-18000之间的这个区域很特别，似乎色指数就是偏红了\n",
    "3. Lamost最早也只到B2\n",
    "4. O-type 使用SFD的老方法——减去 SFD 的 E(B-V)，获得所有源的内禀色指数\n",
    "5. 向紫外波段扩充"
   ]
  },
  {
   "cell_type": "markdown",
   "metadata": {},
   "source": [
    "## 5月2日组会：\n",
    "\n",
    "** 苑老师 **： Lamost DR5 和 Mr.Yuan 给的星表由参数上的差别（跑的不同的pipline)"
   ]
  },
  {
   "cell_type": "markdown",
   "metadata": {
    "collapsed": true
   },
   "source": []
  },
  {
   "cell_type": "markdown",
   "metadata": {
    "collapsed": true
   },
   "source": [
    "## 5月3日讨论：\n",
    "1. logg< 3.5\n",
    "* Otype 色指数考虑误差限制在一个范围内\n",
    "* 延伸到可见光和紫外波段\n",
    "* J-H去掉3sigema再取平均再去3sigema知道没有源被扔掉\n",
    "* 去掉K饱和源"
   ]
  },
  {
   "cell_type": "markdown",
   "metadata": {},
   "source": []
  }
 ],
 "metadata": {
  "kernelspec": {
   "display_name": "Python 3",
   "language": "python",
   "name": "python3"
  },
  "language_info": {
   "codemirror_mode": {
    "name": "ipython",
    "version": 3
   },
   "file_extension": ".py",
   "mimetype": "text/x-python",
   "name": "python",
   "nbconvert_exporter": "python",
   "pygments_lexer": "ipython3",
   "version": "3.6.1"
  },
  "toc": {
   "base_numbering": 1,
   "nav_menu": {},
   "number_sections": true,
   "sideBar": true,
   "skip_h1_title": false,
   "title_cell": "Table of Contents",
   "title_sidebar": "Contents",
   "toc_cell": true,
   "toc_position": {
    "height": "calc(100% - 180px)",
    "left": "10px",
    "top": "150px",
    "width": "244px"
   },
   "toc_section_display": true,
   "toc_window_display": false
  }
 },
 "nbformat": 4,
 "nbformat_minor": 2
}
