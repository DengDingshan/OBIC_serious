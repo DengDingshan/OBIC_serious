{
 "cells": [
  {
   "cell_type": "markdown",
   "metadata": {
    "toc": true
   },
   "source": [
    "<h1>Table of Contents<span class=\"tocSkip\"></span></h1>\n",
    "<div class=\"toc\"><ul class=\"toc-item\"><li><span><a href=\"#综述\" data-toc-modified-id=\"综述-1\"><span class=\"toc-item-num\">1&nbsp;&nbsp;</span>综述</a></span></li><li><span><a href=\"#数据的引入和format-(Alternative)\" data-toc-modified-id=\"数据的引入和format-(Alternative)-2\"><span class=\"toc-item-num\">2&nbsp;&nbsp;</span>数据的引入和format (Alternative)</a></span><ul class=\"toc-item\"><li><span><a href=\"#参数的选取（Input）\" data-toc-modified-id=\"参数的选取（Input）-2.1\"><span class=\"toc-item-num\">2.1&nbsp;&nbsp;</span>参数的选取（Input）</a></span></li><li><span><a href=\"#K星等筛选（Input:）\" data-toc-modified-id=\"K星等筛选（Input:）-2.2\"><span class=\"toc-item-num\">2.2&nbsp;&nbsp;</span>K星等筛选（Input:）</a></span></li><li><span><a href=\"#Logg，误差的选取(Input:)\" data-toc-modified-id=\"Logg，误差的选取(Input:)-2.3\"><span class=\"toc-item-num\">2.3&nbsp;&nbsp;</span>Logg，误差的选取(Input:)</a></span></li><li><span><a href=\"#有效温度-Teff-的限制（Input:）\" data-toc-modified-id=\"有效温度-Teff-的限制（Input:）-2.4\"><span class=\"toc-item-num\">2.4&nbsp;&nbsp;</span>有效温度 Teff 的限制（Input:）</a></span></li><li><span><a href=\"#蓝色边缘的比例，bin最小值的选取（Input：）\" data-toc-modified-id=\"蓝色边缘的比例，bin最小值的选取（Input：）-2.5\"><span class=\"toc-item-num\">2.5&nbsp;&nbsp;</span>蓝色边缘的比例，bin最小值的选取（Input：）</a></span></li><li><span><a href=\"#比较星表的数据选取（Input:）\" data-toc-modified-id=\"比较星表的数据选取（Input:）-2.6\"><span class=\"toc-item-num\">2.6&nbsp;&nbsp;</span>比较星表的数据选取（Input:）</a></span></li></ul></li><li><span><a href=\"#内禀色指数的计算（蓝色边缘方法），同时取出某一部分用于SFD判断\" data-toc-modified-id=\"内禀色指数的计算（蓝色边缘方法），同时取出某一部分用于SFD判断-3\"><span class=\"toc-item-num\">3&nbsp;&nbsp;</span>内禀色指数的计算（蓝色边缘方法），同时取出某一部分用于SFD判断</a></span><ul class=\"toc-item\"><li><span><a href=\"#DEF\" data-toc-modified-id=\"DEF-3.1\"><span class=\"toc-item-num\">3.1&nbsp;&nbsp;</span>DEF</a></span></li><li><span><a href=\"#运算，拟合，SFD的准备（Input:)\" data-toc-modified-id=\"运算，拟合，SFD的准备（Input:)-3.2\"><span class=\"toc-item-num\">3.2&nbsp;&nbsp;</span>运算，拟合，SFD的准备（Input:)</a></span></li></ul></li><li><span><a href=\"#SFD的使用：——-将使用到新的包\" data-toc-modified-id=\"SFD的使用：——-将使用到新的包-4\"><span class=\"toc-item-num\">4&nbsp;&nbsp;</span>SFD的使用：—— 将使用到新的包</a></span></li><li><span><a href=\"#图片输出\" data-toc-modified-id=\"图片输出-5\"><span class=\"toc-item-num\">5&nbsp;&nbsp;</span>图片输出</a></span><ul class=\"toc-item\"><li><span><a href=\"#图片保存格式（Input:)\" data-toc-modified-id=\"图片保存格式（Input:)-5.1\"><span class=\"toc-item-num\">5.1&nbsp;&nbsp;</span>图片保存格式（Input:)</a></span></li><li><span><a href=\"#绘图所需的具体量（Alternative)\" data-toc-modified-id=\"绘图所需的具体量（Alternative)-5.2\"><span class=\"toc-item-num\">5.2&nbsp;&nbsp;</span>绘图所需的具体量（Alternative)</a></span></li></ul></li><li><span><a href=\"#some-other-features\" data-toc-modified-id=\"some-other-features-6\"><span class=\"toc-item-num\">6&nbsp;&nbsp;</span>some other features</a></span><ul class=\"toc-item\"><li><span><a href=\"#赫罗图\" data-toc-modified-id=\"赫罗图-6.1\"><span class=\"toc-item-num\">6.1&nbsp;&nbsp;</span>赫罗图</a></span></li><li><span><a href=\"#参数统计图\" data-toc-modified-id=\"参数统计图-6.2\"><span class=\"toc-item-num\">6.2&nbsp;&nbsp;</span>参数统计图</a></span></li></ul></li><li><span><a href=\"#Remember-List-for-Lamost\" data-toc-modified-id=\"Remember-List-for-Lamost-7\"><span class=\"toc-item-num\">7&nbsp;&nbsp;</span>Remember List for Lamost</a></span><ul class=\"toc-item\"><li><span><a href=\"#4月19日讨论：\" data-toc-modified-id=\"4月19日讨论：-7.1\"><span class=\"toc-item-num\">7.1&nbsp;&nbsp;</span>4月19日讨论：</a></span></li><li><span><a href=\"#5月2日组会：\" data-toc-modified-id=\"5月2日组会：-7.2\"><span class=\"toc-item-num\">7.2&nbsp;&nbsp;</span>5月2日组会：</a></span></li><li><span><a href=\"#5月3日讨论：\" data-toc-modified-id=\"5月3日讨论：-7.3\"><span class=\"toc-item-num\">7.3&nbsp;&nbsp;</span>5月3日讨论：</a></span></li></ul></li></ul></div>"
   ]
  },
  {
   "cell_type": "markdown",
   "metadata": {},
   "source": [
    "# 综述\n",
    "** 蓝色边缘程序使用pandas的改写 **\n",
    "\n",
    "_由于有一些星表中包含缺省项，我们需要使用pandas中使用dataframe读取csv中自动将缺省项补上的优势，来优化我们的自动化程式_\n",
    "\n",
    "_(fits的文件我们可以使用topcat改变格式并且给星表瘦身，以加快程序读取速度）_\n",
    "\n",
    "我们需要实现的功能包含以下几点：\n",
    "\n",
    "输入：\n",
    "* csv星表**_的名字_**\n",
    "* 需要画的色指数的两个测光点（比如 $ J - H $ 我们需要输入$J$ 和 $H$）\n",
    "\n",
    "程序中自带（我们所需要限定的条件）\n",
    "_写在其中的某一个cell中作为 filt 条件_\n",
    "* 限定的误差范围（测光数据一般选择 0.3，光谱数据可以具体再定，基本上认为不太离谱的都可以用）\n",
    "* 去掉错误的点（见之前的程序)\n",
    "\n",
    "输出：\n",
    "* 颜色-teff 图\n",
    "\n",
    "Now,trying:\n",
    "* SFD: 一个新的ratio,比如说0.05，把这个ratio底下的部分输入进SFD,判断：E(B-V) <0.3 的值就是我们零消光的值。这个值去拟合一个新的curve。"
   ]
  },
  {
   "cell_type": "markdown",
   "metadata": {},
   "source": [
    "# 数据的引入和format (Alternative)"
   ]
  },
  {
   "cell_type": "code",
   "execution_count": 1,
   "metadata": {
    "collapsed": true
   },
   "outputs": [],
   "source": [
    "import pandas as pd\n",
    "import numpy as np\n",
    "import math\n",
    "import matplotlib.pyplot as plt\n",
    "import time\n",
    "import datetime\n",
    "%matplotlib inline\n",
    "\n",
    "data_dir = '/Users/SY/Desktop/obic/data/'\n",
    "#data_dir = '/Users/dengdingshan/Documents/data/obic/'"
   ]
  },
  {
   "cell_type": "code",
   "execution_count": 2,
   "metadata": {
    "collapsed": true
   },
   "outputs": [],
   "source": [
    "#read as pandas\n",
    "starcatalog_fram = pd.read_csv(data_dir + 'lamost_2mass_wise_new2.csv')\n",
    "\n",
    "###########\n",
    "\n",
    "#starcatlog_fram = starcatlog_fram.ix[:,:517]\n",
    "#print(starcatalog_fram)"
   ]
  },
  {
   "cell_type": "code",
   "execution_count": 3,
   "metadata": {
    "collapsed": true
   },
   "outputs": [],
   "source": [
    "#read parsec\n",
    "parsec_fram = pd.read_csv(data_dir + 'parsec_jhkw.csv')\n",
    "\n",
    "############\n",
    "\n",
    "#print(parsec_fram.values)"
   ]
  },
  {
   "cell_type": "code",
   "execution_count": 4,
   "metadata": {
    "collapsed": true
   },
   "outputs": [],
   "source": [
    "### Elective CHOICE\n",
    "\n",
    "########### I.\n",
    "#change logTeff into Teff.\n",
    "\n",
    "# def tenn(x):\n",
    "#     y=10 ** x\n",
    "#     return y\n",
    "\n",
    "# Teff_tbl = starcatalog['logTeff'].apply(tenn)\n",
    "###########\n",
    "\n",
    "########### II.\n",
    "#add [Teff] into DATAFRAME\n",
    "\n",
    "#data_fram = starcatalog_fram[['TEFF_1','ERR_TEFF_1','Jmag_1','e_Jmag_1','Hmag_1','e_Hmag_1']]\n",
    "#print(data_fram)\n",
    "###########\n",
    "\n",
    "########### III.\n",
    "# fill the NaN blocks with 0\n",
    "\n",
    "starcatalog_fram_fil_1 = starcatalog_fram.fillna(0)\n",
    "\n",
    "#print(starcatalog_fram_fil['LOGG'])\n",
    "############\n"
   ]
  },
  {
   "cell_type": "code",
   "execution_count": 5,
   "metadata": {
    "scrolled": true
   },
   "outputs": [
    {
     "data": {
      "text/plain": [
       "Index(['col1', 'TEFF', 'ERR_TEFF', 'RA', 'DEC', 'LOGG', 'ERR_LOGG', 'FEH',\n",
       "       'ERR_FEH', '2MASS', 'RAJ2000', 'DEJ2000', 'errHalfMaj', 'errHalfMin',\n",
       "       'errPosAng', 'Jmag', 'Hmag', 'Kmag', 'e_Jmag', 'e_Hmag', 'e_Kmag',\n",
       "       'Qfl', 'Rfl', 'X', 'MeasureJD', 'angDist', 'JNAME', 'ra_x', 'dec_x',\n",
       "       'errHalfMaj_x', 'errHalfMin_x', 'errPosAng_x', 'W1mag', 'W2mag',\n",
       "       'W3mag', 'W4mag', 'Jmag_x', 'Hmag_x', 'Kmag_x', 'e_W1mag', 'e_W2mag',\n",
       "       'e_W3mag', 'e_W4mag', 'e_Jmag_x', 'e_Hmag_x', 'e_Kmag_x', 'cntr',\n",
       "       'cc_flags', 'ext_flg', 'var_flg', 'ph_qual', 'r_2mass', 'angDist_x'],\n",
       "      dtype='object')"
      ]
     },
     "execution_count": 5,
     "metadata": {},
     "output_type": "execute_result"
    }
   ],
   "source": [
    "starcatalog_fram_fil_1.columns"
   ]
  },
  {
   "cell_type": "markdown",
   "metadata": {},
   "source": [
    "## 参数的选取（Input）"
   ]
  },
  {
   "cell_type": "code",
   "execution_count": 24,
   "metadata": {
    "collapsed": true
   },
   "outputs": [],
   "source": [
    "### variables\n",
    "\n",
    "teff = 'TEFF'\n",
    "\n",
    "color1 = 'Jmag'\n",
    "color2 = 'W4mag'\n",
    "err_teff = 'ERR_TEFF'\n",
    "\n",
    "err_c1 = 'e_' + color1\n",
    "#'e_' + color1\n",
    "#color1 + 'err' \n",
    "#color1 + 'err'\n",
    "#ERR_' + color1\n",
    "#'e_' + color1\n",
    "\n",
    "err_c2 = 'e_' + color2\n",
    "#'ERR_' + color2\n",
    "#'e_' + color2"
   ]
  },
  {
   "cell_type": "markdown",
   "metadata": {},
   "source": [
    "## K星等筛选（Input:）\n"
   ]
  },
  {
   "cell_type": "code",
   "execution_count": 25,
   "metadata": {
    "collapsed": true
   },
   "outputs": [],
   "source": [
    "starcatalog_fram_fil_2 = starcatalog_fram_fil_1[(starcatalog_fram_fil_1['Kmag']>4.5)]"
   ]
  },
  {
   "cell_type": "markdown",
   "metadata": {},
   "source": [
    "## Logg，误差的选取(Input:)"
   ]
  },
  {
   "cell_type": "code",
   "execution_count": 26,
   "metadata": {
    "collapsed": true
   },
   "outputs": [],
   "source": [
    "### we just need the mainsquence (dwarf stars)\n",
    "\n",
    "# #judge logg >3.5\n",
    "\n",
    "starcatalog_fram_fil = starcatalog_fram_fil_2[(starcatalog_fram_fil_2['LOGG']>3.5)]\n",
    "parsec_fram = parsec_fram[(parsec_fram['logg']>3.5)]                                            "
   ]
  },
  {
   "cell_type": "code",
   "execution_count": 27,
   "metadata": {},
   "outputs": [
    {
     "name": "stdout",
     "output_type": "stream",
     "text": [
      "2925\n"
     ]
    }
   ],
   "source": [
    "### get the good stars\n",
    "\n",
    "# judge  data\n",
    "starcatalog_fram_fil=starcatalog_fram_fil[((starcatalog_fram_fil[err_c1] != 0) \\\n",
    "                                          & (starcatalog_fram_fil[err_c2] != 0)\\\n",
    "                                          & (starcatalog_fram_fil[err_c1] != -99) \\\n",
    "                                          & (starcatalog_fram_fil[err_c2] != -99))\\\n",
    "                                         & ((starcatalog_fram_fil[color1] != 0)\\\n",
    "                                           & (starcatalog_fram_fil[color2] != 0)\\\n",
    "                                           & (starcatalog_fram_fil[color1] != -99) \\\n",
    "                                           & (starcatalog_fram_fil[color2] != -99))\\\n",
    "                                         &((starcatalog_fram_fil[err_c1] <=0.03)\\\n",
    "                                          & (starcatalog_fram_fil[err_c2] <=0.1))]\n",
    "### additional judgement\n",
    "\n",
    "# starcatalog_fram_fil=starcatalog_fram_fil[(starcatalog_fram_fil[err_c1] <=0.2)\\\n",
    "#                                            &(starcatalog_fram_fil[err_c2] <=0.05)]\n",
    "\n",
    "print(starcatalog_fram_fil.iloc[:,0].size)"
   ]
  },
  {
   "cell_type": "code",
   "execution_count": 28,
   "metadata": {
    "collapsed": true
   },
   "outputs": [],
   "source": [
    "### draw the png of errTeff \n",
    "\n",
    "# plt.figure(3)\n",
    "# plt.xlabel('$T_\\mathrm{eff}(K)$',fontsize=14)\n",
    "# plt.ylabel('$σ_\\mathrm{Teff}$',fontsize=14)\n",
    "# plt.scatter(starcatalog_fram_fil[teff],starcatalog_fram_fil[err_teff],\\\n",
    "#             c='steelblue',s=8, edgecolors='None',alpha=0.2,label='$σ_\\mathrm{Teff}$(LAMOST)')\n",
    "# plt.legend(loc='lower right')\n",
    "# plt.xticks(fontsize=12)\n",
    "# plt.yticks(fontsize=12)\n",
    "# plt.savefig(savename3,dpi=200)  \n",
    "# plt.show()\n",
    "\n",
    "### "
   ]
  },
  {
   "cell_type": "code",
   "execution_count": 29,
   "metadata": {},
   "outputs": [
    {
     "name": "stdout",
     "output_type": "stream",
     "text": [
      "        col1        TEFF   ERR_TEFF          RA        DEC      LOGG  \\\n",
      "458      598  14425.9830  628.42676   51.980583  55.172440  3.748644   \n",
      "652      802  14857.9850  585.44684   51.276934  57.595299  3.958282   \n",
      "1363    1592   8047.3765  460.67136   91.140970  30.494438  4.144221   \n",
      "2774    3169  19039.9650  592.30890  115.966770  27.210983  3.589174   \n",
      "2896    3297   8735.8250  435.52080   87.906525  27.289047  4.449390   \n",
      "3615    4055   8119.0090  429.14865   91.115314  30.500345  3.830603   \n",
      "3715    4163   9475.9040  557.18414   47.373877  52.712032  3.647403   \n",
      "5525    6228  17768.8630  622.45374  138.968321  29.556669  3.602798   \n",
      "5657    6384  19072.4160  528.03530  341.055435  56.600761  3.589174   \n",
      "5689    6421   8139.8423  391.72217  339.403435  55.888237  3.759329   \n",
      "5719    6452  19157.3240  527.99475  339.930070  57.694553  3.589174   \n",
      "5722    6455  13227.9050  628.97120  339.287354  57.812336  3.781759   \n",
      "5732    6465  19046.8400  548.47614  338.920686  58.195023  3.589174   \n",
      "5733    6466  13330.3870  558.89655  338.772123  58.386681  3.818725   \n",
      "5739    6473   8642.7040  405.42603  338.750654  58.138725  4.010781   \n",
      "5762    6501   8768.8530  454.72730  339.743276  58.532501  3.821691   \n",
      "5787    6527   8217.1260  440.76617  342.209900  58.367222  3.772289   \n",
      "5802    6544  11651.3320  554.67523  341.205994  57.716362  3.678267   \n",
      "5825    6568   8585.9950  346.55576  341.812653  58.572914  3.690924   \n",
      "5829    6573  18473.5500  543.86970  341.859741  58.218582  3.857065   \n",
      "5830    6574  12571.1810  534.86035  342.120667  58.207947  3.816897   \n",
      "5908    6655   8234.5600  413.51920  345.104860  57.746586  3.913647   \n",
      "5940    6688   8132.7407  435.10420  342.236281  56.521267  3.861198   \n",
      "5968    6720   8681.0220  433.86140  342.971266  55.961411  3.646726   \n",
      "6041    6806  12858.7380  514.86975  342.367394  59.345055  3.798300   \n",
      "6046    6811   8030.4110  401.31223  343.614215  58.369408  3.801605   \n",
      "6048    6813   9291.0520  511.01584  342.135096  58.984772  3.785627   \n",
      "6107    6880  12526.0530  537.47675  337.005647  57.825672  3.744786   \n",
      "6134    6910  12307.3100  525.82520  342.646497  60.282516  3.816897   \n",
      "6162    6939   8570.7200  378.23030  343.795672  60.113373  4.252267   \n",
      "...      ...         ...        ...         ...        ...       ...   \n",
      "251194  4046  20119.5350  519.91650  353.245961  62.215309  3.781025   \n",
      "251198  4056  20032.8650  520.87354  324.220700  12.788638  3.781025   \n",
      "251201  4059  21633.1930  514.38390   69.974390  54.029461  3.727426   \n",
      "251215  4102  22497.6640  540.08420   67.748920  52.664967  3.777122   \n",
      "251220  4108  20964.0940  518.07920   63.073979  52.030899  3.725463   \n",
      "251221  4109  21636.9100  517.20400   65.083336  52.820545  3.812556   \n",
      "251222  4110  23285.7640  541.93550   64.649307  52.865093  3.796355   \n",
      "251267  4229  21898.9920  586.10460  348.282136  59.627961  3.727426   \n",
      "251268  4230  20803.1170  579.64166  348.465653  59.647304  3.547412   \n",
      "251269  4231  20117.9630  563.37540  349.996013  59.484790  3.681678   \n",
      "251275  4237  20646.2130  595.02660  350.242229  60.140608  3.681678   \n",
      "251277  4239  20972.2870  563.85380  349.332528  60.127635  3.860888   \n",
      "251305  4284  20460.4770  517.35693   99.437547   0.752590  3.740306   \n",
      "251326  4335  22547.6740  528.76605  347.917482  57.259554  3.752531   \n",
      "251339  4381  22929.0300  516.42944   19.637755  58.375135  3.857007   \n",
      "251351  4397  21447.6620  517.20400   39.750657  61.237695  3.812556   \n",
      "251356  4403  22458.7320  528.74070   42.250807  62.535328  3.752531   \n",
      "251359  4406  21931.1020  614.92310   42.186190  61.993195  3.648790   \n",
      "251361  4408  20021.4140  519.91650   37.376963  61.495595  3.781025   \n",
      "251363  4410  21261.4600  518.07623   45.749409  61.694004  3.812556   \n",
      "251374  4421  21352.7660  520.74335   38.297730  61.450859  3.812556   \n",
      "251384  4431  22664.7910  517.07690   36.167806  62.265108  3.852343   \n",
      "251392  4450  22932.6390  515.69710   36.009300  57.353900  3.857007   \n",
      "251417  4481  20227.8870  585.62850   92.698226  13.675604  3.781025   \n",
      "251430  4525  20820.0350  528.46070   85.694229  28.925579  3.740306   \n",
      "251431  4526  22097.5920  516.33093   85.912383  28.244617  3.816145   \n",
      "251432  4529  20890.6740  517.35693   85.963339  30.998077  3.740306   \n",
      "251434  4531  20189.8280  519.91650   83.326006  29.376095  3.781025   \n",
      "251446  4590  21993.9120  555.43475   92.133840  21.610920  3.648789   \n",
      "251464  4634  21940.8440  565.74725   94.056205  22.763550  3.727426   \n",
      "\n",
      "        ERR_LOGG       FEH   ERR_FEH             2MASS    ...      e_Jmag_x  \\\n",
      "458     0.228583  0.134907  0.553394  03275534+5510207    ...         0.021   \n",
      "652     0.236530 -0.489909  0.587931  03250646+5735429    ...         0.020   \n",
      "1363    0.209752 -0.026783  0.272587  06043382+3029400    ...         0.025   \n",
      "2774    0.221425  0.187472  0.544203  07435202+2712395    ...         0.026   \n",
      "2896    0.218358 -0.863460  0.364333  05513757+2717205    ...         0.022   \n",
      "3615    0.239292 -0.894412  0.338183  06042766+3030013    ...         0.029   \n",
      "3715    0.236804 -0.115942  0.349270  03092973+5242432    ...         0.018   \n",
      "5525    0.228890  0.090563  0.555084  09155240+2933240    ...         0.028   \n",
      "5657    0.213920  0.182841  0.537962  22441330+5636027    ...         0.019   \n",
      "5689    0.148569 -0.306495  0.219303  22373683+5553176    ...         0.022   \n",
      "5719    0.213929  0.181832  0.537979  22394321+5741404    ...         0.021   \n",
      "5722    0.226616  0.201574  0.549306  22370896+5748443    ...         0.024   \n",
      "5732    0.211651  0.448735  0.471684  22354096+5811420    ...         0.020   \n",
      "5733    0.217660  0.154153  0.541234  22350530+5823121    ...         0.020   \n",
      "5739    0.142046 -0.306789  0.236229  22350015+5808193    ...         0.021   \n",
      "5762    0.194182 -0.201961  0.310512  22385839+5831568    ...         0.024   \n",
      "5787    0.212830  0.179516  0.319935  22485038+5822019    ...         0.021   \n",
      "5802    0.217767  0.120070  0.541881  22444943+5742588    ...         0.023   \n",
      "5825    0.217742 -0.549191  0.366017  22471505+5834225    ...         0.021   \n",
      "5829    0.220819 -0.149604  0.551033  22472637+5813073    ...         0.027   \n",
      "5830    0.215330  0.127140  0.539626  22482895+5812284    ...         0.021   \n",
      "5908    0.170806 -0.186202  0.318136  23002517+5744477    ...         0.021   \n",
      "5940    0.270957 -0.119073  0.313656  22485671+5631166    ...         0.028   \n",
      "5968    0.192342 -0.257785  0.266734  22515308+5557410    ...         0.029   \n",
      "6041    0.216697 -0.175243  0.545970  22492817+5920421    ...         0.023   \n",
      "6046    0.143187 -0.384350  0.220961  22542740+5822099    ...         0.027   \n",
      "6048    0.150729  0.035594  0.378800  22483241+5859052    ...         0.023   \n",
      "6107    0.217644 -0.006597  0.543952  22280136+5749324    ...         0.022   \n",
      "6134    0.214453  0.127140  0.538955  22503514+6016570    ...         0.023   \n",
      "6162    0.148573 -0.225540  0.246349  22551096+6006481    ...         0.020   \n",
      "...          ...       ...       ...               ...    ...           ...   \n",
      "251194  0.215775 -0.029930  0.542335  23325900+6212549    ...         0.030   \n",
      "251198  0.215881 -0.029930  0.542446  21365296+1247190    ...         0.030   \n",
      "251201  0.216772 -0.189869  0.546352  04395363+5401461    ...         0.021   \n",
      "251215  0.212464  0.350866  0.501048  04305973+5239538    ...         0.023   \n",
      "251220  0.216138 -0.081511  0.543585  04121776+5201510    ...         0.022   \n",
      "251221  0.216301 -0.106597  0.544211  04202000+5249140    ...         0.023   \n",
      "251222  0.212285  0.372517  0.494551  04183563+5251541    ...         0.027   \n",
      "251267  0.228242 -0.139080  0.561531  23130771+5937406    ...         0.024   \n",
      "251268  0.225275 -0.059846  0.554789  23135175+5938503    ...         0.027   \n",
      "251269  0.222913 -0.081511  0.552171  23195904+5929052    ...         0.022   \n",
      "251275  0.228582 -0.081511  0.560108  23205813+6008261    ...         0.022   \n",
      "251277  0.223339 -0.099268  0.553231  23171981+6007395    ...         0.023   \n",
      "251305  0.216273 -0.102189  0.544100  06374506+0045070    ...         0.022   \n",
      "251326  0.213741  0.200931  0.537668  23114004+5715344    ...         0.027   \n",
      "251339  0.216439 -0.129089  0.544781  01183306+5822304    ...         0.023   \n",
      "251351  0.216301 -0.106597  0.544211  02390016+6114156    ...         0.022   \n",
      "251356  0.213747  0.200306  0.537678  02490019+6232072    ...         0.024   \n",
      "251359  0.213692  0.646166  0.419756  02484468+6159355    ...         0.021   \n",
      "251361  0.215775 -0.029930  0.542335  02293046+6129440    ...         0.027   \n",
      "251363  0.216139 -0.081597  0.543587  03025985+6141384    ...         0.021   \n",
      "251374  0.216748 -0.106597  0.544744  02331145+6127031    ...         0.022   \n",
      "251384  0.216324 -0.110270  0.544303  02244027+6215543    ...         0.024   \n",
      "251392  0.216564 -0.150614  0.545332  02240223+5721141    ...         0.024   \n",
      "251417  0.225644 -0.029930  0.554426  06104759+1340322    ...         0.027   \n",
      "251430  0.217746 -0.102189  0.545888  05424661+2855319    ...         0.022   \n",
      "251431  0.216456 -0.131968  0.544854  05433904+2814381    ...         0.022   \n",
      "251432  0.216273 -0.102189  0.544100  05435110+3059531    ...         0.021   \n",
      "251434  0.215775 -0.029930  0.542335  05331835+2922319    ...         0.029   \n",
      "251446  0.210980  0.529348  0.447503  06083212+2136392    ...         0.021   \n",
      "251464  0.225463 -0.192184  0.559056  06161333+2245487    ...         0.023   \n",
      "\n",
      "        e_Hmag_x  e_Kmag_x                 cntr  cc_flags  ext_flg  var_flg  \\\n",
      "458        0.024     0.026   510154501241044946      0000        1     0045   \n",
      "652        0.020     0.020   526157501241031177      0000        0     0111   \n",
      "1363       0.033     0.020   904130201241041382      0hhh        3     0129   \n",
      "2774       0.026     0.024  1166127201241021996      0000        0     0011   \n",
      "2896       0.023     0.031   878127201241025623      0000        0     nnnn   \n",
      "3615       0.037     0.027   904130201241041456      00hd        2     00nn   \n",
      "3715       0.017     0.027   468153001241017945      0000        0     0000   \n",
      "5525       0.027     0.027  1391130201241002910      dd00        0     0000   \n",
      "5657       0.027     0.020  3413156001241053829      0000        0     0110   \n",
      "5689       0.031     0.022  3386156001241027130      0h00        0     1100   \n",
      "5719       0.030     0.022  3406157501241030904      dd00        0     1121   \n",
      "5722       0.031     0.024  3406157501241035770      0000        1     2000   \n",
      "5732       0.017     0.015  3378157501241048849      00p0        1     0182   \n",
      "5733       0.022     0.021  3398159001241009645      00hH        0     002n   \n",
      "5739       0.017     0.022  3378157501241048863      0h00        0     1110   \n",
      "5762       0.028     0.020  3398159001241004782      hh00        0     0051   \n",
      "5787       0.026     0.021  3427159001241006441      0000        1     0000   \n",
      "5802       0.031     0.026  3406157501241043375      0h00        0     1131   \n",
      "5825       0.049     0.044  3427159001241008478      0000        0     0000   \n",
      "5829       0.041     0.029  3406157501241047213      ddo0        1     0029   \n",
      "5830       0.027     0.021  3433157501241056942      dd00        1     2189   \n",
      "5908       0.020     0.023  3461157501241033670      0000        0     0000   \n",
      "5940       0.032     0.029  3413156001241049388      0000        0     0110   \n",
      "5968       0.032     0.020  3439156001241032924      0000        0     0000   \n",
      "6041       0.026     0.021  3427159001241034237      hhdH        0     002n   \n",
      "6046       0.032     0.021  3427159001241000090      0000        1     9112   \n",
      "6048       0.027     0.021  3427159001241028106      0000        0     9111   \n",
      "6107       0.032     0.023  3378157501241039188      0000        0     0010   \n",
      "6134       0.051     0.022  3420160501241017991      hhdh        1     0199   \n",
      "6162       0.021     0.019  3450160501241010687      dd00        0     1111   \n",
      "...          ...       ...                  ...       ...      ...      ...   \n",
      "251194     0.038     0.018  3536162001241028769      0000        0     1110   \n",
      "251198     0.050     0.065  3244112101241040176      0000        1     0009   \n",
      "251201     0.015     0.014   689154501241000009      0000        1     0002   \n",
      "251215     0.023     0.018   665153001241020759      0000        1     nnnn   \n",
      "251220     0.028     0.022   619151401241041130      0000        0     1100   \n",
      "251221     0.028     0.022   641153001241020449      0000        1     0011   \n",
      "251222     0.035     0.026   641153001241025053      0000        1     9941   \n",
      "251267     0.031     0.023  3484159001241039786      hh00        1     0039   \n",
      "251268     0.030     0.018  3484159001241039791      0ho0        1     1019   \n",
      "251269     0.019     0.016  3513159001241029229      00PP        0     00nn   \n",
      "251275     0.029     0.025  3510160501241011643      dd00        0     2111   \n",
      "251277     0.028     0.025  3480160501241014811      hh0h        1     11n9   \n",
      "251305     0.026     0.021   998100001241052929      0000        1     0069   \n",
      "251326     0.042     0.018  3489157501241011445      dd00        1     0118   \n",
      "251339     0.033     0.023   201159001241006922      0000        0     1100   \n",
      "251351     0.021     0.014   390160501241041133      0000        1     0099   \n",
      "251356     0.030     0.023   410162001241040250      0000        1     0112   \n",
      "251359     0.028     0.023   410162001241020062      0000        1     0050   \n",
      "251361     0.024     0.018   378162001241004747      00dd        1     0019   \n",
      "251363     0.031     0.022   442162001241020028      0000        1     0099   \n",
      "251374     0.020     0.016   378162001241001445      0000        1     0192   \n",
      "251384     0.017     0.016   347162001241036201      00hO        1     113n   \n",
      "251392     0.046     0.023   359157501241016033      0000        0     1210   \n",
      "251417     0.035     0.019   931113601241029383      0h00        1     1509   \n",
      "251430     0.021     0.019   857128701241026570      0000        1     0011   \n",
      "251431     0.019     0.017   857128701241002202      0000        0     0111   \n",
      "251432     0.016     0.017   852130201241045007      0000        0     0131   \n",
      "251434     0.017     0.020   840128701241052910      h000        0     1111   \n",
      "251446     0.019     0.017   920121201241032127      00hh        1     3199   \n",
      "251464     0.069     0.024   944122701241024974      0000        0     0111   \n",
      "\n",
      "        ph_qual  r_2mass  angDist_x  \n",
      "458        AAAA    0.547   0.580134  \n",
      "652        AAAA    0.100   0.035824  \n",
      "1363       AAAA    0.114   0.126175  \n",
      "2774       AAAA    0.050   0.019358  \n",
      "2896       AAAA    0.078   0.069338  \n",
      "3615       AABA    0.206   0.139753  \n",
      "3715       AAAA    0.152   0.050797  \n",
      "5525       AAAA    0.033   0.100746  \n",
      "5657       AAAA    0.022   0.047973  \n",
      "5689       AAAA    0.168   0.080553  \n",
      "5719       AAAA    0.105   0.087481  \n",
      "5722       AAAA    0.312   0.285638  \n",
      "5732       AAAA    0.045   0.047802  \n",
      "5733       AAAA    0.084   0.092977  \n",
      "5739       AAAA    0.062   0.008458  \n",
      "5762       AAAA    0.225   0.164150  \n",
      "5787       AAAA    0.064   0.093670  \n",
      "5802       AAAA    0.163   0.153555  \n",
      "5825       AAAA    0.035   0.107076  \n",
      "5829       AAAA    0.711   1.230705  \n",
      "5830       AAAA    0.141   0.044223  \n",
      "5908       AAAA    0.004   0.045027  \n",
      "5940       AAAA    0.077   0.127721  \n",
      "5968       AAAA    0.027   0.100241  \n",
      "6041       AAAA    0.038   0.058438  \n",
      "6046       AAAA    0.185   0.203435  \n",
      "6048       AAAA    0.018   0.051448  \n",
      "6107       AAAA    0.006   0.098842  \n",
      "6134       AAAA    0.030   0.049965  \n",
      "6162       AAAA    0.228   0.232886  \n",
      "...         ...      ...        ...  \n",
      "251194     AAAA    0.254   0.037230  \n",
      "251198     AAAA    0.325   0.258230  \n",
      "251201     AAAA    0.084   1.925542  \n",
      "251215     AAAA    0.059   0.063409  \n",
      "251220     AAAA    0.206   0.052482  \n",
      "251221     AAAA    0.061   0.130164  \n",
      "251222     AAAA    1.172   1.457915  \n",
      "251267     AAAA    0.345   0.347277  \n",
      "251268     AAAA    0.044   0.043707  \n",
      "251269     AABA    0.046   0.042651  \n",
      "251275     AAAA    0.012   0.029156  \n",
      "251277     AABA    0.093   0.177027  \n",
      "251305     AAAA    0.060   2.350370  \n",
      "251326     AAAA    0.140   1.086647  \n",
      "251339     AAAA    0.096   0.085855  \n",
      "251351     AAAA    0.027   0.044131  \n",
      "251356     AAAA    0.064   0.077454  \n",
      "251359     AAAA    0.087   0.106949  \n",
      "251361     AAAA    0.165   0.115402  \n",
      "251363     AAAA    0.245   0.271144  \n",
      "251374     AAAA    0.072   0.064012  \n",
      "251384     AAAA    0.069   0.060280  \n",
      "251392     AAAA    0.069   0.106208  \n",
      "251417     AAAA    0.115   0.259453  \n",
      "251430     AAAA    0.125   0.046515  \n",
      "251431     AAAA    0.080   2.733614  \n",
      "251432     AAAA    0.111   1.141872  \n",
      "251434     AAAA    0.112   2.360914  \n",
      "251446     AAAA    0.494   0.472740  \n",
      "251464     AAAA    0.069   2.213427  \n",
      "\n",
      "[2925 rows x 53 columns]\n"
     ]
    }
   ],
   "source": [
    "# cut source g-r:0.440\n",
    "origin = starcatalog_fram_fil\n",
    "print(origin)\n",
    "# starcatalog_fram_fil=starcatalog_fram_fil[(starcatalog_fram_fil[color1]-starcatalog_fram_fil[color2]>= -0.440)\\\n",
    "#                                          & (starcatalog_fram_fil[color1]>=12)]"
   ]
  },
  {
   "cell_type": "markdown",
   "metadata": {},
   "source": [
    "## 有效温度 Teff 的限制（Input:）"
   ]
  },
  {
   "cell_type": "code",
   "execution_count": 30,
   "metadata": {},
   "outputs": [
    {
     "name": "stdout",
     "output_type": "stream",
     "text": [
      "23818.441\n"
     ]
    }
   ],
   "source": [
    "#filt the good one\n",
    "#apogee_tbl_fil = apogee_tbl[np.argwhere(np.logical_and(apogee_tbl['teff'] > 0, apogee_tbl['logg'] > -3))]\n",
    "#apogee_tbl_fil = apogee_tbl_fil[np.argwhere(np.logical_and(apogee_tbl_fil['j'].flatten() > -1, \\\n",
    "#                                                           apogee_tbl_fil['h'].flatten() > -1))]\n",
    "#USE goodOB \n",
    "\n",
    "\n",
    "starcatalog_fram_fil=starcatalog_fram_fil[(((starcatalog_fram_fil[err_teff] != 0 )\\\n",
    "                                          & (starcatalog_fram_fil[teff]>= 10000))\\\n",
    "                                          #& (starcatalog_fram_fil[teff]<= 16000))\n",
    "                                          & (((starcatalog_fram_fil[err_teff]< 630)\\\n",
    "                                          &(starcatalog_fram_fil[teff]> 9000))\\\n",
    "                                          |((starcatalog_fram_fil[err_teff]< 500)\\\n",
    "                                          & (starcatalog_fram_fil[teff]<= 9000))))]\n",
    "print(np.max(starcatalog_fram_fil[teff]))"
   ]
  },
  {
   "cell_type": "markdown",
   "metadata": {},
   "source": [
    "## 蓝色边缘的比例，bin最小值的选取（Input：）"
   ]
  },
  {
   "cell_type": "code",
   "execution_count": 31,
   "metadata": {
    "collapsed": true
   },
   "outputs": [],
   "source": [
    "# Determine the input numbers.\n",
    "\n",
    "# Bin width, usually 50 (for more scatter, try 1000 or other figures)\n",
    "#bin_width = 1000\n",
    "\n",
    "# Ratio of the bluest edge, usually 5%\n",
    "rat = 5\n",
    "\n",
    "# Low end criteria. If the number in a bin is lower than this number then neglect.  \n",
    "low_crit = 50"
   ]
  },
  {
   "cell_type": "code",
   "execution_count": 32,
   "metadata": {
    "collapsed": true
   },
   "outputs": [],
   "source": [
    "# input the data of Bessell. M.S. & Brett. J.M. 1988\n",
    "# BBFrame is the dataframe of the ic data \n",
    "\n",
    "BBFrame=pd.DataFrame({'J-H':[-0.09,-0.08,-0.07,-0.06,-0.05,-0.03,-0.03,-0.01,0.0,0.02,0.06],\\\n",
    "                      'Teff':[22300,19000,17200,15400,14100,13000,11800,10700,9480,8810,8160]})\n"
   ]
  },
  {
   "cell_type": "markdown",
   "metadata": {},
   "source": [
    "## 比较星表的数据选取（Input:）"
   ]
  },
  {
   "cell_type": "code",
   "execution_count": 33,
   "metadata": {
    "collapsed": true
   },
   "outputs": [],
   "source": [
    "# parsec point\n",
    "parsecframe = parsec_fram[((parsec_fram['Age'] == 3980000)\\\n",
    "                           &(parsec_fram['logTe'] <= 4.361)\\\n",
    "                           &(parsec_fram['logTe'] >= 4.000))]\n",
    "parsec_teff =10**parsecframe['logTe'] \n",
    "parsec_color = parsecframe[color1] - parsecframe[color2]\n",
    "#print(parsecframe.values)\n",
    "                                         "
   ]
  },
  {
   "cell_type": "code",
   "execution_count": 34,
   "metadata": {
    "collapsed": true
   },
   "outputs": [],
   "source": [
    "# Find the start point and bin number of Teff. \n",
    "# Start point: the first number divisible by bin_width smaller than min(teff)\n",
    "# Bin number: Start from start point and cover all the teff range.\n",
    "\n",
    "\n",
    "#teff_start = min(apogee_tbl_fil['teff']) - min(apogee_tbl_fil['teff']) % (bin_width/2)\n",
    "#bin_number = math.ceil((max(apogee_tbl_fil['teff']) - teff_start) / bin_width)\n",
    "\n",
    "#teff_start = min(starcatalog_fram_fil[teff])-min(starcatalog_fram_fil[teff])%(bin_width / 2)\n",
    "\n",
    "teff_start= 10000\n",
    "\n",
    "#bin_number = math.ceil((max(starcatalog_fram_fil[teff])-teff_start) / bin_width)\n"
   ]
  },
  {
   "cell_type": "code",
   "execution_count": 35,
   "metadata": {
    "collapsed": true
   },
   "outputs": [],
   "source": [
    "#filt BBFrame\n",
    "BBFrame_fil=BBFrame[BBFrame['Teff'] >= teff_start]"
   ]
  },
  {
   "cell_type": "markdown",
   "metadata": {},
   "source": [
    "# 内禀色指数的计算（蓝色边缘方法），同时取出某一部分用于SFD判断"
   ]
  },
  {
   "cell_type": "markdown",
   "metadata": {},
   "source": [
    "## DEF"
   ]
  },
  {
   "cell_type": "code",
   "execution_count": 36,
   "metadata": {
    "collapsed": true
   },
   "outputs": [],
   "source": [
    "def data(teff_start,ratio,low_crit,ratio_SFD):\n",
    "    \n",
    "    start_time = time.time()\n",
    "    int_teff = []\n",
    "    int_color = []\n",
    "    bin_int_color = []\n",
    "    \n",
    "    SFD_RA = []; SFD_DEC = []; SFD_TEFF = []; SFD_color1 = []; SFD_color2 = [];\n",
    "    \n",
    "    data_final = pd.DataFrame(columns=[teff,color1,color2])\n",
    "    teff_judge = teff_start\n",
    "    while teff_judge < np.max(starcatalog_fram_fil[teff]) - 1000:\n",
    "       \n",
    "        if teff_judge <9000:\n",
    "            bin_width = 100\n",
    "        else:\n",
    "            bin_width = 630\n",
    "\n",
    "        bin_tbl =starcatalog_fram_fil[np.logical_and(starcatalog_fram_fil[teff] > teff_judge, \\\n",
    "                                                starcatalog_fram_fil[teff] < teff_judge+bin_width)]\n",
    "\n",
    "        #print(teff_judge)\n",
    "       \n",
    "        \n",
    "        if len(bin_tbl) < low_crit:\n",
    "            teff_judge = teff_judge+bin_width\n",
    "            continue\n",
    "            \n",
    "        source_num = 0\n",
    "        #print(len(bin_tbl))\n",
    "\n",
    "        while source_num != len(bin_tbl):\n",
    "            source_num = len(bin_tbl)\n",
    "\n",
    "        data_final = data_final.append(bin_tbl[[teff,color1,color2]])\n",
    "        #print(len(bin_tbl))\n",
    "\n",
    "        int_teff.append(float(teff_judge+bin_width/2))\n",
    "        bin_tbl['color'] = bin_tbl[color1]-bin_tbl[color2]\n",
    "        bin_sort = bin_tbl.sort_index(axis = 0,ascending = True,by = 'color')\n",
    "        \n",
    "        # 每个bin中前ratio_SFD的部分用于取得ebv\n",
    "        color_SFD = bin_sort['color'].values[:math.ceil(len(bin_tbl)*ratio_SFD/100)]\n",
    "        bin_tbl_SFD = bin_sort[(bin_sort['color']<=np.max(color_SFD))]\n",
    "        \n",
    "        for ppp in range(len(bin_tbl_SFD)):\n",
    "            SFD_RA.append(bin_tbl_SFD['RA'].values[ppp])\n",
    "            SFD_DEC.append(bin_tbl_SFD['DEC'].values[ppp])\n",
    "            SFD_TEFF.append(bin_tbl_SFD['TEFF'].values[ppp])\n",
    "            SFD_color1.append(bin_tbl_SFD[color1].values[ppp])\n",
    "            SFD_color2.append(bin_tbl_SFD[color2].values[ppp])\n",
    "        \n",
    "        # 每个bin中前ratio(usually 5%)的部分 用于取得内禀色指数int_color\n",
    "        color5 = bin_sort['color'].values[:math.ceil(len(bin_tbl)*ratio/100)]\n",
    "        bin_tbl_5 = bin_sort[(bin_sort['color']<=np.max(color5))]\n",
    "        \n",
    "        if len(color5) != 0:\n",
    "            bin_mean = np.median(color5)\n",
    "            bin_sigma = np.std(color5)\n",
    "            bin_int_color = color5\\\n",
    "            [((color5<= bin_mean+3*bin_sigma)\\\n",
    "            & (color5>= bin_mean-3*bin_sigma))]\n",
    "\n",
    "            int_color.append(np.median(bin_int_color))\n",
    "            \n",
    "        teff_judge = teff_judge+bin_width\n",
    "        \n",
    "    SFD_tbl_final = pd.DataFrame({'TEFF':np.array(SFD_TEFF),'RA':np.array(SFD_RA),\\\n",
    "                                  'DEC':np.array(SFD_DEC),color1:np.array(SFD_color1),\\\n",
    "                                 color2:np.array(SFD_color2)})\n",
    "    \n",
    "    print(time.time() - start_time)\n",
    "    print(int_teff,int_color)\n",
    "#     print(bin_mean)\n",
    "#     print(data_final.iloc[:,0].size)\n",
    "    return int_teff,int_color,data_final,SFD_tbl_final"
   ]
  },
  {
   "cell_type": "markdown",
   "metadata": {},
   "source": [
    "## 运算，拟合，SFD的准备（Input:)"
   ]
  },
  {
   "cell_type": "code",
   "execution_count": 37,
   "metadata": {
    "scrolled": true
   },
   "outputs": [
    {
     "name": "stderr",
     "output_type": "stream",
     "text": [
      "/Users/SY/anaconda/lib/python3.6/site-packages/ipykernel_launcher.py:38: SettingWithCopyWarning: \n",
      "A value is trying to be set on a copy of a slice from a DataFrame.\n",
      "Try using .loc[row_indexer,col_indexer] = value instead\n",
      "\n",
      "See the caveats in the documentation: http://pandas.pydata.org/pandas-docs/stable/indexing.html#indexing-view-versus-copy\n",
      "/Users/SY/anaconda/lib/python3.6/site-packages/ipykernel_launcher.py:39: FutureWarning: by argument to sort_index is deprecated, pls use .sort_values(by=...)\n"
     ]
    },
    {
     "name": "stdout",
     "output_type": "stream",
     "text": [
      "0.7436809539794922\n",
      "[10315.0, 10945.0, 11575.0, 12205.0, 12835.0, 13465.0, 14095.0, 14725.0, 15355.0, 18505.0, 19135.0, 21655.0] [0.42500000000000027, 1.4644999999999992, 1.173, 0.92100000000000115, 0.92300000000000004, 0.93999999999999995, 1.016, 1.516, 1.0549999999999997, 1.4909999999999992, 1.9464999999999995, 1.6550000000000002]\n"
     ]
    }
   ],
   "source": [
    "# SFD ratio\n",
    "\n",
    "ratio_SFD = 5\n",
    "\n",
    "# fitting curve\n",
    "int_teff,int_color,data_final,SFD_tbl_ratio = data(teff_start,rat,low_crit,ratio_SFD)\n",
    "\n",
    "fc = np.polyfit(int_teff, int_color, 3)#用3次多项式拟合\n",
    "fitcurve = np.poly1d(fc)\n",
    "# print(fitcurve) #在屏幕上打印拟合多项式\n",
    "\n",
    "colorvals=fitcurve(int_teff)\n",
    "\n",
    "# print(len(colorvals),len(int_teff))\n",
    "#print(len(bin_tbl_final[teff].values))\n",
    "\n",
    "# SFD_tbl_ratio[teff]\n"
   ]
  },
  {
   "cell_type": "markdown",
   "metadata": {},
   "source": [
    "# SFD的使用：—— 将使用到新的包\n",
    "\n",
    "1. 选取SFD中Ebv小于某一个值的认为是零消光源（Lamost)——Thins page\n",
    "2. 用目前的色指数减去 Ebv 给出的消光值，然后去归算内禀色指数 - GOSSS"
   ]
  },
  {
   "cell_type": "code",
   "execution_count": 38,
   "metadata": {
    "scrolled": true
   },
   "outputs": [
    {
     "name": "stdout",
     "output_type": "stream",
     "text": [
      "87\n",
      "9\n",
      "15\n",
      "17\n",
      "25\n",
      "39\n",
      "45\n",
      "9.085099220275879\n"
     ]
    }
   ],
   "source": [
    "## use SFD dustmap\n",
    "from __future__ import print_function\n",
    "from astropy.coordinates import SkyCoord\n",
    "from astropy import units as u\n",
    "from dustmaps.sfd import SFDQuery\n",
    "\n",
    "sfd = SFDQuery()\n",
    "\n",
    "## ebv前的系数需要去文献中拿到。目前使用的是r和i的\n",
    "# Const1 = 0.709 #J #3.303 #g #2.285 #r \n",
    "# Const2 = 0.449 #H #2.285 #r #1.698 #i\n",
    "\n",
    "time_start = time.time()\n",
    "SFD_catalog_color = []\n",
    "SFD_catalog_teff = []\n",
    "lens = len(SFD_tbl_ratio)\n",
    "\n",
    "ebv_final = []\n",
    "\n",
    "# 判断ebv < 0.05，就拿入下一个数组，最后一起画在图上\n",
    "print(lens)\n",
    "for i in range(lens):\n",
    "    coords = SkyCoord(SFD_tbl_ratio['RA'].values[i],SFD_tbl_ratio['DEC'].values[i],\\\n",
    "                      frame = 'icrs',unit = 'deg')\n",
    "    ebv = sfd(coords)\n",
    "    ebv_final.append(ebv)\n",
    "    \n",
    "#     A_c1 = Const1*ebv;\n",
    "#     A_c2 = Const2*ebv;\n",
    "\n",
    "    if ebv < 0.05:\n",
    "        SFD_colorindex = SFD_tbl_ratio[color1].values[i]\\\n",
    "        - (SFD_tbl_ratio[color2].values[i])\n",
    "        SFD_catalog_color.append(SFD_colorindex)\n",
    "    \n",
    "        SFD_catalog_teff.append(SFD_tbl_ratio[teff].values[i])\n",
    "        print(i)\n",
    "#     print(i)\n",
    "\n",
    "print(time.time() - time_start)"
   ]
  },
  {
   "cell_type": "markdown",
   "metadata": {},
   "source": [
    "# 图片输出"
   ]
  },
  {
   "cell_type": "markdown",
   "metadata": {},
   "source": [
    "## 图片保存格式（Input:)"
   ]
  },
  {
   "cell_type": "code",
   "execution_count": 39,
   "metadata": {
    "collapsed": true
   },
   "outputs": [],
   "source": [
    "### figures & Savename\n",
    "cc1 = 'J'\n",
    "cc2 = 'W4'\n",
    "\n",
    "save = data_dir + 'pictures/'\n",
    "# save = '/Users/SY/Desktop/obic/picture/'\n",
    "\n",
    "i = datetime.datetime.now()\n",
    "date_now = \"%s_%s_%s_\" % (i.year, i.month, i.day) \n",
    "ylabel = '$%s - %s$'%(cc1,cc2) \n",
    "savename1 = save + date_now + cc1 + cc2 + 'logg3'+'.png'\n",
    "savename2 = save + date_now + cc1 + '_HR_' + cc2 +'.png'\n",
    "savename3 = save + date_now + 'errteff.png'\n",
    "\n",
    "savename5 = save + date_now + cc1 + cc2 + '_logg3_SFD'+'5%'+'.png'\n"
   ]
  },
  {
   "cell_type": "code",
   "execution_count": 40,
   "metadata": {},
   "outputs": [
    {
     "name": "stdout",
     "output_type": "stream",
     "text": [
      "           3             2\n",
      "-1.27e-09 x + 4.754e-05 x - 0.5922 x + 2455\n"
     ]
    }
   ],
   "source": [
    "# plt hist of ebv\n",
    "\n",
    "# plt.hist(ebv_final,1000)\n",
    "# plt.savefig(save+'ebv.png',dpi = 200)\n",
    "# plt.xlim(0,2)\n",
    "# plt.show()\n",
    "\n",
    "# 拟合SFD\n",
    "\n",
    "fcc = np.polyfit(SFD_catalog_teff, SFD_catalog_color, 3)#用3次多项式拟合 SFD\n",
    "fitcurve = np.poly1d(fcc)\n",
    "print(fitcurve) #在屏幕上打印拟合多项式\n",
    "\n",
    "SFD_vals = fitcurve(SFD_catalog_teff)\n",
    "\n"
   ]
  },
  {
   "cell_type": "markdown",
   "metadata": {},
   "source": [
    "## 绘图所需的具体量（Alternative)"
   ]
  },
  {
   "cell_type": "code",
   "execution_count": 41,
   "metadata": {
    "scrolled": false
   },
   "outputs": [
    {
     "data": {
      "image/png": "[encoded data removed]",
      "text/plain": [
       "<matplotlib.figure.Figure at 0x11d920da0>"
      ]
     },
     "metadata": {},
     "output_type": "display_data"
    }
   ],
   "source": [
    "#PLT\n",
    "plt.figure(1,figsize=(7, 5))  \n",
    "plt.xlabel('$T_\\mathrm{eff}(K)$',fontsize=14)\n",
    "plt.ylabel(ylabel,fontsize=14)\n",
    "#plt.ylim(-4,9)\n",
    "\n",
    "# the data we use\n",
    "plt.scatter(starcatalog_fram_fil[teff], starcatalog_fram_fil[color1]-starcatalog_fram_fil[color2],\\\n",
    "            c='darkgray',s=8, edgecolors='None',label='LAMOST')\n",
    "\n",
    "# data we use in the SFD dustmap\n",
    "plt.scatter(SFD_catalog_teff,SFD_catalog_color,alpha=1,edgecolors='None',c='violet',s=4,label='SFD dustmap',zorder=2)\n",
    "\n",
    "# SFD fitcurve\n",
    "plt.plot(SFD_catalog_teff, SFD_vals, c='black',linewidth = 3,label='fitting curve of \\nthe E(B-V)<0.05',zorder=1)\n",
    "\n",
    "# ic plot from blue edge\n",
    "plt.plot(int_teff, colorvals, c='r',linewidth = 3,label='fitting curve of \\nthe bluest 5%',zorder=1)\n",
    "\n",
    "# ic from blue edge\n",
    "plt.scatter(int_teff, int_color, edgecolors='None',c='b', marker = '+',s=9,label='Median of\\nthe bluest 5%',zorder=2)\n",
    "\n",
    "# ic from Allen's work \n",
    "# plt.scatter(BBFrame_fil['Teff'],BBFrame_fil['J-H'],c='lime',s=11,label='Allen',zorder=2)\n",
    "\n",
    "# ic from parsec\n",
    "plt.scatter(parsec_teff,parsec_color,c='gold',s=9,label='PARSEC',zorder=2)\n",
    "\n",
    "### Draw the plot\n",
    "\n",
    "# plt.xlabel('$T_\\mathrm{eff}$'); plt.ylabel(ylabel)\n",
    "#plt.scatter(BBFrame_fil['Teff'],BBFrame_fil['J-H'],c='#FF6666',s=11,label='Allen')\n",
    "\n",
    "plt.legend(loc='upper right')\n",
    "#new_ticks = np.linspace(-1,2,7)\n",
    "#plt.yticks(new_ticks)\n",
    "# plt.ylim(np.min(starcatalog_fram_fil[color1] - starcatalog_fram_fil[color2]) - 0.5,\\\n",
    "#         np.max(starcatalog_fram_fil[color1] - starcatalog_fram_fil[color2]))\n",
    "plt.xticks(fontsize=12)\n",
    "plt.yticks(fontsize=12)\n",
    "# plt.savefig(savename1,dpi=200)\n",
    "plt.savefig(savename5,dpi=200)\n",
    "plt.show()"
   ]
  },
  {
   "cell_type": "markdown",
   "metadata": {},
   "source": [
    "# some other features"
   ]
  },
  {
   "cell_type": "code",
   "execution_count": 57,
   "metadata": {},
   "outputs": [
    {
     "name": "stdout",
     "output_type": "stream",
     "text": [
      "5616\n"
     ]
    }
   ],
   "source": [
    "print(len(starcatalog_fram_fil))"
   ]
  },
  {
   "cell_type": "markdown",
   "metadata": {},
   "source": [
    "## 赫罗图"
   ]
  },
  {
   "cell_type": "code",
   "execution_count": 84,
   "metadata": {},
   "outputs": [
    {
     "name": "stdout",
     "output_type": "stream",
     "text": [
      "5\n"
     ]
    },
    {
     "ename": "TypeError",
     "evalue": "data() missing 1 required positional argument: 'ratio_SFD'",
     "output_type": "error",
     "traceback": [
      "\u001b[0;31m---------------------------------------------------------------------------\u001b[0m",
      "\u001b[0;31mTypeError\u001b[0m                                 Traceback (most recent call last)",
      "\u001b[0;32m<ipython-input-84-d8fb8ce6a16a>\u001b[0m in \u001b[0;36m<module>\u001b[0;34m()\u001b[0m\n\u001b[1;32m      6\u001b[0m \u001b[0;31m# for rat in ratio:\u001b[0m\u001b[0;34m\u001b[0m\u001b[0;34m\u001b[0m\u001b[0m\n\u001b[1;32m      7\u001b[0m \u001b[0mprint\u001b[0m\u001b[0;34m(\u001b[0m\u001b[0mrat\u001b[0m\u001b[0;34m)\u001b[0m\u001b[0;34m\u001b[0m\u001b[0m\n\u001b[0;32m----> 8\u001b[0;31m \u001b[0mint_teff\u001b[0m\u001b[0;34m,\u001b[0m\u001b[0mint_color\u001b[0m\u001b[0;34m,\u001b[0m\u001b[0mdata_final\u001b[0m \u001b[0;34m=\u001b[0m \u001b[0mdata\u001b[0m\u001b[0;34m(\u001b[0m\u001b[0mteff_start\u001b[0m\u001b[0;34m,\u001b[0m\u001b[0mrat\u001b[0m\u001b[0;34m,\u001b[0m\u001b[0mlow_crit\u001b[0m\u001b[0;34m)\u001b[0m\u001b[0;34m\u001b[0m\u001b[0m\n\u001b[0m\u001b[1;32m      9\u001b[0m \u001b[0;34m\u001b[0m\u001b[0m\n\u001b[1;32m     10\u001b[0m \u001b[0mcm\u001b[0m \u001b[0;34m=\u001b[0m \u001b[0mplt\u001b[0m\u001b[0;34m.\u001b[0m\u001b[0mcm\u001b[0m\u001b[0;34m.\u001b[0m\u001b[0mget_cmap\u001b[0m\u001b[0;34m(\u001b[0m\u001b[0;34m'RdYlBu'\u001b[0m\u001b[0;34m)\u001b[0m\u001b[0;34m\u001b[0m\u001b[0m\n",
      "\u001b[0;31mTypeError\u001b[0m: data() missing 1 required positional argument: 'ratio_SFD'"
     ]
    },
    {
     "data": {
      "image/png": "[encoded data removed]",
      "text/plain": [
       "<matplotlib.figure.Figure at 0x1186a6828>"
      ]
     },
     "metadata": {},
     "output_type": "display_data"
    }
   ],
   "source": [
    "# H-R 1\n",
    "plt.figure(2)\n",
    "plt.xlabel(ylabel,fontsize=14); plt.ylabel(cc1,fontsize=14)\n",
    "plt.xlim(-6,6)\n",
    "plt.ylim(5,25)\n",
    "# for rat in ratio:\n",
    "print(rat)\n",
    "int_teff,int_color,data_final = data(teff_start,rat,low_crit)\n",
    "\n",
    "cm = plt.cm.get_cmap('RdYlBu')\n",
    "sc = plt.scatter(origin[color1]-origin[color2], origin[color1],\\\n",
    "            c= 'darkgray',s=5,edgecolors = 'None',alpha = 1,cmap=cm,label='all sources')\n",
    "plt.scatter(data_final[color1]-data_final[color2], data_final[color1],\\\n",
    "             c='g',s=5, edgecolors='None', alpha=1,label='selected sources')\n",
    "#plt.colorbar(sc)\n",
    "plt.legend(loc='upper right')\n",
    "# new_ticks = np.linspace(-2,3,18)\n",
    "# plt.xticks(new_ticks)\n",
    "plt.xticks(fontsize=12)\n",
    "plt.yticks(fontsize=12)\n",
    "plt.savefig(savename2,dpi=200)    \n",
    "plt.show()"
   ]
  },
  {
   "cell_type": "code",
   "execution_count": 43,
   "metadata": {},
   "outputs": [
    {
     "data": {
      "image/png": "[encoded data removed]",
      "text/plain": [
       "<matplotlib.figure.Figure at 0x107a69fd0>"
      ]
     },
     "metadata": {},
     "output_type": "display_data"
    }
   ],
   "source": [
    "# 赫罗图 2\n",
    "plt.xlabel('r')\n",
    "plt.ylabel(ylabel)\n",
    "\n",
    "cm = plt.cm.get_cmap('RdYlBu')\n",
    "\n",
    "sc = plt.scatter(starcatalog_fram_fil[color1]-starcatalog_fram_fil[color2],starcatalog_fram_fil[color1],\\\n",
    "            c = starcatalog_fram_fil[err_c1],s=2,edgecolors = 'None',alpha = 0.7,cmap=cm)\n",
    "\n",
    "plt.colorbar(sc)\n",
    "\n",
    "plt.xlim(-5,5)\n",
    "plt.ylim(9,22)\n",
    "plt.savefig(save+'HR.png',dpi=200)\n",
    "plt.show()"
   ]
  },
  {
   "cell_type": "markdown",
   "metadata": {},
   "source": [
    "## 参数统计图"
   ]
  },
  {
   "cell_type": "code",
   "execution_count": 93,
   "metadata": {},
   "outputs": [
    {
     "data": {
      "image/png": "[encoded data removed]",
      "text/plain": [
       "<matplotlib.figure.Figure at 0x1188647f0>"
      ]
     },
     "metadata": {},
     "output_type": "display_data"
    }
   ],
   "source": [
    "plt.figure(3)\n",
    "plt.xlabel('$T_\\mathrm{eff}(K)$')\n",
    "plt.ylabel('errTeff')\n",
    "plt.scatter(starcatalog_fram_fil[teff],starcatalog_fram_fil[err_teff],\\\n",
    "            c='darkgray',s=5, edgecolors='None', alpha=0.5)\n",
    "plt.show()"
   ]
  },
  {
   "cell_type": "markdown",
   "metadata": {},
   "source": [
    "# Remember List for Lamost"
   ]
  },
  {
   "cell_type": "markdown",
   "metadata": {},
   "source": [
    "## 4月19日讨论：\n",
    "\n",
    "1. log g > 4.0 比较可靠\n",
    "2. 16000-18000之间的这个区域很特别，似乎色指数就是偏红了\n",
    "3. Lamost最早也只到B2\n",
    "4. O-type 使用SFD的老方法——减去 SFD 的 E(B-V)，获得所有源的内禀色指数\n",
    "5. 向紫外波段扩充"
   ]
  },
  {
   "cell_type": "markdown",
   "metadata": {},
   "source": [
    "## 5月2日组会：\n",
    "\n",
    "** 苑老师 **： Lamost DR5 和 Mr.Yuan 给的星表由参数上的差别（跑的不同的pipline)"
   ]
  },
  {
   "cell_type": "markdown",
   "metadata": {
    "collapsed": true
   },
   "source": []
  },
  {
   "cell_type": "markdown",
   "metadata": {
    "collapsed": true
   },
   "source": [
    "## 5月3日讨论：\n",
    "1. logg< 3.5\n",
    "* Otype 色指数考虑误差限制在一个范围内\n",
    "* 延伸到可见光和紫外波段\n",
    "* J-H去掉3sigema再取平均再去3sigema知道没有源被扔掉\n",
    "* 去掉K饱和源"
   ]
  },
  {
   "cell_type": "markdown",
   "metadata": {},
   "source": []
  }
 ],
 "metadata": {
  "kernelspec": {
   "display_name": "Python 3",
   "language": "python",
   "name": "python3"
  },
  "language_info": {
   "codemirror_mode": {
    "name": "ipython",
    "version": 3
   },
   "file_extension": ".py",
   "mimetype": "text/x-python",
   "name": "python",
   "nbconvert_exporter": "python",
   "pygments_lexer": "ipython3",
   "version": "3.6.1"
  },
  "toc": {
   "base_numbering": 1,
   "nav_menu": {},
   "number_sections": true,
   "sideBar": true,
   "skip_h1_title": false,
   "title_cell": "Table of Contents",
   "title_sidebar": "Contents",
   "toc_cell": true,
   "toc_position": {
    "height": "calc(100% - 180px)",
    "left": "10px",
    "top": "150px",
    "width": "244px"
   },
   "toc_section_display": true,
   "toc_window_display": false
  }
 },
 "nbformat": 4,
 "nbformat_minor": 2
}
