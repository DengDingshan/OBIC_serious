{
 "cells": [
  {
   "cell_type": "code",
   "execution_count": 1,
   "metadata": {
    "collapsed": true
   },
   "outputs": [],
   "source": [
    "import pandas as pd\n",
    "import numpy as np\n",
    "import math\n",
    "import matplotlib.pyplot as plt\n",
    "import time\n",
    "%matplotlib inline\n",
    "\n",
    "data_dir = '/Users/SY/Desktop/obic/data/'"
   ]
  },
  {
   "cell_type": "code",
   "execution_count": 7,
   "metadata": {
    "collapsed": true
   },
   "outputs": [],
   "source": [
    "#read as pandas\n",
    "\n",
    "starcatalog_fram_1 = pd.read_csv(data_dir + 'LMOB-V4-SFD-GP.csv')\n",
    "#starcatalog_fram_2 = pd.read_csv(data_dir + '8582rest.csv')\n"
   ]
  },
  {
   "cell_type": "code",
   "execution_count": 8,
   "metadata": {},
   "outputs": [
    {
     "data": {
      "text/plain": [
       "0        10777.271\n",
       "1         9736.669\n",
       "2        12887.973\n",
       "3        10655.061\n",
       "4        11619.821\n",
       "5        10661.613\n",
       "6        15661.499\n",
       "7        13243.816\n",
       "8        11621.644\n",
       "9         9811.874\n",
       "10       12239.687\n",
       "11       12262.358\n",
       "12       11619.167\n",
       "13       11493.554\n",
       "14       12283.083\n",
       "15       11867.978\n",
       "16       11725.649\n",
       "17       11447.290\n",
       "18       11208.938\n",
       "19       12356.748\n",
       "20       11073.687\n",
       "21       10355.654\n",
       "22       10619.994\n",
       "23        9759.663\n",
       "24       12332.269\n",
       "25       13312.679\n",
       "26       11540.952\n",
       "27        9592.226\n",
       "28       10394.809\n",
       "29       11006.985\n",
       "           ...    \n",
       "23883    12669.168\n",
       "23884    13111.042\n",
       "23885    12791.792\n",
       "23886    15700.880\n",
       "23887    13111.076\n",
       "23888    14394.168\n",
       "23889    12948.613\n",
       "23890    12298.212\n",
       "23891    18874.695\n",
       "23892    13106.581\n",
       "23893    12762.398\n",
       "23894    14317.899\n",
       "23895    13234.767\n",
       "23896     9937.349\n",
       "23897    12757.408\n",
       "23898    12736.906\n",
       "23899    11953.122\n",
       "23900    12053.677\n",
       "23901    10209.630\n",
       "23902    12976.682\n",
       "23903    14869.145\n",
       "23904     9677.483\n",
       "23905    12584.587\n",
       "23906    14712.769\n",
       "23907     9753.652\n",
       "23908     9735.572\n",
       "23909    11634.044\n",
       "23910    13394.056\n",
       "23911    11821.384\n",
       "23912    14567.599\n",
       "Name: TEFF, Length: 23913, dtype: float64"
      ]
     },
     "execution_count": 8,
     "metadata": {},
     "output_type": "execute_result"
    }
   ],
   "source": [
    "starcatalog_fram_1['TEFF']"
   ]
  },
  {
   "cell_type": "code",
   "execution_count": 9,
   "metadata": {
    "collapsed": true
   },
   "outputs": [],
   "source": [
    "#starcatalog_fram_1=starcatalog_fram_1[(starcatalog_fram_1['TEFF'] <20000)]\n",
    "starcatalog_fram_1= starcatalog_fram_1[['TEFF','ERR_TEFF','RA','DEC','LOGG','ERR_LOGG','FEH','ERR_FEH',\\\n",
    "                                        'SFD_ebv','l','b','J', 'ERR_J', 'H', 'ERR_H', 'KS', 'ERR_KS', 'W1', 'ERR_W1', \\\n",
    "                                        'W2','ERR_W2','GMAG','GBP','GRP']] \n",
    "# starcatalog_fram_1.columns = ['TEFF','ERR_TEFF','RA','DEC','LOGG','ERR_LOGG','FEH','ERR_FEH',\\\n",
    "#                                         'SFD_ebv','l','b','J', 'ERR_J', 'H', 'ERR_H', 'KS', 'ERR_KS', 'W1', 'ERR_W1', \\\n",
    "#                                         'W2','ERR_W2']"
   ]
  },
  {
   "cell_type": "code",
   "execution_count": 11,
   "metadata": {},
   "outputs": [
    {
     "data": {
      "text/plain": [
       "0        10777.271\n",
       "1         9736.669\n",
       "2        12887.973\n",
       "3        10655.061\n",
       "4        11619.821\n",
       "5        10661.613\n",
       "6        15661.499\n",
       "7        13243.816\n",
       "8        11621.644\n",
       "9         9811.874\n",
       "10       12239.687\n",
       "11       12262.358\n",
       "12       11619.167\n",
       "13       11493.554\n",
       "14       12283.083\n",
       "15       11867.978\n",
       "16       11725.649\n",
       "17       11447.290\n",
       "18       11208.938\n",
       "19       12356.748\n",
       "20       11073.687\n",
       "21       10355.654\n",
       "22       10619.994\n",
       "23        9759.663\n",
       "24       12332.269\n",
       "25       13312.679\n",
       "26       11540.952\n",
       "27        9592.226\n",
       "28       10394.809\n",
       "29       11006.985\n",
       "           ...    \n",
       "23883    12669.168\n",
       "23884    13111.042\n",
       "23885    12791.792\n",
       "23886    15700.880\n",
       "23887    13111.076\n",
       "23888    14394.168\n",
       "23889    12948.613\n",
       "23890    12298.212\n",
       "23891    18874.695\n",
       "23892    13106.581\n",
       "23893    12762.398\n",
       "23894    14317.899\n",
       "23895    13234.767\n",
       "23896     9937.349\n",
       "23897    12757.408\n",
       "23898    12736.906\n",
       "23899    11953.122\n",
       "23900    12053.677\n",
       "23901    10209.630\n",
       "23902    12976.682\n",
       "23903    14869.145\n",
       "23904     9677.483\n",
       "23905    12584.587\n",
       "23906    14712.769\n",
       "23907     9753.652\n",
       "23908     9735.572\n",
       "23909    11634.044\n",
       "23910    13394.056\n",
       "23911    11821.384\n",
       "23912    14567.599\n",
       "Name: TEFF, Length: 23913, dtype: float64"
      ]
     },
     "execution_count": 11,
     "metadata": {},
     "output_type": "execute_result"
    }
   ],
   "source": [
    "#starcatalog_fram = starcatalog_fram_1 .append(starcatalog_fram_2)\n",
    "starcatalog_fram_1['TEFF']"
   ]
  },
  {
   "cell_type": "code",
   "execution_count": 13,
   "metadata": {
    "collapsed": true
   },
   "outputs": [],
   "source": [
    "starcatalog_fram_1.to_csv(data_dir + 'LMOB-V4-SFDGP-final.csv',columns = ['TEFF','ERR_TEFF','RA','DEC','LOGG','ERR_LOGG','FEH','ERR_FEH',\\\n",
    "                                        'SFD_ebv','l','b','J', 'ERR_J', 'H', 'ERR_H', 'KS', 'ERR_KS', 'W1', 'ERR_W1', \\\n",
    "                                        'W2','ERR_W2','GMAG','GBP','GRP'])\n",
    "\n",
    "\n",
    "\n",
    "\n"
   ]
  },
  {
   "cell_type": "code",
   "execution_count": null,
   "metadata": {
    "collapsed": true
   },
   "outputs": [],
   "source": []
  }
 ],
 "metadata": {
  "kernelspec": {
   "display_name": "Python 3",
   "language": "python",
   "name": "python3"
  },
  "language_info": {
   "codemirror_mode": {
    "name": "ipython",
    "version": 3
   },
   "file_extension": ".py",
   "mimetype": "text/x-python",
   "name": "python",
   "nbconvert_exporter": "python",
   "pygments_lexer": "ipython3",
   "version": "3.6.1"
  },
  "toc": {
   "base_numbering": 1,
   "nav_menu": {},
   "number_sections": true,
   "sideBar": true,
   "skip_h1_title": false,
   "title_cell": "Table of Contents",
   "title_sidebar": "Contents",
   "toc_cell": false,
   "toc_position": {},
   "toc_section_display": true,
   "toc_window_display": false
  }
 },
 "nbformat": 4,
 "nbformat_minor": 2
}
